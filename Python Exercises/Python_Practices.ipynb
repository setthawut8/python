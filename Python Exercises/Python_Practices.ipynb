{
  "cells": [
    {
      "cell_type": "markdown",
      "metadata": {
        "id": "ToL9Zfu3tLOD"
      },
      "source": [
        "## Basic, Index and Slicing"
      ]
    },
    {
      "cell_type": "markdown",
      "metadata": {
        "id": "oRnxqCnxWatT"
      },
      "source": [
        "##Index Positioning\n",
        "Given a string, return a new string made of 3 copies of the last 2 chars of the original string. The string length will be at least 2.\n",
        "\n",
        "\n",
        "extra_end('Hello') → 'lololo'\n",
        "extra_end('ab') → 'ababab'\n",
        "extra_end('Hi') → 'HiHiHi'"
      ]
    },
    {
      "cell_type": "code",
      "execution_count": null,
      "metadata": {
        "colab": {
          "base_uri": "https://localhost:8080/",
          "height": 37
        },
        "id": "Q5cNWuheWdoI",
        "outputId": "fc981894-6973-47ee-fcd1-2a24c1cbc757"
      },
      "outputs": [
        {
          "data": {
            "application/vnd.google.colaboratory.intrinsic+json": {
              "type": "string"
            },
            "text/plain": [
              "'lololo'"
            ]
          },
          "execution_count": 1,
          "metadata": {},
          "output_type": "execute_result"
        }
      ],
      "source": [
        "def extra_end(str):\n",
        "  return str[-2:]*3\n",
        "extra_end('Hello')"
      ]
    },
    {
      "cell_type": "markdown",
      "metadata": {
        "id": "tN5tDGkOiFlL"
      },
      "source": [
        "##Slicing (Rotate_left3)\n",
        "https://codingbat.com/prob/p148661\n",
        "Given an array of ints length 3, return an array with the elements \"rotated left\" so {1, 2, 3} yields {2, 3, 1}.\n",
        "\n",
        "\n",
        "rotate_left3([1, 2, 3]) → [2, 3, 1]\n",
        "rotate_left3([5, 11, 9]) → [11, 9, 5]\n",
        "rotate_left3([7, 0, 0]) → [0, 0, 7]"
      ]
    },
    {
      "cell_type": "code",
      "execution_count": null,
      "metadata": {
        "colab": {
          "base_uri": "https://localhost:8080/"
        },
        "id": "SL4CgnceiMQF",
        "outputId": "e4c0b21a-7de8-47bf-aa04-5ea8f5801977"
      },
      "outputs": [
        {
          "data": {
            "text/plain": [
              "[11, 9, 5]"
            ]
          },
          "execution_count": 2,
          "metadata": {},
          "output_type": "execute_result"
        }
      ],
      "source": [
        "def rotate_left3(nums):\n",
        "  return nums[1:]+nums[:1]\n",
        "rotate_left3([5,11,9])"
      ]
    },
    {
      "cell_type": "markdown",
      "metadata": {
        "id": "X5hQ9rBRpiaj"
      },
      "source": [
        "## Reverse Slicing\n",
        "https://www.geeksforgeeks.org/python-list-slicing/\n",
        "\n",
        "Given an array of ints length 3, return a new array with the elements in reverse order, so {1, 2, 3} becomes {3, 2, 1}.\n",
        "\n",
        "\n",
        "reverse3([1, 2, 3]) → [3, 2, 1]\n",
        "reverse3([5, 11, 9]) → [9, 11, 5]\n",
        "reverse3([7, 0, 0]) → [0, 0, 7]"
      ]
    },
    {
      "cell_type": "code",
      "execution_count": null,
      "metadata": {
        "colab": {
          "base_uri": "https://localhost:8080/"
        },
        "id": "jBiA_-vspkvF",
        "outputId": "2840ef9b-37d4-45d0-d2e8-8473aeab3072"
      },
      "outputs": [
        {
          "data": {
            "text/plain": [
              "[9, 11, 5]"
            ]
          },
          "execution_count": 3,
          "metadata": {},
          "output_type": "execute_result"
        }
      ],
      "source": [
        "def reverse3(arr):\n",
        "  return arr[::-1]\n",
        "reverse3([5,11,9])"
      ]
    },
    {
      "cell_type": "markdown",
      "metadata": {
        "id": "PNexxvJPcFtR"
      },
      "source": [
        "#String"
      ]
    },
    {
      "cell_type": "markdown",
      "metadata": {
        "id": "2sepT4d_W0ms"
      },
      "source": [
        "## Count Strings\n",
        "https://codingbat.com/prob/p167246\n",
        "\n",
        "Return the number of times that the string \"hi\" appears anywhere in the given string.\n",
        "\n",
        "\n",
        "count_hi('abc hi ho') → 1\n",
        "count_hi('ABChi hi') → 2\n",
        "count_hi('hihi') → 2"
      ]
    },
    {
      "cell_type": "code",
      "execution_count": null,
      "metadata": {
        "colab": {
          "base_uri": "https://localhost:8080/"
        },
        "id": "patFhNfuW5Dz",
        "outputId": "d59937c9-3272-401c-e0aa-0400a0cefcdf"
      },
      "outputs": [
        {
          "data": {
            "text/plain": [
              "2"
            ]
          },
          "execution_count": 9,
          "metadata": {},
          "output_type": "execute_result"
        }
      ],
      "source": [
        "def count_hi(str):\n",
        "  return str.count('hi')\n",
        "count_hi('ABChi hi')"
      ]
    },
    {
      "cell_type": "markdown",
      "metadata": {
        "id": "cD84Q5RocHhg"
      },
      "source": [
        "##"
      ]
    },
    {
      "cell_type": "markdown",
      "metadata": {
        "id": "zcVHbasuD8Zu"
      },
      "source": [
        "##Swaping between front and back chars"
      ]
    },
    {
      "cell_type": "code",
      "execution_count": null,
      "metadata": {
        "colab": {
          "base_uri": "https://localhost:8080/"
        },
        "id": "gEPkB5gAD_xz",
        "outputId": "758da079-de28-4880-fd00-432d5031e3da"
      },
      "outputs": [
        {
          "name": "stdout",
          "output_type": "stream",
          "text": [
            "eodc\n"
          ]
        }
      ],
      "source": [
        "def front_back(str):\n",
        "  front = str[0]\n",
        "  back = str[-1]\n",
        "  swap = back+str[1:-1]+front\n",
        "  return swap\n",
        "print(front_back('code'))"
      ]
    },
    {
      "cell_type": "markdown",
      "metadata": {
        "id": "ug9vzpDGcan5"
      },
      "source": [
        "def count_code(str):\n",
        "  count = 0\n",
        "  for i in range(len(str)-3):\n",
        "    cur = str[i:i+4]\n",
        "    if cur[:2] == 'co' and cur[-1] == 'e':\n",
        "      count += 1\n",
        "  return count\n",
        "count_code('aaacodebbb')"
      ]
    },
    {
      "cell_type": "markdown",
      "metadata": {
        "id": "6IZLWDiecRYR"
      },
      "source": [
        "##Count 'Code' or accept any letter for the 'd'\n",
        "https://codingbat.com/prob/p186048\n",
        "\n",
        "Return the number of times that the string \"code\" appears anywhere in the given string, except we'll accept any letter for the 'd', so \"cope\" and \"cooe\" count.\n",
        "\n",
        "\n",
        "count_code('aaacodebbb') → 1\n",
        "count_code('codexxcode') → 2\n",
        "count_code('cozexxcope') → 2"
      ]
    },
    {
      "cell_type": "code",
      "execution_count": null,
      "metadata": {
        "id": "O-QVswGXhkvn"
      },
      "outputs": [],
      "source": [
        "def count_code(str):\n",
        "  count = 0\n",
        "  for i in range(len(str)-3):\n",
        "    cur = str[i:i+4]\n",
        "    if cur[:2] == 'co' and cur[-1] == 'e':\n",
        "      count +=1\n",
        "  return count\n",
        "count_code('codexxcode')"
      ]
    },
    {
      "cell_type": "markdown",
      "metadata": {
        "id": "M9dOjqcDh3gZ"
      },
      "source": [
        "##End Another (A word is at the end of another)\n",
        "\n",
        "https://codingbat.com/prob/p174314\n",
        "Given two strings, return True if either of the strings appears at the very end of the other string, ignoring upper/lower case differences (in other words, the computation should not be \"case sensitive\"). Note: s.lower() returns the lowercase version of a string.\n",
        "\n",
        "\n",
        "end_other('Hiabc', 'abc') → True\n",
        "end_other('AbC', 'HiaBc') → True\n",
        "end_other('abc', 'abXabc') → True"
      ]
    },
    {
      "cell_type": "code",
      "execution_count": null,
      "metadata": {
        "colab": {
          "base_uri": "https://localhost:8080/"
        },
        "id": "uPh60d4KiAbN",
        "outputId": "3f28c019-2d6a-4286-c349-ed9648cd8a35"
      },
      "outputs": [
        {
          "data": {
            "text/plain": [
              "True"
            ]
          },
          "execution_count": 18,
          "metadata": {},
          "output_type": "execute_result"
        }
      ],
      "source": [
        "def end_other(a, b):\n",
        "  if a.lower() in b[-len(a):].lower() or b.lower in a[-len(b):].lower():\n",
        "    return True\n",
        "  else:\n",
        "    return False\n",
        "end_other('AbC', 'HiaBc')"
      ]
    },
    {
      "cell_type": "code",
      "execution_count": null,
      "metadata": {
        "id": "7BdCa8Gaqcx7"
      },
      "outputs": [],
      "source": []
    },
    {
      "cell_type": "markdown",
      "metadata": {
        "id": "oo-LhJnNqdxu"
      },
      "source": [
        "##Finding XYZ (Conditioning Finding)\n",
        "\n",
        "https://codingbat.com/prob/p149391\n",
        "\n",
        "Return True if the given string contains an appearance of \"xyz\" where the xyz is not directly preceeded by a period (.). So \"xxyz\" counts but \"x.xyz\" does not.\n",
        "\n",
        "\n",
        "xyz_there('abcxyz') → True\n",
        "xyz_there('abc.xyz') → False\n",
        "xyz_there('xyz.abc') → True\n"
      ]
    },
    {
      "cell_type": "code",
      "execution_count": null,
      "metadata": {
        "colab": {
          "base_uri": "https://localhost:8080/"
        },
        "id": "AmiWkYQxqsnv",
        "outputId": "2081932e-ffbd-4211-e43a-933a2eee48a3"
      },
      "outputs": [
        {
          "name": "stdout",
          "output_type": "stream",
          "text": [
            "True\n",
            "False\n"
          ]
        }
      ],
      "source": [
        "def xyz_there(str):\n",
        "  for i in range(len(str)):\n",
        "    if str[i-1] != \".\" and str[i:i+3] == 'xyz':\n",
        "      return True\n",
        "  return False\n",
        "\n",
        "print(xyz_there('abc.xyzxyz')) #True\n",
        "print(xyz_there('1.xyz.xyz2.xyz')) # False"
      ]
    },
    {
      "cell_type": "markdown",
      "metadata": {
        "id": "rjHUMU_0eqq_"
      },
      "source": [
        "## String Bits (Keep strings only with odd indices)\n",
        "\n",
        "https://codingbat.com/prob/p113152\n",
        "\n",
        "Given a string, return a new string made of every other char starting with the first, so \"Hello\" yields \"Hlo\".\n",
        "\n",
        "string_bits('Hello') → 'Hlo'\n",
        "string_bits('Hi') → 'H'\n",
        "string_bits('Heeololeo') → 'Hello'"
      ]
    },
    {
      "cell_type": "code",
      "execution_count": null,
      "metadata": {
        "colab": {
          "base_uri": "https://localhost:8080/",
          "height": 37
        },
        "id": "2L_wLHEsew2Y",
        "outputId": "fe93f870-6521-4c77-bd10-7264ca99f661"
      },
      "outputs": [
        {
          "data": {
            "application/vnd.google.colaboratory.intrinsic+json": {
              "type": "string"
            },
            "text/plain": [
              "'Hello'"
            ]
          },
          "execution_count": 1,
          "metadata": {},
          "output_type": "execute_result"
        }
      ],
      "source": [
        "def string_bits(str):\n",
        "  txt = \"\"\n",
        "  for i in range(len(str)):\n",
        "    if i == 0:\n",
        "        txt += str[i]\n",
        "    elif i%2 == 0:\n",
        "        txt += str[i]  \n",
        "    else:\n",
        "        continue      \n",
        "  return txt\n",
        "string_bits('Hello') #'Hlo'\n",
        "string_bits('Hi') #'H'\n",
        "string_bits('Heeololeo') #'Hello'"
      ]
    },
    {
      "cell_type": "markdown",
      "metadata": {
        "id": "won9aFMchL2t"
      },
      "source": [
        "## String Splosion (Stores whole texts based on indices)\n",
        "\n",
        "https://codingbat.com/prob/p118366\n",
        "\n",
        "Given a non-empty string like \"Code\" return a string like \"CCoCodCode\".\n",
        "\n",
        "\n",
        "string_splosion('Code') → 'CCoCodCode'\n",
        "string_splosion('abc') → 'aababc'\n",
        "string_splosion('ab') → 'aab'"
      ]
    },
    {
      "cell_type": "code",
      "execution_count": null,
      "metadata": {
        "colab": {
          "base_uri": "https://localhost:8080/"
        },
        "id": "Gp2Xa7IJhMz3",
        "outputId": "3dac396f-1227-45c3-aea7-ab630f349208"
      },
      "outputs": [
        {
          "name": "stdout",
          "output_type": "stream",
          "text": [
            "CCoCodCode\n",
            "aababc\n",
            "aab\n"
          ]
        }
      ],
      "source": [
        "def string_splosion(str):\n",
        "  txt = ''\n",
        "  for i in range(len(str)):\n",
        "      txt += str[:i+1]\n",
        "  return txt\n",
        "\n",
        "print(string_splosion('Code')) #'CCoCodCode'\n",
        "print(string_splosion('abc')) #'aababc'\n",
        "print(string_splosion('ab')) #'aab'"
      ]
    },
    {
      "cell_type": "markdown",
      "metadata": {
        "id": "sHW_gtTT0qXS"
      },
      "source": [
        "##String Match (Counting 2 strings that are matached with the same 2 substrings in the same positions)\n",
        "\n",
        "https://codingbat.com/prob/p182414\n",
        "\n",
        "Given 2 strings, a and b, return the number of the positions where they contain the same length 2 substring. So \"xxcaazz\" and \"xxbaaz\" yields 3, since the \"xx\", \"aa\", and \"az\" substrings appear in the same place in both strings.\n",
        "\n",
        "\n",
        "string_match('xxcaazz', 'xxbaaz') → 3\n",
        "string_match('abc', 'abc') → 2\n",
        "string_match('abc', 'axc') → 0"
      ]
    },
    {
      "cell_type": "code",
      "execution_count": null,
      "metadata": {
        "colab": {
          "base_uri": "https://localhost:8080/"
        },
        "id": "hIysHDRR03bN",
        "outputId": "0ea094b4-97ce-4903-e770-6d1921c6185f"
      },
      "outputs": [
        {
          "name": "stdout",
          "output_type": "stream",
          "text": [
            "3\n",
            "2\n",
            "0\n"
          ]
        }
      ],
      "source": [
        "def string_match(a, b):\n",
        "  count = 0\n",
        "  for i in range(len(a)-1):\n",
        "    if a[i:i+2] == b[i:i+2]:\n",
        "      count += 1\n",
        "    else:\n",
        "      continue\n",
        "  return count\n",
        "\n",
        "print(string_match('xxcaazz', 'xxbaaz')) #3\n",
        "print(string_match('abc', 'abc')) #2\n",
        "print(string_match('abc', 'axc')) #0"
      ]
    },
    {
      "cell_type": "markdown",
      "metadata": {
        "id": "F7O6bwMMBnvx"
      },
      "source": [
        "#List"
      ]
    },
    {
      "cell_type": "markdown",
      "metadata": {
        "id": "rBIU9x4T4Jxh"
      },
      "source": [
        "##Sum13 (Sum nums that are not 13 and nums after 13)\n",
        "https://codingbat.com/prob/p167025\n",
        "\n",
        "Return the sum of the numbers in the array, returning 0 for an empty array. Except the number 13 is very unlucky, so it does not count and numbers that come immediately after a 13 also do not count.\n",
        "\n",
        "\n",
        "sum13([1, 2, 2, 1]) → 6\n",
        "sum13([1, 1]) → 2\n",
        "sum13([1, 2, 2, 1, 13]) → 6"
      ]
    },
    {
      "cell_type": "code",
      "execution_count": null,
      "metadata": {
        "colab": {
          "base_uri": "https://localhost:8080/"
        },
        "id": "TifmwMdc4JeQ",
        "outputId": "f75303f9-f520-493a-b5ec-516c4c8cc173"
      },
      "outputs": [
        {
          "name": "stdout",
          "output_type": "stream",
          "text": [
            "6\n"
          ]
        }
      ],
      "source": [
        "#1st Solutions\n",
        "nums = [1, 2, 2, 1, 13]\n",
        "def sum13(nums):\n",
        "  arr = []\n",
        "  if nums[-1] == 13:\n",
        "    nums.pop(-1)\n",
        "  for i in range(len(nums)):\n",
        "    if nums[i-1] != 13 and nums[i] != 13:\n",
        "      arr.append(nums[i])\n",
        "  return sum(arr)\n",
        "print(sum13(nums))"
      ]
    },
    {
      "cell_type": "code",
      "execution_count": null,
      "metadata": {
        "colab": {
          "base_uri": "https://localhost:8080/"
        },
        "id": "CGiORZlg5Tyc",
        "outputId": "9dd5835b-a1fa-4bb8-bc27-7a0a04f358bc"
      },
      "outputs": [
        {
          "name": "stdout",
          "output_type": "stream",
          "text": [
            "6\n"
          ]
        }
      ],
      "source": [
        "#2nd Solution\n",
        "def sum13(nums):\n",
        "    i = 0\n",
        "    total = 0\n",
        "    while i < len(nums):\n",
        "      if nums[i] == 13:\n",
        "        i += 2\n",
        "        continue\n",
        "      total += nums[i]\n",
        "      i += 1\n",
        "    return total\n",
        "\n",
        "print(sum13(nums))"
      ]
    },
    {
      "cell_type": "markdown",
      "metadata": {
        "id": "z8OqZ2Bg9zOe"
      },
      "source": [
        "##Sum67 (Add before and after numbers between numbers of 6 and 7)\n",
        "\n",
        "https://codingbat.com/prob/p108886\n",
        "\n",
        "Return the sum of the numbers in the array, except ignore sections of numbers starting with a 6 and extending to the next 7 (every 6 will be followed by at least one 7). Return 0 for no numbers.\n",
        "\n",
        "\n",
        "sum67([1, 2, 2]) → 5\n",
        "sum67([1, 2, 2, 6, 99, 99, 7]) → 5\n",
        "sum67([1, 1, 6, 7, 2]) → 4"
      ]
    },
    {
      "cell_type": "code",
      "execution_count": null,
      "metadata": {
        "colab": {
          "base_uri": "https://localhost:8080/"
        },
        "id": "csvsYD8p-EZw",
        "outputId": "bda66254-e0cf-4bfe-bb23-d0cbb3f8fb42"
      },
      "outputs": [
        {
          "name": "stdout",
          "output_type": "stream",
          "text": [
            "2\n",
            "8\n"
          ]
        }
      ],
      "source": [
        "def sum67(nums):\n",
        "  total = 0\n",
        "  startAdding = True\n",
        "  for num in nums:\n",
        "    if num == 6:\n",
        "      startAdding = False\n",
        "    if startAdding:\n",
        "      total += num\n",
        "    if num == 7:\n",
        "      startAdding = True\n",
        "  return total\n",
        "\n",
        "print(sum67([1, 6, 2, 6, 2, 7, 1, 6, 99, 99, 7])) #2\n",
        "print(sum67([6, 7, 1, 6, 7, 7])) #8"
      ]
    },
    {
      "cell_type": "markdown",
      "metadata": {
        "id": "9_Dks5FvxV0_"
      },
      "source": [
        "#Logic"
      ]
    },
    {
      "cell_type": "markdown",
      "metadata": {
        "id": "BFfcLbOhoEEh"
      },
      "source": [
        "##Sleeping in (True & False)\n",
        "https://codingbat.com/python/Warmup-1"
      ]
    },
    {
      "cell_type": "code",
      "execution_count": null,
      "metadata": {
        "id": "7spPaCmrRZ7S"
      },
      "outputs": [],
      "source": [
        "def sleep_in(weekday, vacation):\n",
        "  return (not weekday or vacation)\n",
        "  # if not weekday and vacation:\n",
        "  #   return True\n",
        "  # else:\n",
        "  #   return False"
      ]
    },
    {
      "cell_type": "code",
      "execution_count": null,
      "metadata": {
        "colab": {
          "base_uri": "https://localhost:8080/"
        },
        "id": "6T_S1DxKm4Cg",
        "outputId": "8e4a7a42-f1d3-49d2-bf2c-e537b3e05d76"
      },
      "outputs": [
        {
          "name": "stdout",
          "output_type": "stream",
          "text": [
            "True\n",
            "False\n",
            "True\n"
          ]
        }
      ],
      "source": [
        "# sleep_in(False, False) → True\n",
        "# sleep_in(True, False) → False\n",
        "# sleep_in(False, True) → True\n",
        "print(sleep_in(False, False))\n",
        "print(sleep_in(True, False))\n",
        "print(sleep_in(False, True))"
      ]
    },
    {
      "cell_type": "markdown",
      "metadata": {
        "id": "w1QdEWJRIOjF"
      },
      "source": [
        "##Date Fashion (Priority)\n",
        "https://codingbat.com/prob/p129125\n",
        "\n",
        "\n",
        "You and your date are trying to get a table at a restaurant. The parameter \"you\" is the stylishness of your clothes, in the range 0..10, and \"date\" is the stylishness of your date's clothes. The result getting the table is encoded as an int value with 0=no, 1=maybe, 2=yes. If either of you is very stylish, 8 or more, then the result is 2 (yes). With the exception that if either of you has style of 2 or less, then the result is 0 (no). Otherwise the result is 1 (maybe).\n",
        "\n",
        "\n",
        "date_fashion(5, 10) → 2\n",
        "date_fashion(5, 2) → 0\n",
        "date_fashion(5, 5) → 1"
      ]
    },
    {
      "cell_type": "code",
      "execution_count": null,
      "metadata": {
        "colab": {
          "base_uri": "https://localhost:8080/"
        },
        "id": "AVIKM4oeIWaC",
        "outputId": "223f2ead-c54f-43bf-8e36-874559d2fcf8"
      },
      "outputs": [
        {
          "data": {
            "text/plain": [
              "0"
            ]
          },
          "execution_count": 2,
          "metadata": {},
          "output_type": "execute_result"
        }
      ],
      "source": [
        "def date_fashion(you, date):\n",
        "  #the first and most important criteria should be the first\n",
        "  if you <= 2 or date <= 2 :\n",
        "    return 0\n",
        "  elif you >= 8 or date >= 8:\n",
        "    return 2\n",
        "  else:\n",
        "    return 1\n",
        "date_fashion(2, 10)"
      ]
    },
    {
      "cell_type": "markdown",
      "metadata": {
        "id": "CkBp-neaP_uv"
      },
      "source": [
        "##Near Ten (Both Side Of A Multiple Of N)\n",
        "https://codingbat.com/prob/p165321\n",
        "\n",
        "Given a non-negative number \"num\", return True if num is within 2 of a multiple of 10. Note: (a % b) is the remainder of dividing a by b, so (7 % 5) is 2. See also: Introduction to Mod\n",
        "\n",
        "\n",
        "near_ten(12) → True\n",
        "near_ten(17) → False\n",
        "near_ten(19) → True"
      ]
    },
    {
      "cell_type": "code",
      "execution_count": null,
      "metadata": {
        "colab": {
          "base_uri": "https://localhost:8080/"
        },
        "id": "aso6uaW6QJ8a",
        "outputId": "522c23ed-57a7-4592-fdb9-2ad6d17f2578"
      },
      "outputs": [
        {
          "data": {
            "text/plain": [
              "True"
            ]
          },
          "execution_count": 3,
          "metadata": {},
          "output_type": "execute_result"
        }
      ],
      "source": [
        "def near_ten(num):\n",
        "  if num % 10 <= 2 or num % 10 >= 8:\n",
        "    return True\n",
        "  else:\n",
        "    return False\n",
        "near_ten(19)"
      ]
    },
    {
      "cell_type": "markdown",
      "metadata": {
        "id": "jVKCPdmzVbO8"
      },
      "source": [
        "##Double Char\n",
        "https://codingbat.com/prob/p170842\n",
        "\n",
        "\n",
        "Given a string, return a string where for every char in the original, there are two chars.\n",
        "\n",
        "\n",
        "double_char('The') → 'TThhee'\n",
        "double_char('AAbb') → 'AAAAbbbb'\n",
        "double_char('Hi-There') → 'HHii--TThheerree'"
      ]
    },
    {
      "cell_type": "code",
      "execution_count": null,
      "metadata": {
        "colab": {
          "base_uri": "https://localhost:8080/",
          "height": 37
        },
        "id": "tjq5rsMKVgIa",
        "outputId": "5b900356-2d5e-4c20-bff1-363c7735806d"
      },
      "outputs": [
        {
          "data": {
            "application/vnd.google.colaboratory.intrinsic+json": {
              "type": "string"
            },
            "text/plain": [
              "'HHii--TThheerree'"
            ]
          },
          "execution_count": 6,
          "metadata": {},
          "output_type": "execute_result"
        }
      ],
      "source": [
        "def double_char(str):\n",
        "  new_str = ''\n",
        "  for i in range(len(str)):\n",
        "    new_str += str[i]\n",
        "    new_str += str[i]\n",
        "  return new_str\n",
        "double_char('Hi-There')"
      ]
    },
    {
      "cell_type": "markdown",
      "metadata": {
        "id": "H_C5nRrGIT5P"
      },
      "source": [
        "##Make_Bricks (Can 2 brick sizes fit a goal)"
      ]
    },
    {
      "cell_type": "code",
      "execution_count": null,
      "metadata": {
        "colab": {
          "base_uri": "https://localhost:8080/"
        },
        "id": "ar8ezVr_ITgs",
        "outputId": "c9774233-359d-4ea2-8b8a-638bdd656f7d"
      },
      "outputs": [
        {
          "name": "stdout",
          "output_type": "stream",
          "text": [
            "False\n",
            "False\n",
            "True\n"
          ]
        }
      ],
      "source": [
        "#small = 1 inche\n",
        "#big = 5 inches\n",
        "def make_bricks(small, big, goal):\n",
        "  if big*5 > goal and goal % 5 > small :\n",
        "      return False\n",
        "  elif (1*small) + (5*big) >= goal:\n",
        "    return True\n",
        "  else:\n",
        "    return False\n",
        "\n",
        "print(make_bricks(3, 2, 9)) #False\n",
        "print(make_bricks(1, 4, 12)) #False\n",
        "print(make_bricks(7, 1, 8)) #True"
      ]
    },
    {
      "cell_type": "markdown",
      "metadata": {
        "id": "9CfC7Xw0ba0W"
      },
      "source": [
        "##Close_Far (2-Steps Conditioning)\n",
        "\n",
        "https://codingbat.com/prob/p160533\n",
        "Given three ints, a b c, return True if one of b or c is \"close\" (differing from a by at most 1), while the other is \"far\", differing from both other values by 2 or more. Note: abs(num) computes the absolute value of a number.\n",
        "\n",
        "\n",
        "close_far(1, 2, 10) → True\n",
        "close_far(1, 2, 3) → False\n",
        "close_far(4, 1, 3) → True"
      ]
    },
    {
      "cell_type": "code",
      "execution_count": null,
      "metadata": {
        "colab": {
          "base_uri": "https://localhost:8080/"
        },
        "id": "Ak1ThjG5bhc-",
        "outputId": "99a566ae-2071-49be-c7f8-1660def374da"
      },
      "outputs": [
        {
          "name": "stdout",
          "output_type": "stream",
          "text": [
            "False\n",
            "False\n",
            "True\n"
          ]
        }
      ],
      "source": [
        "def close_far(a, b, c):\n",
        "  if abs(b-a) <= 1:\n",
        "    if (abs(c-a) >= 2 and abs(c-b) >= 2):\n",
        "      return True\n",
        "    else:\n",
        "      return False\n",
        "  elif abs(c-a) <= 1:\n",
        "    if (abs(b-a) >= 2 and abs(b-c) >= 2):\n",
        "      return True\n",
        "    else:\n",
        "      return False\n",
        "  else:\n",
        "    return False\n",
        "print(close_far(1, 2, 3)) #False\n",
        "print(close_far(10, 8, 9)) #False\n",
        "print(close_far(-1, 10, 0)) #True"
      ]
    },
    {
      "cell_type": "markdown",
      "metadata": {
        "id": "jq2awcnXz5lI"
      },
      "source": [
        "##Make Chocolate (2-steps conditions)\n",
        "\n",
        "We want make a package of goal kilos of chocolate. We have small bars (1 kilo each) and big bars (5 kilos each). Return the number of small bars to use, assuming we always use big bars before small bars. Return -1 if it can't be done.\n",
        "\n",
        "\n",
        "make_chocolate(4, 1, 9) → 4\n",
        "make_chocolate(4, 1, 10) → -1\n",
        "make_chocolate(4, 1, 7) → 2"
      ]
    },
    {
      "cell_type": "code",
      "execution_count": null,
      "metadata": {
        "colab": {
          "base_uri": "https://localhost:8080/"
        },
        "id": "bMC5mYVGz6P9",
        "outputId": "9e7174ff-466f-4975-82c5-c4e87af7ef76"
      },
      "outputs": [
        {
          "name": "stdout",
          "output_type": "stream",
          "text": [
            "3\n",
            "6\n",
            "6\n"
          ]
        }
      ],
      "source": [
        "def make_chocolate(small, big, goal):\n",
        "  #When count only big, big is enough or more than goal.\n",
        "  if big*5 >= goal and goal%5 == 0:\n",
        "      return 0\n",
        "  #When count only big, it's more than goals.\n",
        "  elif big*5 > goal:\n",
        "    #Check small is enough for the goal.\n",
        "    if small >= goal%5:\n",
        "      return goal%5\n",
        "    else:\n",
        "      return -1\n",
        "  #When count only big, its less than goals:\n",
        "  elif big*5 < goal:\n",
        "    #Check small with big is enough for the goal.\n",
        "    if small+(big*5) >= goal:\n",
        "      return goal-(big*5)\n",
        "    else:\n",
        "      return -1\n",
        "  #Other conditions = -1 because in case that can't do the chocolate\n",
        "  #, we don't waste chocolate on making \n",
        "  else:\n",
        "    return -1\n",
        "print(make_chocolate(9, 3, 18)) #3\n",
        "print(make_chocolate(6, 1, 11)) #6\n",
        "print(make_chocolate(1000, 1000000, 5000006)) #6"
      ]
    },
    {
      "cell_type": "markdown",
      "metadata": {
        "id": "hJeno-RMtbos"
      },
      "source": [
        "#Array"
      ]
    },
    {
      "cell_type": "markdown",
      "metadata": {
        "id": "Q6hzig3Asdw1"
      },
      "source": [
        "##Repeat Same Values in An Array\n",
        "https://codingbat.com/prob/p135290\n",
        "\n",
        "Given an array of ints length 3, figure out which is larger, the first or last element in the array, and set all the other elements to be that value. Return the changed array.\n",
        "\n",
        "\n",
        "max_end3([1, 2, 3]) → [3, 3, 3]\n",
        "max_end3([11, 5, 9]) → [11, 11, 11]\n",
        "max_end3([2, 11, 3]) → [3, 3, 3]"
      ]
    },
    {
      "cell_type": "code",
      "execution_count": null,
      "metadata": {
        "colab": {
          "base_uri": "https://localhost:8080/"
        },
        "id": "t-hNI2wuskro",
        "outputId": "4e441cb8-c86b-4f7d-bcdc-1c96858ec31b"
      },
      "outputs": [
        {
          "data": {
            "text/plain": [
              "[2, 2, 2]"
            ]
          },
          "execution_count": 5,
          "metadata": {},
          "output_type": "execute_result"
        }
      ],
      "source": [
        "def max_end3(arr):\n",
        "  if arr[0] >= arr[-1]:\n",
        "    implied_max = arr[0]\n",
        "  else:\n",
        "    implied_max = arr[-1]\n",
        "\n",
        "  return [implied_max]*len(arr)\n",
        "max_end3([2,5,2])"
      ]
    },
    {
      "cell_type": "markdown",
      "metadata": {
        "id": "9fqsO1ykrBip"
      },
      "source": [
        "## Array Front9 (find 9 in the 4 elements of an array)\n",
        "\n",
        "https://codingbat.com/prob/p110166\n",
        "\n",
        "Given an array of ints, return True if one of the first 4 elements in the array is a 9. The array length may be less than 4.\n",
        "\n",
        "\n",
        "array_front9([1, 2, 9, 3, 4]) → True\n",
        "array_front9([1, 2, 3, 4, 9]) → False\n",
        "array_front9([1, 2, 3, 4, 5]) → False"
      ]
    },
    {
      "cell_type": "code",
      "execution_count": null,
      "metadata": {
        "colab": {
          "base_uri": "https://localhost:8080/"
        },
        "id": "tIY2XbHfrLje",
        "outputId": "69e06be8-4f31-4156-b36c-74d7775b8d51"
      },
      "outputs": [
        {
          "name": "stdout",
          "output_type": "stream",
          "text": [
            "True\n",
            "False\n",
            "False\n"
          ]
        }
      ],
      "source": [
        "def array_front9(nums):\n",
        "  new_nums = nums[:4]\n",
        "  for num in new_nums:\n",
        "    if num == 9:\n",
        "      return True\n",
        "  return False\n",
        "\n",
        "print(array_front9([1, 2, 9, 3, 4])) #True\n",
        "print(array_front9([1, 2, 3, 4, 9])) #False\n",
        "print(array_front9([1, 2, 3, 4, 5])) #False"
      ]
    },
    {
      "cell_type": "markdown",
      "metadata": {
        "id": "Qb0WSV4puTEH"
      },
      "source": [
        "#Array123 (Find a list of 3 elements in an array)\n",
        "\n",
        "https://codingbat.com/prob/p193604\n",
        "\n",
        "Given an array of ints, return True if the sequence of numbers 1, 2, 3 appears in the array somewhere.\n",
        "\n",
        "\n",
        "array123([1, 1, 2, 3, 1]) → True\n",
        "array123([1, 1, 2, 4, 1]) → False\n",
        "array123([1, 1, 2, 1, 2, 3]) → True"
      ]
    },
    {
      "cell_type": "code",
      "execution_count": null,
      "metadata": {
        "colab": {
          "base_uri": "https://localhost:8080/"
        },
        "id": "4xrRuC3UuctC",
        "outputId": "5d49e65b-bd50-4664-ecbf-168695eb89b3"
      },
      "outputs": [
        {
          "name": "stdout",
          "output_type": "stream",
          "text": [
            "True\n",
            "False\n",
            "True\n"
          ]
        }
      ],
      "source": [
        "#1st Solution\n",
        "def array123(nums):\n",
        "  target = [1,2,3]\n",
        "  for i in range(len(nums)):\n",
        "    if i+len(target) <= len(nums) and target == nums[i:i+3]:\n",
        "      return True\n",
        "  return False\n",
        "      \n",
        "print(array123([1, 1, 2, 3, 1])) #True\n",
        "print(array123([1, 1, 2, 4, 1])) #False\n",
        "print(array123([1, 1, 2, 1, 2, 3])) #True"
      ]
    },
    {
      "cell_type": "code",
      "execution_count": null,
      "metadata": {
        "colab": {
          "base_uri": "https://localhost:8080/"
        },
        "id": "5uxP3_k4u2HM",
        "outputId": "02b4782e-92fe-4974-be2e-249ececc25d1"
      },
      "outputs": [
        {
          "name": "stdout",
          "output_type": "stream",
          "text": [
            "True\n",
            "False\n",
            "True\n"
          ]
        }
      ],
      "source": [
        "def array123(nums):\n",
        "  # Note: iterate with length-2, so can use i+1 and i+2 in the loop\n",
        "  for i in range(len(nums)-2):\n",
        "    if nums[i]==1 and nums[i+1]==2 and nums[i+2]==3:\n",
        "      return True\n",
        "  return False\n",
        "print(array123([1, 1, 2, 3, 1])) #True\n",
        "print(array123([1, 1, 2, 4, 1])) #False\n",
        "print(array123([1, 1, 2, 1, 2, 3])) #True"
      ]
    },
    {
      "cell_type": "markdown",
      "metadata": {
        "id": "SgNQTMCotrCL"
      },
      "source": [
        "#Loop"
      ]
    },
    {
      "cell_type": "markdown",
      "metadata": {
        "id": "-1mey7k5QXqm"
      },
      "source": [
        "##Two Indices Moving Together "
      ]
    },
    {
      "cell_type": "markdown",
      "metadata": {
        "id": "7a_lyzzNDlMj"
      },
      "source": [
        "![Screen Shot 2565-05-11 at 14.37.50.png](data:image/png;base64,iVBORw0KGgoAAAANSUhEUgAAAo4AAAFeCAYAAAAL2J5SAAAK02lDQ1BJQ0MgUHJvZmlsZQAASImVlwdUk8kWx+f70hslAaQTauhSBAJICT0U6VVUQhJIKDEkBBWxIYsrsKKoiGBZ0QUBBVdXQNaCWLCwKDbsC7IoKOtiwYbKfsAj7O47773zbs5kfufmzp1758yc8w8AlACOWJwBKwGQKcqWRPh70ePiE+i4pwCNfAjIR5nDlYpZYWHBALGZ+e/27g6AJuebVpO5/v33/2pUHl/KBQBKRDiZJ+VmItyOjBGuWJINAOoQ4jdcli2e5OsIq0iQAhH+bZJTp/nDJCdPMZo8FRMV4Y0wHQA8mcORpAJAtkT89BxuKpKHPNmDjYgnFCGch7A7V8DhIXwSYcvMzKWTPISwKRIvBoCCnA5gJv8lZ+rf8ifL83M4qXKe7mvK8D5CqTiDs+L/PJr/bZkZspk9TJBBFkgCIib7R87vbvrSIDmLkheEzrCQNxU/xQJZQPQMc6XeCTPM4/gEyddmLAie4RShH1ueJ5sdNcN8qW/kDEuWRsj3SpF4s2aYI5ndV5YeLfcL+Gx5/lxBVOwM5whjFsywND0yaDbGW+6XyCLk9fNF/l6z+/rJe8+U/qVfIVu+NlsQFSDvnTNbP1/Ems0pjZPXxuP7+M7GRMvjxdle8r3EGWHyeH6Gv9wvzYmUr81GLufs2jD5GaZxAsNmGISASMAGdGQOA3bACdiC8Gz+8uzJRryXildIhKmCbDoLeW18OlvEtbak29nY2QEw+Xanr8Obu1NvElLDz/pkBgA4Im8Idpr1JdQCcEoHueOjsz4GBblKVADOYbkySc60Dz35hQFEoIhUqAF0gSEwBVZIbY7AFXgCXxAIQkEUiAeLARcIQCaQgGUgD6wDhaAYbAbbQSXYC/aDg+AwOApawElwFlwEV8F1cBs8AH1gELwAo+AdGIcgCAdRIBqkAelBxpAFZAcxIXfIFwqGIqB4KAlKhUSQDMqD1kPFUBlUCe2D6qAfoRPQWegy1APdg/qhYeg19AlGwWRYBdaBTeC5MBNmwUFwFLwIToWz4Fy4AN4EV8DV8CG4GT4LX4Vvw33wC3gMBVAklBpKH2WFYqK8UaGoBFQKSoJajSpClaOqUY2oNlQn6iaqDzWC+ojGomloOtoK7YoOQEejuegs9Gp0CboSfRDdjD6PvonuR4+iv2IoGG2MBcYFw8bEYVIxyzCFmHJMDeY45gLmNmYQ8w6LxaphGVgnbAA2HpuGXYktwe7GNmHbsT3YAewYDofTwFng3HChOA4uG1eI24k7hDuDu4EbxH3Ak/B6eDu8Hz4BL8Ln48vx9fjT+Bv4Z/hxghLBmOBCCCXwCCsIpYQDhDbCNcIgYZyoTGQQ3YhRxDTiOmIFsZF4gfiQ+IZEIhmQnEnhJCFpLamCdIR0idRP+kimks3J3uREsoy8iVxLbiffI7+hUCgmFE9KAiWbsolSRzlHeUz5oEBTsFZgK/AU1ihUKTQr3FB4qUhQNFZkKS5WzFUsVzymeE1xRImgZKLkrcRRWq1UpXRCqVdpTJmmbKscqpypXKJcr3xZeYiKo5pQfak8agF1P/UcdYCGohnSvGlc2nraAdoF2qAKVoWhwlZJUylWOazSrTKqSlWdpxqjuly1SvWUap8aSs1Eja2WoVaqdlTtjtqnOTpzWHP4czbOaZxzY857dS11T3W+epF6k/pt9U8adA1fjXSNLRotGo800ZrmmuGayzT3aF7QHNFS0XLV4moVaR3Vuq8Na5trR2iv1N6v3aU9pqOr468j1tmpc05nRFdN11M3TXeb7mndYT2anrueUG+b3hm953RVOoueQa+gn6eP6mvrB+jL9Pfpd+uPGzAMog3yDZoMHhkSDZmGKYbbDDsMR430jEKM8owajO4bE4yZxgLjHcadxu9NGCaxJhtMWkyGGOoMNiOX0cB4aEox9TDNMq02vWWGNWOapZvtNrtuDps7mAvMq8yvWcAWjhZCi90WPZYYS2dLkWW1Za8V2YpllWPVYNVvrWYdbJ1v3WL9cq7R3IS5W+Z2zv1q42CTYXPA5oEt1TbQNt+2zfa1nbkd167K7pY9xd7Pfo19q/2reRbz+PP2zLvrQHMIcdjg0OHwxdHJUeLY6DjsZOSU5LTLqZepwgxjljAvOWOcvZzXOJ90/uji6JLtctTlD1cr13TXeteh+Yz5/PkH5g+4Gbhx3Pa59bnT3ZPcv3fv89D34HhUezzxNPTkedZ4PmOZsdJYh1gvvWy8JF7Hvd57u3iv8m73Qfn4+xT5dPtSfaN9K30f+xn4pfo1+I36O/iv9G8PwAQEBWwJ6GXrsLnsOvZooFPgqsDzQeSgyKDKoCfB5sGS4LYQOCQwZGvIwwXGC0QLWkJBKDt0a+ijMEZYVtjP4djwsPCq8KcRthF5EZ2RtMglkfWR76K8okqjHkSbRsuiO2IUYxJj6mLex/rElsX2xc2NWxV3NV4zXhjfmoBLiEmoSRhb6Ltw+8LBRIfEwsQ7ixiLli+6vFhzccbiU0sUl3CWHEvCJMUm1Sd95oRyqjljyezkXcmjXG/uDu4LnidvG2+Y78Yv4z9LcUspSxlKdUvdmjos8BCUC0aE3sJK4au0gLS9ae/TQ9Nr0ycyYjOaMvGZSZknRFRRuuj8Ut2ly5f2iC3EheK+LJes7VmjkiBJjRSSLpK2ZqsgIqlLZir7Rtaf455TlfNhWcyyY8uVl4uWd60wX7FxxbNcv9wfVqJXcld25OnnrcvrX8VatW81tDp5dccawzUFawbX+q89uI64Ln3dL/k2+WX5b9fHrm8r0ClYWzDwjf83DYUKhZLC3g2uG/Z+i/5W+G33RvuNOzd+LeIVXSm2KS4v/lzCLbnyne13Fd9NbErZ1F3qWLpnM3azaPOdLR5bDpYpl+WWDWwN2dq8jb6taNvb7Uu2Xy6fV753B3GHbEdfRXBF606jnZt3fq4UVN6u8qpq2qW9a+Ou97t5u2/s8dzTuFdnb/HeT98Lv7+7z39fc7VJdfl+7P6c/U8PxBzo/IH5Q12NZk1xzZdaUW3fwYiD5+uc6urqtetLG+AGWcPwocRD1w/7HG5ttGrc16TWVHwEHJEdef5j0o93jgYd7TjGPNb4k/FPu47Tjhc1Q80rmkdbBC19rfGtPScCT3S0ubYd/9n659qT+ierTqmeKj1NPF1weuJM7pmxdnH7yNnUswMdSzoenIs7d+t8+PnuC0EXLl30u3iuk9V55pLbpZOXXS6fuMK80nLV8Wpzl0PX8V8cfjne7djdfM3pWut15+ttPfN7Tt/wuHH2ps/Ni7fYt67eXnC75070nbu9ib19d3l3h+5l3Ht1P+f++IO1DzEPix4pPSp/rP24+lezX5v6HPtO9fv0dz2JfPJggDvw4jfpb58HC55SnpY/03tWN2Q3dHLYb/j684XPB1+IX4yPFP6u/Puul6Yvf/rD84+u0bjRwVeSVxOvS95ovKl9O+9tx1jY2ON3me/G3xd90Phw8CPzY+en2E/Pxpd9xn2u+GL2pe1r0NeHE5kTE2KOhDMlBVDIgFNSAHiNaAdKPAA0RFMQF05r6ymDpv8PTBH4Tzytv6fMEYD6dgDCPAEIREYtwoxJOQumfVGeALa3l49/mTTF3m46F6kFkSblExNvEO2IMwPgS+/ExHjLxMSXGqTY+wC0v5vW9FNbCRHpvx8BvYc6wV3gHzat9//S4z9nIK/gb/Ofd7AWBQrmoeQAAABWZVhJZk1NACoAAAAIAAGHaQAEAAAAAQAAABoAAAAAAAOShgAHAAAAEgAAAESgAgAEAAAAAQAAAo6gAwAEAAAAAQAAAV4AAAAAQVNDSUkAAABTY3JlZW5zaG909CwFZwAAAdZpVFh0WE1MOmNvbS5hZG9iZS54bXAAAAAAADx4OnhtcG1ldGEgeG1sbnM6eD0iYWRvYmU6bnM6bWV0YS8iIHg6eG1wdGs9IlhNUCBDb3JlIDYuMC4wIj4KICAgPHJkZjpSREYgeG1sbnM6cmRmPSJodHRwOi8vd3d3LnczLm9yZy8xOTk5LzAyLzIyLXJkZi1zeW50YXgtbnMjIj4KICAgICAgPHJkZjpEZXNjcmlwdGlvbiByZGY6YWJvdXQ9IiIKICAgICAgICAgICAgeG1sbnM6ZXhpZj0iaHR0cDovL25zLmFkb2JlLmNvbS9leGlmLzEuMC8iPgogICAgICAgICA8ZXhpZjpQaXhlbFlEaW1lbnNpb24+MzUwPC9leGlmOlBpeGVsWURpbWVuc2lvbj4KICAgICAgICAgPGV4aWY6UGl4ZWxYRGltZW5zaW9uPjY1NDwvZXhpZjpQaXhlbFhEaW1lbnNpb24+CiAgICAgICAgIDxleGlmOlVzZXJDb21tZW50PlNjcmVlbnNob3Q8L2V4aWY6VXNlckNvbW1lbnQ+CiAgICAgIDwvcmRmOkRlc2NyaXB0aW9uPgogICA8L3JkZjpSREY+CjwveDp4bXBtZXRhPgpkwjiWAABAAElEQVR4AeydB7gsRfH2G0RQUVREwUBGgiJZBZQ/FxQQARGUnHOQrIBIzkmCRJGccxRRMoiAIAgqWZAkkgwoKub56lf6ztdn7szu7Dl77j2h6nl2Z6an49upurqqZ4rCKAUFAoFAIBAIBAKBQCAQCAQCXRCYssv7eB0IBAKBQCAQCAQCgUAgEAg4AsE4RkMIBAKBQCAQCAQCgUAgEGiFQDCOrWAKT4FAIBAIBAKBQCAQCAQCwThGGwgEAoFAIBAIBAKBQCAQaIVAMI6tYApPgUAgEAgEAoFAIBAIBALBOEYbCAQCgUAgEAgEJhMC//rXv9J5552XHn/8cc/BM888k15//fXJlJtINhDojkAwjt0xGtc+GNSmm266tPzyy49rHKLww4vAa6+9lqaYYop06qmnDm9CkzH2b3zjG2nGGWecjDmIpEciAtdff3068MAD07zzzpuefPLJNPvssyfcgkYPAksssUTaYIMNRk+Gh5jTYByHCOBYD84xn6x+f/e73431okb5RgACf//730dALoYnC//5z3/SK6+8MjyRR6yjFoGFFlqoXFDAfKy66qrpS1/60qgtz3jM+D/+8Y/0l7/8ZdwUPRjHcVPVUdBAYOQiMNVUU6WPf/zjaYYZZhi5mRxizj70oQ+lT33qU0OMJYKPNQQ++MEP+q7OcsstlzbddNN08cUXu/R9JJeT7fS77rorjeWFXi/4f/SjH01zzDHHgCB/+9vf0j333ONS5AEvxsDDFOPtyzF/+MMf0r///e/0nve8Z1g758svv5yeffbZtNhii6Upp/wvf842xC9/+cs0yyyzJBraUGi//fZLpHHIIYekd7/73QOionxvetObSjeeodytfNnh5ve//33605/+lK699to0zTTTpC222KKD73gVCAweAaRxDLRTTz11gokcCXTsscemN954I2299dbex5go3/GOd6SPfexjg8oekyx98W1ve9ugwkegsYvAP//5z/TmN7+5LCAqQvQJ+sNIoz322CMddthhzii9+uqr6ZhjjkmbbbbZSMvmJM3PX//6V59fmSehp556Ki255JLpXe96V3riiSfSUkstla6++uqJ5uo8kzfffHMCT6TNtAV2J+AdRuRiGsZxLNOf//znwhif4pvf/GZx5513FrYq4BOLxS9+8YthK7Y1AE+DdEzCUKZj2xDubh2vdOv15qWXXirOPPPMwiYw/1E+kQ02xbrrrutprLbaaoVtMRdXXHGFP7/vfe+Tt67XX/3qV8W3v/3twiRABeG23XbbwqQlXcN18vDQQw8VP/7xjwvyGBQI2KToffA73/mO98uf/OQn3k5POOGEjuCce+653ibpS8QxXHT//fd7Oosvvri3f9ov/XmHHXZonaTpbRbXXHNNYYYPxW9+85vCJgSPoykCW6gVa665ZrHIIosUt9xyi3ujDzNm7bbbbk3BGt1t8vI+vMACCxSPPPJIo794MXkR+OpXv+rtYqWVVirb9Nprr+1u+fg+eXP539RN8OL5mnvuuYuf/vSnBXlmLrKt2pGQvUmWh1//+tcFYxG8BX2UsYH+LWKOx80EPMXdd9/t9yeddJJeT3QlPnCkr26zzTbFb3/7Ww9jagsT+R0JDmkkZGK48mAKxg7+iiuuWJjUoGQaqdCf/exnw5Wsp2XbDt6oSItGcdxxx3leeKbDDYZOO+20Mg4mzkcffXRANCrvjTfe6P4uvfTSYoUVVvB7/HcjJmKTKrp/GrCYbBr0UBlHGGjKbnog3bIR78c4Ai+++GLBxEObOOCAAwoWObQNft0YR9ohAzbXBx98cNiQeuGFFzyP5GnZZZctVlllFU/TdH1bpXnUUUd5eXbeeedi9913dyZUZWyK4IwzzigmTJhQHH/88X7F38EHH+zxMEH1Svvvv79PZrvuumvx9a9/vdfg4X8SIMB4SLuwnShnHBBoXHfdde7GnDXS6Oc//7nnjXmFRc4uu+zizyYpG2lZHZb8mGS4WGONNXws2GeffZzJU7/OGUf8sOjk3W233eZXxoImYrxhnkVQw7jIQpGwLFhHIg0L4wgDAmMGyJOLbFvIK4LKoIFTkfkENZyMI4O8GlP1yoQ5WKJBqQwwo1WSVISJLk8XBhCJRzf6/ve/7+E+8pGPFDTy7bbbzjEkrmAcu6EX79sisNFGG3k7W3/99Ystt9zSB0ktUroxjrRJ2iMDrG0jt01yUP7yfoz0ve2YYVtTnkf6DNIDfkjt1SebMsOOiPoa5RMmMJKDoR/+8IdlmjAjQSMTAQQbahu0Ge633377gjlsJBJCBeVxpDGOl112WfHwww8PG2zs9lF2mEIYe3YgWFTiljOOV111lbvhjqCIayfGkQzfd999ZRj4FsoyUmlYlIkMXNd5MC46feADHzDMJj1Z4/HjDUgffUaOlEG/0Rgv1z/44x//OGyZMvF9spVjspVGQk/wve99b0InEZ0FmygHna5JLtLXvva1ZA0woVBdJfQmb7311nTWWWclk1x4uuhWbL755umtb31r1ftEz+hk2iCW3v/+97tOI/oZ6Hfh/vTTTyf0OAarnzX99NO7fhhHrgSNbwTQ8TVJWppppplcfwerfdqcSSLTbLPN1hEcY6LcgGCeeeZJb3nLWzr6HepL8nXiiScmW0ilpZdeurVONHpK6IFRJmMAXU/Ntp7SQQcdlGzB15gtdKJsy951iomDY1mwsP3whz/cGKbTC/o+6WHxSVxBIxMBU2dIt99+u89LjNOf+MQnEu17pJItcPzMyYUXXjiZNHvEZBM90S9/+cs+Z5188snDki90DpnLOVaLH7qo1JWplziPoUTptybI8Tm4rW2BqXJ53pnH11tvvY76kEpnsl37zdEicrfC+A/xa6+ElNIUyHsN1hf/w6kzpZUZupa9Epj0Ir1FPwLdqu9+97s9havLF5gQD/EZ4zvAC/XULV/ddBq7vR+Q4Ch6YBv1wgsvHEU5njRZpT2ZwdVEiZlhzAC3tv4UiHbUtI2MZLJOeoNOYU5sG/aiq1XtD4rLFlgTxUP61fGFvtNGdaMp/0qvekUvzhZ7tWWWX7YWq/nhXds89TsexTfWr722a/Cg7VSl6031hL5dtQ2bkKQnWOmLzz33XKu2qXkt36puKmNPmah4bjueop8PBsNFdVhWx65q2tJXrEocGQfr+mB1XGqq62o6em4al/S+H9e+HscD981xAr2uQgyYkovHmghJ1+c+97l00003TcRQ77333r7y5z1SRYjV/Mwzz5wWXHDB0j8SRSy9kDTyg4NnBYC/3KIZS04O5mXV8M53vjOZLlD60Y9+5P5YvUC2heurC/yY+LhMA2kE8SE9gVg5khb+TL/QjyrgHn9NpDDkCaurnGyrzMsEJvwoX76S4tBk02Py8rD6QbJoA4wfovyFL3whmQjdLVVtq94x23DDDV3qShrWYD3v5J94IDOISZ/5zGe8DODLkQum2OvxEJ91SvdnBg1eP9QT+WKFnJeR+jz88MPT//3f/7mFLFfT+SrTpm6OOOKI9OlPf9rfk6ZtUY6Zc7AoHxboSGiDBiJgahTevj7/+c87PjaIpbXWWsulh1tttVWi7UBt/SEJ32STTXx1zs4CbZG2xVgEIYFHioNlIl/nENnWcUIKvuiii3o//d73vpemnXbaZFuF3nflDytopOQbb7yxO9G/9txzT+/jSBPpP+wCmCqIv2fMQiqfx8ORHFhbzj///MmMXtyfTcyePmkincwJbHRQeFP+8U8/JG/33nuvB3/ggQe8/G9/+9vTrLPO6mkSl6Sc9HkOmmasYRcEia9tiZbHhbTNE5jsu+++joHi2XHHHX1Xgoy0jcczPc7+2rZrwcKcRdulDWPlD3GaBjtOtB12n0TnnHOO7+rQ9ggHIR1jXqPO2QUTMcfRdpinREi7GauR5LMrQPzMm0jC2hJtDEk386D6uMIeeeSRnuZjjz0mp1bXXsZTJOu0/+Eg08eeCEvmPfCirMyXbQmrdDCaa665kqnAeDDmC8YjxiX6JcSureoa3iQn5mj4C6jbuJSH68t9P7hPxYEi96GHHup785a5oq3EEU4c/+j0oNthDF8ptUSxVGQNyN1tYnDdOxl8oL9HePQCROhO4cYPfSGuMtDI/dkAWPpD6R5/9vWK0j/xYeWI5RsWy8TFCgCyo3DcH8rnEP7QZZKlGZI64sNdK7OqxBFdCZuUCoxpiBvJCT9hgk6kMbYeJ3HxI5+QMdH+jJvKSNnkj3Kg24Sb9BexloaQFsofKxwZ1OCmOHTFzRYEvjpCyZ5n6gqMd9ppp9K/rMZQyscPeceP4kHPFAIf3qNLSV3rPX6biJUZul7omhGO+sglTBgWYIGG/g1XYyg8KjsCqaB+wAfLUtoA6dFWWcUrffKEpIjVI5JC0jFG3suNf/SQaM9I1GkHNjgWNql7GsTBsx1L4VJZ6aZxxZ12S52SJvESH2HarIxtkHWMiQvFefRXKcvZZ5/tafMHNvQ70qJ8tEGMscALAyraEuFpj+hQkQ/IJiLXy+Ed5cdin7Z9ySWXeDyEt+1Vzy/xUnbaCRiTh1wHx5gjx4X2zK9OV5E6od5lQY3FP5Js3AjDlXba1h+SGPAk77Rz6gdjG+KxScrLiB4SiuZcKTskCQA6i5SDeqRO6c9caV8i8CA+rFwhsKRdgz940J95j7EARL3m8dDP6P/kE39cIfomfZ7+iDvYi6hj2ghUl3/5o78RFqtN+gJhGEsYM5E60H55T7mRQh199NF+f8opp7hEidMfCKPyts0TbY048Q8G1DXxUE6obTwqh65t2rr8Vq/oo9JGwRSddspKH6DPUEfk98orr/Q8qq7q2j/xGlPlcRAP7ZP+wY80kOSqfvLTMZiD0GXlHXVMPVSpbbvOwxmj73EZA+h1mY9PWOtTv8QL0S9NsOBtmDEYon1Tz5Q/PxGANkLYCy64wP0xB+CXctL/jQnycZBn/DXN5ZrXJHFkvMG/+jiYixhLeNekg1iHIe1YeeDKGEdfZy5h/gcf8n3DDTf4+Eb9My8yNlA26oL2yLiAP4zP8h0P2hztgTGEsPRd2g0ngFSJ9MGSeJj3wITyECfXvD3kYTXeMHaIiAs9SMYSxgyI/krcjEvEx3x0pulUki8ZxmJYKCJd6hXqNi4pTL+ufTOOQbGTgjDQMqFQ8KbGVs08jZ1BhwkNgBjkxHwwcIqYIAGaH/FroKpjHKkYlFXxQ6PAv34alImX97jjnysNTUwUAxGkiZdKxY+t+Nyd/PIsxhF/VCTx454rPSsPVcYRRpl4FYYO/Pzzz3t44iA+/EAMdLjRkCDCMBjQ8JWW4sEfRyeocVMW3GjwEIwMz/xIk4mRTskkCwaKR1cx8LIWZSBjUKWuLr/8co+HNIiXeHJFYQ2YpMURJWAOIyqS8jBpNZFJMJ25IK8wgMTFAAEx0NEm2KJjwAAf4qLDkm91bAYbBh3VBbjRMZkIiY8JkCNMsILlGexhUIUdDClkq3l/T7oQZSY9DDcgLXAYsGAcIAY4LNbBS8cz0O67kUmwSqYKwyjSFJNFWSEYH/JLukws5IX2TF1haa/8wxQRB9aAUt5mwAdTwlNu7pl0eaZd0ubAiGcmJgZrBjjqkHTokxBpyHiEfsDgWyX8UjfExQ/GlHojXXDHjX7f1h/bvLTD/MgSMCEe+gPEsTbkU2nixnaW3CgjZYYpkBtXUZVx5PigqjW3ykTdgncez0UXXeRpM+AzQZAP8ggDQvtSvmBwRGJMeK7Lv/yZtMPD054g0r7jjjucqWVMhLS4pI9xyoLp0rm7/mBwyAMTdNs8sbDCkCcnHR9DG2wbTx6e+zZtvRqGZ8YUykD5IRkrIGCAoZAQgfbLeAm+Te2f8PQx6pAffVrMI22FsYP2T18iTbV5+hT1ARG3xgp3+N9f23adh9HiRu2EMS1npnCn/lmEMu7Kn+pH8yjuWrgTvxhHmE9or7328rDMv7QZ+rNJMAvaO2E11rnn7K/KODLeabwlXD7GdWMcmzCsjqfkWX2M+mE8ZBGqvMLAMa4xZ5AH6o22wMKeZy0qKQaYUXZI7+E5hJ+/+N+f8k8cLCpYKDBXUmb6MnHVUR3jSH6Ih58WMhI04abxCyPYfJxQeyOdnHHsNi7V5Wsobn1hHBnAmUgYkKFeGUc6FKteNXwYJSZdAGSyhVGAoWGAp0FoMCRNqI5xpGOLGVQF4Z97Gp1ITAODCp2dSbPKODIZizkifBPjiD+VXWlWrzCOrCQoIysvpF55GMoInpImEJ5VEMSgzzMdBaLxcp83LDqSys3RCRBWnhpMmxhHJB90MDEZpMOkTifiXtJEMSbUF+kwEDOR4odniI7EYC6ifnnPj/LBaOWrPg0MvGeirhKMAe9gNEQwJzA0EPmmHkV0evzT0SENnuQdEo7UqYg2QZwQq1DCM5BA5F/MGm1NzHg+mIKVGEfl9/TTT/fwpEt8+5p0mzD8eG4aaDxQ9oeUl/zRViCkq4RngoaYtCU14pkJAv9iWjUpSCqAHwYptSP8UXeS4Iv5yjFlkCINsICQWpEHJjEYJu7Bj/ojX530OyX9ZtBVHOhUcU9didr6k39d1Y71TH/TaQRIyHivQZe+I6LfUSf5+FBlHOU3vzKBkHe1aeIR8yfGGP/qS2L4iVuLlCbGkXB5/nkWVRlHHZVCPVEG+qAWAU1SHrUNGHeobZ6UB10Vj4QFg42nW1tXevlVbVHjsnDR+AdDSf2waBR1av/4oR1ogc4zCz/ikGQYPHmWRA2/tCmYBPqTbUUSrJbatGsYLsZKiP6lRQfxQ6QBA0QemK9Imz6s8Zt2LiIe/NUxjpI4bvS/kw7EvMA0EkbY5Qyg4uVaZRz1TjsJeTgxXk1tsQnD6nhKGoxdjB8aj5Qu7V6SP80rubCGvq+dLdUhTCcEU0aZNdcpzvwqLMVLqE2BfdN4Xsc4EieCHfIL4yi8tCCRFBJ/eV9Sm8ZdYxj3dVQdl+r8DNatLzqONmi4DoVNGMlWMqUuhU3gpd6LVUgjGbDJmEO3OLYKSOgb2daL+8cy0RhS11sy5s4tL1deeeXGuPTCOHC3YiRvovxebjbZJxvck1WI6xhaR9Cr8op+0uqrr14+66ZqIYw/k7TptV/r4rPB1cuI3ol11AFhiBMdKZ0Wj56idQSPq2qdZYxJ+spXvpLWWWedMk10japf3sAqc5lllin9cFPNOzp5tv2W0GW0xux+bQU40ZcL0Jey1a3rwqAPg6V6NS4sz9CrEeXvuaccSgM/+rKO/FevfHEHss5avrIJMZm0xC0RjXkZYGVug4r7Q7cMQg8T0qn+tCkotxBHV80GKHcXfrJmJc+kBT1tOnW9kkmQPQg6oaTJD/1VdGvbkPIvK2JZ1BtD4cFxp/8Yw+LP6Prl+AtvtSk80Yew5LQFWrIB279YYAOUh1f50XESgQ/PqksbgP0VeSB/Nin5FyTQwyUvxswq6ERX6e+hU2WDuOvbTeTJHNr6qwubu6EfJr0nY45dL8gkUf5lB9qzTT7unXqRvzx8t3thIn/EQ/umn/DVCBvA9WrAFZypq26U5z/3W03XDi133UqTVnja6DzSPyF0EeuoGkfbPFXj6lc8ndq6MW2ug46ul37GQJVjlPT60BGD1H41bs4666xltju1fzzRp6hHkfqc3ISn+hyndTD3oWNnzFKynQoFnejarV0bo+h6hXx17PHHH/f+pTIpMsZMtR1bfCTqnv5sR1y5F/QgRflYK7fqdbb/nWYgv7Y49RMBBtMfiFv4VNPp9NwLhtTpnHPOWY5HdfFqHMvHQvgLjfP6Kg9zP6QvsAmDujjlxyT4/uUcY/rqvLVyYz6gbzOnoEsKf3L++ef72IGesIhy5GWQe7drtU9289/L+74wjrYqSaZ358wJDIpJDTwPJhFLKOx2IxqZSRETgzpMIj8NeExQtj2QbCs82QrCv/XKhFNHDNQ/+MEP/LNeDBowVHQ8yLa0BhjPKLxx3D6488xkDlPXjWyl4gOXbeO5106VirGQSTIHRIlCLEwNjBAYwQBWiQER6hQ3nZqBQg3fxN+ubFuNK3826ZfXFQyiCIaKgQhlW/AARyYfW/3IS3nlPYQhDZ9g62YIxaRs22dl+MHcqKObZHNAcMqi+jLdmvIdZTFJUjmhVDtQ9bkM2OFGzKaYtw5eJ3plkih3Y5CgLeu3/PLLT+S3zqGa3yqjbatTD8aERXunHdOf5K8aHs/0L4yT8G+r5sSiTFTnX3E1+WHRwQQG00jbsVW7vHa85u2wk8e2/jrFwTsU/RmTxKB08s9kzEIMUv138l/3jj6eMyx1fuTGwhsjMgxoYNR7JcY7DPpuvfVWD8qCnB9UZTzcscVfmzzZDkJpYNcUZZt4CFtte3m7Y/y3XYbyxyTL+IJhAv3dJI9+dJhJ0XxchUmoixO3Tu3fA1X+qvmqPrM4IG8QwgjGTo2VlagGPNa1axga4mLeMKlaYgHQiWBiEJSAQZUYC1T3GMJgiMZcKtKiiXQgGBaTiDoTbFLWcrEt/01Xk243vfJ523YgfM7AU9OcNlgM84QZYzuRFhH4YR5mLKa9MA6COfwGi+A2hL+8fXYLwzxAX6kSi0vGF9uRqr5yA0LaiIQMX/ziFxNGRrZrMZHfSenQF8aRlRYTuH4wFRANtE7iVldALJboaOL2GWggSTawNoIphKmhYzYRjJgkdPixLRj3ysqgriObSN/f0+loRG3OnbRtKLcaRtIFsRKuIySZSBVlnZ37QfpDByVdrKGHQirDZz/72a7RUDdYVyPVFZn4Xbc+8PLAYMzgqIGl9PC/G/JNZ+O7vZJ8Vf3wbCoGjqve1dWB3jVdsfCDkBKJ6IAMNKw6IdPz0Su/MsksscQSA9x6fZAEjnC2jeHBmYzEdFQHATH7SkdlVf5NN0qvvC3a1mX5PJQbLIlpk7YV7ZbDWPYiyetEWAaDkW3jlJNDU113iod34HDxxRf792vp82CkxWO3sEit21Bbf93igsmWdKXJL2MMEgAkPmKAVZdNYZrc2TFoQzCM5AsLbQgpQ7V9VeOp5okFoKlXJFPBcK8wjezcMIbmE2Y1nqbnNnliwYY0ztRImqJxZrjXstVFhgUpkjT9kOTTFzXZM6ayE8FiFkalE/Wz/ZOO6Qb6rgRMAHMNTBr33aipXTP20jdZzOuEi6a46G91cwz+kXxqYcniEIYDJvGss87y6MT4MIZALM5ZLDEXsgvVltidMbWlibxrEQQjjXSf+R0L4DrqhmG1vdfF0asbYzBzCEIgU/FIzzzzTDkedouLnZpeCAERfUWS8TwsC31JSHN35ml2JTVXIGyAoWd+zqWSeZhJcd8XxhGJIQyXftoSg4sWI2h6JwOObGkqnLYHaXBQzshxQC6DWZW0gqGDcMyGjg9gMBNTxbarJtN8NS9pH42azsdP2wzanqimRwNDkmD6JMn0D13yVvXDs7aQqeQ6YsAz/cYBr3rtHAyUSGghGGZWlBqwtCUyIAF7MH0Wd2KCoX7EFMGY00ghtjDJv+nj+XNV4pLjpfgQvVeJ+JgMwQoazNYH9QVjBONFPZJPJnYGQOpIWxxaJGiFLrUBDVRi7MQQ5qs2Jmn5UxlgjEVI1WlflFFbRPZlDmeaYcbBHExgOrQlDq5sH7H1xEDMQoFFApigYgBj0oZYzROvSAyF8svRDjDvDGSkgyQ2XwyQPuEVjniQuJBnBkomOaTWMBqm71PikC8IwEzbcoRXXOQBhpNJgzRY4NEH29Qz+dX4QJxN1NZfU/jcvY2aC/5Nz7U8+gpJFhPLYBjrtpMLE7npy3lWGSupD9N79GfqSJJ1Fk/6IU2CNP75g/2prxIH22AaU/W+7bVTnhQHeYZRMv1Wd6rmBcc28Si+bm1d/vIrgguYDvKB4IDdJuGFP7VVSf5x69T+eU/bpx+JqmOG4lQfRIrNvMMRRwhBIAk9FEf12q1dw9QxPyGBpI82EZLJOqYD/5RDfXHeeedNZrjjKlzUCSQJnbaWmU/MkKs86sk9dfjTHMNOA/MtY01O5BtGh/mScQFBCuN3HTVhWB1PTc/c06EOq4QwR/WmMTMf58mfxjEWzizsGDOZ69gZgBlrOwfDj7QhqUyw60ldmT7jRMFou3VE3mlHGnvAkLEJ5pN5X9LkurDD6mYg9Z1kSCLLPhKwVZEbW3RLTGGt0K4AaxU9IIh1WFeK5b01xvKdlJdxt8bq7nzSjOf8Z8zGACVpKRPnfrg3RsU/AVQmYDfygzIyFoCUCbeqIYD8Yckosobhfq1jyqm8YpWtMCjfQsSJG2UQyeiDPItk9KLwXE0aWBp2yJ8sxggLpqaz5/GDoQ0u7o285fHoHqMP64TuB6VruedXa9x+VIHS0xUrPfnDQreOiFt+bICu8+KGVxgw4c+YDbeEM0bQ/YIZ+JIH8MI4AOtSiLpSPVmn888/2UDh8YAFx8igTK14wZ0jfPSMERNtwQZ5V3z3SO1PRg34QwEcIwjSsYHevaCIzjsMIiAs5WVggzt5EO7uoeHPmEwvF2EwPqENqM1S98RLmryv/rASpz+BC+/AxphDT8m2Mx1H3MmjlLKpL2OQ3T9lQvmb8oE5fm07xY+qoB/xjNGJDbZ+T/nBZYIp6tM/moh+QViOyBAZ0z2RW1t/ikNXypv3Edwx/CFN6lYkS2C1I9yxZsSfSU7dSI2y8IxxXhPRrvCjPoI/cMHNGIsymEnI3c0mg9JNBg7qG9Qx4cCXsQ7CKAy3uh+K/japlPHphj4r/zq+S+/yqwwNbRIqndvkSZ6NYSiN82TEp3e9xEOYNm1dcedXGeepvLpSvxg8qL9w1Zjc1P6NefHTFRQHpwMwhjCm4EY7Ig5jUP2Z8dPO0fQ2Tx9hvKBf1h1HpTz32q5JX/nR/EBcMpLLj+aSoRBHCkFgqrAy+qC9087p3xoP8Ktx0rZseXRSXom3jhh/NC5rrMMfx9mQrjFKHgwjHJ7pm3kfzOOkrzVhmI+nMrIhPhnT0QfUd0gDHkB1RN2BoU5BIQ0ww+hGZRZGXPGfGxLmeeQeP+Q1J+KpuuXvZUVN2rkhHHnllxN+mG8gxhSNSczr5BnSaQud2lnduOSB+/A3BXEYEMNOWh1IubRTgqwKWHkiuZQovZN/vSMNdNC0ipL7cF1ZBeQruuFKZ7jiJe+s5gazjdVLnljhsfUixfJewuZ+aapIFZEy1tUxEjP0IdkWGwqRBvovrM5ZIZNWnfSZ1SmHuCKFxIDHBo8B7RUJB+9zQgWDNp1LvfP3g7lnFYpeITqLpMn2JGXAgEBS2Lp4Wc3S12ygcqkM0hPuB0PUMVIZ1DZQ0eil3w4mvUkZBuntpFzZIwlBSjTUfsl4yBglCflQMOuUJ+qdsaRO2lhNs1M8Vb9tn+3II99iRQ/MJlqXJiL9Z+cI6T79so763f5p8/RvJFd141NdHiaFG+0AiWTetzXtV3U1B5Mf4kJNxhigjsGRBNIem+YBxpBOGNaNpx0T7PISyR2qdKg10H6JH2kruuLsTGBz0U8iflQrem0bSLeRpLKTkNcXWE6ucXaSMY79rICIKxAYTgRQb4D5YUuBrYyRTJxcAMOIwVi+9c12pklVkh2pM5KzH3kLBIaEAMwGTLZJBn0rVMw2+o/oQMM45pPtkBKLwGMKAfQFEWSxbS9mjvYEwwjzqG34MVXoPhVmqj7FE9EEAmMCAVZ3OsYHZozPITatkPtRYKQl0r2si2/hhRd2pe26d7jZtorrD6HvyYof/+h4Lr300q6n1BQu3AOBsYAAEz66zOjY8kMXGmkjO09YywbTOBZqeXjKgI4pxpvo8TN+suhAbxCd5mAaO2MeEscGfBDvo6yL4ixbHUzGWPVJ0bghWDiPcgTYcsboRcS5hBh8DBcxSHViHLEMhxnsRiiMc+wRWxcwk2yxBwUC4wUBtqj5/jLqKhgDIX1vMhgZL5hEObsjgJoFx25h3IOKE+2mql7UPZbx52NMMY5Ii9CNROdsqIMGx1qY4qnHg9UsK1msFDl+JmjsIIBFJpbopjw94CzDsVPCKEkgEAgEAoFAINA/BPpyHE//sjO0mJAUcaxAfsDpYGNEORYGlCNLOEKFc+mCaRwsmiM3HArbKB6z8gwKBAKBQCAQCAQCgc4IhI5jAz4ccI3+jB1h4ucetjlcuyGqcB7BCFDH1PVw6jGO4OJH1gKBQCAQCAQCgZ4Q6CvjiFk+lpwcScChzEjsIKQ65513Xpp//vmTviPcUy4zzxwCzeHUKD5XdRE4DoLPAOn4CbauocFsW8NQcAg5+mfc54QZPGWVBR/vONaE59wtDxP3IxMBvtyAfkt+VEUvOaXekVjS1tGz0uHLvcQRfgOBQCAQCAQCgdGCQF+3qvnsGyew80USfUkAIGAm+XxRpzPlugHG5AzzyecGmaxzIxUYREzrUWydb775yi8l8MH5CRMmdIu6fI8pPl/3wCiG4xzsMFeXRIkBxaMdiOrndPFFGxlRsDXOeYiY8A+FOEvq5ptv9k9qDSWesRoW5ff8ay6DKSd1aQf2+ndT+ZwTixnOaOS7t70QX6bg++y0R85k5AtCIZXuBcHwGwgEAoFAIDAaEegr44hFG5IXrNo4C+/hhx9203Z9cg8jhMEQny3CPJ6DjpE22tcsBhx8CePG59348bknDjLmO58cy6DPDHZL107hd2aUuGFOYDj5cDykw1K55/gUPksIUwmDSZk5eBaJVd0H6wnTlvi0GMzHXXfd1TbIuPJHO9J30AdTcD7hxkHOtBEWIrQRpI3UddNnsOrSYVHEAoXFBZZ4bHXHeYl1SIVbIBAIBAKBwFhDoK9b1RiUMBFzEjvfSF199dV9ggU0zksazJYxYTlXj288sk1tn42aKB4mcSSQHJ0CwWSybcg3XzfccEN36/TH1y74DjHMH9vQfCkCJpDv01YJySbnP0Gcm8e3RDksGqnqLLPMUvU+yZ/5XipfTxlp0i+YeaR0MFqDbQdDBdM+s+jtAgkhefnkJz/pRzFwSDDttg1hhU274IgmGFGOv+GsR/uEVZvg4ScQCAQCgUAgEBjVCPSVcWQS5TNn/HLiENahHMTKZ4G+9a1v+UGddbpo6Dba90pdJxGGAIYOBrOtvhmfGbJv7PoH6vlIPYfH8tk2th+r2+swZBwSyhc7YE6RrvLlDsIMlfjEItjBiA6WkKYhMa3me7DxDTUc1sp8+ovT+cGLuuHAVQ6o7pVYfCy00EK9BnP/MK6kidSbOkYPlkUCjCyS8bZW1VNPPXWy7456HCxQMKqBUUd3lwVIUCAQCAQCgUAgMJYR6Ns5jujnManWSZNgGmHMDjvssAFYoqvI5N3EdMFo8H1HJvo6oxPCEkceHj1IDkNGusTRPEzqdcxmnhH03oinrWUtTAbfnIQIqzJjBATzDA5tifwh4URnUvFUwxIvaXYrB+GIC//ENykIhoxtWhjWOqI+0CXcZJNNEtLQfffd18uBGkHVuKkanjp5+eWXnclrqhvaAIe1yyCqGkf+TF3lageqw7zNwNiK+K5up+/vsrjge7fdsKY9YmDV5jvtSjuugUAgEAgEAoHAiETAJtIhk231FVa4wibd4rLLLvP4jHEr9t57b7/nnTGOA9Kxbb7CGCEPZ4dtD3hnBirFIoss4u8Iiz+TOhbGELk/YyYLM0rw9HhvX3cpbJIv7KsfHgb/xkwUJnX05xVXXLEww5cyDZMYufujjz5amAV4mQ+T9pV+uCEcZRLZVz7KNO3rHMWaa67pYe2bqIVZYJdpm9GEgviVcOTTttxLd3AyyaK78450dtppp8J0Q0s/tv1dmHV66YdymrSufD+5b4xpK0zvtLBvezZmxRYLhTFs5XswprzGRJZu1RvTVS3swPWy3Phfe+21C/AQmdS3MP3Vsj7sk1EFaRmDLS8DriaJLvCzwAILOO621VyYnuOANkMbEpnqgqdvksTCdBnl7GU5+OCDyzZD3qjHgw46yNugPFKPZuFf5g9/xHXTTTfJS1wDgUAgEAgEAoFRhwASmCHTuuuuW5jUyZkcJkeTQvmky+QMMWlWGccDDzywgLncb7/9/L2YQp5h/MwwxSd220YuDj/8cPcjxo6JmzhhBOyLH34vJtQMFQr7xnABU4gf7rleeeWVZTmZ5HGzLcrCjG0K01kszOjC3Wy7sfQH80K8kOnA+XuYFbOsLq6//novsxlK+PPWW29d2FZqwZU85HTSSSd5WLM6d2czwPFnGFvuYXjFXIKZSbEKGCPSNiMcZzhNt87zSb5tmzyPvry3TycVm266abHUUku5G4yWfcfVcTZL9wJmFyaH/MP0ESfvYfCPPvpoZ3LwQ/zkAeacuMTY25d0CjMkKRlF0zv1cpBP/JnVc5mXphvTU/UwJhmt9UK6YAAjbcZHhRkM+WKEfFH2xx57zPPGwgLGHvxYhMDA8h7msY7sAHd/f+SRRxannXaa39N+CKM2o3BqvzCwvCeMiDzhBmNJ2zIVicKMo9wN7CHyDCb0C9qnSU0L4tJiyNQIFF1cA4FAIBAIBAKBUYVAXxhHJI5MlEyoTPpijHjW5FtlHHGHOcAPP7NOduAUD5M6jAqExAp3mB6ICRgJJIwX0j2YihVWWMElgMT13HPPFXb+ojM5it+OyvGw/OWMIxJHGAf5gwkR5YyjpJT4I99I/84880xPB/9IHJV3/ORkRjoevxhHMVx2nE+xzz77OAMEhjBqhAUbmI8qEwRDx3uY9DqCKQN/sINsC9bzRL5gaPUMwwVzBCbER/mRjiE55Jny2Ra6l42w5EsEo6l6AGPSskPSSxzkr+lKeZGiNpGYbJg16pZ6ZeGApJW8gSXSYxYYpspQRmPb2v6eRUAd0VZy5rOuzeThwIv0+NHWIBY3YAMm9kUhZ9LBjUUFmOAOQw5de+21zpib8ZQzjrhRHuKrSqR5FxQIBAKBQCAQCIwGBPpyHA/W1BiYYPkMcY6jMVZueXrVVVe5m/44TgWdNNsy9ONysGbOCR09Y2Q8viWXXNJfod+46KKLJvQoIT4ByLE8fDsafT4sYk0SllZZZRV/j2EIuoYmcUvXXHONuzX9YQmNBTg6mJ0IAx2rUM87R7cYw+R6exhsQMsss4zr43HweTcyaajr+WHIg24gWJh0ystIWDCYddZZJ8oTbhB6n3WEJThnWYrWW2+9NO+88yYOueaMSZ6/+MUvujUweqHGHLmxCthefPHFfrzQXnvt5UfVcJ4lGFYNjHJ9Pt5TN+iwct+N0Bnk2CO+Ad5EYANhKW+MrOOc1w3HH6HviK5kfpYn+orGNPu3yuviXnjhhRPnehpz52d11rUZzui84YYbPDh4mXRzQFS0W47xMcY78S1zdDZJd88990y0VXRyZWTDsVQTrE3S/ueaay7XoaUuIHAICgQCgUAgEAgERiMC3Wf7lqWadtppEz+MPbCaNZ00Z1RgSEQYOzDZwtxg+cuky7l6Odm2rTOUMDVM9nVkOoU+qcNkmGTKmR/c6oxLMJDpRoTrZlwh4xwYAvIF4wKjYluRZfQYQOTMjF5ULcphYGAyzjJLY4iDrWEqujFf1Xg8cOWvaphDvnMDD5jPKuMyzzzzlFbv1Bs0HFbZMKV88ztnPivZ98O4cYNxg8AGwvp5KISFPAsLzm4kbpMcpmqbwdCHMzrJI4sE/OSkNmISbT+MHiaWM0RhcqsEEwpxfBN1zeHybeqvGk88BwKBQCAQCAQCIwmBvjGOKhQSGSZKJI5I35DsiGBqbHvXJZNI7B544AG9Kq9YyUIwoZ0I5oODwW3L0A/qzpmjpnAwTJwxqUOkm8LwycSjjjrKj/fhzL86kvSz7l03N0lSTU/SpWq2FezS0W7h2ryvMidieBW2G3OKBTuUW6or7FCuWC6/9tprLqXtFA9nK0JYYptKQjK9QT9zsbrA6BRH3TskjVtttZVLrZvajG1n+1dlqHv8qi0qPhY6psvpix/aOIfAc0xUnUU5n6qEkHgjgQ+LaqEY10AgEAgEAoHRjEBfz3EUEDCNTJRI55DKce6hCMZGX3X53Oc+N6jz/BSXPj/HlmA34rvTbCsz4UMwEkiYqgTTIEkg75BG5kfu4AbzydYyxDZzN0J6lRPnPor4RCNbn5OTtL1KHh566CHPiuns+ZXyIynOCTxyqpYvf8e9GeG4hI5tWzG2qAcgea0SCwoRB62zXQ31SwLarc0g+UWKzLmMfEayShz2fccdd7gzDD9tvBNxWLjpU7oX1CqCAoFAIBAIBAKB0YzAsDCO2u6ESYDBMmOUARgh9eKLK0yoSA0HQ0gF+eQbxHYm28RmOe3PddId0mES5zOBMAVsJaKryOSfE0wj8SAt5cszX/nKV1wnMN825yshZuDgZSBdkRm0uHSMZ+nKcW+GElzKLeM555zTn/kb7IHWZQSVG1QF2BYVvfrqqwO2XGESxTzLTy4VhsGGadSXZ9jaRr0AaaEZ7ZRMNfGiBgADjq4pjB3nFSKRy4nveaP/iZSXL7TAdIITB7bnagwKg6QZHVfOecz1NfV+KNe2bQapp+q+mh76ihAYdWMa8Uf5KQvSS6TtUNOZlP4y/gKBQCAQCAQCgZGMgEmL+kYcP2JlLfKjVjgiBrc99thjonR0lE4expgY968jYBTIpIoDjrnBqpZw1R/H12DtK+K8QPxgyQxdcMEF/ox1LMfgiLDixZ8xl+7EMTs8YzWMVXdOxoSW1sqUQXT88cd7mGqeeOYYH1ncYhUsPwrLVUe9cExOHXEWIeE4/qWOsNY1Rs79YImMVTb+ceO4IY7kkQU55QMncMAP1sEcj4RVNsf1iGyr1d/jh/eUg/h23XVXPzMRy3fegZMxpArmV44U4l3dr9N5lFhAE4ajbkTGmLqbbQvLaaIreScfTdS2zRAebDhiiHxQVpHabNUynKN48MtxQhDtt67ctGPOjwwKBAKBQCAQCARGIwJ9+3KMTZKjhtgyRALUTfKDTiTGLlU9QQpqDIKXt247c9QAYRnls3nGEKYdd9zRJZWoFlTLizUxUkxJAtE3zLHDyrvbV2BGEyaR10AgEAgEAoFAIBCoR2BYtqrrkxo5rm0NP5qMZyjJaGcY89rAkKOTpTNb/9r+h3msUjCNVUTiORAIBAKBQCAQGJsI9N2qemzCNPZKZeJxPxIJK3h0FPnuclAgEAgEAoFAIBAIBAKdEBiXW9WdABkv73TepsrLmYUc5B4UCAQCgUAgEAgEAoFAEwLBODYhE+6BQCAQCAQCgUAgEAgEAgMQiK3qAXDEQyAQCAQCgUAgEAgEAoFAEwLBODYhE+6BQCAQCAQCgUAgEAgEAgMQCMZxABzxEAgEAoFAIBAIBAKBQCDQhEAwjk3IhHsgEAgEAoFAIBAIBAKBwAAEgnEcAEc8BAKBQCAQCAQCgUAgEAg0IRCMYxMy4R4IBAKBQCAQCAQCgUAgMACBYBwHwBEPgUAgEAgEAoFAIBAIBAJNCATj2IRMuAcCgUAgEAgEAoFAIBAIDEAgGMcBcMRDIBAIBAKBQCAQCAQCgUATAsE4NiET7oFAIBAIBAKBQCAQCAQCAxAIxnEAHPEQCAQCgUAgEAgEAoFAINCEQDCOTciEeyAQCAQCgUAgEAgEAoHAAASCcRwARzwEAoFAIBAIBAKBQCAQCDQhEIxjEzLhHggEAoFAIBAIBAKBQCAwAIFgHAfAEQ+BQCAQCAQCgUAgEAgEAk0IBOPYhEy4BwKBQCAQCAQCgUAgEAgMQCAYxwFwxEMgEAgEAoFAIBAIBAKBQBMCwTg2IRPugUAgEAgEAoFAIBAIBAIDEAjGcQAc8RAIBAKBQCAQCAQCgUAg0IRAMI5NyIR7IBAIBAKBQCAQCAQCgcAABIJxHABHPAQCgUAgEAgEAoFAIBAINCEQjGMTMuE+phH4/ve/n6aYYor08MMPj+lyRuECgUAgEAgEJh8CL774Yjr11FPTb3/72/SPf/wjPfLII36dfDkaesrBOA4dw4hhFCLwn//8x3NNRw4KBAKBQCAQCASGA4EjjjgiffOb30wbb7xxuuSSS9JHP/rR9Pvf/344kppkcQbjOMmgHr6EXnrppfTXv/51+BIYgzG/+93vTossskh629veNgZLl7w93HfffV623/zmN+mBBx4Yk+WMQgUCgUAgMJIRWGONNXw8/t73vpe++tWvplNOOSXNNNNMIznLXfMWjGNXiEa2h7/85S9pxx13TGeccUZfMook7uKLL0433HCDx1cURYLx+OMf/9iX+EdKJJ/4xCfSHXfckT784Q+PlCz1NR/f/e5308c//vHEYDXvvPM6k3zooYf2LY2bb745XXTRRemf//ynx/nKK6/4VkzfEqiJSGnpFW0ViTFttBeqxsPzv/71r16iGBd+A6dxUc1lIRnjv/Od75TqO3//+9997H/jjTdKP3HTOwIf+tCH0vve97607rrrusRxyy237D2SERYiGMcRViFtsnPLLbe4uBsdvbe//e2JDr7WWmu1CdrVz0033ZS+9rWvpQ022CCddtpp6a677kof/OAH0/HHH9817Ej2AIPxox/9yMv06KOP+qpv2mmnTQ899NBIzvag87bMMsukT33qU2nllVdO2223XZpjjjnSlVdeOej48oAvvPBCWm211RKMKIuW3/3ud2nGGWdMm2++ee6tr/fnn39+es973pPmmWee9PLLL3vc3/72t9M000zjC4A2if3hD39Iiy66aJp66ql9giQMkyLPDOpB/0UgcBqfLYHt1DPPPDPNP//8iTHy6KOP9rH/Jz/5yfgExEpNX7j//vt9nBgMCIS/4IIL0pe//OV04oknpqWXXjo9++yzafvtt08/+MEPBhPliAgTjOOIqIbeMnHggQemFVZYIb3++usuAl9sscVc8sJq8Stf+UpvkVV8MxGz8kSCxIABc8CKaajxVpKZpI8wjDPMMIN3XJiejTbayJmpNpnA/7bbbltKYNuEGQl+WOGqznbfffdygdEmb93KzIIFQkXi5z//eUKHBzr44IP9Ohx/J5xwgjN7c845p0tRH3vsMW+bH/nIR9KSSy7ZKkmk6DCJ1113XfrWt77lfWfPPff0sGNBCtAKhBaeAqcWII1BLyykf/WrX3nJECCcdNJJvkBcaqmlxmBp2xWJnRXm1+eee65dgIovBC4//OEP0+23354Yw6DzzjvP70e1mpRt8/SFDNji7LPPLv7973/3Jb6RGMlIKaN15GLZZZctlltuucKkj4UxCYVJXwrTpWDPbsjQmQKvx0NcxjQWtuIacpyTKwLbgnR8KItJ3oqtt966MEaqLN/Pfvazjlkzxsj9Hn744R39jcSX9EWTRnvWFlhggYJfG2pTZtOfLDF8xzveUVx22WVtoh60H1vAlOnR3qlPWzwVpkbROk6bFAvyStj8eumll7aOYzx4DJzGTi2bOkdhKjmtCsRYyfhI/+A3YcKEwow4WoUdCZ7uvPPOvmeDsQEsbKE6qLi/8Y1vFLbzUyy++OLFiiuuWNjOhse3xx57DCq+kRJoKgOlL4S+02677ZaMoXEJVV8iHWGRjJQyomzL6mWbbbZxvJEuIQJnddQPQkK30047uV4cW+BIaUYrsY26/vrrp/e///2ukDzddNO5RRtSMlaRrLLHKk055ZTDVnc//vGPk00yrjKx3nrrJYyNhpO+/vWvp+WXXz49+OCDyRji9LGPfSx98pOf9COV2qY7++yzp6effjqh6vHqq6+mmWeeOX36058e9ry3zd9I8Rc4jZSaGFo+2BFAko6qShvCwJJ+QV9D1YX+NpqIo9VsAes7H29961v7knVUfMCQeWMwZAxi+tvf/ubb0uziYVF9/fXXjzpsJyp7vzhYJBuD5coHmwezTiqeeuqpwQYvw1mHKfbee+/yuelmcpSxLi9/+tOfCn6QGccUf/7zn/2+KnE05XZ/7y9b/BFXG7KtzK4rUbBCQtspTlbDNlB1TNI6W+37tmWr84ckznQeB8Rb5w8PTdI3/JN/Ec+9EOWygb1jEOJEopanowBN+dX76rVO4tgUR1OZiROpRLf6b1OvpltY8OtGpo7hXohTbb4apk16nbDM4+tUL7Rl4mlLeRvrFA48bYHTGC04NZXd1Eoaw9W9aOpP8tsWp9dee01BJrpSH7/+9a8L0++a6F3uQByUnTZVJbDrNHZU/bd9RoLGuCRJfNtwo80fc5oZxxW33nprq6wzDlNvVaI99FIPTfEo3k59gvTzfpLfK3y3eeXYY48tTKAi762vdeWsmycUIW07L4vc6+LRu/za1l8eZiTdD31fczKV5he/+IVvNw2VWaWxmg5bYcYgk6kkzcky+BqnXxxyyCGlJ23Z2UqoMOlL6c5NzjiaAm65HWcryAH+EJmz3ScyXZbCjqYptycQ+aN2QNqmn+HefvnLX3r82ibkHeJ304VRNH5l65dtdN7rt/baaw8YwOxA1GKLLbYot5Bhag444IBygGLQQ8Q/99xzexxsl9sxBj7JkAi4KB9sO+fE9iXhICalqj87hNXfs1VpUlv3BwMnfyZpdTf9VZkoGDnSoGzEwT1bOoSnPtjmN6OiQhMr6VEXtDMGoqOOOqqg7oQN4U4//XQl51c7nNzVEOSHdFZZZZVCk36n/NIvCEc6OVUZx05xVMtMPJTbdEPLfJMG9XzhhReWyXSrVzxSd2qnxHHmmWd6vXOPKoHIlPNLDPbZZ5+yTeULvDbpdcOS9NrUi1mpe9mpL+o4p+OOO87faSxiQav2ZDqYxZprrultJZ/QmIx33nnn0h/lxy/Yi5j0zQipxHyllVYakDb9mnDULfWeE+HIA9StP+GnDU74gzbbbDNPl/7//PPP/9fR/mFi2eqUGgB5Y1ypbiFefvnlnmfe88M/Y5DomWeeKeOojl1SkaDdQFKr0ThFWsR57rnn+nv+qF/qSHWiNDfddNNy0U19MB6YAVnJyJIP+u9oJNv9K1BpyolxkfFKBMNO39I4Cz477LBDgaoC1HYO6RYPcXXqEzCD9H21G9qV2v0555xD8KLNvII/8kI/uvbaa3mspSoObecJIrODvB1XtSE7m7G49957PZ22eLX1V5v5EeLYF8aRyYAGSMUjIWD1fOSRR7p+nG1pOVPGO7Mk8mLTGfWeyRZdPd7TeGhEJsotGCRp+Jp4v/SlL/kzgyk6G1QcPwYmBoA2ZNZN3iA1if70pz8tVl111XLwIj1TnC/MuszzziBC/HS2ahmZJGAyYAIYtJlE6XgwXCKYBRg94kXPAQaVAcwUZr2B25awhzHFWQUZcKWBUUaYKhHpXXXVVd7ZGcBz0oSMGw0cXNF9JI5cukVewRsSo4Ef4iWflIPwuIG3BnL0M2688cbCrFq9I4vZlNSXuiN/hKfDEw7dNzoycYEZgziMK5iQHgwCgxzvxQQyodK5wRKGlfrgvQY9Jg3KBoOGOwyECCYORhNi8qhiAANK/sS8IYGA+WF1bkrLHt/TTz/t4fmrMlFgAHbXXHNNQfshj7vssktxzDHHFGZM5PlmMIHxhdBlwT9MH22acjFJs2JlgIapoAy0O+jqq6/25/3337+g79D+8U8ctFvaVC/59UjtT21ez73GQZ2RT7MMdCk/fZT6wI1Buk29kjb9mDDgYMZc3jYYM3CD6YCYxNWOYBzIOws7TSZt02uDJWm1qRfqnb5MHmjPOZn1qeef9m1fhfB7297y9gFOhKNN014g+jVx0Ad4T9tgYqQNUs+8l54hY+Y999xT3Hbbbd6WwUmMGH5NPcXDEH9OLDR4D3XrT21wUtxIP8kD+eXKOA7RT6kz0qWcLJzQjaac5EO6qPQV+h99k7bNpL3XXnt5XDAXEO2CtoX0iDTysYs+hht9H2JM5xl8IMZUnhkjRIyfuJ188snenxm/GJ9wMzUW98aYTN3CtFAnSIQYC2n3dVQ3l1D/YM34ARoZfgAAQABJREFUyjhJ2SmrykU8doqDL5oZp+gDjM85sRAnXcLS5vOFRD4+M66BeR2BPWXLF3X4Y1wkXRHtEjfGeuKCcaauGNehtnNIt3i69Qnqm/ySPuVlYUGb4EddtZlXVCau++67r+Oeu+X3VRzazhPwA+TT1Jx8LgNf2jyYsWhqi1dbf3meR9p9XxjHu+++u2TA2FKh8rUqZdCnYmDuAJ3JkIFPDBuDJRVNZfKewQISw8PAAmmg0mqfyRT/NEom027ERE0nZkDgR+dggGPCIw8MINyTdwZ94ibvrMAYCKplpIMzyOCPAYd86ZmGDt1qTBfvaVSm5+ANjIaGNIg86H1Vaqey1DGONFri5CdGSv5zxpGwwhS/uUQiZxwx+gALwvKDYcG/Bm3yCDFZMzgjHaMzQ9QrfrlCSA14ZjLBjfwRv6QCMB2U+6CDDppoJU/nox4gBpKqNJWBkrjZHoCJz8tG2xDljCNtJ/cHs0ccMGnKO+Vj4qZeeMePuhap3VEO6lV+uDK4M1FoAGeipI3BEND+VVdgR1sjDOUEf+FKe8Nd0jakQ7RtlLLBDcYGUn+CoWibX5WBa5Vx7CUOJlLyyESmdr7ffvs5Y6C8t6lX8gHO9BeYNcKyWKgyjjBDvCMNsKVNwigwMePOAqxNem2wbFsvSBypO9LnmhP9GXfyZ5blfs8zbYFywsQwtojU9vReEh4mIsLBlLDoOuywwxTEr5KmMVFDLNbxz48FSE6kSz4ZG+l3nfpTG5zyuHMDChhBiDTIB/0N5lGMosYEtWXlF+ZI44aYUfoNxNgFNvKbj11Id3CnPZDvNowjjCfMN3XIAk/9mz5BXGDEgp7xh3SZ2CUlJi9VappLrrjiipKRYBzSgpg0kJRCGjO4l5Ee8UGqX9o87Zu8MKdAjL3kl4UuDDfvqnXuHu1P7Utpyp26yRlH2psWIfLD7hD5Zc5qO4d0i0fjIPGS72qf0KKU94wPjDMaH8mX2lCneUX556ryqw3m77iv4tB2nkCqbXYOA6KjL5JvcGyLV1t/AxIaYQ99OY7HGnf63Oc+Z/j9l1BcN8mCP1gndOMEkxz4sw2SfnzGF77wBX+2VWCyCcKV3nGwRuLu008/vV/1Zw1Ot35F8R/iquNB3KHhj+9D2mTpZ9lNNdVUad999/WvhhD+TW96k8fBfZ53G7j92A6byFK1jJ/5zGfShAkTkg3Ofk6TMV2uREvyNlB5LmylmWygcMVajrkBI5SPMTwhD4S3ASIRV1vadddd/Wwp0u1Es8wyixsC2ODUyZuf82cDVTJGxc+4MwlasgHKj2/JA77rXe/y/NqqN80111x+/A8HS0M2yPiVs7+g+eabz8+BtIE45enbgOfl5ggUzuTLCaVhDFkg28ZOCy64YP7a08QBRWPOlXzajBwUd1P9f+ADH3B/NsF6XBxjZExysoHK86EE3vve9yYwsIFJTrVXjIRsK8TLjmEN7YO2QZw8cz3rrLM8f8ZEJJOE+tEvNlCmhRde2L9RakySnz1o0gZPQxja5OnPKHXzlRfaE30Bwx4IfCDCt82vB2j46yUOG4A9FmMIkk1WafXVV/fzMCkfRL+iPXerV/xy1iPnSXLwuk3+CcOaKoElRBtASR9DHMKpfbRtR22wbFsvnIdJeemzkEnpvF+TP1tQuBsH53MuqI3x3kc5p40+sMkmm7jhoHuyP+oUJX5wwxCFMzAhxgqI8s0666xl+3ZH+8MNssW5X42hLjHBgTGNvqCxFjf6CONap/7UBidjsMsjqRizad85cWSVTdjJFnVeDvVvlQmMOH7E9LF9zKQdc6Ym9Ja3vMVxsgWpPzN22WSeMCyA6Juc38lRTPq2vC3ofEw2htz9dPoDX1uMJdovx6MsscQSfo6r+h5xcHSV7RR4PozJ9TEMI0HyUqWmucQWRH52KnjSPmyx6YYQhGdcgDAiW9oMGaGFFlrIr8wJkKlh+PE3jK/0J85VZN6BiIs+Y0IGN+7innyCZ5WYY6HqnFn1Z0ziREdZkTZEvG3nkG7x2OKiY5/gYwXUAfUPTozx9Ctb6Hte2swr7vF/f2p7Cpe/q7tvO0/Ywmai85LpvxB9si1ebf3V5XWkuPXNqvrNb37zgDLpWdZIVA5kEhS/0jEgW2H4lcpmUqIzMDn3m5jU6UikYdJOPwOOwaiOYCQhDdTyozJVnxn4IBgayFbCfsWdQYYyY71LGd/5znf6O/0JBz23ucLEMTh1I+JWJ2ryy8AOY8BkZVsFfo6XSZiS6S4NCMLEAWFpR0enTFWGTeVnYoEYeKHZZpvNr0P5q6ZF2apY1sWPP85whDiX0iQUdd58cq3DqpoubYMfFrn8wGGdddZJTGQMCDCl/OrIVqXuzISo/lDnz6Qj3lax+KUuoGo+YAba5Lcufrm1jYNyQrQRBk+TrDiDIHfF1+ZK2WEMTaLt3k2iP9H5j4qXdgmzAcPAQkn9qk068tMGy7b1Qh9Wv4P5pS/Ytpq3HdKDccMdoo/ClPKzbdFkW5furj/OdoNg/nSeW7WO5VfXuvf5Att2adLGxvzAZJhEzxcZ5M8k3oqivFbj6oYTCxsOMeaTaSzE6pgSmDOIMjWdxADDCdPI4pAFZhPRb2Wpb9In90aaLGwhGEAYLdpwGzKpsGNCXE8++aQzt/nim3hgfvl1o05zCWODSbRKK1zbKfG2C/MLMSbC/LIQYjyCEB5AWPubBMvv+TPJm/+45xBqGF+1FTHVdYyzSbQIUjs++IsOf9V20WYOqYsuj0fzaVOf0Hvqlx/zBYIM+ggCpl7nFY2LMI62u1OXvYnc2s4T1YDV9tcWr7b+qumNlOd2va5FbvOGUue923vC0OEgNSR/6NMfTBydD6aR1SAMkzpuNYmmvFbdq8/VRmTbix41jNTjjz/uA3gvg53yBXNi2yl6HPSVAYUBlAFKkzOR8fUZmHXemUpB7VEBGqBYBTIZaVDPM8PxKBCfuWNwJS4kB/nklvvXPZNSL0wBfhlQTI/Qo/jiF7/o0kJJfhRv3TWXjNe979WN1TGElAkMmXhgKGwL2t2RHiI5pIyqQw3+7qHmD39Io6gvpNb9IvLaC85Kl7qEbOvLJWVIAJEyIJnuRHX1attyCQYHxoZ2zUHcVVJ69Fcdlot0qJtkvi69Nli2rZc8n3wxB6k3E53GEXChLeZUhzftRFLDJgYrj6PtPf2XyZY8wQzDGNk2b0cGTXF3w4n6sm1iHyO22mqrsi0rPFfhyO5KN6Lu6TNtCAk3i3wkabQJiN0B010sF1TCU/HRzhS/6fw5s4qQgjYCw8pXUWBgRfQ16g4JOP4hdldgYKrU61yCVErCBaSyjEFIOG3bvIxawhIt0PWCMY1yMB6QX3Yv9GOBWrd4llvdeMgYoDFLaehKHlR2uVWvTXNI7q9bPHV9Ig+vfKv+ep1XNA9X5+c8jU444K9f80QbvEivrT/8jgTqG+M42MKowxCeTsOkQYVLupe/x48GJ+57IbaQkGAwGJhOhgdl1SpSI9VzP658D5kVD1sRTIBsM3AmVK+EBAHpp+k99Rq09M+kwkqOzwlCrHhybLW90a3DICliIIeqAxDbciJW2qyYO0nW8MvZmDBSYrQUvtMVxhSpJ+cIQjBqbEN//vOf73jCP5NfHcPbKa2mdsHgRv2yDSkyPST/VBfbS5K6IkFgsuiVQWDSR1KFxApiwmtDTfkl7BNPPOGSb7X/pviqcYAZCy2k56aw7oyJ6bQ1BXf3pnrVViNb8U0MdJ4eEmKwYCei00TQlB6ZGSyWnQpIvcDEsL223377uVckKjmBc/41Dt6xkECCwpZclaq4V993e2YL3AzVPE8wF1ATxnVxdcMJ5h3JKepHKnNdPG3c2E4nPtPZ6+qdHQMWrGCNaghU7ccsJFlYaIHL9ijx5wwk/RCmCsEB28o5me62L4SYI1AxgBHls3BVRo4w3eaSfFyESWJsIy9s42+44YbOtKpfEx/1zngMY0vapseNsxOSRZg5+h8S3XwcYGwhziqhbgVJtSN/z+KGhUVVCo10jnaZz4l5OO67zSH46RZPXZ8gnIgFGdvwOfU6r+QqD3k8+X0TDvgZzDyRx637Nnjht60/xTsSrn1jHNWg1Wm0AtTqQR1a/lR4ifBZTTHxmrGBv5ppppn8ihvvJJpnC5XOqIOb6ZRMGt0GXbbZpOuGtISBVXEwYBIPg65ZbJcMlcqgvCrvKqNWsnovRkz+0IEjrzBRpEe4fKBEYsEh3k0MoVaO0svRVhCTD2mgc8XnwfjBSJnSt0+Syk9+ZaLSNhqTPuVFGgGx+keaADGxI5FUWsqDv7Q/JBqkxwBnCuXurMkJPCU15jNNbYhJCKkaCwYY2zZEm2Lw0yICKR9bYAzoMMBNEk5NpnVpoKcpPJDWCFdtbVcnKpgGBmZtQZIfMVcwsbQlJBjgBNPTqxSdNq88MNHRxiFtlfaaXyYFtpnZ6jPjI4+rlziQ+DDYUl+0pSaMPWL7a6pX2h3EdqHKh64jlDNeSo+FCpNNt7bRlB7xdsMSP22IPDMp5fHRTySVqvYVsIZZmTBhQrndhm4jOnYwTow7kkS1Sb/OD1vMENv/whNdS6SgHHrfC+XlqmtzxIX0h/EDtZbBkNRGwIbxUtvQ1bjoW+zSQHyuTWWjniH1R3R1IXCgzEjmIOqE+mD+oF2BNYsVM8zzvkR7kpoU/tE7pN/in/EPHTsW60g1q9RpLsEvcxRYQnfddZdf2ZrWfMLYwdiP5B1i3GH8ZRFKOOYnhAzsTrFjQ1nZveEdcwnjOPqPzJ0abz2i//3xrWmIfOaEXxhm5iUWpTkRpxkzlvNvtS3jt9Mcori6xVPXJxSWLXvmFC0uxQP0Oq+oDcCs11EnHPDfaZ6oi6/JrQ1ehG3rrymdyeJuDNeQySZatxazArhFlHVit1DjGetp3mMpxbNNrn5kgjWg8tkUuP1oAixUjcH0/GA9a5y/+7FO78e6EB434jOmrbSEJa5uZAOUx4XlHkey2GDu1rmE4xgA4raVjVvcKV2utuL0qKtltMHZLcQIR755r3BYFXK+GRbIvK/+SA8yZsDfGWPhz3V/spw0xqQ8Xwur1GqcPOPHJF0DosESjXdYSUPklWfKagO3u1HGanxgjqWv6gNrxKofnsHROqrHw58wyK04Oa4Hv/mxQgpA2XlHeljvNpExh+7PBk+3wrVtGn+2QaA8i80GfI9H+CouY7zdr00Kciqxl1sdBiovaWHJnZMtAtw6Gj+0cWNi/bUN1m55TJocs0R+RTp2Ird2pJ0TB5b8ItqP0s6vWLMqnV7zy/EgYEx8HEUC9RKHLGlNh07Z9Cvx2UQ3wI2HpnrlCJK8TLqnHdmEUcaj9DiNIade02uDZdt6MSlbbd7JE2NYlYx5cczBHfwhYxrKcUN9UuFs4ePx03bqCOtP0tJRT/hhPBOG+ZWxwBjuumjcLe9POLTBSZExJihdM9aTc/k5tdLBbuhf5AvrZxHnWeJG3+XAaIjxiLYhMslibbkIx/iHdTFE/+H0BtxN0u9jGm1U8dMfIdojmOBuzI270W551jhojJiP2bQH+gaWzXXUaS5R2uCjo4fysmvsJi+aH8g35bEFfHk8F/niCCiNrYw3OlmBd2BlC5m67Hk8xF8dBznOR2OALQwGhLXdhPIEivzcYDy1mUMUWad48FPXJxSWqy2ovE7gE/Ixt5d5hbbNyRVN1IRDm3miGqfGuXzuaotXW3/VNEfC8xRkwhriJCdWPBtttJGvqJDcsaWZSxzIEFljlY/RARIbVtX5KpEVK2J9Sbw6FYLVDPGxkkViVZVgsBqUIU+neHp5hyQMPRSMHIiftJFEIW3gCiEhy8tUFz8rTbY62+gO1YWvuiFpQq+xVylYNZ5+PWPBx1ZNL9IX6p6VJVKVfAsTKaR0XPqVv07xgGXd6rxTmMn1jr5C27fJY5JkYTD1OpSMTer02uRVOy5538WNuphU9dAmn5PaD/0GSRL9HkLtAzdJGXvNDzs5zB/q+2xRM8ZJ5Yn4epkvOqXfaS5BaohUnS11tr0Z26vjGvMAUkTyytxXnffYSQIXSVPzvBAWSSIGY8Iuf697tvaRSsoIS+6dxgDKxQ5Zm/Gs0xzSLZ66PqH8cWW+o+7ycT1/3+meMYB+ZUeuNRopEr4TDp3iH+y7Tnjlcbb1l4eZHPeTjXG0s81c/E4nkBXU5ABguNI0CaQzjGyf5Nu2bLnYinWA9dxw5SHiDQQCgUBgNCAwVMZxpJQRHUZOWOA3uWmttdby7Xms4ccLmRTPBTRsxwcNHwL/Xe4NX/y1MaNTZ1sB/g69KXQrOq2eaiPJHFltSicvcx5wi9HHpGRQ0XdDbw/FXts2cCMHdBPRpZGO2YAMxkMgEAgEAoHAqEUAI0h0rdFfZEcJqeDkpDPOOMON2dit0rnJkzM/w502ElYksuixBg0vApNF4ogBioxiKB5MXTfr204wsGWJ0nkn4kByHbTbyV+/37FdQXnZloCZ1EHO/U4n4gsEAoFAYLQiII2pwWxPjpQyY5SEUESEKtZIUAfCaFAGM8rbWLyiItDtiLCxWO7JUabJwjhOjoJGmoHAcCDAWZIc5aEjIIYjjYgzEAgEAoFAIBAYKQj07TiekVKgyEcgMCkRwBgHiXdQIBAIBAKBQCAwHhAIxnE81HKUcdgQ4EwwOypi2OKPiAOBQCAQCAQCgZGEQGxVj6TaiLyMOgQ4WoLD7euOhOJoBfSeYCzRbcWvjuLQQd6jrsCR4UAgEAgEAoFxjcCokDjyYfjBnu81rms3Ct93BGAG+UrP+eef71/u4du2+gJRNTGs/Dh2CsV0PsXF93H5gou+bVz1H8+BQCAQCAQCgcBIR2BUMI58g1ifZxrpgEb+xi4CMH4c1ss5nHwmbKGFFkqXX355Y4FhKPUNcD4hdtJJJ/knv+yrEo1h4kUgEAgEAoFAIDCSERgVjONIBjDyNj4Q4Pgo+1SlfxuWb47zJaBuB+va59jS6quv7gDtsMMOaa655nIL7NF85Mj4qO0oZSAQCAQCgUATApPlAPCmzDS577bbbi7daXof7oHAcCPA4b577LGHf+KQA905VJevHnHYrH1TtTZ5Pt9FOD4xucwyy6Tll1++1l84BgKBQCAQCAQCowWBEWkcw3ckORePL73UGR0ALseg8D3STl+Dwc9LL73k3wqdfvrpG+tEnz1skgTxPVG2HfPvnhIZh9bq25iNkVde1H2btOLFv19al578oWeHcQXMSx3BsDThlvvnizsYbPC95yaiLsCx+r3VJv9j1f2NN97wrxvlbQBseK5rN7QLvrcKdfoOOt/PhbmcaaaZauMRntR50zdkaYccNE+bqX73VuGRkvIN2abvI5MPDitWWXgeyteclG5cA4FAIBAIBMYWAiNqq5qT3z/zmc+kaaaZJs0yyyw+Ea6zzjrptttuK1Hnc05bbbWVMzszzDBD4hunhx9+uH/AXp5gBDfffHOfCDFGgLkkXgwVRFjC7rvvvmmeeebxj8kzce+4447+uSj5Oe2009L//d//+QfpiYMP2MuwgcmazwdON910/uUbmDUR38lkAn7hhRfk5J8ZxLKWj9svuuii/jH5Aw44wP1JYtUpPSI677zzPD8wB2CEYUb+Efubb77Z8wIDQbn45NSTTz7paRx66KGeFxgatk35HBZl4os93J944ollXnXDFwfAGCb12GOPlfO4u6KfCCPO0TuXXnqpl/+ee+7xOsDw5ZZbbikxgUnccsstnUHbbLPN0jbbbOMM38orrzzgqxI/+MEPXAIJ40kdwBTyWTCYyCrRlqnzJZZYYoB0k7QUP3lT27rrrrvKKOg7bJdTh7RV8qEy4OnFF1/0NkM+yANfcUI6Sr8ZCd/bLQsSN4FAIBAIBAIjAwFjgIZMZixQ2Cf9io033rgwY4HCPq1XzD333IV9j7qM2wwLCpvcCpNylW75jUm+ijnmmKOwbcDinHPOKZ555pnCPiPocRlShX0DtMCPff+5WHHFFYvrrruuMAOFYtttty14b8xaGd2mm27qbvbB88J00wqb2IvVVlvN3YgbMkbK83Pqqae6nxNOOKEwaYzHz/srr7zS/R9xxBGe9oUXXuj5w49JfzwM6VJGrpRbZAyhuz377LPuJD/4MyMfx4b47asj7u+5557rmp59ttD9HnzwwcXDDz9cXHHFFSU2JlUtTCLm2JEGWG+//fbuX+XYf//9C5McevnAkPySrjHiXm+EM4ZCRfDrgQce6O/2228/j8ukVgPe82DHyxTgTN3ad8eLDTbYwHEk/W5Endp3youVVlqpWG655YpDDjmkOO644wrKCt6LL764P9O2iN+YnOLaa68t1l133cI+LeXvzeLekzEGuTCdQsfgkUceKewIHM8HeIGNMXH+TFrG5HsYk6oV++yzj6dPfLTbOiIseSNd/Niiw3G075A7LlxFlB8sbVvb80f5dt55Z3fbfffd3dvVV1/tz9QJmNlCp7BvrXv+yAf1JCLvxGdMnF/BGqJd019WWWUVb4MmyS7uv/9+zx9t1CSQhRnmlHVhjG5hTKTjTHx33nmnx0OZ8H/NNdd4PGeffXaxyy67FMccc0xhEkr3E3+BQCAQCAQCgYAQYLt1yGSSMJ98mIC23nrrQs8weCImXt4zSdaRWZyWE+O5557rDIVJEotLLrnE3U0iVth3QAuYmNdff72MwrYL/T2MB6QJlrTvvvtun1hNKlPYcSjub4011nB/MCaaPN3B/tZee233A2Nokrzioosu0iu/wmxq0mVyX3bZZf0ZN/InEuMI8wuRFn5gbmGMwYF3OePYLT2YApOYenz6O+WUUzxemGjKShowI8Rv0kd/hhGTO+HwR7lPPvnkAgYLgnnEDwxSTmBJfnnHr67uTErs4XgP00PdiXGHKepEZl1c7LXXXu4FRoU4aD/f+973CjvKxp8py9577+1x33vvve521VVXOfMGwwYTDMEUTZgwwd9Tx2ACk0icMG9gp/pjkQDdeOONhdqDSYcdN39R+bv++uv9HXGRH9oF9zCyYMY9ixraJ/cwrbQhGHjTgSxg6sARRg+CcYVRhFGnfRMOUlwwfDmBCfHyg6mDaG88w1DDPMIoQupHxEsbyxdUvKfuCQcW5FnxcoUphsmFKQ0KBAKBQCAQCATqEOgL40jETOJM1CIkL0xqOXWSYEhChkSJSQyGgqsYRxiiJmJCltQHKSXhmECResIYwNAcf/zxPnnDrDSR0oSJqCMxDEz6IiQ1Sk9uYhwlcYSJgOGAyYEhgvGBWcgZR4XNr3Xp5e9haIQR8VFe0kFCJ8nX7bff7n6EH0wMfiSRe/DBBz1K4iEcBFMpyTCMuRiaOsYR/zBphEeqBT3xxBP+fMEFF/hz3R9SU8IgOYXE8FNvkG2p+3szLPFn/p5//nlnvoQrDBUMmYgyEqckoyp7Lg2m7DBHEMwT4UkbYnHTRODLQoHw4CzpoZg6mDAYLtIn/i222MLbJP5JB+aOexFp4RdmF2k4BKOJG/lhoUD9ipDO8k6MI+4w6biRF9KHYKBx410dmVqEv0ciCiF1pY6RPtOW6SvkUxjXxRFugUAgEAgEAuMXgb5ZVaNYnyvvzzrrrMkYJpvD/j91UrZHpwoypsWvHPoNzTbbbH5t+ydDD5NaJWNg3EDBJGrJJvuuUcgwoMnjlFNOrBLayehG8aBbZtKyNN988yXbtk7GrAzQTZS/6rUuvdxP/h4dPGPGXEcT3UT02kxSl2acccY8iJ8raBJb1w1Fnw4jpJww+DBJYbIt0WQMoetKdiujDEYoJ4TOHmTMll+NoUsYl4iMqSoNe9BrNcbJ9fN4b0yLe1PZZp99dgVzHcOnnnoqoR+43XbbpQceeGBAvMoH+p+Q2kJuKDTzzDO7QRPvTRLpltILLrhgMmYv2cIB51oiDvIGdvzQLaySyo3OKjqz4GaM2IA8Kgw6krSDT3/608kYRHfO2x94cdwPRwDZdrr7VVhdbQHjt+DbZCglv7rmaeBGv+UHLvyoM/SKjXl1PWOFi2sgEAgEAoFAIAACE3NCg8SFyScnTfy5W6f7T37yk/4ahs8kc8m2O924pBvTUo2TQ5kh4oFgCExnrutRKFiRYvHcC9m2uU/8hDGpTzJpkFu3Kg5bj+i2NMwxaaMzaxivDJX4fF1OMOacFWhSsGRS2LTnnnvmr/0eC2kIfMAYo6GcYEBsWzetuuqqyaS4zpzl79vcV5kTkxp7nMTLD4aVfJqEOplU0r8KhDuMlEmIPYlqHDhi0ATDBlOLIRFGIzlVw1Sfc7/cL7zwwsm2bpNt0SbbKnfjEyzNuxHtk4VRlWAueWeSTmdCYeSJH2OuKlEPr7zySjLJXjKVg+pr/0whi42jjjrKw6veco9yE6OcvxvsPdbXUN52BxtXhAsEAoFAIBAYewj0jXEcKjQwKSLTV0y21VpKruTe5srkzbeBISbx9ddfPyFR6kR8Dg6Jp21nd/I24B3HnyDpgVmEPvvZzyasmmFGkCZBOeNy3333uZttWfp1KH+2LelMjulkThQNEiMYEqxjOzEUSLJgdmH4YZpzIt98Lo84+JmuXP6653sYKCSb+pnRi8cBg4tFNxbbMG+k0ynPpobgXxDCuhwmc6hEfFi6IwUGCyTUMPbdqFMdLm2W9uCPFBHJo23/NrZjJJhmrOVthjRzqSzP8847bzI9zGQGXIlFynASbYoTCjg5ICgQCAQCgUAgEGhCoG+MI1KkfOLjzDi29EQcacJxN7jXEUfImE6kv1psscXqvLR2gwmBllxyyVZhzPLYty2RTkL5lntTBEy0kM7q43Bn00tzJkDSTo5AgTjyxPQD/R4cbrjhhsQ2I0wBpO1Zf2jxx5FAMCVI8qB8OxrpKsRRQBwTc/HFF/tzVXLLJ/PIBz/TwXM/+ZYuEuPTTz/dt0Dz41vcY+WPY2EgYYJkEMrbgztkf6gxwIAhdWRrFAme6dmVki4xs7kUWKoPMOFsp5t+pLcxMIVZU3pKX21N+SJ54pU/Mw5yaR/MKgd5QzkG7lDzx8KmiWCEoQ033NCZ0U5MJv1DdWCW1sl0Wj2s2g0PSOI5KskMevzdcP3RdpFgq032gzEfrrxGvIFAIBAIBAKTEYF+qHdiuWlFcKV6jpvBGAHDGNwwFOD4EiybeW4yPCEfGGzgRwYbuJlOm7thcNJEuXEMfjhihXhkPatwNhm6MYKedcW6WPntZCAhQx0ZLSgd0sKYAeJoHOKStS5uWM/ip/ozhrHgyJsmqqYnfxh/cFQN8Rlj4vjqXTUNnjG+wLAEMqZronzgBwxl3KK4uGJ5rDhlMJO/BzsMk/Bj29tutSvDHKx0dVxOHoZ7jF9IU3HrShiMTDgmBjfqTMcEmcTSDVNwp62AHfccyWQMWBkfzxyBJKtq/FI2DELwD+5YusuYhrSwBOdqjGU1q+WzjnQyxrN0U7s25tTdZEGPAY2MdHgBNqQrot7IS/WHsY1tQcubX+k/GHXhlyOHRMJIz1xlHNNkmET/Ix4Ms3IirzolgLxW85D7jftAIBAIBAKB8YvAJPtyDEYXSIUkVbTJa0QR0ikO8W4jbcwzjjSRg7Rz4wR0z3rV8czjbHuPhIi0RyOZlbBv8xuj5bgjtQRLjKM4pBpVhTqyrprQQ1S5+XoQB18PhtjWR9qIpBPDHg47H++EVLfXPjDeMYvyBwKBQCAwnhCYZIzjeAI1ytodAbb2YfjOOuss/6oJIWDkYBhhHvPt9+6xhY9AIBAIBAKBQCAQmBQI9E3HcVJkNtIYOwigJ4iOJjqFGGXwOT0swdENDKZx7NRzlCQQCAQCgUBgbCEQEsexVZ+jqjSoB2CUgZEK53ViFKWzIEdVQSKzgUAgEAgEAoHAOEEgGMdxUtFRzEAgEAgEAoFAIBAIBIaKQGxVDxXBCB8IBAKBQCAQCAQCgcA4QSAYx3FS0VHMQCAQCAQCgUAgEAgEhopAMI5DRTDCBwKBQCAQCAQCgUAgME4QCMZxnFR0FDMQCAQCgUAgEAgEAoGhIhCM41ARjPCBQCAQCAQCgUAgEAiMEwSCcRwnFR3FDAQCgUAgEAgEAoFAYKgIBOM4VAQjfCAQCAQCgUAgEAgEAuMEgWAcx0lFRzEDgUAgEAgEAoFAIBAYKgLBOA4VwQgfCAQCgUAgEAgEAoHAOEEgGMdxUtFRzEAgEAgEAoFAIBAIBIaKQDCOQ0UwwgcCgUAgEAgEAoFAIDBOEAjGcZxUdBQzEAgEAoFAIBAIBAKBoSIQjONQEYzwgUAgEAgEAoFAIBAIjBMEgnEcJxUdxQwEAoFAIBAIBAKBQGCoCATjOFQEI3wgEAgEAoFAIBAIBALjBIFgHMdJRUcxA4FAIBAIBAKBQCAQGCoCwTgOFcEIHwgEAoFAIBAIBAKBwDhBIBjHcVLRUcxAIBAIBAKBQCAQCASGikAwjkNFMMIHAoFAIBAIBAKBQCAwThAIxnGcVHQUMxAIBAKBQCAQCAQCgaEiEIxjA4J/+MMf0re+9a305JNPpv/85z/p/vvvT3/+858bfIdzIBAIBAKBQCAQCAQCYx+BMcU4/utf/0q//e1vE9eh0llnnZWOO+64tNJKK6Xbb789LbbYYunpp58earSTNPxrr72WpphiinTqqadO0nQjsUAgEBj9CHz/+9/38ePhhx8e/YWJEtQiEHVcC0s4dkFgTDGOP/zhD9N73/vedN9993UpdvfXK6+8cnrXu96VnnjiibT55pun/fffP33sYx/rHnAE+vj73/8+AnMVWQoEAoGRjAA7LdA//vGPkZzNyNsQEIg6HgJ44zjomGIc+1mPH/rQh9Jb3/rWtP7666dTTjkl7bPPPv2MfpLENdVUU6WPf/zjaYYZZpgk6UUigUAgMHYQePe7350WWWSR9La3vW3sFCpKMgCBwdbxM888k4qiGBBXmweEO9Abb7yRuB/M7uC9996b/va3v3k8P/rRj9Lrr7/u9/E36RCYwiq/99pvyB9R3XrrrenZZ59Nq622mkvs8Eoln3feeWn++edPiy++eEPods5XX321b71ecMEFabrpphsQCD3Eww8/PB188MHpwx/+cNkoYaAGQ6y0//3vfzsD2Sk8jR+/b3nLW9KUUw6eF3/00UfTd77znbTqqqumCRMmpN/85jeuY7nwwgund7zjHZ2yUPuO1STYTz311GmwGNRGPE4dGaAY8N70pjd5PTPoBvUfgRdffNHx/etf/+o7CG9/+9v7n0jE2BWBfo1rXRMapAfUkhjb0D1ndygY3N6BHEwdP//88+mzn/1suuiiixJzU1v69a9/nWaeeeZ0+umnu/3Az3/+87TccsulG264oW0U7m/OOedMK6ywgs/NzJfMjeTpne98Z2M8N998c3r11VfTl770pfTmN785vfLKKz7GhFClEbLOL2Ac+0V33nln8b73va8wvcBi4403LqO97rrrYE4LYx5Lt15vXn755eLcc88tTBJYWGMrjKEro/jnP//pbqRhksHSHb+f+tSnyuduNzYAFeT17LPPLp577rliyy239HwTf0629VvccccdhekOFo888khxwgknuL+f/exnubee741hLIzh9riskxVrrrmm37/wwgut4jJGsfjFL35RWGcqqIuf/OQnHp78dSLrVMUcc8xRWGcsjDnq5HXcvQPThx56qDj++OMdH9qUSaGLnXbaqW9YUL833XRTQbsar2RMYkE7NJWQYu655/bxg7Hk0ksvHa+QTPJyD9e41s+C2AK9MClTcdhhh/mYtcUWWxTGOBRXXHFFP5MZs3ENto6POuoon3uZY8F7MOMfaW+33XY+J5lgpNhggw38/o9//GNPeMMHKB8mKPJ75u0mYi4lzwsssECxzTbbFLbg8DDMtyOFRtscMHjxmNVclVgBsvJD2vfLX/4yoVTNNu/nP/9597rWWmtVg7R6tskjzTjjjGnbbbd1aaM1kgGSPXQajWnz3wEHHOBSoW9+85uJFY4xf63SOOOMMxKSDeJ+/PHHXeLHagayxlXGgWicVcqJJ56YrLLTRhttlKwzlO+HcrPkkkumK6+80qMw5jVdcskl6eijj04f+MAHukb70ksvpXnnnTdtvfXWiXvKzzZ1G8LvpptumoxB7nn11yb+0eoHCeNSSy2V1l13XV/dLrjggt6mkJ73k6699lpfwWPMNB6JcYL+/e1vfzu9//3v976HcRpSgaBJg8Bwjmv9KgE7MqgQHXnkkT5Wm1DA54PYqmyH8GDrGInuV7/6VZ9T2HFhfmS3xRjBtMsuuyQTTLTKANLhXXfd1f3uu+++vpvAA/NOG1JaqI/RDr72ta/5nNctDgxEIeZFpJxHHHGEP7MzOVJotM0BfWUcMSjZZJNN0i233OIVtPrqqyestqDddttt0Nul99xzj2/fMkAwWFS3Xeebbz4fSJjYISYhGijM3YYbbuhunf5oUJtttpmLvNne/f3vf5++8IUvTBSEbWtE3eQD5pFwyy677ET+Buuw1VZbpRVXXNGD77nnnonOZSu7VtF9/etfd0Oe2Wef3ZkbmHeTIrYKi9h/r732SiahbM1stop4lHs65phjkkluva7vuuuuZFLvvtb3KIenMfsstJik2pJJAbxPoe7x3e9+1xd+TAz9JlRo2CYTsb11zjnn+HFbcuvlOtTwvaQ1GL8//vGPW5VtsOMa5Z+UJzYwPrKYmGaaafykC3TQh6OdDAbrkR5msHVMuaR+ZVJdnydtV8vnJo6qO+200xJMT1uaZZZZvH+jitUr5Wk99dRTiTmyDSF4QYWOtsN4fvLJJ6fLLrssffSjH20TPPzUIDA45b+aiHCigcHA8MsJjl9cf+7e9p6VBmcqIoFDn6FK6DY8+OCDzrAiBbQtLmcwkV60IXSqdt999zTTTDP5D13F3/3ud+mQQw5JNFARbqx2iBe/6FjCZLKCsa3tNO2008rroK6s4JZYYglndpdeemlPp21EdEhWUOQLphbmlnxSttlmm61jNDvuuKPrmhB2+umn7+h3PL2E+T722GN9IcJiBN3GP/3pT35EUz91Y1jw0GcGo8tnW9xe77fddpsbMiB9r+trjz32WGKBBSGV3m+//bxc/a5PFlNI+XuRwrMYY8FJ+3vPe97jzA67E0iY2kjb25QBCeYOO+zgXlkkQuhosaBl8TcYBmSo4T0Tw/hHO1h77bV916JT+QYzrp1//vlJDL9tFw9jKf5/1Cyq11lnHW+3nJ6Bfh46crQT+mdQMwKDqWPFhu4oevfMTwgmEDRgNGUqJfLS05X5daiE9LIXYhHFuAezuN5667nEtJfww+13KHPAcOetNv5+7fH/5S9/Kaq6gIrbEi6MMdNjeUXnwUTf5XP1xibpAv0EGyCqr/wZPcdqePQf0HtAJxL9NOLoRuSb/HejocZnzFyBjo6obXzyT1nrytMUjxnGKOhEV7BHj7NTuYnXVmkThcWBcHlZaj1ljqaY7PWROU10a0xHY3oTeW7pQNsx5rlAh4TyDIZoZ4S3wbc2eK9YEAl6NsTZiewQ+lYYm1qI6+zQz9CVrCN0e3hv6gt1r/vihp4i8dvqvoyPNktbq5ItuKpOXj/5GJLfyzNYm6SrcayRv7qr7UK4rpPekS9jqPXY9WpqN4UtJEt/vYYvA07CG7NALWySLzqNBXXjH22+W//eY489vE1NwuJ4Um3GLjwOpa1M6jINd3qDrWPli/FK/Zh7zcnoDqIbL+plLDSBkLcf4supSeexmhZhzFjW4+BaR+STcbZuvMn9MzdDTXOp/DbNh3X4KkzTtZ9zQFMaw+WO/t6QybaXvPJQZjcRsMeHcczee+/t93WMI0YcNATe2ZbggDzY9rYPdrzjhz8amQY/mCeUbEmP9xjj0NhMdF76Z9LFMIb3tlIdwCCZhNDdbaVa2PZVmQ+T+gzIB+FIA6JBmb6bh6Oj0EFEhx56qLvD5ML8KF+5AjEGN+SFd5SdgblN/kiDiVhGMyqvSV+VfGFif49b5SSvMqzBwCefADDgMQmL+ycufiaV8DQUIdjl+H7kIx/xusQdsq2Jsix5PuikxGd6n+6PZ4yVMHbAnbKb1Kf41a9+5e/5o8OZXmqpeI0/k44Ud999d+mHCRt3jH0g8sazyiUF6XxSpz3IH34VL3Ulog4xHDK90nIgtGMmnKnDD8yuSac8rOIAO9OHVRStsSAAeJhUuGxvxAk2Bx10kLdfRYrRldoabZ++BAPQRAyKanO0gSqxiAJT0qOvDBeZ9M7zrfhNZcXTpAws6ERiYsXQMCFRVxoP7OSFsr3bVrL3PcYImFLVA34JozFBcXe6muqHp9HJT9M7jVe9MJpNcU1qd3CqW7iTDyZVtR35YUKjXYJxJ8M6+i31MamozdjF2NePtjKpyjQp0umljhnPqVM7KqfMGvMdboxJGJDmRBsR49h2XlD4OsaxbVqKo4lxtBNJfB7SeMGVsfvCCy9UUL/CA2Bsy3vmKs2N4l3wxIL4G9/4RjmPMZaazme58Gfer/YhJUJ56Eui4ZoDFP+kuval15vxQMGEDHPDoI+UgYrAUhfiXoOSCnbggQf6hGhbZv5eEwDPNEYsg+HukRaJMRBjx+RLnEwkN954o98TBjcqFQaDBsGzLIthDkRM1LwzpXy3jKbhmGK+u8H4iWhExAtJqvPTn/7U/V1++eXy5owP8cGE0jDJFxbkuD399NPuD4su060owArL0bb5g8kiD9tvv31hup6FbUmWDR3LaeLPy4l14TXXXONu1AXvYMQhJmjqhEbOhAyTBKMPY4g/TYownZSBQYRB58wzz/T3MKEQZbBtfL8SVgQTSDwwohBtgvqAEQI/JiHKAsMAwYiCMWkx6FDX+IP5IR6whk466SR/pvwQ+eC9GEfywjNhRTDTdFjKAEZIV2Hk8We6Mu4NS2m12euvv96ZWJh5MV9mMOT+TRnf44YREgMPflBbLPBLGNKHGaVdmnqFD0i4kRZEO+WZxQ31QXuizsCtaSUO40i+YTAJW7Xup71jhUocOeNIOPrlKqus4vUEg0Ed0hfVjhmYyRthwYX2UEdm2ONp5wOzbQ0VMJNcaQcQTInySDtkUURfx432YcrrBX3LdG79B9MrSaHpJ/opBrQT/BKGPDcRZWHMoL2Rd/oD5YAY7JkoeJa0AXcktmBJu8bqk/xwggJp8SMu8GgKb7qdvmgjLeJhfIKQVtOOwMG2zTxu0qZfi5rqg7BmwOZhaR/kgQmJfspkzvgFjpDGB9qliDKR97x/6B0MfXX8Y1Kkbmh3hCNfdcQYznuIiZq2Rb+jvhhrNEnSvykr7R6s6Wv4I+/0ZZg9flhI41YnNW87dg2mrYCdqUt4/6HtUfeMHRp/6sqOG3lmjCPP1LUZbxb2tTE/gYHxfeedd3YMEaxQ78xbTXVMW2WsIh7GJfosmPFMvdGOmEOoFwlnyIMdS+djEu/41eW5lzomPuqUdgQh3eeZMYVrvgDkPXkU49jLWEjYKuPYS1qEh5oYR80hZufguwS0OTGlzDUQggPNh4wT4Eef1xgvf9Qj7QHhD3VBXwQLlZv5kT7EvII745OIdq6xD7fhmAPajC3KT7+ufWEc6Rg0IECjIjCN556fGlyVccSdTiB/ElcrHgYbrXYZgHAX587ASaOjU9GQ6egaSIkPJgGJHpWm+GHaRDnjCLNHxcofkgVRzjgySGg1gl8apEgrbxgxmF0NuPhDcsZgyeCiNGD42uaPOJn0cyI8cTFokS8areJm0AEn8EYChzuMKiQGjAkM3MAMplyrTMpEvmBa6MQ5USZ1ADqU6omrqMo4wkSQ15xgKskTTBCDE/fEQV406NknHt0dXCHluxfG0c70dMaLTk3dI40W08LAADHI085ohzC3TMTkhTahdssARB3CXCEpE8O/xhpreBxtsYAZIx3it68ROfNBHBznRH3hTl2y0jfdOY9bf9QzOFWx1HsmI/oCjCj+YCBFrJapN8pOGjnjyIAoxl99livthvZDXISFkSB+npuOsKA98d50LJV0AaNNmrjz+3/s3Qu8fVtVEP5FPsoijdJQKB4pIQVJihDPK2E3BCRCUTPw3gAju7wVSEUulKBABILPfFxEQSAlKRAzDaFCNIGyxFDpolZq75elPdz/8R3esf7zrN9ae699zj6/c87vN8fns/d6zeeYY44x5phzzAlqIOQZPpS9mLx36AzzfvstipA4aNGzNnJFo0DZiibzxeRPe0lb/1P/wr9g2lRd5FnLP6pfEQ5oWXgKIDD4ElZ7aae5+BR9cWzfBPQ7cdAzBbSs1wQUfNXAhCIJltpD3BosictqjxdRquFX2xQomzKg4YKbbxlczm1tZCAAh8rpV4NOdFBtCudz0CqOcKbt2rC+UwYN8OBL+sWHy2DQKoks+dpsDooHbONd4h2HVgzy4dHPIKee0c42UFd1wsv0b/HhwNY1FJXqMxQqPMdAZamN9YPYQSPT036xtnqDd0m/FBpKEtknH+1s4C0sWvXzrXhoW+592niqOEoH71MOP/KiBWUpBWotL6z4U8XR+7V5VRpziiPcKys+Qrbpw+iNTPC+Bpu2//LsG/rVXyl/+rH3BgLAwBZvbaFkLto2iGz7ENlR0CqOpyUD1vCWKs+hrgdRHBWGCRsj1nEwSALKfTHPUhwxDp0EQHox01IcdYASCG0naBsAE0GwfoSJRiZc5xhdMcJiWPJtFUfP8ixBuaQ4CgcqPWUoKMWxmDXBhsEpl5GissNFMRJEWlDpbStfha0rQpW2NUYFJdgoQr5RYCnQ7ktxZN3wrIO7suq4luJY4SrN9toq0d4brVGGtUEBPEqvLI71vr1WnmW5Kosw5lp0oezSKWsMhdbzPoqjPEtZpxyJb7pXedUFaCdpo1WM4MYbbxytdUb14mhnih0lDwOnmGPW0i5YgwujUOlRTglHZSqBUpZCVpU5oEiKW5bjaRh4K+WhGFop/oRP4VHdW8UR/VS/LFqpafhinrWMhKDCgJWDdWkK1c+l0wLFtUbw6B7uqi+X0mdgqC0oQhRnuJYPoVCgXvqQttAGoIRMhWmvlHNpsBYWULhaetXnhCnFEV3UoEIc1oFablLCCF4KpvEJKuUsoLC29FbKedFxlZGwBtvao/KXRgs1qKAcAspvWwfvKDbqSUDOgX5LqREG/6CAAAM/796+Q3FUD/Tc8mtCUlx9Cn8pHlP9Bs7hhqJWQAGZCuj6tg/v2pdW5KHebd/QlkWfVYbpFZ+rgZdv6FadamBTvM6Sl4Jtbaz/w5k2LdBX5KH/gVq2g0fWQAdugf7S0me+vOVvbRvPKY6SqLy2KY7CreGFwoE5xdH7tXkJO6c4lsJdNMcQoi1L7uHBoMKx4vteA9jKv8Jl4MkfHq6tine0OgRFrqB4nefTlAG7eEuV51DXg23Hw6PYz55P0WDpzcd76Q1veEPg97cgFMWBd9O97nWv3AvKDu5TL14u/qEYpQfU0q700WhDdJD0pgsFLb2ovZtu0yNX3ne7QDzenGtgWt65OLzLK70QzIMTbcLqkB7ZwoeAHKOtKd8Y+JabOa/Z8ioMRSy9WufSvf3tb58phMDLa22ZssvrWmAexS3wtDuOF/C07DHqy2R5t9ZJLBVmem3z33UfnXcIpWEIRp37icagYnjIQx5y5Hgq7WRv0GAouX9lCNYhlMNMujzy3/rWt+Y2R2GFG0I4z3oSrsFF0UMoVnmKUgyU8kz18nTeVp/aDmNbmPoWFo28DYU4vZP1jxC69fnI1a4B9mcL4T5uWxUMMMNUX+JZDrRFKLh5Dw9TiEFTvqp61ndbphSdhDAe7nrXuyau7Vmqn4dAHE/iCaUy980Mi01GdyRZQQzABidG8IoMBlyvF68VV5yCad/Ff1qwjdi9733v8ZXyhuI8Pk9vpvFDucuTMSqcej/gAQ/I3R6CYeeJFb7ViVflMR7CNqNsa4/qf3e84x0r+byWR3MMcPIZnde7ChjKTN6GJaReHblq69olAP+wP94+oI6f+7mfe+QUkRi4ZBJ1oos+op/FWrF8r0zo0t6d+KHwMQAaaku1af778K59aUVe8NuePALPoXBnMcismMocf8oMeAeHBXqo9kP7bRrSVM/CrTjb2rj6XLs7h5NWPBcv1EdADMjSs9lzKDjDox71qNw/Wf+ag5O28Zw8mctnDS+ci9e+W5tXG6e9hzOAx8ZAZbCNEF5T7ytsPTuhTbnxCu0Ft7ug2qPCwW/b9vW+vRZvPA0ZULxoibe05TjE/cEUxypMjIRSOMfoLY8d1LEKuNCHlp+u/THCG973vvfVp/FKkIC284wfmxtM18bgMdrNY/p2NZqoGEGMopNZeV6KQwgSXgRJEZfwFAtMElAIY8SUxwLmi/gjHKYQo/AsX4xopp8ueV5bvksiTl7M7UEpyH3uc58MSRkKq0Ju+h2Wv0uU90lyqx4px7b1AaV0TSOGZWmYbnJd7V3MdxpHJyMIwLS9wqJzJHhM3YzPJbgIHMqQbZRi9Dd+d6OdMVwDnCrX93//9ydd3fOe98ywcAUoZBTRa6+9Np+3/c3hQsfGxAgh5SY0bTEV1uptSe39Law2qdxSHA3gCJJS/qaJUSQcA2rj+BixTj9f8lztOredRrVNWE0uiVcv1D2seKMCVe+n10pj2p/EJ9CLzqbx2meCAlRa7be6b5k/2gT6awviT8tR39v4aAzvixmL+pxXfIowmkujjS/wtvaYhq1MCCPbDBkgEIB4Vljc6nNeK24pJkc+zjw89KEPnXm7/AovR8cGawVhiclbAweyoH5t/zFoAw5aCEvX1sMa9uVd+9CKMpRi7h60gzXGDHKrfnAMYrYsrwbiNsWmGIdTxRi38J6Bbvnbt43bckiiTVM/xGtslROWtyEsk7kXb5vf0v2uNq72W4q/9v0cL5zGPURebRpkG7A1WcwcJc8N6/BoFKj8K5wyOtQhlsYlL2Rg2AcommRuDYrIFP1xynsulwxQ9pZO9qnL2rAHVxxljEmwHhG+Mb10pCwq5KQShOsXa/iOfN/nQWcFU4VgLo1SAmN6MEcfmHk48VwSlMLIAlejbsyWUMGUYzoulUWRnNXJWsYqGlNPmc5cY6m/0fguWFu+Xen4/qAHPWg2GAZfQLiwqJTVo97ve6UEUbxYkcvqMSckY23gQImLacbZLGKqNUfO7UeMmqIQUwn5mjWkBUKTMl/AWmSfN1BliPUsuUcfOjMyb8Fm0CyM2vYHf/AHc49GCh3lwQhUmQAGQ/FcsoZUmrtw0TIk5UL/U4FVaR33StCwjigLXJQFci49G/TDiXBFu4W3Cl8WSM9lsZr2ad/ucY97uOT+p3kz80fQ6lvbgFK4pOjiKyyAZXWJ6dDFpMpCRXisAf1cvdCBmZECFusaVNS7uSuhID4abfmKe/1xqgDMpbGmPebilUU5ptrylKOpgljl34V7aaP5svzP5TX37tWvfnW2SUzVjtY3+8oCCk0B2oqp6XpMfsCKTcg6uUv8JdiXd+1DK0t51nt9n1W0fgZkAL+J5Q15BjLFI9ZrblV+xTluG4s7hVhLm7zLYJdBBCzx1zbumjamCOFXNbBv46+538UL2zT0mzWDwTbO9J4s0x6UNfRLiWa0iuUCSZsG0lNowxm40Am0bfHCafilZ8YFBxcUbRscxfrePDGP4aOFyyED2vxO6/5UFEfaPdAAFLUpYKKENgskq+FxgLWorEqmXClepWDMMT75aExKgJGuKS9CYgqYYKWD2IyiWRFq9FDTbojDSIXiWFYpo+spGA1OGfk0jOe15ZuL276jEOoAc8CKW5ZPit6hwLKBmv52xKRNs6cMB05Zw0qRKQtVTbGbWoQDG0gXYD6EIcZi+o21CoijjpQCRzJWGsphU2aWnxKSRpEUvh/6oR8aHvzgB1fSeb3mmmuSJsJJJxCEhncAAEAASURBVOnHd4pqWQExH2BadS1sw8UnfdInZTKxTi+P5lyb5q5w4VU3tNZW/Q9+0DorJ6BkwWeNzAnxWHuVyqCp35qSpUQXPYtXgzP3pmIpf6Yfp8ByCUwPLYGTpbYBJTUclnJpgXA2BG9Bf9eOfgQ1S3QpkW0492XZcrqEOsERpQ4OPKPPUvBKAbUJue/wRwlgPWKRx09qBgQ/QGPwN41ftB3rlrM4LBHSceIJKNwXL4m1cPleOrvaoyyilUZGvOUPXdlEXdnmTsrSzqDo+ZZosxcK11qoKT1LAAhcsz/hxJO4NT0rrViXOzzxiU9MwXrDDTfkALNNH87gHJ0WT2i/1/2+vGsfWpEHHFV7ekaLyrUNwmkxpzXxXHVFR6bbCwxApFFtt6uNK//Cq3SUo52NqbSE1ddibWpmh2aVoei0yjB33dbGNU3MGKK/OA4UxLq/vDIAVB+0LEL9ago2AzR/23ihYNW/yVf9vvrFPnlV/8eb9PEy4phpYXUOH4iBTJ8uU6liVjgyi/JdcqO+r7kqt3KUzKNfqDvFPpwBj+R9WjKg+ELhsOUta+qwd5gg5oOBxf5RgNHJQcKhXOU7i4KnEIw/v7VxeC16rkX5FSesikcWK4elaYwrfP1i9D0uThY3iCe/cdwBtfg3Gjo9bfNl/MWoN8PxZgPB0PI5RrrjHn+1gFxe6gVs32NhrYXRLXAyEI4Lf0EtbLZlR8Ha8lV4V44l0ra3VIGF6d5x1CmI6bpL3sVoM9+1i9DL+7qNW2nUNZjjEccC72sxMU/aYG6jF7stWKagXeFJGW2fU8Cxo5wuqo0sJhcOTsPKlQ4Rni3WBxbjc5LwzjYK0gglKZ8rDeHQnDChRI17R7pXlwIOG7Z54TkHh8Go69PoMFDe/fUB7aDHFtbgouh96rxQ3rXR6dskx/sQylkPDhJT4LhQbcrRIEa4GYRHa3lnq1cIi0wDPvQRdMv707NfDJKyfdQNznmhF+6E5zgCbyGspkXIZ+0v7hRXPoY1INOSZkEIunxXjgT1XnvKN5Sc9Fas91XO9qoty5mnwrXXGIhkWuIoW9EZr0oelfLwTfnCKpc0bEF85YGfcUIAvscAJr/p0xbQT+OHUB+d7KTJmarwgf7xEmmjUfELL9LBE5baQz2qjV215xQsjm/puv1e9BPCpX195J7DkbLZ6aCgnLLad/VNmtWf0Yd+pD2koS/gL6G8jTj3Hg2GUlRJjFd9Fz52QeFgF++S1/S3jVbsWiG8MLZlsyVP1Y0cmNJolRPfmObjWZtLA815Dovl2G+W2pjjXgzKMjzepj05XxVOORmRFUVDeIit16QfSnfufIAn4flLsKaNOaxyUpKu/oKmgee5H9rl0NbCGl4ovLIWH+d9XzCXj3dzeYWyNu6O4HvRF14oTli0K9m8eof3FFQ4PLiFabj2m/tQDjP9UJxz14aqM7qpvS7DmJXtVzxAvNOQAWt4i7wPCbeSWCDpqgIjQ6MD05HbwJpDFsZ2OpF1xgirPfJIWmumorbl1X5bW742znm5N+JeGt0ZPRtNz1kWxGPZqWkCZOkHr66m21pLshGVUVb7jtWApaPSgBP5mUb0u9ywDReXuyxL+cGhs3/9WlxxBjI6Ng3GOs+aXtO/S2mxtFmGUo4pS+F2vWfF0O/adtwVZ+m7OpmdYLVmkQhBvGiRrzT0cbMEZX2p96w9rEi7+IY8Wbzgr+Udlc6261J7bIvjG8uqpUFz072sr5/2aZ82hLfurmRO5Tv868ftevHKSB9h6Q9l8CDtXelejivLUigMue5du6Ev/cZSEdclOG4bT9PDT/FG+bI0HcdaNk2znrWLmYVDybUlXqj8vi1ZLas8u65mXDiG7NvfdqW79jveYKbLOvCWbx1aN1hbntMOd1UqjqeN1J5+x8BFx0BYkNLJhjIY296sro4zpikva9b1rk60B5zFgKlK02GUelPEpummjkum66zXth7b4OC8gHIZHFgOxPHFWseLBKZTOUqazm2X/ZjGjVmAM1PSLxIOe1kvLgY+/BBFbzXsQ6TX0+gY6BiYx4AR+mmD0XOtFSIYLejeZWWrMnFysCCdRX7Ju7/C9uvJMGB9b1kRY6rzEqXRum9rjm1Hcp6URjM5973vfbPyMeV64ZRGBY9p0VxDzGknpqRzrbtdQqyb5iXeoWPgSsZAtzheya3b69YxcAwM2H6knW7mXGSqcx9gCSuHmX3i9bDrMcDiyMHPDg/laNDG5ixT+5K278/DPaXWIMg09aGmQ8+iXhytbNOlDpRJyzo6dAxc6Rg4dcXR3kY8qNtNr690pPb6XXkYCIeEXGdp+w1r8KxDna6BW1vr3ifWYqqH6xjoGOgY6Bg4bxg4yFT1tkpZHGrRaIeOgYuKAY44FsFbk8X5w/6SpnPXbJo9V+feJ+aw0t91DHQMdAx0DFwEDJzKPo5txcM9fdxIuX3f7zsGLgoGeOrZi8+eXHHO+RDbk+S+Y8ctf+8Tx8Vcj3cIDPDC5dzBm7VDx0DHQMfAvhg4dcXRxs08zTqcbwxYL2WbCGt2bCfS4SgGbHVhDRMPStPWtZHr0VDrnnqfWIenyxGK9Zf1uAVb7rAyX4nghAtbVvHCtgXKl3zJl1yJ1ex16hjoGDhFDBxcceQxhzm99rWvHeyH5ji6NbvZn2Ide9ILGLAPGMvDi1/84twSw7Ydzi22C/9xgRB2jJ092+oEnuOmdZ7iPexhDxte+MIXphdrKY223bDP4S7ofWIXhua/c5w4TcWG84iTguw7arsa4B0P5PJWni/ZxX3r9CzgdKSXvOQlQ2x4fcn52he3dr3kHQMdA5cDAwdVHG0PYdNQAtUxQjakjR30L0c9eh57YsDRUaZMnRNr7V6cypDHM3H8OAk4/vEd73hHrgW8UoRvnASQexoSspQZ3qCO/IoTQLKe2/DV+8Q27Gz/Zm10nbO8PeTxvjri0h6VjhaM02ByI2WOS6DOPN8nZccT2hT6vM6woFtHocUJM4PjFT/xEz8xq2cJRoeOgY6BjoG1GDiY4mjD4C/90i9NZYTHqWnPvgnw2ma4NFwcI5Rn4l765TBvrNkjmFlXKHo2EaZInhSc3U2pcnaqbUKuBHBQPYXaOc0sUs5Idjawd6w2S9D7xBJm1r13Uo1p1dMC+1M6Yz2OyEzLsbwMqH7sx35sVKr2yduaQek5BeU8gv12nRuNfs0IHHobHEYCfOtKBXyNY1xfG3qltnCv11oMHMyr2nFvcTZwHrljQ1QbAFs3x5kgzqRcW54eLjBg6tixVXFWaCpgp4EUXsKsKre97W1zWxlTzCwRBKd3xwXHCVonSWmiRF4JYPo+zuPNKXj1ibNcs22sddxWx94nTtb6p225i7N9hw996EO5D5+Bbpybm5Z3g6grFQx09Ht7bFIgDwWWvTAUxNm/qTwfKt3zlE6c4T7EmcbD93zP95waXz5P9e1l6RhYwsDB9nE0GnO+a3smsEXmnqcny5gysfhceEBpqfulgnrPwnOoM2yX8lEuAt+i+em5k0txTuP9ox71qNz7kvXjNEEb2WPTQvltp4MYZTsPFU7mQDosmBRH5wHPQXtGa/sdPZgOXorXhnWvHKzac2dey8OZpWthTf3RJ89qTkNwJf2pJezXfu3X0nrb0vE+fWJtea/kcGhA/95FD86lFdYApz0zfi1uKh/ht9GLtamUyGke6AHdTPuL5Tk23DbwY8UsKPopPjjld2iZ4rWN/vE+ZbXR97bzeKsfOnpwSqNVnro6TtJyC+t0XcEu3FfcuevNN9+cg1BteDlA/7IcxnrNk4LTXsyQONN8G7Co3vWud93aBtvi928dA1cCBg4yVf3DP/zDyURNdVo3BBxZZhrUyNYpAQBTY7kh8CmUjp169KMfnfff9V3fNZgSfNnLXjY4x7TAmhwC+2u/9mtTYHNMMPJrgQNOMeX2fd3L03fMGRh1e27X9mDKwhH8lCPTZHe4wx0y30pnW/kqzKGup+1QZMrVVJ02Uk/5sUTYaqaAgH3qU5+a03YUy9vd7nZ573zZAlZlzjDSMf1Fqbr3ve99JB00YW2gdifQnGdcNEFBf+ADH5jxOKC0Ht3WX2onNADQFHqRhrW011577fDqV786v/n7yq/8yszD6Q1OLil417velek4Dq9gTf05dz30oQ9N+lR209Omq6Xf0uBrXvOaVHjufOc7j/Va2yeqPFfiVbtrPydrgGqH7/7u7z5SXe2rLSlON954YwpwdPS85z1vDIdOXvWqV6WyyJkFzVKMtAelHaAdtEkRKq/oX/iFX8i1i77r47yJ5SMexxvt+ohHPGJMQzjle9CDHpQ0hq7xlzpJx8ABb9BfnvGMZwi+CFP6QUv6gfjoR19Dz5RT9VWO4p+VqJNhnNrjO/56m9vcJpcEGTy1oO6ct+BEP7Q5vTWMP/mTP9kG23q/T1+cSwj9Xy6lkYLLme9DYTE+KeAV0ir5sC09OytsU9y3xe3fOgauGAxEBzwxBBPevOhFL9p84Rd+4SY61iaY9uZTP/VTN3GOp4N18yqTGNXl89d//ddvQnBvYk3MJs61zV8w5E2cW7qJkfompro3YeHahFKS4UPR28RIcBMCYRPTSRv5tfCYxzwmw7Xv2vsQFvk9FNd8razKFdOpY7CYtsq03/jGN25i5LwJJXHz9Kc/PcN927d9W4bbVr4xobgJgbGJEfwmFKK8hmDMz+Eoke/i/Nh8fsUrXrEJZSTr9vCHP3zzK7/yK2MycBlT1fkMX8r3uMc9Lp9DKdnEdGmmBUcgrBibEByJ6xCMiaOwUuS36V8IncwTnkPp2QTz3Xzv935vth28KG8IkWxD7aid4ANerr/++sRJCLhMNpxqNn5vfvObNzFFvYn1XZsQcBkmGPImLKZ5H1aBzU//9E9vYsQ+0sUv/dIvbWJqPL/Hmch5DU/ssbixzCHfiRdW4KQLbR+e4JluODbk99iIO+Ood3jHZrgQ6mM6IfQzXOF9Tf1F1gbSDMvMJqalN+FAsXnmM5+5efnLX74JITOmr21CKc02iiUA+X5tnxgTueUG7tEdeg8L1iZOqsn6yHsXvOUtb8m2iCUHm1DmN+jtla98ZaYTG5dnu8CvNkU/YIkGw8kp05CO+iuPnzxCGctywU0sT1ks1ute97rEeyhIGUaa6CvWiY1xQukbaTGWZ2zCYpd0rq8JKz+AfjzHGsLkHfgF2vXusY99bIYJxTJ5iH4TOwNkG6HNahP9R3hlFgYO0Il3z3nOczKNUHLzWV9Cd3HO89gv9M+Ypkz6DeUyw+kTBXiatMLimK+20Q/eA38xWN3EgGgDR9pNfPQNnv/852cYfDOs+clXpC0MXBXgAdUP4Qv/0a/QpbD64Rzos77jq2BtX5ymhd/HThpZ/nA0ys/hIJm8Db/AP8gFvFs/wlvUF+8THp3iRcKou/755Cc/OfmbvgamPBB/VXY4xGfR1i6A5+Kr2l+a1d7S0i9iKnoTa743ZAp6CS/0LJv6hXNc1gFtKSP6JuO+9Vu/NelTHeA8BihjUfRndIa/a1+yR58M48gYpt90DFw0DJiaODHoSDpwdeTXv/71eY+BEaDe62gYuHs/QkjHxGAKMINSBmL9TTISDJHCR3msuCX0Kt4hFMf3vOc9qTARaoRTnNc7Kq6EGNhWvipLXTEM5cUACwgL9cE4MWvfKUSUZPclvIQvBldxCXCMtwDTEyc8OfMVBhf7AyauSllTjzn4xm/8xowbFr1NWHqTsRFIlGZphtUmo0kHI5cOhQ8QlMKU8v4TP/ETyQQp1xQdoO2EIcjDsrIpxTs/xh8c+06JIXRKwHnXlrlVHCkK6gh3BQS7OCVEw1qVz97BV8FUcVxTf/QqnfoRapSMdrBR6VPqKhzFB6ztE5VGXQ0KCDXpoTttUs/KtAThfZxx5AuqH+k3sVZwU4Mn5Qsrcip+22hQvvq0Hxou5ZFwJAQpHWhUObXxHKxRHCn60qAkwe0LXvCCpJfqP+GlnElT2gh+ApwygTaB+oiPLghkglwZCXM0oPwUXQqqcPpfTEGnsoK+4E14/AjgA+izBQMOcQ1QKHDCevarcggPD97pS7vox2AtZlHabLKviR/Tr/m+eKo66e/AANH7lhcol3je440UWFDv4WUOporj2r44TSumjEejQA0kKNbK4xfrHjf1TAYIr58rs0FmKWmetUXMdCRfELflnxTNqreywotBg/s1oO2LVvXlwsvb3va2LAseh46qrMojf/0vjs1N/uyd8Ph2KfHKrJ+hS9/x1QJKLeMIqO/wUYODCtevHQMXCQMHURxVGGNmHdHZde5SgnQSnQkjxfR0ckoAYV4KHwYGMPHYDiMVCUKTlYTyWRBrm0bmWO9cK532XXtfQnObxVF4nVxZKQmulCL1US+wq3wZqPlTLkylrFMEQlnUCEAMCcBJKdIVfao4YmDFNIVhIVRGimOskcp7ihOBXwqg+swBK4e4rBOuGJtrxSO8gfqqP4brypoIhMXEgbzV0WjdewyxrIdl4cuAzR/lRlgWowKKiXdLimOFa68EjDilXPhWSvg2xXFt/dErmmFtVT5KCjxQROTDEiQMYGXQPqU4eremTwg3BYqwfAhYwJqpnvJdglJu9C1A+RenlIjCeVlnhdlFg+iHlaSA4i7NsoyX4l40XeHqukZxvKkZRFAianCJjuTVtiPl0rtS3FiAfPdOH9OP1LusO/pDKQqUUuEoDAZYlA441icp2e6XoHCnfwD5UA6kt6Q4CreNfnyfQjgRZpqlfKkTnPix1BUYaHnXQlnODMYpxiCW4mR6MeXfBh3vp4pjfThOXxQXDqvsnuFYWxQoW1tufMNgvAaDxYdqNkN/ahVH/bblgfinNNeAflztD6/6EusxqPY1WCmQtvJX2bw3MJYGxRHAs2dyqkCdyBtQ/YPVGtTAwsC1Q8fARcbAwbyqLRQPxpEOLBZyz23cW2tDonMNfneK0zis6bF+6JGPfGSuN7JOZwmsazstj8cQsLkWKxjfENMJuc7JGkB1KbAealv5KlxdbX2hfrwXrW8KRj3EVGd+tp7Juq6wjOS2OxxygqFV1L2uMeWb4eGnFuyHUri4FscaKxBKWl7tvQi0RwvWgKq/NYvKF0pJ+znvrfvkFANvvIyt7bvf/e6X37TxHMxtA2JN1r5g/dwUrAHbBWvrj179rBnzC0Uw14GGABhCUc7Nk0P5SlqxBs3ayxbW9Ik2fN2Xg1mlV+W1ji2UtiGmlytoXtFkOXBYrxUDndzU2sdaK1t9z4bXBbtoUP5FT+JUOepdtRm8HBfgFfDEl651efhIu9a10rb+OQYxuU9szAjkST7CFqAr+yj6TcH6XGCHBw4m1kmGkp9bR03DTp+n9OrZmt8pTOlxG/1YozmFaXx1VF47U2zz3pdOeUjbkxItgkqvrvlyxV+164qgW4OoP55ZgPY4HLXA0aTKZwsvdf3gBz/YBjnIvT4VA/khrH55wAFakt8SKDt+WGUTrvplxSlHuLaOMahJxy1hqk+SLWEIyfWp3rc067lDx8BFw8BBnGOmlSZUWwE1/V7PYYXM29C882qxuEXp7aL4mKI54ixTcY9zbZVA8XlnFpTyRThS4GIKZIiRfX3O677lo3jGCDuVQ44BFsYXM5H3Ax7wgOEDH/jAEFagFGJHMtvjwaJ/QKmOEf74o5jOwX3uc598/da3vjUVIFtM2LyYMG0hRttjOGHUZwp3uctdhhhBZx18o2A6CxcsKY75ccsf4WLLCxtug5Yxt9HCIto+XnIfFp+Bc0FYqvJblWdt/acJ8n4F6BWdoIewPKYzR0tL03ie1/YJYVth5blVXOAmrHTjzwlN2oljEVoLy+MQ1pQhrH3ptESQgWma3u1Lg9M0ps/SnIOiz/om3+rz8AJiijgVcP3d9kdTWtPW+q/68Ka9293uNthcve3T6m03As4sRRsxHZ+DN0qpvOxZGpatIaxBeWqS/Ux3QdHzrnC7vrf0syus79X/SvlfihMW0HFvwVLql8LOvd9Gu2v7onSng/oarFSeLR3Xu/ZKoQc1YGq/HeLeJu8xE5Z7TYZlO/nWIdJt02jrzJETP9YX8Xn9Fg+iwHboGLjIGDgVxTGmfnbi5GlPe9pA6WiB1eqGG25IiwpFjmUnpieOKHht+H3vWQlKiRCXJa1OiChBFlMjKYB568U02JEs9i0fJqL8MZU3xDTfcN11143p8QDGlGOaIz2SfShBMQZqbox256wwyl3WCxbNAu/tqTYHMQUzvo6pyCGme9Jjenw5ubGxO4arPpSxKbAu23OP4sL6WIKoFLVp+G3PvK1ZoWKqPq0tRucUhSmw3JYFbPrNM0vop3zKpwwERHlwV9n3rb8BDlpx2kYLygbnFAt72JVi0Iap+zV9osJuu7LQsPzWTz9BGyWQeNVSqJ71rGel8r0trX1pcFta276ZTaAIUnCAtqMcohMW4lgaksKcgIXTmBK+RNGt/mn3BQMJeGfFaSHWoeUAjPXSgIHCqv+xhINrrrkm6TOmJpO2Ykp2K91rdzs/bLNMtflXGdt37pfoZxruOM+skixjFO7jArrmuV0D+UpnbV+s8Me5trMsrOUgpqPzyqIXU8x5X3/Vh+t5Cef1va7iveENb8hdMniaG4DEkpz6fGpXPJgV3SwBOidXeOp36Bi4yBg4FcWRMrINMItYmJyjfuFqpGl0hkmzIuhoLGYUFsIfvO9970slItY9pqJCWTFVGOuMtpr/7fdGIGEYhGptcB1rWnKamLKD+QIMmMIhbRbCFnaVrw1b95QyYGsbQr+A0PzZn/3ZZCSms01n2Nom1sNkENN/raJoiyDTVkaumI/pdODe1JSyxdqbPBkCTijg97rXvTLM9I8Fg5IHlsK0cexPBx9+9k0Dc5aNO8d2HHCqXqDaNR9W/sEFJZt1yJSjrW8oAS0QJqacWPzA3N6StnQiDMNDORk2OqKYgH3rzxpGOazpwFYhNhiJ9aapnFa9M5PJ364+0QYv61q9K2E5p0BXGLgIJ6TcnNyARx1ZkQsqjdb6t4sG0V+rDJeQLwWj0lwqV0152kYp1r2m0qY82pjyV+2nX2gvfZ6lufpild3VMgx9mLXGdGY44GW4sqgKQzFEO9Kl9Oi/Zj5qnz8CHHzRF31R8pVdyrwy63MUWVB8w4BPnwCxFnPsG0Vf0+US2+gnEznBn75hZgRfA3PW+SXlquiYIo3m1LeFNX2xDY+PtvRi9qGlDfTTWojFtS9igTajNNaJU9oOXSgbS/GrX/3qnNGQLkAP+Kap7dryqdKaXg3KbS0mf3wBb6mtg8qiKy10BV94TA2AK62qW12rLtUfhBOvlm6gEzSGNzNQqI8B7VJ7VD792jFw7jEQRHww4NASFR4X9Us4rFH5LjrXkXw4AAjLESWY8/jNNgWhvOVWBxa0R4cfv1X64rW/YIBHnCrGCLfchEDPRdXiyJdjQygmmYbF2QVhUcx3wZByYbn37lsHgW3lq3SmVwv4Q6gcef328CaXtjJxICoPVQ4jFm3Xt3JUsZi73ik7j0BxQ9FO/IXlafS+9T6Y1SYE/5E82wcOL8KVw4tvwYDzna1PQCja+Sxc+wthnR6uGaj5U8cKxwFhCcrrmkd3AbyKW+1RaWlbHu5TCCtohrdYnvNKC9IRLxh7LkhXXu9aJ4419a80Q1Ckg1SVr6XJCsMBwffWOca3otkQoBV0sU8IwGFF2aXFkYOTSJU1hNBGO8+BdhRn+kMfFuVXGq7laLGNBvXBSgutabNyGuOQII1yTEGPHMmmEEI0vXylw9kgFM1xO6cYuOSuBeKUA52tUFoQT/kLOKcUbqotfRdO2gDP4AHLcUkZQ1mp6NmvhEUz2rQAzelbUxBGucWBe04xQLrezf0497T8TPg19CMcRzdpchAEvHw988ZtIRTF0clE36h2qX5bYW++ZQcETkJzoD5Fn9IoGt23L+oPaFVZtQ8a5jHuGV45MdmSR5t7J6y8qy05EV4f2/bop0WbyltOOuL4zulEemFNz3YtGuXEoq9vA/JHOvKIQWQ6YNrBAIRiOjpc2SGBt72wfsV/tSk68U4fQu9F/3Cnf9jCyXdllA7nveI9lZ6r8KH8bitu/9YxcK4xcLCTY6JD7A1GbEZ9a9dKzWVgjVkwm51HhZkmY21prQFGrqb22vxZWUz9TRdCz+W99p2ROEvAdIrCSNUINRhNTgEbnbtfAuGNWFlOjGZZfMqqU3Gs87KWqJwO6v3lusIfCwErYIvX4+QfAjen7+esm9LT9tpzVz6sDfDVtv1xyiONOYvOcdI6dByWklAeh1A60qrCWsJaZpkBC3QIsNks96XB2UR2vNROLIa1xk3Z9Pvj9DE0r88s0cSOohzrM2vznDPMvomdJv3gbWYeOBrCs/XTZiPMAoTieGSJzrTcZjr0jXZ93jTMrr44Db/mmQU3FMLBsiVWOjQ6LQNa8c0MCXq2Drtt+6r3mvykw+rJwYxls+hR3NOgK7MvlmWwouOLymq2jFMix7SajVpT9h6mY+A8YeBgXtXHqdQ2JWltetYg6ZSEiam58nSbxseQporDVOkSp2VK0zSO+xwj69moFMlSJpV7Fz6ErXWh07pUBqZDzhLg71A43LVIfurMs1RvAmIJX0tx5t6fV6WRQDQVZvmHaTcKhPWfyktx8FuCfWlwKZ1t76ftdJK20E+W+vi2Mpzk2yGURvmfFv1YvsLxQ5ujAV71Bo4GTGvA4HkX7OqLu+IvfTegL4/3uTBopeillte04cqDvH23dF9T0gYxUzgNujI1ruwcIrW9wbQ6aKMlx8Vpufpzx8B5xMCZKo4nRUjYctO6ZW2T9TjWHe3atuKkefb4HQPnDQO8WWNfzVzDRVhRHFhnCHvr7nZZZM9bfXp59sMAj3qKD6uZLbQc6XmPe9xj3BZrv9ROPzS+bT2wmRjrCg9h0WVxp4QuAbkQU8RLn0/lvXXNziy3RpZDHuOF9rHzQa2XPZWMe6IdA6eMgQutOBKIHGPsXQY4oHToGLjaMMCiykHH0g97cpp6ZJnm+HS5rXNXG+7PQ31ZGi1T0P6x/i4dhCgqnF7OI7CQcyriBQ/wcFO3JwHLALYpjpZkXG6wswHnPM5RnIA4femT+1hJL3eZe34dA2swcKZrHNcUcE0YW1JY28N7rY/k1mCsh+kY6Bi4UjDA0siT3DSopSq2GWKFjLOnh3CQyT0vbXbeoWOgY6Bj4BAYuCIUx0MgoqfRMdAx0DHQMdAx0DHQMdAxsB0Dp7KP4/Ys+9eOgY6BjoGOgY6BjoGOgY6Bi4iBrjhexFbrZe4Y6BjoGOgY6BjoGOgYOAMMdMXxDJDes+wY6BjoGOgY6BjoGOgYuIgY6IrjRWy1XuaOgY6BjoGOgY6BjoGOgTPAQFcczwDpPcuOgY6BjoGOgY6BjoGOgYuIga44XsRW62XuGOgY6BjoGOgY6BjoGDgDDHTF8QyQ3rPsGOgY6BjoGOgY6BjoGLiIGOiK40VstV7mjoGOgY6BjoGOgY6BjoEzwEBXHM8A6T3LjoGOgY6BjoGOgY6BjoGLiIGuOF7EVutl7hjoGOgY6BjoGOgY6Bg4Awx0xfEMkN6z7BjoGOgY6BjoGOgY6Bi4iBjoiuNFbLVe5o6BjoGOgY6BjoGOgY6BM8BAVxzPAOk9y46BjoGOgY6BjoGOgY6Bi4iBrjhexFbrZe4Y6BjoGOgY6BjoGOgYOAMMdMXxDJDes+wY6BjoGOgY6BjoGOgYuIgY6IrjRWy1XuaOgY6BjoGOgY6BjoGOgTPAQFcczwDpPcuOgY6BjoGOgY6BjoGOgYuIga44XsRW62XuGOgY6BjoGOgY6BjoGDgDDHTF8QyQ3rPsGOgY6BjoGOgY6BjoGLiIGOiK40VstV7mjoGOgY6BPTHw/ve/f/jGb/zG4T//5/88/Lf/9t+G973vfcNms9kzlR68Y6Bj4GrHwK2CcXTOcRVQwX/5L/9luM1tbjP8zb/5N4cv/uIvvgpq3KvYMdAx0GLgEY94xPBzP/dzw7XXXjt83Md93PDX//pfH/7Tf/pPw4d/+Ie3wfp9x0DHQMfAVgx0jrEVPVfex9/4jd+48irVa9Qx0DGwEwNPf/rTh0c/+tHDd37nd2bY7//+7+9K406s9QAdAx0DUwz0qeopRq7QZ1aFT//0Tx9+9+/+3cNP/uRPZi3/7b/9tzlddYVW+aqr1v/7f/9v+Ct/5a+kFemqq/wxK2zC5QMf+MDwj//xPx7+63/9r5kKq9zlnoj5h//wHw7/6B/9o1PN96M/+qOHe97znsN1112XU9Z/8k/+yeF//a//Nbzzne8c/u///b/HxOB8tP/zf/7P8E/+yT9J/mKw+pu/+ZvDz//8z88H7m87BjoGLhYGTFVfaRACdBOM8Ei1gnld8u5IgC0P//E//sfNN3/zN29+9md/NkP9z//5Pzf/5t/8m82v//qvb4m1/dP//t//+0iAYLQbZTwtgJNf+7Vf27z2ta+1NGHzlre8ZRNKZN6/6EUvOlG2sWZq8z3f8z2bX/mVX8l01OV//I//cQm+5+o8fXeiglxlkf/1v/7Xm7//9/9+4v67v/u7Nw9/+MM3v//3//5NLEu4yjCxvbr66stf/vKx/8b6vs2/+lf/avPBD35w80f+yB/JPlB94Q/8gT+Qz1/xFV+xPdEDfsVH/tAf+kPZH0PBGlMOZXLzXd/1XSOf+ff//t9vfvVXf3X8fpwbvEvd8YBv//Zv3/yxP/bH8v5P/ak/tTU5fVpZ3v72t2c4/AReQ9m+JJ4whU/5+KFL17e97W2XhO8vThcD5Mov/dIvbf77f//vmzAWnG5mPfVTw8BUVnrWL88CjHAvK8TIfvOH//Af3nzGZ3zG5j/8h/9w8Lzf8573bDB/jOod73hHph8j32Rar3rVq46V31Oe8pTN/e9//0zjF3/xFzdh1cn79773vcdK70u/9EszPkFfguILvuAL8h2F6xAg3X/+z//5JtY0buC8cPA1X/M1Y12+/Mu/PAVWWCJPlOVf/st/eRRAlOxnP/vZWRf5A2X5s3/2z+Y7uCz41E/91Gyreu7X9Rj40R/90cQnHP6lv/SXNl/yJV+y+bZv+7bNhz70ofWJXCUhv/ALv3AT1rXEF54Ta3zzXv+jzDzjGc/Y/PRP/3T2l3AeSYXKIOu0QZ5f9VVfNSqNP/ADPzBmqR9RvrSv8uMLyopv7gO//Mu/nAOLmJbeGODhjdJ48pOfPKb3uMc9Lu/nlMDK63u/93uTbyvT61//+o2yKs8rX/nKCpJXgqyURoNt/BIf/ht/429s3vzmNx8J2x9OFwMGlq95zWtGesfvDZQ6XCwMGOyV/vGSl7wkC2/gpp/tyw8OVfPLrjhSkJ7znOds/syf+TObm2666VD1GNN51rOetYm1PJu/9tf+2uYJT3jCxijdaBqSf+EXfmEMt8+NDlcj5m/5lm/JtK6//vp9khjDEkgYbkyHZTqUq2LCFIBDAGFBOUdsf/Wv/tVRaZPv13/9129e97rXZRlYplgc/NbAG9/4xsSD9FsgiOUnfZZHuCaMCn7mZ34mv5WlgwD71m/91nwXC/QrWL/ugQHKDjyz+sAroGAQDCexhO9RhAsTtHCFPinXrngQWjWIo5x59/jHP/6y1YkyJU+/5z3veTkb0Gauj2hffEf/fMELXpBhf+InfqINtnhPsOB/4rOeGrBJT36EDV7onnXwmc98Zt5vG8i3MxTwKQ19fjrQjanvVBINJotnfsd3fMdiOfuH08EAGai9X/jCF+avLOldcTwdfJ9mqn/v7/297GsMQPqUPvb85z8/++zf+lt/6zSzXkz7VBTHH/uxH9tMzapVAkykGCaF4tBg6q7SL8aFwcW6vmNnZRRdFkFpf9ZnfdYlDHOfxMWvMlaHxtgPNVUda5gy/cc+9rGbv/gX/2JaAE2FyZPiSKhUXvsojkav0pgq4Nq6LIq+P/CBD8xpkcIJRaamBH2vdmH9LItrhV17DW/QMahlCaZhLjLAKYYA4MTAYhuYmobL+n32Z3/2OEDqiuNRzBmxl3URvgxqpvwJzfp2ueCbvumbUmE1gGYtngODylL2lE3/Wwt/+2//7axPWaTxl+JhZaUoelujOMrX7EXRG57KYroNWDCFR5uXE/CD1nqKN0yXLl3O8pw0r+IHxSu125QHt3kYDMA7nq/NDShLJnTFscXUxbi3BKxkpnbFE/xOw/C2FiMH9aqOzjkEExo+/uM/fvgTf+JPRB0vhb/wF/7CcL/73S+3hglkXBrghG8+8zM/cwgLTC52D4Yx3OUudxke8IAHDL/jd/yOY6ccTGgIZWuIkXtuZXHNNddsTSuQP9zqVrdaDPN3/s7fGcLiMMQaq+GjPuqjhnvf+97DXe9618Xw+364wx3uMMRIM9vhYz/2Ywd4+IRP+IQhLIXDne50p+G3/bbfNnzkR37kvskOH/ERH5FxpnWLdVdDWB6GmP4aHvrQhw4hpI+k/dt/+2/PhfLB0IaYuhp+7+/9vUkDf/AP/sEj4dY8hBKf2wk95jGPyXyCgQ4hFIdXvOIVw61vfes1SZy7MPbTCwE/xCBiuPnmm4dQKoanPvWpQyj9Q1i4Z8v7OZ/zOYN9+UIoD5/8yZ88xDKMIRSNIRTKAb63wS763Bb3In6Lad/cfkafiEHb8Mf/+B+/pBq3v/3tL3l3mi8+//M/fwgr3hBrz4awJs5mFQPw4c/9uT+X7RvK7qAvrwX9JCyZw21ve9v8afOYfRnudre7jbxpX56ITsPamPzqcz/3c3d6ZHPGCQGXjjFry33ScPCJH9hqSP4/9EM/lH3CNmQf9mEfdtLkzyS+vTfx1pjlGkJZGEIZHGLaf4g1p0MYBy4pE94eU5rJ/7X/7/ydvzP5M5kcSsgl4fuL840BbciB7x/8g3+Q7UeW02lsqXVmsFbDXBOOedyUyhRY7CzKLauQKZQg4kusKv/u3/27adR8Fn9uzZH0ppYDEdp34hYYqZWlrd5tu9aIfFsY3yy2NwJUxvAczNFAi4d29LsrLd+V0dqguTpXfPWqEah3VU/vlGcKS1aoOYvjUhrTNOt5Cd++G+mb2l5q20pDma3J2WUZMGX2tV/7tRVtY2nCcdeajomc8Y31bJYpsD6HMpj1MW1qlLkL1uANHVscz0qLTliLWIFYnguEmaMb31ns2jauOHNXaW6b8lyi2zatNXVqw2+7X5tWWePm0tI+8Nf2N+GW+slSXxMHL2jx7t0UtvX7NqxwylV9f/ptbZvtsjiqzy5+1Obd3rOMsPbOgb5uqUU7ezAXDm2u5cXWV5vSK2BdncNPfb8IV/yt5QfWmMKpGaVdoC/C8S5Y0w670rhavq/tn/jGLmcksn6JtuVTvIKuM+U/hW9LzvbRayreSa4Hm5sh0EP7zQXYVSBEay2g9/WrqVmL1Qkka2Ssman3zOucT6xNBK2ZlmJaEHuRZZqEazlhWH9YJl0m+c/7vM9LJc5UUGjrGR4j4x3YgnjK9+M//uP5+l/+y385Onu89KUvHYNK29RSwZve9KZxbV/VT/ru4QPceOON+aw8P/VTP1VRNzwmhbNusOCf/bN/Ni7ir/QItLDUVZAkxD/9p/90xpWXe8xR2f7pP/2neS+u6XCEh9jgwTvT1lNhMlUcha9pO2m3ncTUsnQoeGAbvjFra6sKH+Jp26mDEi/LWmMmjPAE2ZLwtRhfuHLooQB5RjMXGTBubVZgyYX1d0uwBm/orZxC4Kjw68opA6CtdpkBgdTSpHyER18EVoH29Z6TBbDOEn1V/9M+FPwS2hjoNrqVxpo6UXqlUwBn6GoKa9Jq48wpjtZAFl8q3OElRZv6nfdr+po1jRW++uqP/MiPZPzC9w//8A+POFJPXs+WLMijdj7QP3mIw6/3VS7tUOUqXiyfSltdKWrCm7ZsYUlxtJ6yeEHlZdrTUqS1oD9PFUe0UFOnlS46he8W8JmYWRjrGda25EfiFN214d3jz75bl06Yyt/vojvmoB9ysoBciZmrejxy1c7WNqp34Rc9ffVXf/WRKXy0Bb/VZ4Vl0EGHHS7FAMe5klX6sgFK6SGxpVVGoOBZFoInFe7dWyI2hXYpij7dAicY7cdPodY3S4duUkCPafunvolOLgccTHGEyNa5g6ZMKYFonRYT4PFp5AShxSQIG+E4bBCe3vtO2QGeMcla03XzzTfne3GsE4IsiGWpEU96RmgWlFJ0dDbPymY0WpadTOSWPwQhbjFE4TSahaeuBe6LCfJSFEdn5LFMSZanMBq4Rgc6JQFBAMX0YyW1Ka9Y9QaYnHjCW8sEVzwZa21gEYz6ygPTUC+Ei/EjPNZOZSoPaoqtcN5hCK4EagtTxbEElbSF/77v+74xOEcb71hXd+Hb4l11wexte6LdSsnzDgijLtZOsUiyTL74xS/OPJYUQaMrbYgxAsoRxYeDERwZXMCjTkkYKQMc7QLCViflSIX2eIFSUqXDgUf7WTeGnktxienxTUwZZ37oorYjiv34Mg3pwL/y+MkD7pRLvQm3AoKgLAP6yste9rLFUeQavLEQaStWCYMm+DUwKYUDfVH2lAOjM2hCk+ovXlltCHi4ti6Q8CkwABFOf0O78EKB0g5wxjnC97IOb6NbyuWaOslbO+A1BcqrjVtYm1YbZ6o4llJHYTMgQ5tF/3CCntVvTV8zOFZG4c22GEzjS/iFd3gcq0OFQXvaxLdaq1gzGCzs2oxSqQ8qF6EkbClTcK3cru2atlL21bWFOcWRFVB50C3lE70op2d5Fa226czdK2vxzPqOTqTxDd/wDckb4KEGFTXgFlbfEg7d4RHqQjB718qaStcVTihDf/fv/t18DX+USe/xWvTPMU9bqh9aWrK0V7p4OVlCSOMRaBtvMAi2Tl9bwos80af+An8csPA877QN/HuPVwtv0KZ/whFeoR9pe+HVtXi+NpYmQwug2JE/S1Br0dEa+kS/BvHwVg5g2lO+aMQg1TZP+EMpRnj2HFD6DZ7wMLhEywVwrB3VTfm1awFlFg6lr37aSBh1hhu4LeUJPWuX1sES3uQljvjlXQyH6MQ3ssp39EJ+Feh/8pC3X7sTwFK6FbeueBr8+cE9OkA/5eSpHOik8lAWPBifUDbxpo4sHHh9w698r4Gfvu1ZW6FdeC7lUfqgDE/owlpjsl7dxSs5VGU/jetBFEfIUeBq+CooRYwiwpMRghFrhSVwgEas/RErHkQhakDgFbOShzQxj1bTJuQQku9+GhSzoqCUqZfwlGaFqbxcMbBK27POXOF0uALxiwmyxOlw8ibkdRKMQWcVl4IAqsG901kKSnGkEINSXlk4jSR0QEoUpi2uMupkVS5XhIJpwTFAuCX4fcfYdCIMDCPwrgRQRoi/qeIoDUyh8pFvQQlO7bgL3wSL0Y82IISli0FLl6IHqj20d43IMBjvWyWl8t91xVBLQZYH3NUz3C0BZVS5itGVgquOsUYqlSPf4YryDz81cGAZx3x8h2cgX3Xww7BKeSy6NJDCsMXBrPeFtXgjhAkffUyZ1BNtyZcQ1Y6l2FUZ0LPvmDygCFZ+rgWlOPKo1xcwP/2yoL6jx110K07lsYsWCI1diuPatKqsrlPFERPXvzFkA7iyvBMY8LNPXyslnoJWzB1NoDdpUcjwNff6p/KX4qrt6r1ympompPBT1+Jv8OIHtHvhwLVgH8Xxuc99buaLd7NOqzeFpBxk0NMakH/xTOGrzpSC6p9oxzZq6qm/FOD7+rH4vulfuxTHiju96qc1KNUP9W3ySrrtrNI0nmd4Fs4yA3ShTspWfL9oQp9WXl7y+LK2BrVrhivlqgZVvqOt2t4Nr4ILfVQeFKJ9QfnUT3xylfJB7sgXT/Ue7QJ0Qg5RVGp/0OIPrnOgbiUT8MCagcMDpU2JQZN4qGc0Byib3pEL+hJe6jsQ3n3b9ureygB9vrzzDeS1B2WO/BTXz2Cing1OCshSfFtZin7VGyylW3HrinYobXDpV3Kd8UBZ0AjQj/FQRi04Bzffoh/RDVrA+7WV+H61xKfoCa1rB32RjDdgFQ4O9ReytYWaOUVnpw0HURwhTYUwwBYoAUUgkC4MZuxaFsU2fN3rfMIUICydu+JrbB23EAyp8gK2sTDaKC2+ne4zYpumLc6S4mik1wLibJkgoaJM6uYbYiVwvUPUBaVYzCmOZXEsC4POLH4xbszVcyl86kkoE0aET+G3FFV51vQiISwu5buEV6VTZRPfbwrSFpdCW1CKo7zW4Fsbl6As5izNsnjoyCXw2hGi9i0hWHmvvWLC2qLWjZQXf4ufaVrV4Yp5Fj3U0oISdm2HZF3A6AH6RI/tCNnAhtJUYHSp7jUaxGA9s4jsC2vxVhZFZSs8E1TyxdjmgLXT99YaitHra/BaUIphDQDrfXuVLxoEu+h2bZ3UA30UzFkc16ZVabhOFUfv4Ahj9ytBVALRd7C2r1U59T99HvMvusI34bgEO6GJlrSDwZdr22+lBbfC19KPGuz8Vqk2mR4abNsMXqRV/a/CzlkcS0ihc3HKilVlXqKfSrOu8m95JmEnveJrFDhtWnyvlQuspsKaRaDA6o/HVRyVh+InvXYLMG27jYbFg69SAj3j4+ql34Pi1bW8yjv9pwaSxXtL8Sl5ScEAeJVytTNS0zwz4Io/Mkta8EhZU+5SaMvyVYNoMyPCFk17Xxb0GshPs0R7+h8lR/1r4Im/o0ft6gen0lbXf/Ev/kXetwaispxX+uK2iiN56B1497vfnfH1G2mzykq7+gQe09KYvlPyoyxzJV+0EXxYhrEr3SqbK36tzeWrzvofuYkuq57CGZwLV/yStRcIUwMBfYdOAPDRMjaV4ogmtRsl2L184L0GOq1ukYnc8ld9E45OGw7iVR3CJvAyXOL19653vWuIzj5Ehxl4U0fF86zUDLzlj9dvC55/3+/7ffkqOuMQimJ6lAazSe9pXr2f9EmflN9/z+/5Pek1yXMymN0QiuqYFA/mOc/bqZdwRZBnWLGG6FCXeAoLE50rPWFjmm8Ia9rwKZ/yKXlsWMWvaxBS3S5ey6sziCrDOH4M8IJugWegH49kvxA46XkZo5eBNzXghQWCCaRnLu+rsFTku7V/PJ+3QXkobsN3jOqGJz7xiUN0iCEU0SFG2pkkrzDgCDK0E9P9s56uGWjPv/L8Lo/RwmsMGtIjjfd1C2HqHz3Mg8ENYU1Mr29hftfv+l0ZtOp6xzvecYz6iEc8Ij3sw/IzxNq/9FgNwTx+lz9vxoIqR70rjzjtty+sxVsw2vSoj9HpEIxuCIGX/XBbfnN9QZmr3Nvibvu2i27X1mlbHvXtUGnhX/e5z33yOL5QEIdg8tnO7W4Aa/taWGfyyM8bb7wxPY1jsDLyNOWG3xBO6VWPDp0pHZa+sS9X3VzxtBAkyctCUWg/jffSm+N1Y4AdN8V3infh4SHETpSmLAt3eEIotkMMvpMH1Pu2WKF85S4M1WdDscrdItow+9w7dhV8zMd8zBhNv7AjBAhBPcB9gR06/PTlsB4lr8UTyIU2DbQNT63Xeyi9SSva25GOoPhD8SjyCEgfbovfeIdHlgzwvBZKToayOqBZeThilhd8TDMfSSaUqXy+9tprhxggZP3m+n8bKQwvycfvfOc7D2EkGcIwk5/RLpwUn3jkIx85+OGZvIHBJ37iJ+bVX9V9fLHlJpYD5Fc4Vr5QKHNHgup78N+2hzxjkJBxyEVwj3vcI6/aKE5Py/tXv/rVeV1KNz/e8heKXOIP3ZL7MSgfQlG7RK56H4Ob3HkglNSBbtICHhIK6xCK9hCGiNxNZSpr7QRDb+Idrw+H4ph8oU1n7n6qN82FOdS7oxraMVMtBhVm8iMpIF6ASGJ0MjztaU9LJBwJtOcDYg9zcyps26JSFE4KMc2XDJqSUJ2sTTNGUNnBEanGD5N/Ek0bhnJbhBFrHAbbcNRZ0cLFtEEGJ6DAW9/61tyaJaYYhrBKjHHz48xf4TxGGDNfh+y8sx+al9Jo8RXW2nT3F4SiHhaJI0xnLq82fiVNobKFR4yoswOFNTg/YZKg6t4yzPxwgr8p42s7k3YKi8f4w0CU4WEPe1jSE2EelsmBwhUj9lS2FGWapnfqYksE2yRgADr3NpimMX3eFnf6bS3e1AUQVJir+mFq+4Ato2wVRVkR90EPetCAjgvmaKG+bbtO6bbqFJbJkS6W4otb8YVBX60CXmkdh65KiZBuWImTd2ljYFufsN4PNQjIl80fQbkEYXlJ5SPWTyft2GZnChQbA+CYckva+8qv/MppkPGZ8CEg8dQ1YPBQYWvgNo1n8FsQVpy8LQXEIBA+dm31VPHbq/Yx+AYxO5NXPDCs3ylEw7o223/0sTh9ZgjrTbbv133d12XcQ/7pFwUxzTjyBnyCMgTCIpRXg3q0gKdT6ou3zPVlCsvd73733EoJf2hhLnz7/ST3+jqFHH3or2G5G+AtZosuSZZMBgb1sSYvt8i7JNDkRVgxE0deh4VwCOudqcGkafKytmMLC2AaW9BoGZaWBjmTLC55LCWQslrputa2Wm0bilzt4r5omuLfAv6xK902vHt6Dv4USxQG8pnCPYXiPeS4MA95yEOOBKEMoq2Y4s+BJPk4BfSu7cgUCq8BjUHULsCfLhccRHH8o3/0j2Z5aeMtFBIxSSPYMOOmdawNs++9EaLR0zaIqZ8cvdH+18CS8Lv++uuHWB+Rlpowf18idI0eWPWMYhATa1WN0CtfI7JiPAgBA8WUa7RTRF6MWjzWBPnd7na3q2QuuUrH/o8suduAoN8FFGBCFt6MSmMKIJVF8Yy4Y71VdlKWVTBlfEv4fvCDH5xKFSUM0yjF0T6fZwEUICPA+rHCYrQUWdY47RjTIENMoyQutpWRUMd47BdXwrTofVu8y/mtBAOGS6lh5WQx2AdYewx8MDPwaZ/2aalUExpgSgv5csvfLro1aDHiLmEzlxShqM0IcIDJYuqxxGAu+F7v9F9WaEDoveENbxj3WcSYWRGW+uW2vlaWDwPHqaBrC0gBppwSwEVX7fe6JzjN4NQgrFWkK4wr3Pz5P//nh3vd615DLDvJT0v8Dm8t5RJvATHVlu/kF+tZ892+fyxOrGr2VLzNbW4zsN4Q5DHFm+VfardS3PTNsmTtm/c+4ZWjeINriwu8XdsT4mahYip2a9Isxvge2Vd9ZAnvWxM6xsdWWdFP0dI2mtPHlRcs0VEVI6ZmB3KRzCAbDSLdox20Rh4WxDKL/F6WQYOnJTBoIk9boKQBugNoFXB90T6luwDvA23eBtSxZvFY6ZZOAafbgNxndIH3qkeFRw/khjT8Yq15fcrrfe9737zqN37S0v+WAE8VxwDscsFv2e5PmBuiATpWC9XgscAzmZxRK0XkJEBTrymHpXTCizY3R2UBbE3iGogVD2BiBSWAWnO3b6yMsbA1GfjcBt1GlARcrHkYYm1dNrDyYS4FLHFlkbVRM0FEMGGaoMpHcYt1GZkeJr8LWBB0npq2KgHSxqOAThXZ9rt71hP1NqXMkhvr9jJIldmoyjdWV6MoUGXOh/hbwnd9N4WOqRjRg7lpqQp70qvBibwKqtOyeiwBusQQtZupHvVDJ1XOSqNGr9KhBGOYaAqzNLVA0Jt6w4S1ew0KhK9pKp1cm1Sa28ol3kmg+iXhf8973jOFIgYU6ypXJ6t8GD8lW7kpK2jcoABM+8yuhJfotqbYKI6x9iun2eYUFX3EIAsfsRTFIIQiQhBg1DfccMOuIsx+Z4XTh1jBDExba588AfpFW8XX2oS29TXCmDUGUHprgI0XgBaHsSYr36E/QqOmK2vWIj/Gn/YoHkbRxAfmeIDw8mYtYy1idX7Sk56UA92izxrIxdqptHDEusNxc2EDKe1O8JYCVGVYc9WH0J5lPPoXfoJGKNW3AABAAElEQVSXokG4oAxM61bp6lPA0oOqa1mOLJHZF4ov6IMFlJXWWl3v2yv+rj/X8gDtGWvUxnJLQ9r6NNlEQSQLDRYMmMtIYFCOh9aAoO377lulTVplEWvLsua+lm2Z0l2DJ1Pp5JiBL2sYWFLU9Tlyj5xgxTRdi+4MiIo3mIaVluUNlGwyFJi2V3cDMpbkFrxDD/g3vBXO4BGvQYOs9QbDBpbouJYwCNPSPl5bbU25FTfWyeagBW9XPkuMKJXb0m3L5x6dxNrIfG1Qg2dZDgDaPuxZXyqaLYNLi1N9j36Cd7UzOOKWsmtpFzxbErANyB/tF2sbc7BSivq2OCf+FkR+ELDwk+NJC0E8owdZNOzoNRSFvmSBdhtPWsK0YGGxd+3WKkE8+c4i3xaiIXKBahBFOuPUNwvJpTH3s5hXeUEtTG8XCEeHyngWEhdY3BwNn+8t8ga1cDcIK59rcbk8y9EkiD8X21v8G0Ikw/mzoFa4WlDrXXlDc0xpIZjM6P0cgnwsuzCh8GY6bZwgrEveCRsCZ1z0awE84DlXOApBn+84dVhwbGH4FJbwXeFsWaEtpKnOwWjzUwiBfBcMp4Lm1eJree0LcI3O5MOrUfsUTrVbCNvZJOG76tteLVAPJjamIS24BSFIxzrx5rPgWlw4RDeVDq9YOC46QVvSsHhdGI5Va88frsKvxVsIrXGbk3LuCCaT+eo7cxAKS36v3QRCOc62UFZlLuC4oE1rgX+9b6+huI7OMfV+G92G4pd5a8MQNhllSgs8OYuWeKfzYqw2Lzpai58qk6sF58qrnrbYaiGEeraTb/KWfsGavhYKQ6Yr/vSHbkIgVXKXfBceX21pd5qGZ+XCI1vQ5r45blUecOnZdmMt4A36pW+85AsKH3hfQdV3iX4qXF3t/alsfhyJgP4ir7BcVbC8eqfPFVSZvG9/6lH8tcLuutqSpfqcvqhP2spEusrWypVpWryO2/zrXj+37UrRn904ip/zuK5wnO3wM+HwqLBe5jftA5/lGOk7R6lQsMc0l7Ylm5axfVY3eU/lMQ9r70NxzuD6S5WxvcIvh8o58A2+lBlPbWWkerbpxKBgTKL9pv4cYaRTUM6Y4qML8th3TjShCOb2M4VnYUq2cVTxLGwoo9kecO0dGUDWtjIOTXOyKeA8M5dufW+vRfvSrp981UU+QF+rb+1VvrY8m0K1lbDlMKOvV9wY9I1RaoeFKe3jqRw1xdEmVZYx4incHNXOTpABzzENwKtoCpiWxr+cAJl+JwFCVGOVEONFjXhaoGzGyLB9dck9gghr1ZH34pWieuTDng9z+N4ziWQk0/IRdsVgKr0pQaoXhhCWgcS1zk+Qz0GMoFP4ldI4F+as3mHWlBbtSIhSIgg5AmZpPzNlRV+FN/Rd92dVj6V81esktKb/xqj+kuRP0qeX6Nb7Xf0WXba4Vo5iupcUco8XaHRbX9YnWiVvj6TPTdCYpZgtC/oopWc2wAleas+LjDfeyXgbGosZhtwKhecqZWAboKWiZfU/j7xvW/nnvlHAw/qa+1e6TkE9KTZz3+AvpnozCuNEqzh66XsNkFynNKOfU6SO09fhXtypDJPvSdIV/7zAafXfufrdysvQVA8CzMe80sKyd5D0zjqRRz3qUbn2j7NEWNxysao1haYuOgy5DtKaD1Nq1rNYiG3qu6bgLgKOgjnlUoIYIKS3YK0FCsaVU3u8DY8zRXcR6t7L2DHQMbAdA5ZNcIIzHdguITINGbMOO6cRt6d+9X7lXMRpJwaAVy8SLnDND+IcU/W3YPhud7vbrAdXhblI12uuuSa3KVBm6yg6HMWABfS17otifRHBmpdYGjHY6sP6JAvLrcGyptO6ua40XsRW7WXuGDgMBmLWIT3Brau1dowzg6s10dbUdtgfA5RF6xitQ7TVzgFtV/sXpsc4FgYOanGsEtiywJ5Nu5xYKvx5vlrMTIkIs3oSOmbRLY7/f4tZBMxbvPDDk/AiWRyrJpgYR4Qw9+fia9aFK4F+q3792jHQMXB8DHBs4bjEqYEyWTuJHD/FqzemXTpqqzBYsKUPr/sOFwcDp6I4nvfqc13necbbexfwpsM0CngALnkBVpir6RprR3KT3qoz7/ClfeIqTL92DHQMdAx0DHQMdAxcTAwcZDuei1Z1yo61bWuAC31tb7Am/NUWxoamHT9XW6v3+nYMdAx0DHQMXK0YOOgax4uCRNMM4RF3UYp78HLa/9Gi7/BOO3jaPcGOgUNiwD6ZfQ3UITF6sdPq9HCx2+9yl77Ty+lg/FQVx3BzP1JqzzY2PWuw+WidDnHWZTlO/lMcxlYaueu+6y7gJeyEFI5MNjC1KXCH9RiA4yn+WbBjm4f1ifSQqzDAs90GvjYw79Ax0Omh08A+GOj0sg+29gt7KoqjUzUcTWYa02kkwM74ni2EvdzgFAanFnB0cRatdXiO4ToEOHXEdjRTiP3ocld53nfOo5wqG9Pwa5/tMm+NJecju8UDu+zbkd8u/bvAebPArv9OiKBEc3DpsBsDTrK4Y5xwAP8WeIM6MWbX7v67U780hBMunLwxPWXh0pBXzhsnlagzb3YzA84RrzNpr5xa9pqsxUCnh7WY6uFgoNPL5aGDU1Ec7XFFSXSclL2aOJjUEV4sXZcLKGu8fB3b83M/93OpOPL+PSQgVMcNtkCZdCar+tvn0BFmLCeU1pOC82btOegIL4fTO46L9TROWRhiV/+tyZvyc/yYo7PsR0n5BHX+5tbI/WMeDRU78w/2IHPMoin/OGElMeNM2kMD66bBQR2fdej0z1t6+odzWZ3jaqBpdwb9iAL9zGc+c4hTKs5bkXt5ThEDnR5OEblXYNKdXi5jo4YycXCwO7xd4aMaR66OprucUMcEOo7HMVexV18eyaNcjjU8BDjiJ/b4GpNywoa6O/YozprcOHUgzslMXLTHaY0R9rxpj4mqo5Ic4RRm+VUpOYZJ/Z2KEufF5r1j3M4DxDnBex8ldjnL7ZhBuGvp2ukRS6flnLRsjrrTxk7nOSk4acUJCQVLJ7fU9+NcY4uNjTKDUHo3MVjbKxknRcCto+EcxRfn4OZzHCqQfSoGX3ultxQ4BpQbRynOnW6xFOcivG9P1FDHGHCcqNjw7lSlJdj1/aLQQ9UvFI88XaSer9RrSyfqWLwg1gNu4gznY1Vb33W8JNlf4ASZbfRT4ep60eilyn01Xk/F4uiQ7pvjYHOHbtvzkGXMvk0sb5cT7Ln1/Oc/f7juuuuGa6+9Nk8AsIHrjXHY+v3ud7+DFCXOdk1rSCVmI2yHk7OQOHGApfEe97hHnjDgwPnpus+Kt/bqsHZrvhwgb9qZk4sp6lBUVyVhetpB7XGmZu5JtirSZQgEL+jjPJ86xKJrsbVtnNB1nDOaJyWxaJ8G2NvsV3/1V5OeTpI++rjhhhtyHax0TKt/0zd900mSvCSu5Rim8e9yl7vksgzWQfdPetKTLgm79MIOBnHueloYTVfrO3GWd1rTl+Ls+96yjtvd7naZpvzWLO/YN4/LHV7fifN9h3e9612ZNV4b5xQPcd7wsYsSZ5EPd7/73XPGaC6RXd8vCj20dbPe+5GPfGT76oq7f+lLXzqYtQLWZluy5RAH/YKcIrf2BbNY5GsYRnJmT3yHJ1hqYsZxDVwkeoE/S2nqR95fdXBobZlVw5muLA7bwCHqoWTNBtl2XuxchOgA42v5F8ylU2eHVpj2uqbszrqcS7dNx3072t8VHi6ci70LDokzeb35zW9Oi05rcdRu7TnAu8q05nsouqtGnkarLd7WpH05wrRl2taWrM276H5XeY3cW3jnO9+5CSa8CUU/0z5O29z//vcfLYFo6DGPeUybxbHv23Z1BjKrPkv7+9///jzT/fGPf3xaTPfJwHmrdUa6e5YzwIrfWhy3tcNSfnFaxeYJT3hCWhvf8pa3ZJqhmC4FvzDv1SUGMmN5n/WsZyX+xxfHvAnlc2O2Zgm2fb8I9NDWy9nTIfw3seSnfX1F3eNPD3/4w8c6haPkJpY9jc/oRj87Drz3ve9N/JklKIhB4Fb6qXCuF4Ve8GezdbE8bPzFcrG2KlfFva0uDgJve9vbNrF2LolHB0SApnEJqgJK18te9rI8HF4YP1Nx3/7t315BNrFeMN/HaSSbcNoY37vBqIQviLOx81k6GtMUl3xND7/gBS/IdLwPB4aMElaQfPdZn/VZm7CIVjKbNWWnVJpyrulhQhKEFeoIsyHQwgqZ+RCcwimfDmsqpICyG9bQLG/hQlkpCTXdJ+wanMU6u7GuLc7CGpnvW/xW/q5TxVFelAzlgaNWiQlLZb6PI6LaJHbemwYxlb9Uhp0JnGGANW1JsXne856XNABv6MOSiHbKZlqFJz/5yYnLdsADv9pfGq6mAeFfP/COAnmctpGHPuEXlv9NnLmb6SnnL/7iL06Ltvp5rl0NftBNQVhkN7FmsR6PXOdwQDFU1wc+8IFH+oqIyl+K43HpXflKEZUmPmGpwUUHwh/easkMvusZLz0JPPaxj90q+Hd9P+/0ULiJdcTZz9TnSlYcS7nT9y1tivX5R+gmZuKynxVe9rkaLKK5VnG03GTbwGOa/kWgFzh73OMet5lO90/rcqU/H0RxLAWEsvbud797w1JAGcPsCT5WGEKQ8qRj+hae1ylcKXsILhxJEtfihMdqxrUerwUM0XdQhBrONjm6RrAxBbcRRwchEKSjk1D4EKV8KHquX/7lX57prCm7gKV0ihvTW5lGTCMms26FD6Kq9HUawq7WFcZxhZmnv1LEKBksIQS6e3Er3L44U9cWZ5QN6VGw56DqXhZHSqHwpVxYA1nw1V/91fnNupU5YGUmiK23JMBi6iwHDXAjTVcKgbZRRs9GvCxU0nZv4BGOJ5m89YTWoUrn+77v+1KZQjviF1BeWJDgmFJFoSBErZWcwpr0pnHWtCWaUwdrg6zpQydodJslC83CSSmOcZRZPouHjktZ9CycdUInaRsWKYOumFLKKoZHfTK/sr6jZ/ijsKpzDbQEfsUrXpHtoL30X7MEBoPTdqVkEzz6GSCMDRLLepgvm78pDggyddUXXGM5QBP6qOIIL9W396H3NkEKpDoX32m/Te+30dk73vGOtODCWywdSX5DYSZY9GM8C31QlA0+vbdOGf7QJGVFffBBuCKYhNcW1V7T8kyflc8AlRUEaD/tXXXT/oQ4usKT4mjNMQkDFAPdGgCHB//4TZ2EZ43T95T5da973ervF4EeDJbxD33wKU95yirF8Tj0sITn49KDdtDG2tSv5YtjA83cMExoV+t75Y1/lrW6DBlkKx5OnsRuJGMq+gwa8w3NiluzMcWfdimOscRqwxKpzK6tAee804vZnuLJeBQe1hqDRkRNbs4DvUyKdOLHgyiOiJAyyPkFkylLFcKCYNYXhO0e4ikXmCbA5LzHWAHrjWc/zLQFgkt8imissRnDIXDfbrrpprTQiVOKTqVDqUHwGAXGTIkBa8ouHMaMcTLnS5PQIQik6T1Q7/pGkBICyoFwlLHCMcsL59173vOeVJgoSB/84AfzXY161+JMh5OeX4uzfRVHuCnFWlqxDi7r5a/wuaQ4ardy4qCIYgoAHqRFsZJ+KSneEWaYH4Uvtm3KcKXQY1ja2g/u67m1aBmo1IjWVK40CYG5BdkVf1t6WeBb/ta2pbxYdlvgBKUs6j4HU6WJgoEeKUH6jKv4lDZXi85P0jZzZah3ZZWm9KJnNFk41Y7yN8VFyLivQc20XSu9tdcpDsQrS5l8CLgWtJu2Bcel90pPPyM81XWN1XUbnRVdKTMeBncUNW1I+QMUON9dCWVOc559N8ipWRZxCW9Ks/oewoGPAi8vbYmG8Kt2UKMMpXxrW2EN6gEcedYuz372s/PeM5615nsGWvl3VvRgoIf/gLWK43HoYQnPx6EH7YN29Vc/7blWcdzWHGhP+9aggyxAhzUDZmBkkGHAyyFQ2JIRaxTHGoBQtgySGAqkz9C0L5wFvdAVyC9ynYxWf3qAfrUNzppetpXtuN8OojjKvBQ5xIbwAARDLisCKCsh4V+WCUQoDIFZUIoVJagUSUytFEfKWykpOpFOU0TfTo2VsNOx5FEjcApcKY7yXFP2UsLUTd5vv0XxbRVHwlc+GLEO5puOwSrVWksrHEblPaWxmHMbTtnW4qzqehLFUX7AlKZ6FFPwbpfiiAloe0xAR6pRLCYhrXaq+rnPfW6+o5C0AFelOHoPf9q8gCCj9AOjX+FZk9vnbev3tqWXiTR/1Ua72rKJMt5W/YrGxw+33EyZHqVXXfz0GUIBPg244A7jKThO21TcuatBXPVX31/zmteMOGUFLiVSm+o32gDMtWt+WPk3xUFFK0V2m+Io7HHovfKgkOv/cAvnBnZLsIbO4Ahttetb0XEp2ZRTebG2ALzDcw04CGbPZhwKDD5K8ax3x7my5Go3HqvAIAx9FRB8NeNgEKQcPM6BtlaGEoysSb7XIH/X98pjzfUs6MEgWNuVVXyN4nhcetiG533pofoIRQyYOVprnd7WFiVDKUiAIUh740NmJ9wbtMnXz3PJ0TWKI7ojCwuqHmTLvnAW9NKW0cCZcQQO2pm5Noz780Av0zId4vlgZ1X/+I//+BCEkZ7EwWACn0N6HeXNLX9BKHkXTDU9G9tv7b0NlgtsfhyKVXppRefLPe1i6nKIUX0G4alsg2C/EHrp6Vpx7QEHQrHMIwbDYlGfjlzXlD06yBCMdbBfXxDKEKb2IRTiI+nw1gT23vv4j//43ChauBAMs+F4YN/rXvfKPQFDEA88vqMDHgm7FmdV1yORj/nwcR/3cXvHDOUjvX951AdzyP34lhL5sA/7sCEEdp5gsxTGe+E+5mM+ZgzCazc6bD779lEf9VFDTKuPz8r90R/90WP46c229KZh17blNJ5n3nb7gM3y0UwoMLkxe0wFD8FMhw//8Eu753HaZltZbF6vvQpCGRj8wCMe8Yj0lgxr8RBWzyEU/RPvClD5LF3X1u8k9P60pz1t8OMZjxfFoHCIAVseEhBTimPRPvMzP3Pw20Vn6OpOd7rTkXbndQxfIWgzfYmGdSjT/oiP+Ii8Shfwnsc7HUxQ8Amf8AlDTCnX47GvMdAawsI6/OAP/uAQCl8eRtDyI3mEAjU88YlPHPtSlVOm+pPdKcCDHvSgvMagKq/+dn0fAx7z5rToIQT6EIPM5FnljR4KfvZB+/DaJ9eBEYeih2143pcewhCS9BJGgtyFQP+9613vekwMH42GLxdd3vrWt86PoVgPMQDJe/LWbgSADEb7awAN4mu3v/3tx+ChtOc9+XsoOC16mZYP3dtdwzUs8MOjHvWog/KPQ9LLtOyHeL5UMh0z1RhtJ2HYCiLW1M2mIgwowpsNNHkZ66SS+WKslCiE7aSTaRoxSprEPPqISRQDPPplGNaUXRxbGQCdCEOegjLp1LHuKctYCkGMzoYY6Y/B23BveMMbRiX4utg2CINv4Tg4wxTDpD6WF+62QVhtFz9T1MJSO55e0ipybaRYCpAMJ6wmKaDgQN3mYEmxKoZVcaZMadp+MX02fNmXfVnim7CLkXEq9RV/et2VXhu+bSP0ttSWbRz3cE8BXAOxPigHF8JiQARyWGaHsHIO9773vUdmvZTW2rZZiq+swMCqBYLCBv7qYbBFYUADD3nIQ9pgB7lvcXDcBPel98oHnimONtEHtiWJqeP6PFDeKI770pkEDCptURLWzTwgoOVXS/Q/ZnzAm7AWZn8MK2IOfG3DhKcWEH4xVZtbpuED29qYghuW1aSNit9ed31vwy7dXy56QNsxm5O4mZblwQ9+cJ4MdUh62IbnfekBnikrBgJhbcyfLda0zSGh5bexvi+TxqNjFmjMpuTT+GLhJmZf8ktrGJE+OYrXHBcuF73MlY8uAhdObQPnlV7myn7SdwfdxxEiWf3qiLB2ZHvcgsbi8Rwx28+uCLZlwtJlCTRapzgsQUz9LX3K97vKjgETsGGenlUaK/FrrrkmFWhWV1Yke1iW9arCuFY4RzKymmEsrcWhDbvPvVGz0XIsBxiPQiwFYSkdp8hQjCgMLbBG2U8v1iJmXeBoqU0drXh9WIYJKMqGoxHdF4R5vG4PdjXixizf9KY35SkjRrQsvIeCaqNdbVn5YYpG1Gv3onRWeEwPVfRxD7RdtCrCPm0zZjC5YdGMacwcrMSSkfErZYpgddoT5dRJLsUcp4LipO06xcFYiJU3x6H3SprARtOf/MmfnK9iCUrum4nX+LFKguPQ2aMf/eiMZ4aiFIOT4ioLs+cfRdisTazFTCtVGx1/+qIv+qI8pq14tu/byskwcJ/73KdN5sj9ru9HAs88XC56kA9lpv3hXxQZ7+zBeyh6OA6eZ1AzvmIFDWfEIZYYpOzzYS3PGRPZ8+YOd7hDxqCoFqCT1iBS7+eudUoZ5aoF/OW+971v+2qv+8tFL3OFwgvx/LKcnld6mSv7Sd8dVHGk/Ttu0A+Bmd4CU0vSrkKX6ZpQqPRYryhYrABTcPwbxSvW2B0xhbfhdm34vavspnNArOEby0Rhsfkp4i2oDoIhxxqnnAKrb+21wul4jizcVb427rb78GpPJdBG4bE+KcsQHnizUcoSSTGiKNS0bwWm/NlknBXVJqc2dJ1aRCusAYO8TdE7BxtIvxQOFhhWSAyPkgLfU4WW4hdraSrJnOprFVVWRfEKbF5L4JkmMOVP2LfhK1xdTR2236fpVbi6VhvtassKbwkDpZklCyxZZ29729umwmIT9ljTmGGN6Fk2AVxRDOEUtPSVL+Jvn7apOHNXgwY4tXkvK7XjFAlOU8EsUJR/m57LLxzZkv7R/Vy7zqW/9G4OB8LW0gwMufq+vq2Mc3jYh94rTYNAQJmytGKXor6LztBza7UnUNGadvzlX/7lIbyoMz+0b/qzZkdaWnTf0r6+QagC6bPoH0c5qDTQGlxpO7jU1toVsF6Fd+s4q4AOWbBArCUdp9jxdOU0rV2w63uF23W93PRAmTegb38GEYwS3m2zgu1LD2WtW8LzvvRABsXa/0SpfsugUkYHFm6beFv6tC9o25a/Vj/x/mM/9mMzn3CCzfaP9c95qAC+C4QBLQ2Hg+FI6wbUljNZBmDaGtj0G4QTWF73+bvc9KJs9BLLW+BfPfVHMtGsxDY4a3o5Cf9YrFcwuYMAp47I5JKfxdihmWce5TnLGaAgKpVxLHYtqIXr0/RCEZn1mA2hNjoX2AqjBWmEQtm+ysXi7bs1ZbcgfFoez7yranG5TGqBufdBXGO+FtIGYxqfK5yF67UY2cdpuLU4E1d54Cg6fzokSdu7pcW7wRjSMUIYi+Cj80smt1TyTlmArR8q7aXNTuFT/crhh7diAYcV8dGCrXWU0bOtSDjToA9OKJUHpwzONZ6laYsQ8cIakO+EVfbyXhaufsLH+pDKeryuSW8MfMtNtdGutqx4HJmqjByuliCUsdErr/bas71M1aG9clwJi8WYVAj/DLdP24yRZ254j3Ooqjx5uocCnyEt2odP37Sdb+5Doc3vbbvOJL311RwORKhyTK/ok4NaC8LsQ+9hSc309QtOEbE0JJ1s2jTn7rfRWTmNKUvrxGQroqoDZzp0oaxom0OSb5wEOfbpM1UXNMdTu/oI+ihHLWE4KuwDMZgaaY2DBs9Y6fDsbvu//Diw+QY3nI94hyu3rVN4eGuDUH7G7Hd9HwOuuDkLepgWi3OSvr4LjkMP+nG1cYvnGKzvTQ/lTENOcgbFe4tHFN3EYGtXNY58R5fFu8g6PBS9KDNeE4PJ3PsRbXjnFwpryq4YHI2OIuKQ7+i4eEf1CzQVA+ukbbwfPdkG6ThwFvRCz6i64yGcdPHPXXDW9HIS/rFUt1v5EMi48FDTrGUJOa0KGR2yfjpOzXSGhdXe7Rp1nFZ5tqXLlM7isMuRwAhKmOkawDZtIyzpTZcJVBijS2tWTFVxYplamY26reM7FMC5kbYpculKn5WHJYX1xFrBswBWTGVbsjZWmYzmlXlX21T4bdddbbMtbn1jGTN1PV1crl8ZsYYQSAsxy4L7gpO06yFxoDxr6J01VX1MvW2j96rfSegMbvAjP+lwgihHiEp/7RVNh4KZVsEQ8GujZTgsnmWwLLasoy3dxS4W+az/mnngAFEAp2Z+WOjgrKbd136vcGuuZ0EPa8rVhjkJPWzDc5vHrns8RptKT/+8UzhmFeCBpkzvdre7DZ//+Z9frw96xePRimVMxwHyhkW0Lfdx0jkLeoFz/VrZp31hrg7ngV6U6yT8Y65eB3OOmUv8cr47bYWx6kIhMW2nIZxZycPb1I5piPMGOncrIJbKZxpiF1iQvQ1qqqTWi03DHlJplLYzUDk1UNCUn8JDYTW9ebnPRG/rSjHYpTQKT2lZ0zZt2kv3u9pmKV77fm4JiO+l+LinWLZKo3cnaddD4kBZ1tB769Upzi44CZ21uFkacO3Kv747nx6d76s0ik/AldLoeUp37bdWaRQWTgnJJdj1fSne3PuzoIe5cmx7dxJ62IbnbXlOv9XgY67PGgCGFS8duqbxDvWMz54E0PEambMrj7OgF23YtuOuMp4HelHGk/CPuToedI3jXAZX2jvOF5RGC579OpwNBngdsxxRGG1FwRvUNk5G4hyDOnQMHAID54HO8BkWGtsidThbDJwHetiGAWujOUSddKCyLY/+bT0GzgO9nAb/uGKmqtc35clDYuKt5YXzyHm0OJ68puc7BUoi5ySLlimQ97znPRedo853TXrpzjMGOp2d59a5/GXr9HD5cX6Rc7wS6aUrjsegSOt+2q1/eODVdgXHSK5H6RjoGOgY6BjoGOgY6Bi4EBjoiuOFaKZeyI6BjoGOgY6BjoGOgY6Bs8dAX+N49m2wVwnsvcb03aFj4GrEgP0FeZEDx3K1+86dV3w4WpR3ZYerFwO8ce1Ryru9Q8fARcdAVxwvUAs66tAG0zykOnQMXCkYsL1IC5aCcHyaGyA5icUGx0960pMG58fzkq5Nrts0zsu9baqcQPMd3/EdBymSujptqg4ksB2LjcVrA+aDZDKTiHy68juDmBWvbJbNizj2Kk6PXJu5X8lgmxx9uEA/1p+973BlYKArjue8HZ0sYr8sW2rYpf5hD3vYeKTjOS96L94FxwDriBManNxyWvDa1742hSnPeCf/AEfk2QbItiJTiM2EB+ctxwbDw4tf/OK0ONpL9RDgVAj1rVM5jpsmz1Z9VZ+99a1vnXvtHWpPPcc/3nTTTcPd7373PO4Mf6A8T099Om7ZKx4FlcKjfWzx4vSL2nKrwvTrOgw4fQs4UeslL3lJ0nedErUuhYsTSl908o6tgur0If1Yf/6Wb/mWi1ORXtKtGOiK41b0nO1H3ttxMkCeFcyi8IEPfCD3YDP6Z3WJ01nOtoA99ysaA469cwzkaVqz0DALmuMdHcfHS/5rvuZr8rjMuWM4nV1vL8Mv+7IvG8+YnloslxrFeezO4Z4D1jTfKKQEvY2wjwvimxkwjS5dx7KxuKjnDTfccNxkMx7lrRzzbHZvL1lHubG+Hgooo/ZzjBNKco9auxXYr7bD/hgoj1rHWjres44xrTbcP8XzHcMxno6kfPzjH599yWDwK77iK3IXEnTa4QrBQBD2wcCRQgUhdPLou3re5xrTMLNHC+6TRoUNxr2JaaJNrDGpV4vXOIB9Mz2ycDHwig+xw/54jF+Y7vPosBXRxiCOMwoyyyPhHPcWZ0rncxxyn8c5Ob7pUBCCbROWhcXkYi+oY7fnYqL9w7nGgD7jCDNH4J0WhJKYNI3O67g0dB3Tr4tZxsBpg7/E2ckZ13UNSL892nQaJ4R7pvfpn/7p0097PTsKzrGC0gvrY9bLsZl1RONeiU0Cq7fjH+HL7zPiuLmW706C7/3oKDfpOn4uplTz53jCym/vBHuE8ThVR+w5/hUu22NqryQUVZ9Ux+rP6h3ntl9J1bzq63IQi6MR//XXX5/H7wXB5LFzRhesFfuC6SfTPHZcPwQEwebox4kiu8BUgrVThwAHuNth39GELDcsK+73Sd8mrnFOaE51ma5mxbBnZJyneogiZhocDRzbF2dv5lFV04Qdr/TgBz84LTwhDIeXv/zl0yD9+QrFgA3VWQxMU54WxFnMuQeqE5ni3OchBm/D2972tpzqWsrT9ldOjdgXWNHEXQL5ml7jxHASCAUxDwewrESfAddcc81JkhzjsmA6Vg7eYiCZVsHpSTBj4GPcSJvl9dnPfnaWmaWMxVHbhMJ6jBR7FNPT6CrOcM6TeK5kjDzykY8c4mzkIc6zH57//OcPP/IjP5Jr8h2c0eEKwsAhVGeH3cf6oDEph3+/973vHZ9Z/b7qq75qfN5141B1h6kfClgwjdR3AQuLw9wPAdJiGTByf//735/4CPN9jsL2ST/O9dywsAD3VY/YgDwPjK+0WCdZDfeFn/qpn9q88Y1vzFHwc5/73CPRWUk/7/M+Ly0lPrCgBulvfuAHfuBIuP5wZWAAbemrIKanR7qb1k441ml9BY0cB2IaN6OJH4OTxSRCkVnMo6wbU4ujOqztC1WXGOQulkH/i6nrxe/TD+pTddIvY8lJBplaHGPAvfF9LRTOhI81iFujaZtdlkjlUoYW9i2TuPjSLr4Jf8XH2vzqHr0VzupdXde2p/hz9DjFw9r0Kv9ttCGMsvutgaLZqcVxV3vOpY12zARtw2ucSz7bF/SPfWgvHFuynefKUe+kFw6cl9BUfXeVTkvH7Tf3yhVno498aPq9nmOngs1SuxwHl5Xu2mvxjZPwwDX4WqqjclYZtoVZW599w/FcPDG88pWvTIWipng++7M/O59jVJwd2VTH4x73uNX5mJY9pOK4OuMDB0RUcfzdmKpp8FizOD63N6W8vfOd7xxfm7KjqJn6KuFTH1vFkeIunKkB6RQgLO+vu+66erV4ld5Ucayp8Xb6/nM+53M2MXpcTKd/OF8YePKTn5w0UIpUWPTz+YMf/OCRgqKhsGTnQMf0cVigczlEq5RhyJUeuvIzMBK+ADMM63pOyaE/EFtIjULnZ37mZ3IKV9xwQskpXfftwFI835THN3T91Kc+dRPrwiqbvJYQbssYVsMxzutf//oxPIVIWsoPPMfaq6yj937q/KpXvWqME6dBjdPLvpt+jmP/xu+EtvcvetGLxnc19S6t2P1gfO+mVRwNwvQ58fHJFvAMdS6A9y/+4i/OsAafNVX98Ic//AhfCEtP5lFThNLGR2MtZCU1Xr/zO78z09N+YRXK9+pTcZ/znOeMYd3gRdqjQBu98IUvHOsgL9/DMnlEqQ3HquRfvvvh7e94xzsqmU2so9zE7FR+812dWh62tj3n8I4WY4Ym0652X5se5RJ9FA3CE97dKsjwVW2q7DfddFMqY+4rv7Git9wUzbaKo3zEMaUbTjNjlLB85/uwxo/v3MCfdhWnftqr+psw6JTc8B2dxYzgJqyePmV/XKK9sIpmHHUB+pzlHUUXZDwjUQ04KOoxC7XxvsoibfWP2axMo/7gtMqNDlolH+1q+0rDlQEJjgvkGeuHk+dUOO0CTwX6km9kVItL39FZ268qTl2VWdxtvHIND9S3w4ltY+lbAb6HHtfgaxftreFdle9pXQ+iOBpNYmYYCWDF0kgsUxpfYyAmhBx7r2UYHef+979/NqS1QAinYKo4GjEifB0LoYTpP4OGl1amKd2yeFqjozPL9+abb95YW6TzU4JACSVEirikCQgJTFlaLVgfKS1hK03fYxH/5ulPf3oKGwRKqCBKDLngxhtvHBmNDvCyl71scXT4ute9LvH0oz/6oxndyA3erA1xxYBbgE/MHMAX4eVa9fEegYn7BV/wBR63grJPFcdnPOMZGb9d+xherflumwXGtyc84QlZPm2MMRpcxBmqyfS0j4EEJiBfiqk2xvwMOrSxTqz83mNMBDEhE84RSUssoUbasZA/w6u3NjkEyIeCjObCKSBxioZaK/pcPpgCAYaG1NuASb0pIxgHfKpHeKtmmau/vOIVr8j8fEOXRtPqToBKR3wCWZt71lfgDE3CH7wuAaaPBooZohPPbX9Dv94pt34Ml4Skq/clLK2ngwfl0rdYBvQBYWK5QxZBWfV9AkKfUw9lpgxhnOqozBi88qODUhworwAO0QDhp5wUUXWnBLRQQrhVHA2S4FW6ylqg/spZaxxjGi3LQUBSotWnBrzeoTvlRAMGc/pjKW9vetObMtmywMcSl8om64e3yVsfaKGUDO/UDd/Dn5RLmxfgJepboC7CxBRy4lW/r75ZCh7lXBw8AG3EEoPkHaU4TQcK2hJvc63BrXork7aUX9vvhdMmBTEVmWHUMTy6U0kuBQgfBeFNm2G0h1kfeCuaUl9KiTI/5SlP2cSxoRu8T/7yLmVgbXuiqyne0YU2LB5KIK9ND361IX6OBikCylU8V/3wCO+EC8enrBtrmnf60RwUzbaKIxxQ3pVVvgXoTlrkXAEZ4t1LX/rSxCk8fsM3fEO+K6NEraMkJ/HEcPhKupQPxUdZ1QPfkVZLe9rSOzSAv6If9EGW4xO13rXkrdlF6VJuzayhGf1VGlPlmcKLhsog8e53vzurpd9LAy2jCX2vjCFljGI51S+Ux7phz2R9KZvFmwuXri0uZaR/e78Ea3jlGh6In8VSj2xPdWGRhw/tsQZfu2hvF+9aqt8h3x9EcdxWIKZpjU/guwcYBKFRSNVhKAIFU8WxmJzv1YFrNIGxa5R2Mb13RtmIEDH6bqQJMFUMHBCIRUg6NOZThOo7AYkpsPbpRJia8AhB+jV6QijC1vO2qQPpzsFUcRSmBJnysxS1oBzFxKrjCVf1EfakimMxxnYapphN4b8tU91TLuEC1AhWWTEwjhbKqKwYi3DKr7MQKgCT8t0VMypm5TslqUaV4upElGppKu8hoMooTQKgnkvALuVB4VRuzNloW3w0hdljlhQo39E3mmFVI0C8MyWrP7hHs+4pxZ71D3gn2D2XwoVmMVL5tKP3tnxrmCEcSpfwwtwpAOi78kPbwOCKIPI+tsTZ/PzP//zIFNUHUJT1IWWmHOnXykfJkr585EcYoxMCSprea2eATkpxyBfxZ/AjDNwWlBB2LUAz8hPWtaAUR8of0PfVVV2UC/5MdYqnLtpD+YpniaPMvpdAmlMcCQdh/Kp/igtaxVFcQrTCtv2pVRwp28KgHXVHEwYRBmdwjL4K9CO8lRCnOAJ9Q/zpwLMsjr6hJ2Bw25apdWhoFUe0LW/4Jbwpiuqmr+KX3sMneoHfFihB8tROlN1SQCpMWdkMHsDa9pzDuwGavPyq765Nj3I1tRiXUluDMLhHK6W86LfHURxvDANDlbOVg3OKY7WPPqbOBcriGxCvtbZ7VxZZ+EV72q/ybGmPVdJ7/ZKc01fbqeXqR3ABDKjwPX3dtfqLslR5MmD8UdzRWuVb/bb6Bf7eDrbqPdmOrsVDW/IuRZFVz3t9FeCplX6LS9+0U9FmK9N8A2t45RoeyMBUspu+oV76L9ytwdcu2tvFu36rNqf7f+qKo+IT8EbNBToxIU8g+ZVALQJtFUejEoRAsRK2hGkRSo0mES7AaEtp8fz/tXcvcNtl5fzAd5mYCQ0ShWpGxYQa49A0NfpPGiMMMk2S0smnk+SUkA6Skg7IOYc0lQ+mk4xKIiOkUKRQ41QkhCjn8/2/vkvXbT373fs+PO/9zLzP817X5/M8+957r70Ov3X6rWutay2VwvdJHFUglSYbxX6aSUHriSN32YDxKxs1DTdBYBTELIRG8MJSMbeVKeLIjwxzFXHkTrppjMQn5XiJo3ySnl5o/zyjIZgSGl1xoIkiea8RSJE/cO7JDm2KhpfQZAkDnkSD5B4WBN7uTV+mIBZJPPPZ8VzFT0OTovyOG8J8l9dxHKQZFtmY0uiKN1KSonPL8sqdDiDrigEI930Z1IFLZ2KXHfHcOpdNGsMcfGVZy3xPjRGSmKKMiZM4uOpopBHZIdJAAwI7DbxOMesaEuEbGhFYZjgZ7rihzzBdE7vUfno2RRw9Vxe0KX1dyA4PHinCy3TQ4BDxm9PQG0B6nxq1KeLID9oQYa8ijtypnzmw7Tvvnjj2ZBXpVS75rUyMNShmc8Qvnys/qUGiBTIY0SnllCaijOglcRzHycxRSk8caZWEAz+W1zDMwVCWpbnBc2qbcjCS/ucVeeW39iBl0/zscb/iiiuaP+LFv56QbOpfhp9XaeVXrsVM7b22DtGC136II/9z0NjXgSniyK02Qt+UGjvPkmT5PSWIpLhnP6jswdgzmmDlgL9ZR2mBlQvuxsJd30+q557xI5d6JHHyLf8NDlMMbISbxNHzLDfPf/7z09mCJp87swFEn+Ne/cxdUgymPBPfFO88g2USSfUsiSOtX9+m5XebtJXcrmsDDeoMvtUZAwvKrl57vw6vjE9/HZe9bduu3q9d/N6JVXVk0lYSrL3tE8Zq2F8U4CFGy5M7y8cUX/M7GsvmNgpnc8tikUThHqLjbZsCu48GY4iO188m17nOdfJnu0Zj3qy9zz777OUJFOmgt7iMqZ3mzua6KcIhUYDbNf0+9dRT2326jZFVu9/Fvxvc4AYbeQNHmw3vUqJxat5FR7P0NtN285vffAhNXLPuDALdrqGlataup5122nJDYtav0nC9611v6Ydn9jOzQXJKNMJtz8ogGsO9733v9jgarXZNnPlL4C1u/YbENpyNBr2938U/cTz99NOXXrGQj0aq3UeDvSfdNqwm4hValyE6pnZ//etff48f/FSOnSKRcvHFFw+h+Rpi4DNEg9IsZjPdp5xySnPWp5N1vfvELvMo8yX93eYqbSTTZ79DwuK+l+gY26bc6quTS0KLNdzpTnfac+zfta997SE0h62O2skgNBatjvJH3ImTTpRXZQAem8Q909s8WPMv25U1zobQYgx3uctdWlnSbmQ8lKUp2TQOrLezrE75k8/krzKySmymTIJQtfLF0l2bF4OnYz4LLUx7dtFFF7U8UQ77OEufshqdWasrsM+2Kz0Tp77c5/P+mnGOAV5rA0Iz1SyGb3nLW/bOJn8rH6ukj2+62zQ/E/cgGm0ngBhstA3MpVNcUzb1L93ndRw39SBmJIaYDWh7FwZ5TKdbXze1jLfLQcyktT7u3HPP3TicMe7yOcOMgXnzR1sSmuj2Owhg29Fj/N1UgKFVa3XZbihBkI5xElPhQxDNtqG8l9lm9Q7tExoDpuHSSy/tH+/5nRv9s/hXD0jmSV49y3d+K+/3jR1f7NYShK7VC2H9v33ucrBJG6j+xPKMtuNBkObWr93whjcUnSbr8Ep3/bVPn+fbtl29X7v4vboW7yKECT9CO9IyMEYAQ/6F9mGywcrO7Mwzz1y69c0555yz9FlHpdEMzUZryGJEsnw3/uG70HC0DYZtLXPeeectzw/tMyc0G+3TJK5uVKLQlCy39Ojd5/v20XH82xX5Qc4ddUbmOsJ10RwTCu5DW9Y6e5XT1ikxQl3+IRNExYYxQoRMauhCO9jezf2Td07DOOuss4aYTtrjbIzznpcHdIPk9dI3oDFFu0yz9DsphIRWo12dbGKzdoOhMPpYbsExlY7Qkgznn39+cy/dSEHKlPs+HtxNucnv+2toQvrbQbgpGnWCAOgwQqM+xAh92bGku5hmaT8NkJBbm3FfcMEF+bpdQwvXyJgtfDTUJKbjh9AktK2k3CubBh2hBWv5jXyuEgOX9GvKXV9nDPicQqNxluY73OEOLez8Lkbb+XMILcxg2ywkTIecmEx1bMuPJn4gaKEBnniz3SPYxbKGVp6SZCM5sRyh1SVESB1Tt6a29QptbwsQCdY5JjHIWMg3HU5ot4YLL7xwmd58j1jaTiW0Je0RUh2a2LYdWLpxNZALrctgAAXj0Pa07dNsZ7ZOQhu0zsme99vkZ34Y0+etzTMIHct+/Bv7kffKC2IS2u02WNxmC7ksa+lXf1XeX/7ylw+Pi0EX6ctj1gMnsexKLrnkklZntNPqJpHv8nPc3syFqSzoL7LP6d2Ftqy1l8qWbXrmpB8gz7nxfGrQNOdefQrNbcNQvTGICO3+sGqQs6qt3KQNVMe0O6HtXEZLWwejlFV4pZtV1121XavCWPXuaiOOfYMdUxttr7a+AMTUSxtVjyN7xhlntEc9mdD49JkS096tQBgBIjT9iGPsX6yRa/tEIpo6R42Mjm0sucM/ctQLIotsHpSoXDrS/XZECr1O22kVTpUgPfbbxBtBJ/3Z2Dqu1LzGlGTrcHW6/rLRCDV6G2EabSFQBgo9IZqKg8bLd84iTjK033hP+b/LZwhTptk1pt2a97e5zW3aqBm5RoyQ5pj+WBn0ox71qKbpi+mMdiwXx/vN+1UB0RJlR8SduMI6f7tqUBFh+RtLQdq7/l/mR6xNbQOoWKPW8qx3E9NQLa9pFXV+SB1iob4hMuo+rWwszWh1FnaZ370/+dvADeFBaOfEDIP0xPRo0/6o/zpzQnuqXIkz6cOyP6l2xXuakuzMe+1A+2jNP9oMnSY89is6OG2dE3EIjVBq+mlH1KGY5m1tJGKYmsip8GjA1Ccy1hrrOGOKcNCG0u70753c45hBWjRCc+kUHLM7vcbOu57sw/bOd77zyr015Y12c9Wgnr9jkZZN87P/1oANhmPZr39jf9znQDmmiZsGfcrN3DOnyCibcOkFzmbDKFJyQJrlwGDBwHrXYgZEmdKWxXrf5v140LEuTH0FRUyS3L5c+VYfrQ6HcdIxioF1fo/fq9vq7CairTZYkLbszwzGVsmqtnKTNhAPcUKUsoZoUopoA7N9EfY6vFbFz7tdtV3rwpl7f7UQR40VFa8MdG5lrBFqI1VTc7HeqR2pF2t5WmckokbwOW0EIN/TYsVC6jaS1uH1mxIrCI45ivUbS61PJjgLcF51WrEurHXSNCskC1KsYVpOM+qsTOkYPYg3oZ0gKgFJ1Xe7iX9ZwXtCnO/WXXNK2jS4c2ezUTJKIjpQU3/+TBEiiDllNPY71pMsp+6lVQFeR0bEOadY0z+aKJqFJNZIIE2O4w5Xibyh2aWxQGBV2h6TWG+2pxKpjMiWCqYD1wAR5ENnlmWh98PvzFNuYZ/aafdIrb/9ivj04dGwjUeiY7+VT3FVrjUM4ke7kyLd/Mhy4rnGxOAF6aCVU09o/pDuDD/Tz7149PmUfqVbbnpx9rL6Y/PhWB/czmL2XhkxakVIsuzRMqiHyNyURiMHcUbPOjdlUf3sBclBNtQbHZ/3SFVqo2gDjbaVScf7pZ+9H/1v7YPlJWGQ0h7306jZSSFUiJC6AwdpdpVuZclUXKztO+b7DOcmN7lJy5ccJKa2L9/PXTMuOkSkSPtDUoupLGedRcj4L05Tctlll7W20DvlVjlA5EkOYi3hMNiN9WPt+dw/GhbhIu5hrNScZRvnRrthAC1/lL0UJAam2VaYyVFO4qSqNmvQD8gtVSGWDpkiXifaNNPtOciSR5vIfvKTv8rMlOzXvym/5BExA5H5nNPVc5j0ZVb/AZde1A2EMtZNtkGW/DbI0m4owwajZNvBTR+G3+qL9pyYGcr4WzJDtiWOCFL6YdCsn8i0Ng/jnwEGkm1GZj+SZUb51laaAp+SXEqGhGecLr/88ob1qtm3TdrKbK9WtYHafgMkeaadMwCTjwYDKZvglW5XXffbdq3yc6N30WkfuATI5ofagtoAs1mcWqzsmT+LalloEhaV0bi252kAY5F+FMKle4tmx2JxuQW6aYjgvYXWLJyEYbE8N/x0b9G0Re6u0fkuLXO9S0MUC5YtcBc2q3CLwMWFMGrIOLGyDIK3NPKxMDgKRnO36T+L94Ul/ND4LBewu5/6ExeLp3tJYwOWzEEu2uJc39oaYE4s8GfNyp30REe7x2kQixYf+QXDmJrZ837qxuLlcZzlqcX7DIvyXeYvP1ge5/PoOJvxhPjAmbGAd9IXmqu2ENq992mpnXnBYInkYu12s+U/lp78F2fptSUPYw7P5HVfxnqvc9E3d/2f8s+PjKOyxGKRBKlZlncW3LmY32L7rCPqR2jG2oLurBsxDdcWx1ukLiyLsPttNTJeQQxa/eIGNso0S2z36kYKvDyzzUoKrD1jgJMSo+n2TDzsWkD8tuA7hUEHLBhi8CPIbr5qVur8TAOTfOGZcjMWlrqJfW/Ixl0QnGX9Vh+CYDcr33QfWomld74VT/V0LDEoW+YBrNXFKVGnxFO+pOTie3mbeMgL7sZ/3IwX5TPK4S46mOal8uVevmqXiDLumbjFYKQ980/+SVOKujsO030sJ5jcLDnjHrMBzQttc7YhMMy9Y4NgtnCU45QgBi0sae1FvgozSGj/uMVbu+ad9nGuDjF+4oZxAVF+t8lPGPvrpS+f2/rX+5PtJJyI/BDX8R+8Y+Dff7r8Ld1ZPpTZILLLd/wRd/7HILq1YZ4xJiPZHqi/vZGYd8o6t3MShL29Z5xE7CQwjnfei592Yk60FcpnSn7XX2Gexo3pzjWUCMu6pm1P4V656EU/z099FAmi3foiz9JtzGg0N72hZBqv9PHxG7bq0pxs2lZu0gbGAKBtS8ToVXuorUoZx8v9HF75zbjs5fNN2650v6vrtXgUET9wMWXVG0gI0KiHdsWIempaoY8UzQrNX2T+7GgIi1+nLaCtoU0xGhGf3lChD6//LY60kTna6N/t+jcNldHqpmtL1oXPv15TsM793HvaP9ivyyfaMSMuI2/4ynfaOyNli9ZNZc4Jt/LGH3+spUrDmLlv5p7ntMC2I+c5/zZ5TkNjVGnNorQo38os46HUWk/5Q9NDGxmNR9NGprZsyu1+nkVn1eLTYyFPlP1+6nZTv483bzYNJ93RsgozNXz5PK/yWlnLdanc+hvXbW3IXPmFEQ0hrcO2ZS46+rbueUpLm3Hc5kpzztAt07PNt8frFka00DQzfdmghdxFm6ROzM2UzMV9P/k555fnu/ZvVVhz7/Qp6uOqPIa5stDX2/3gNxeHw/ocBvo05VPdU/etod9mjelc2jdtK5Wh4+mf5sLfz/Pjabv2E55vrjbiuN8I1neHCwFrVa2tNF2XHbfOiNW0qW/E6iiKJQUIo6kn0/MppkpMlcKlpBAoBAqBQmB3COyaOO4uZkfbp6tljePRhrBS1yPASIH2zLo569ksojc6pNg+qqRR+mPaqVm/Ise0VowFXGlerW8pKQQKgUKgECgEjgICpXE8Crl4gqUBSWSEFJtDt+ntT/zET2yWsSdYNA8kOqb0GYCZ1kMm7W1WUggUAoVAIXAwCOhv+mUVBxNK+dojUMSxR6N+7wQB0wesLmNRe5umtcbPHo3WAJYUAoVAIVAIFAKFwOFF4NiNrg5vWirmJwgCjBWcwmPvPtuB2H7BdjAlhUAhUAgUAoVAIXC4Eag1joc7/07I2NtbKvd6tMedvfjyGLupCNuXi7Am9psxTUkhUAgUAoVAIVAInHgInNDE0XYEzN7XEQnbdfTCPQONbYRJu/BSrJvgh+cl2yPgyCUbB9v010bgc+K9TaNjz692YonfeQ753Dfy1yazNpkm8s3aQlvglBQChUAhUAgUAoXAwSFwQhFHZA3ZsHu9A81NdTq/0uknc+KYO9OiPTmJTZTbXoA0WJuIsBzhZe8yBh2EgYN92VaFvYnfJ6sbp1I4tH7qvNgeE3tDOlEgNrdt1teOj3PqwCoS6Mg0p5M4ntGJAE4OcdLPs5/97N7rrX47fs3JHCWFQCFQCBQChUAhMI/ACbPG0fFBtE22cXFclOO7THGuEkYY1tA5nD12s2/HYzn+yXFEyMhpp5226vPlO9orRxbSXMXO8u2ItDi5oG3IHLvoL91dUz8cNeU4vuM5Qu/qjLuj9hwRadPvCy+8sJ2/O7cJOdL/iEc8YnCEE5LpaDYy1iL38T/11FPbZs3y3/FS9oyMUxzaeTsWOAAALrFJREFUUZa9u21+K382ki0pBAqBQqAQKAQKgXkEThiNI8vbOPJnOPPMM9v05i1ucYtGBuejPjRi51xgpJH4HUcRtXNtncu7qdhzzwbVzhp2LqhzQBl4xBF5TQu5qT8H5Q4Bs6n2YRHEzp6NSGMcj7X25BprImmH46iujZLoZJo4orC5dRaxaWqDDNrp/YrNyvsTGvbrj+/y1Bq/LXVw6tDxiHPLnSs9J+veOyUpz/Wm1Te4IrT7yHdJIVAIFAKFQCGwKQInjMYReXjiE5/YSJtOXIdm6tgxYKuO+nvpS1/aDml3pBvicO655w5I5zZiyjPOkxxe85rXtE7extVx3uXWR49tE+ZRd0tzaKmBPRw3EWRzG6FljHN9BxuOm2aeO0puUz9f/OIXb+p01h0t6QMe8IDhbne7Wzt2Mc5YHR72sIe1g+4dIbcfMaB51KMe1dZ/xlnOx3ix7j2ckHdbIznykYW747ke+MAHDnFW+HC/+92vGTLd7na3O8bvelAIFAKFQCFQCIwR2Ok+jrQrzsB1/qYp523EmrZNpwqFw3DFVDRNis2WTXmOxRnA3s+dccs94xvnOdMyzpEPWhpaLcTUOdK9eEej5JzhTYR78c+wGHrkb2QZwRhvZhoH2Lfpd9+mrPKHG9PuNF+rzoVFdEzRIurrpvVh5JxvaxLHZ/JKQx+3POvXEgC43fe+923fiZd8g/kYR+/Iwx/+8IG22FmuU3GXp87S9e66173u/360j//i0H//tre9bXje857Xprytl/V+27NIDWJo8fKkGNP197jHPYZzzjlnHzH8v08uueSSNoAysJmSVe/lG+L5kpe8ZHD8ofpgWYD7d77zncO73/3uNtgSd3tvlhQChUAhUAgUAqsQ2MlUNeKgczLVR0uIXNzsZjdrHVQGbi3a05/+9Kb18AyBeMtb3tIsph/3uMc1cueUjTe96U35SZsqRqKsWUzRwTmRw5o2U8u+QXyuuOKKdNLWvelMabEQlIsuumi47LLLlu+RHHGhrUIGb3zjG7fpVNohxCQFmX3IQx7S4kZjI322lWFMQ5AzmhqElyUwstGLuNPoEOnlPxKLkJx33nmDOPr93Oc+t6WFPzpv6xnnZJ0/tEoPetCDWj7ARRqf/OQn77FMN1V58cUXN7JN04tAIUvveMc7jgn2ta99bTs2EFHjFqY0VvKcIIYwcD6zTb7POuusNnigAWbo8oQnPKF9Q/N197vfvZFOODqK0NrNTcUZ0Cy1hS8e8u2e97znIH5zotzIA4ZOKQjTHe94x/a9IwEZ18hHGCF8b37zmwdljP/yvC97CD//EOEpsdbWkguYE+Wbtu+Rj3zklPONn4nLKln13trSxzzmMcOtbnWr4Za3vGUjscisvCHqhzxyn3m6Kqx6VwgUAoVAIXCSIxAk6rgliN8iyOLiWc961iIIwyLIyyLWGlKPtWeh5WjvY2psEWf5tvDC+KW9Dy1Ke/fKV75yER31IkjJMj6x3UpzE+sO27Mgle0+ppEXD37wgxdBIBehoWpXYQXxWYTGs/kXVrqLV7/61Qv+Z1xe9rKXNX/CGGMRGsLFM5/5zEUcjbeI6fBFaGGa32FU09zE1PUi1k62b2PKdRGamcXrX//6FpZvgzC1b4UbayHbt7HObhl3P7y7173u1Z4FSWr3wnnjG9+4eOELX7h49KMf3f5C89PCiunSRRDihbj3ElOf7VvPVvnz9re/fRFEZRHrCxfSCq84raV9GyS7eRnEqaU9SNIiiM4iNFILz8Q18ybDDkLbnscSgkWQ2UVo+hahRWzP7n//+zdn8tS3T33qUxdxLvPSH8/kZxC+FobfQU4Wr3rVqxaxBU/LP26CmGVw7Rr7PzY/QuO4fC6Oypf8CK3gIrSDizBiavf8kO9Totx4rxyR0MC2tHsW2/8sggC29/z2TH7EWstFWOUvYgq4XZWxlNDQNncxZZyP9lyVEeUSXkQ+h3FVywv3cOb3rW9968Vtb3vbVm48J6vewY17aVc+4JB1wrfr3ofR0RIj2Mf60EUMkHzaJDTmLV1hlZ6P6loIFAKFQCFQCEwiYIrxuEXHjRAgjghgaHAWoa1rnZGOUyeFbN31rndtxCvWv7V3yAtJ8qHzRpJSkjgiKwRB5UYYwgvL50UYjrRwPdexImGxVUuLQ/oTxgPtu9AGtUcI1pVXXrmIbX/aNTRJ7Tly44+EBXP7xj3iiSiSMFJpz4XluzDoaPfCj/VjzU3+8wxxDE1kI3Pu/en4dfZXRhxSnvKUpyz9CavyfNyuPXFECuf8iankhlFMeS+/Dw1lcx+GQ3v8Qoh6gpphZDo5RlaEhYwiVSkIpufSf/vb335J3EPD1n6Lf0yvNzdhmLFAAuVx4swfpJUfoYVNb9t1ijgKm1vENLRnLcznPOc5SxItL6ZkTByRaf4gjfIVUXcv31xDu9y8SXLtmXKbso44prupK8LGP2HCAYZwJaveea+s+FY5jOnv9tu9gcwm75ujNf/gkYOmNU7rdSFQCBQChcBJjMBOpqrtgWirmNA6tSlIFq/R4UbfNrSpSesP7Y9o3aNpytC2tb0aTZGRxz72sW2dYbuZ+GcNI7EOjZiutHWP6U+Wu7k2613velebJg+isWed4E1vetP2Xe4NGJ1ks6J+0pOe1KZ102LZWrToxJtb5yqbQnZvajzX2/lNTGmLV5C/tl7MM1N9LLRNOecUpziZxjatHoShrSszbW6tmSnTnGK3JY01iYkb/6aE0cmcP6acbWnTG2KYCg+i2tay8S9IVptqDU1ri2uGYSqT9FP11tTZi5GRC4v1lNCYtZ/SADOW8OJtCyX+Bplu1u0cmbKGnTzOfPTcmlKSedJuZv4F0W9vTC3bv9FUvD0XM19hvImYUoeF6WTlJjTO7TN+KRPWJxJW29Z+MpDalUQb08KGFxwseciytupdhq/cMeAxpW7fShIDtXzdyuiq90uHMz8sMVGfSgqBQqAQKAQKgVUI7IQ4CiC0g22dnPWNyFCu99MhEWvfWHTa4kaHZ9/ENArxfh1h4iaJwnve8x63y2PsEJhVYl3aWGwybR2mNZIst6cEESKhLZs0vslvklTaTkinHpqh4bu+67vaa35YgybuCAN8EJLcTiaP2+PYerN1RioMj9b5k/GauyLuCCFr5FUiD23kHRqvtr5w7BaurHql92lPe1rLX+mzLrTP2/F37qfyZMqdZ2eccUZ7lWXEKTPC6Qlyc7Dmn/WlV111VSuDSDsSLh8Q7rFxlWfb+r8qeMQUiUasWfGHVrNtQeSbVe/ST4ORJN7WehI7AaSse5/u5q7wjKUdc6/reSFQCBQChUAh0BDYGXG0zxyNhf34WGvmXnY6JEKrd/755y81cd4jG7Ys0YnmBtE0dYwoXve617Xv/GO8QGJ6r11Z3DoDmcaSQQMt5iphOTolDCsQOqfPTEmGO7YinnLrGeMDW8TYd1G6CO0VgjK27E7NHm3T8ch+/VllUJHxyTxcRaCQORpAJBNxZvAyTmv6t82110RmvtuPEBE3SKF53DRfer8QWnlug3iGKwx9NpGYFl6WkxwMbfJduqElRqhp5WPKvQ2cNnmXbvorjTtMxmQ33ax7n+76K1KaxLx/Xr8LgUKgECgECoEegZ0RRxqcWEM22DqGBi9JhylJHfdDH/rQdoKIaUIS68+Gxz/+8W3rHluwOHKOmAZFhnSMpnRJalrSWpXlNa1lrMFr2sDmaOZfrJlrx9FNvUbqbCCd5Had5nLKj/4ZLZqtZBDnnF5FasfaNUR1270m+3Dy9678Sf/6K0tgmrBNhSaPXBDT1LsQU8pJ6DPf3/CGN7Rn8s1+iZsKDR8r7hwIyB9bH5l+X6cZ5Y71NqvxXNKwH7L/ghe8YHjGM57RztjO8pbxX/Uu3YyvBib2LJ2Tde/H37Got+SgpBAoBAqBQqAQWIXAKate7uedrVJ0trnnnK1uTKMhFI7vQwisHzRtTdOInNBWpVbLlLYtUmwGbq0iyenb3BuS1oZ2xIkZq7ROtq5BDGmohD/WFCF39rYj9gY0fT3u1NvLFf+QkdwSxjY66V8SqdSkphf2TnRMoribJs+1ft6nxhbxTn+QaFiOtUGr/Mmw9nuVJmsyETXT6n0cez+TQCEpSZQtRZBfeVzkOm1w75/fGZbBgXWXYTS03BMUKYeDdaVjMj72x32WF1tBWdOYmOeUrDibijfIsZXO2WefPeVN21ZHeaUxdHY5Dasp7hzQTH40epjLK2jSxetFL3pRqye007nWcepdrie1H6M8t2bVWd00+5Z7pKx7n+7mruJgLW5JIVAIFAKFQCGwEoHo/HcqsQ/ecssTW4ew6iWhzVvENOMiiNyCVTXr5xT3Ecn2x2qZsDxlQcyPfmuWIJ7NHavaFNvl+D469Xy0vNquxzv+sPBNyfD6a5CSZnGbbmyd4n0vQULbs9wORbp6P/rfoTVdiNtYWHdzx7I5Ouzlaxbo/ff5O8jsMRbbPprzZ+nhe3/ATFxSpJOFbi+h/W1hBwlsj9PSHW62V+qFNba4BeFvj9PaPeObVxbT8nFKbHvDnS1xeoGHML0LreLyVeZ7aJqXz1blO0fKHgtvfrEQD+OlVg4zfv0VPrHf49JvP9KCPQjdgsV6DD6aXyybtxXlPdPFEp3lv/BtlxQDhdl38GPlHQOsto1P7kyQFtXise79urjCXFxive06p/W+ECgECoFC4CRHYKcnx0Tn08R6LlozVrA0JJsIrY9pw16zFnnTPt1Eu7QqDNqYqSnjVd8c9DtaWVrW403brvyZSm/6LW9oQIOENRxpulgk0xSnNnjq+/0+k+/yLI2O9utPfscvhkfbaAjz2/GVX2Mt8tjN3P04XXBNjeyqd/yjBbbGU3mh1R+Xm3Xv5+Lkud0FaIhpZsf+rvqu3hUChUAhUAicfAgcCHE8+WA8eilGRGJD6DZNazkAYxTbISEW1qYeJHE8emieuClyRKhpfDshMBoqKQQKgUKgECgEViGwM+OYVYHUu8OHgC174nSYtn0N0mhtqmMaHStY+/0dvvycijENJqM0hmZFGqcQqmeFQCFQCBQCYwRK4zhGpO4bAoxGWCIzFjLNa+mBqWuW7GkMdFBT1ZUFVw8C9oFkvGb7npJCoBAoBAqBQmATBIo4boLSSeomjGLaptXnnXfeEEZP7WQcVr72pSRhqLF2O5uTFLpKdiFQCBQChUAhcCQRKOJ4JLO1ElUIFAKFQCFQCBQChcDuEag1jrvHtHwsBAqBQqAQKAQKgULgSCJQxPFIZmslqhAoBAqBQqAQKAQKgd0jUMRx95iWj4VAIVAIFAKFQCFQCBxJBIo4HslsrUQVAoVAIVAIFAKFQCGwewSKOO4e0/KxECgECoFCoBAoBAqBI4lAEccjma2VqEKgECgECoFCoBAoBHaPQBHH3WNaPhYChUAhUAgUAoVAIXAkESjieCSztRJVCBQChUAhUAgUAoXA7hEo4rh7TMvHQqAQKAQKgUKgECgEjiQCRRyPZLZWogqBQqAQKAQKgUKgENg9AkUcd49p+VgIFAKFQCFQCBQChcCRRKCI45HM1kpUIVAIFAKFQCFQCBQCu0egiOPuMS0fC4FCoBAoBAqBQqAQOJIIFHE8ktlaiSoECoFCoBAoBAqBQmD3CBRx3D2m5WMhUAgUAoVAIVAIFAJHEoEijkcyWytRhUAhUAgUAoVAIVAI7B6BIo67x7R8LAQKgUKgECgECoFC4EgiUMTxSGZrJaoQKAQKgUKgECgECoHdI1DEcfeYlo+FQCFQCBQChUAhUAgcSQSKOB7JbF2dqFe84hXDT/zETwz/9V//NfzFX/zFcNVVV63+oN4WAoVAIVAIFAKFQCEQCJxSKJxcCCCLl1566XD66acPp5xyyvA93/M9w41udKPh8ssvP7mAqNQWAoVAIVAIFAKFwNYIXGsRsvVX9cGhRgBZ/Iqv+Irhoz/6o4d/+qd/Gt7whjc08nioE1WRLwQKgUKgECgECoEDR2CnU9U4qGnPV7/61cN73vOeFvk//MM/HA6Km/7bv/3b8Ou//uvDH/3RHx03UP/5n/85/OZv/ubw27/928O///u/D//zP/+zE3+3jdgLX/jC4c1vfvO2n23l/jrXuc7wmZ/5mcN97nOf4fd///cPnDTuMp+2Smg5PjAE3vWud7V6/nd/93cHFkZ5XAgUAoVAIXACIkDjuAt5+9vfvvi4j/s42svFB37gB7brR33UR7XrN37jN+4iiD1+BFlcfNiHfdjiYz7mY1oYn/Zpn7aITmyPm01vrrzyymWcxd8fv11/9md/dlNvjtvdH/zBH7Qw73a3uy39+u///u/FT/7kTy5+7ud+rj0LQrt4xzvesXj3u9+9dLPtD3788z//8yLI8rafbu1+P/kUZHbxQz/0Q8v8lFZpFu9rQoT/gz/4g4vf/d3fbcEHEW7x+Zd/+ZdrIjrXeJhXXHFFK6dZ3x/84Adf43HaZQRe+cpXLr77u797Wf7+9E//dBED4F0GcVL69R//8R970q39iUH6nmeb3Iz9cX91tGWbxG0bNwfRtm8TfrktBPaLAG3gTuQLv/ALW2fy1V/91Yvf+73fW7zpTW9afP/3f//imc98ZiMpOwmk8+SRj3xkC+9xj3vc4jWveU37LbxtRYOTRPcZz3jG4s/+7M8Wr3rVqxbf8R3fsfjpn/7pbb3b2j0y9Au/8AuLL//yL2/xQIT/5E/+ZOkPwoiAI7I//MM/vPjVX/3VltZv+ZZvWbrZ5Mdb3vKWxY/8yI+0tCVBfeITn7jJp8flZj/5BIPb3/72i5hKb2F/6qd+akuzhvaakEc/+tGL2972ti0OSO23fuu3tt/KyckomR8veMELFk95ylMaFm984xuPBBT/8A//0Orhp3/6py8+4zM+Y2FwoH2Q5pL9I/Dwhz+8lZPP+ZzPWQ4Av+iLvqg9i+UyG3ksL7QLBvTKHdEmyJ8LLrhgIz+2daR/eOc737n413/9120/Xet+V2372oDCwd/+7d8uYiawledN3JebQmAVAjsjjmGlu9A4fNInfVKr2Pe///1XhXvc72jlsjP/pV/6pRYm0rqtaBCQxC/7si9bahl/9Ed/dFtv9u2eZi21nLSbYbyyxy9pS2L7wAc+cKHhRSQ31a5yJ0/8ffM3f/MiG2thPv7xj98T1kHc7CefdNKp8f3xH//xhs+znvWsg4jeRn4+6UlPWsaHJgr+X/AFX7DsADfy5Ig4MtBRHpEq11ha0fLnxS9+8ZFIIQ2YgYu0yWd1Rl157WtfeyTSd00kwuwGDGlt4Uqp8LKXvaw920ZbjWjJGwRI+6Dtpjjg9/Of//wDSZoB90H5f7xt+zYJftGLXtTSQalTUggcLwI7I459REwbq2wHKToqYfj7rd/6rXbdD3Hs4xjrMps/n/u5n9s/PtDfNLUPeMADWkP4vOc9bzIszzOtOrPXv/71k+6mHsLEt3e9610XiCdyf+tb37o9uzqI437y6a//+q+XSxDEndbymhRkXgeXeUC7sSlxvybjfVBhZ5kyVf1TP/VTDZejQhxhRiOP4MhvV4OXkvUImPkZTyPnV5/1WZ+1rD/aMNg+7GEP22qq+q/+6q+WA7jMG/lzkIPKgySOsDmetj2x3eS6S+Ion6+p2Z9N0lpuDh6BA9mO5yM/8iOjXh+sfP7nf/4Qa86GG9zgBsP7vM/77CSw613vekM0RM0wZicebuDJIx7xiOFBD3rQEFq2ZrAy9UlMTw9f9VVfNYTWcLj73e8+vO/7vu+Us8ln8Ilp7eGGN7xhwyqme4ab3vSmbf/Gs846a/KbXT7cTz4x2DnvvPOGe9/73i29N7/5zXcZpa39gtnf/M3fDN/wDd8w3PGOdxwuuuiirf04Sh/ENOFwj3vcY/iET/iE4ed//ucPbdKieR2uda1rHRP/mHYfHvKQhwyh3RpiwDV80Ad90DFu6sH/IWCLr6/5mq9pbUzMAv3fi+5XrIsdYmnH8Md//MfDaaedNtzmNrcZPvZjP7Zzsf7nh3/4hzfjy1/8xV8cgkQ2o77zzz+/tWvrv96fi/d///cfYtnC8KEf+qH782DNV8fTtq/xes/rm93sZm0njQ/+4A/e83w/N+pMzFwNMVM3xCBgP17UN4cdgYPgpjkdOue3dUSMHcbTsr17IxoawE3E+o3Ih8VY42iKZG4EPOevEazp4LGI61/+5V8uaMPGYvpOmsbCiGJO/v7v/37u1fK5+G8iYeG6iI28J51uiuHUx6btNll0Lp6Mo9a5ncsnU05Ti+THWj3+b4qJ9HAPl3VGNXOGRr7bZG2TvJwqZ3PlYgrrw/rMOmB1b6xx3Lbcwc/6YuvY5mQO53Tf58FUWZSXyqly5b1pT7MLvfak98PzcdlZFwdxmStPGc+jdo1BbZvSn0qXNlC+rqu31jlO5Rk/fZt59I//+I/H5EmGC/epdiTfu65qK9Odspvh5bPxVVmaavN7d+vS1Lud+r1JWVsVBqwYdrnOyX7T8Ru/8Rtt+dOqPm4uzHp++BE4kPnkOeJoHSSDBx1N/lkDp3CnaDw0RLnGLdfAmB7U0E/JFCF5yUte0sLgTz8FjAAK+z73uc+UV21qqieO4sMqHKHMOEtD7IW4/F7cvDMdo5HT2aSxkOnhvjNinZvWqNYdcp/rqHRqhJGPd/zktzU9z372s9v9L//yLzc3GgNTPT2efn/v935ve++fePNDeNYVpfDPc4ZLUxJagcW97nWv5ka6TW/DwRSTtW1EGr/zO7+zGQ3wyx+3jHzmGpOpfArtwfLb5z73ucvohManPYcD//78z/98WSa+/uu/funOj9haaE/ZsFZUPPt4IQhTpP9Lv/RLmzvrZRN/4RmEZBlURhHQdJv5yVgpl2VI+33ve9+FBpXAJ9+JX99xWjMpbtJ02GWKOG5T7qx7U98yr1xDS70Hm1U4w0+dyrxS1tU9+aEMEYY7jF36MLx3/5jHPKa5Mf2W9VI5t7RDe6P86ZzXxaF5Ev+yjPTlKd8dxWu2s0hOL+pBlv/E/Yu/+IubIWPvzu9s2+DOor0XRjDyilFMtpPaOVPIKdqNPizh9IZrm7SV/PJNtuXKU+xv2+Ij/tmHXHnllW19c6ZJ2c13GR/XuTRt0rZvWtbmwrAWNJcjZTz1TT1mx5sOadTWj9tiz0uOPgJXG3FMy2edKLJgHRGSo2BrnFPymeesjV1ZtTGY0GBMyRQh0XiwfnXVIaQgQPxEbqdEI9UTR4uvNSLW0SBUb33rW5uWgh+eufc79oBsV2tJcruSNN7JLX1yLSb3LLh1TNaIZUdrZI7gee+PFkeDKXyNiWcqPFICM3+ME3wnHogLN7lQXFo0xL7vtbHIJ3c63ClJ0uuqUeYWyeSfBprEFHu795ylMW1s5p0GZUqm8snA4Ou+7uvaGkIdB0l3v/M7v9PiLs2wRgZZhouP8FI09vltEhmdDIMGfsFf3DWmsEsx2uaXcFyf+tSntlfyxr3yBj/ffsmXfMmSTNNq5No+HZsGOQdF3NJYIET8yDyXTynWlnrXD5jynWvsTdrKrfLjD67SIX7SqUNL4xRYp5aFJk1DjiRz553ynsJa3zs4qIdZLr2Xh55Js/qi89lEEu9e4wiDTcod0sGtOIub+CcRSSvmdTiLNywN0GAt3oi58u5e3fDeQEi7Y/Agv/nv+dve9rY286GOqGt2LTCwgnlskt/yeV0cEqe58pTv86o8I6bqq3IBb22B+K4SZVfa1EFxZdDHWMsgNvZ+bWmWfz/zMz/T8t+uCXNlQrlAePjj+yc84QktL9wru7EEoZUTuLCenxN1Lwf36UaYvhMXYcA46wfMzTb1wg8Gia4IToq2hXuGlgYT8izJY/YZv/Irv9LcSCvDD+1vDgCsidy0rTQ4EGfhIf/yRhlSnjwTf2VUeTVgV0cZt+QAVZnpZSpNm7Ttm5Y1YU2FoWyJrzolTtoN8ZQ2bYJB8fGmI9OZ/bPyUnJyIXC1EcckUSoc0qaBQCYROwU9GxONkAYHMfFcQ6aR25Y4ZqfED5U9ZVviKF5GooiLzlBDZIqCv2lZm42HZxphnYCKi2h6prEjGh/33/Zt39YqsnhpVHvi+OQnP7kRQlouf9lQPv3pT2/fahgI7DQMP/ADP9A6fc/e+l4Sq+Ej3/RN39S+ESYSmLKKOJqi4T7JDc2B+8c+9rENxySOtHPigtC65tSOxsnflCQh7EmszhwOwvBHsmFzr8HTEdHO8Tfd6fxTNKAZpqlOhAh51mmlpi81QfzuRXlLP2OdVnuFQDFYUg5pCLKjTi0sogZD+2v2kppE+aKc9Fqu7/u+71s6TWzl/ZQo85k+WCEH/NR5iqu6IG8TD2WDcJuDpLRadSUwhLMySNQ7957nOx2vfEQuvetJZ/to4t8Ucdy03Cnf0iPOWWYFkc9pedfhjLhn/ikrBn3qapZH/mkLkHs4KhOmNHNAxPAlB7X8kW74IyI5FbkuDsJImSpP+S6vP/ZjP9bCERb3ed+TpnTbX9UzcTQwQQB8r4x++7d/eyM44u29vNU2qbNzZUKe202Ce7gpQ3Bzb2BhoCRvETThKM9jyfbGzEMvtq/ij0Eeja54Pec5z2l7s3ouD3pJzVmGne8yPTSG8ou/SIrZIm61zQwFxbsXA2Lvs+xv0lbmAEMbkMSTAqAnjuqrtrsX9VJY6n4vU2napG3fpqxNhaFt0v697nWva/mr7JshkS7xNOg83nRkOjP/U1GRz+t69BG42oijxgmh0shomDQCGiX3CnROpao47jV8OluNJdmWOPoGadDpa/hStiWOvkO6sjFJrZQ49lpLldUz8XSl2cjGKImjBl9cpPtpT3ta0yiKY08cdd7c8EMjpWOAV2raEg+dH3caV1cNAvEdbUaKDsKzTYmj73Ti/ERMdEq+p8XwLIkjdwiz+MnXnLpHOrifkiniyB2yJ799p2NQVpIMJiHkTt4h5Nz1+wamW25I7rPoOX9JdpIImc6m16ghFfxM4qhBllbPUuthINMTx+bp6B8i6Ztek5fa536P0SSOUxpHjTw/dPjSy02SvYyLToEknvAnrM/hQ7Ls5dZSiJA0JRk0IFAmlA9lmh86dH+0d+KQZa15OPNvijhyumm5G2vJfZv46JimpMc510mbKqWxy+1ZLK9IyYGIsqo8+aNFk0YDLyQTMVIXzYTAGVbq3Zz0cVhXnqb80E70MxuIWl/Wp77R3uTAwHsEWzyTJCdhC0Ou5eerygSSAYOe9KgzwkiimCRsapmH8uH7LJ8ZaBI7bYb3SKNrkjCYKx+2Isv8Q9KVwR5z7YC4INZ+e6fNGfcZGW5eM5wkqJu2lfwWjvbagAIxTb/GacywDGilDc7r0rRp255+57Uva+vC8A1tsThJi/Kh3crZIP3rlGyTjvxefyYcda7k5EJgp0cORiGalVvc4hZDTC82S8zoEAZWdiy9xhLEZIhKOoTKfnjoQx86fOVXfuXYycb3173udYcP+IAP2Nj9nMNQ9Q93uctdhqiILd6sbMmNbnSj5Scs/ohjC6PjnbT0Y7UdHfYQHdzwtV/7tc1daO6WfvgRDWWzeIYRS97o9Ibo2Pe4ceN5jMSbdaJ4xHT+MW482I8VXZDUdn41i9loFIYgp8Nnf/ZnH+O/9/Lw4z/+41veHuNgwwesLDOfogNt1paveMUrhtvd7nZDNGhLK/dTTjllOP3009f66hhKecXi0vekt56NKcXh0ksvHaKDwHCb295T1txBIFo+xLR1s7QPItI7mfx97WsfW50+5EM+ZNLt3EPHQQYhGKJzHM4+++x2JGQQhuZc+kkQoHa9/vWvPwT5a3GNDngIwjyIZ2j8mkU6R0EUm9sgm0No/Yf0I4jLcPnll7fyER1aw1V98fd5n/d5Q2gqmvV9+3gf/zYtdzFV26xW5cem0uOcOyqwfD7nnHNa2uGjbKYECWh15eUvf/kQ2pa2g8H97ne/fD3wT/mQdu1UTI0O97znPQfW1dFRL931P/o4rCtP/Xf5W7z7snzT2OkgOuL2OpZYNAt+Vvz+lEFy6qmntvIQBLfdy//eD34GUdhjAbyqTGRZYDmccuMb33hwn/VFPSLZ5qU716xbY4vjM844ozkTFxKDl1bHso57xj/pioHdEKSxxVv6epEX2ke7SPg2iONkPPpv/O7zxv2mbWUst2jYqT92umAFvk4SJ+7WpWnTtn0cZp+edWH4NsuLXUf0ufqbILZjb/fcb5OO/DDzNwbj+aiuJwkCx/Z0O0x4rBtZ+oZ8IDoa9Vib0xrlGCEv3/c/kihpNLYplBogHeichGZgSUR70jd2ryOI0fjycYz42hnWniNood1o77JRXTp87w8d75zEtEp7pZHi19SWFBpJ6QhtX+vEprZ/CY1A8+elL31pc3OnO91pLsjlc37qPJFBMhd/7+RTTK20PAsN3DGNMTdEJ6fT24bgr8on/oWGYkCgetFgwjW0s+0xIq+c9PmU7mETGpIhtHVDaEzy8fKqLCLw8NVBJJZLB/HD9kXIh4FAaL6HHBj0btb9hjPySkIT2LYsienX5WdI65TAm3vbEsX05RDayiln7VloqdoVaVBXbJFjm6WYptvzjboI29BO7XkeU56tPIfWdbjzne88hBZs+SdfN5WsE1Pu15W7nrhMfb/NM+VkLMoBUabgpExoi+ZEfJNwz+VR/+0m5al377d49NKTgzimc9BO5F8s52hOYyagXUNj17alQe5jKnhZN/vOP/1eVSam3Pfx4MeUm/Q7iaAy1ItBCQmt9xDa98HA25Zg7/d+77d0Zss2zxHzCy+8cNmmLh3Ej+wzEMZb3epWQ2ge1xIg3ztHvZes3+vaytCgtjoXa65bfGw5tY1skqZN2vZVYW4SBqWD9lvZVbe0J6vK+zi8TcLwTZaNHICM/an7o4vAgRJHI5KYImvo2ZePqLwIib3gNAhj0bEZIdn/LzvFsZu5+5hiGhR6I61eVBoahE/5lE9ZdsKrOgQNtdEvrRexd5+OmHbHCC47SeRiSu5whztMPW7PaH5ITOm269w/o2SiM18lNExIho5IhzcnGnEaLEQkO6JV7vlDE6UBmtIMZziIBu1YktBxJ5Lu+utcPnGjc0yNRf+NchNTX0OsCWuPkWmdEU2otI1F2UNAaaEI0t8LcoUYxhrNJZHu3/t91VVXtUebkPLxtwgijWZMf7dXOsdYI9viQyNKsuFtN+/9J09oAmOZwqCswJ8/vfT5pq7E0ofm1yWXXNLKqA4v/c5yLg/Vg34gRtunsxSGd0hyCm1LrF3K27VXGrxP/uRPPobI76fcrQ1sxoGZCh1l1p10lmT5zDPPbIMPe5vSdE2JMq8NUUa3kU3K06b+xdRiG1QaWPqLKdf2qb0P7SloJgKJCuOENmuxyt9VZWLVd5u8M9NAYsnEHufiSWL5TBtQaiNizfAeN27U0Vjq0IgejfO47cg+Q3vlT1vHrzkxiPRNaujH7ta1lVk37JU7JvZjv+bu16XJd1k+17Xt+w1D+yAMg12aRv3etn3pJumIJQAtilPt9Vzc6/nRQOBAiCNtHiIR6ymGWJDekNJok7BUbFNm2aG2h90/DTfRGCFu/sJSbqARMTUzJamxoOFBOE2Dj8X3RuqExiEWg09qmkzVxOLyRm41zr3c5CY3aR1sLLZuj7kdS6yTaQ3i+Ll7pDMbWY2+tBmR57SaykpMRdGIEXhoNLkj/dSU+1gbusQp1ip51Kbc2o/uH22Tjt1G4qZMkE1TeHPCXyP3WHPXwkcykIvxtBStcOYTvKQlSeTY703y6eKLLx5/1u51CvxN7QGttTw1SNBIjqeExTXjpXOiNSamxVPOPffcpk2M9T/5aHk1DRfrLdv9r/3arzW/5Ik82mSEnZrQ1MogujTeiCwSTPq4tAfxT/rUEfGXX9KZfqSbjBc3tDaxHrJpFxAKnZ9yhswTBFZ4qT1xVZZoUWMt4XDBBRe0Tda5VXeQ7csuu6xpsubIFbcpmdexFmzQkfTkk5tty136u58rzUoYUbQ0IX8piDFBZAw+kLE5AkKLB4ck61lm069V11XlafydvOoHMzSc8nOVGEzQqGpjxB/R6qfS1VV+5MDCoGFVmcjwey2teORUuLikX+m2j1/iKoxeEHNig2hlMdYyLgcyvTu/temx3rS1MZaH9JJ9hjqApGb71rvpfyt76m0S7fEswaq2EpbaE6LMZtthEEfG7W57OPNvVZq2adtnvG+PV4VhEKNeaovVc7JOUdEcjf6tCoPTzHf9SclJhkA0LjsXhi7RqLSFs7Z5IEEw2n3A27aOyEBZOnoWBKk9soWI+/GfhdP9lh/5fV7TujI69qWhjXcsFfnFoCAq7XKfLlvATImFyPzwFx3sHie2vPCcf+LDkCElND/tuYX9KdGI7XnG+mycLvf8DO1ZftYW+Y/dcQObXAgvPWM37uHOcr0Xz6MhaRvBBrFY5o2tH+aEUcnYfwv6+8XV4/fuxTMNMqb8nssnxgG+j2m65WeMATyT5ugQl3nJiMD2GSRIdQvT4u+UNNAZx48FaxCzdNau/Gbwwy0DmBTGPuPvhWtB/5xYjO8bC+oJq9b0gwEFsUUIfxg2TEkQzvaNfAxy38qrbS9IEKP2Lhrq9k4ZZESTZSINmYTJsEw48l2ek8Tee2mOjrY994/7jKtrWqQuHcz8EHaWFfEKgrF0yZ915U55kV+9pHHMlPEQd2Oc81v1i3/+otPMx23rJpby4pOWy9LunvFHL7b3gat3rGDnZC4Oc+Wp94fRG//FM9ajtS155JVnfX723/jNaIeb8Z+yb1sfWHvHGILhFJkrEzEIWu45Kb3ym9GKOPEj1vm17azUeffyWNkdC0M878aS7X9v8Zxt5Bhz32ZdYQCT0vcZQerycbOOF6fsM/JFkL+2fZV3ylTWi03aShb8vpv6Y6Wu75gSBjS+YeA4lqk0JQZ9ODDv2/axP3NljbupMNR3BpjCyDZNOXNvu6kp2TYd/Mh4MWwqObkQuJbkRoHauUSlbSNXBiFXl1g7Zx3TlCanj4NR+lhD1b+nLRJ/i+XH4rlRtNHseB3e2O2Jek+rZSH+pgYMu07Hpvk0Dpf2w9pFGu2ciuVGesZrs8bfXlP3yoqRe39M5Lr40krQ/DhWLTr1ZdpoA8NidYhGvmn3PuIjPuKY4/Bgay2ZP5okZbQvpzRSNMlT00vcvy2MR2h61tWhMZ406crTqim+q6Pcpaa3X0+XcYVNdNJ7yk6+66+aRGtCuT2RhObNUhPrZqVFPjrCjwGN65ysKxNz323y3IyDqVDawm20cpv4vV83cFHnTnbRxh9knphFMSuyThN8sufDUUz/gRHHowhWpakQuCYRYCzB4hdJq47xmsyJqz/s2C+wEUbTsYhaiilV61Svyc7b0h9LRkJLn9Gq6xFHwHS+nUGs254apB3x5J/0ydsJcey1Pyc9ogVAIVAIFAKFQCFwEiFwQBOXJxGChyupp+wiulVodoFi+VEIzCMQR6stjXW4YpFpqrrk5EKAsZOyYGkGo4S0bD4RULALAev9TYzHToT4Vhz2h4D9Tad2RNmfb/XVYURgJxrHw5jwinMhUAgUAoVAIVAIFAKFwHYIHMh2PNtFoVwXAoVAIVAIFAKFQCFQCBwGBIo4HoZcqjgWAoVAIVAIFAKFQCFwAiBQxPEEyISKQiFQCBQChUAhUAgUAocBgSKOhyGXKo6FQCFQCBQChUAhUAicAAgUcTwBMqGiUAgUAoVAIVAIFAKFwGFAoIjjYcilimMhUAgUAoVAIVAIFAInAAJFHE+ATKgoFAKFQCFQCBQChUAhcBgQKOJ4GHKp4lgIFAKFQCFQCBQChcAJgEARxxMgEyoKhUAhUAgUAoVAIVAIHAYEijgehlyqOBYChUAhUAgUAoVAIXACIFDE8QTIhIpCIVAIFAKFQCFQCBQChwGBIo6HIZcqjoVAIVAIFAKFQCFQCJwACPx/CwfKzfHgtUEAAAAASUVORK5CYII=)"
      ]
    },
    {
      "cell_type": "markdown",
      "metadata": {
        "id": "RqD2o3X5Dn7F"
      },
      "source": [
        "![Screen Shot 2565-05-11 at 14.38.01.png](data:image/png;base64,iVBORw0KGgoAAAANSUhEUgAAAooAAAI0CAYAAACatAiJAAAK02lDQ1BJQ0MgUHJvZmlsZQAASImVlwdUk8kWx+f70hslAaQTauhSBAJICT0U6VVUQhJIKDEkBBWxIYsrsKKoiGBZ0QUBBVdXQNaCWLCwKDbsC7IoKOtiwYbKfsAj7O47773zbs5kfufmzp1758yc8w8AlACOWJwBKwGQKcqWRPh70ePiE+i4pwCNfAjIR5nDlYpZYWHBALGZ+e/27g6AJuebVpO5/v33/2pUHl/KBQBKRDiZJ+VmItyOjBGuWJINAOoQ4jdcli2e5OsIq0iQAhH+bZJTp/nDJCdPMZo8FRMV4Y0wHQA8mcORpAJAtkT89BxuKpKHPNmDjYgnFCGch7A7V8DhIXwSYcvMzKWTPISwKRIvBoCCnA5gJv8lZ+rf8ifL83M4qXKe7mvK8D5CqTiDs+L/PJr/bZkZspk9TJBBFkgCIib7R87vbvrSIDmLkheEzrCQNxU/xQJZQPQMc6XeCTPM4/gEyddmLAie4RShH1ueJ5sdNcN8qW/kDEuWRsj3SpF4s2aYI5ndV5YeLfcL+Gx5/lxBVOwM5whjFsywND0yaDbGW+6XyCLk9fNF/l6z+/rJe8+U/qVfIVu+NlsQFSDvnTNbP1/Ems0pjZPXxuP7+M7GRMvjxdle8r3EGWHyeH6Gv9wvzYmUr81GLufs2jD5GaZxAsNmGISASMAGdGQOA3bACdiC8Gz+8uzJRryXildIhKmCbDoLeW18OlvEtbak29nY2QEw+Xanr8Obu1NvElLDz/pkBgA4Im8Idpr1JdQCcEoHueOjsz4GBblKVADOYbkySc60Dz35hQFEoIhUqAF0gSEwBVZIbY7AFXgCXxAIQkEUiAeLARcIQCaQgGUgD6wDhaAYbAbbQSXYC/aDg+AwOApawElwFlwEV8F1cBs8AH1gELwAo+AdGIcgCAdRIBqkAelBxpAFZAcxIXfIFwqGIqB4KAlKhUSQDMqD1kPFUBlUCe2D6qAfoRPQWegy1APdg/qhYeg19AlGwWRYBdaBTeC5MBNmwUFwFLwIToWz4Fy4AN4EV8DV8CG4GT4LX4Vvw33wC3gMBVAklBpKH2WFYqK8UaGoBFQKSoJajSpClaOqUY2oNlQn6iaqDzWC+ojGomloOtoK7YoOQEejuegs9Gp0CboSfRDdjD6PvonuR4+iv2IoGG2MBcYFw8bEYVIxyzCFmHJMDeY45gLmNmYQ8w6LxaphGVgnbAA2HpuGXYktwe7GNmHbsT3YAewYDofTwFng3HChOA4uG1eI24k7hDuDu4EbxH3Ak/B6eDu8Hz4BL8Ln48vx9fjT+Bv4Z/hxghLBmOBCCCXwCCsIpYQDhDbCNcIgYZyoTGQQ3YhRxDTiOmIFsZF4gfiQ+IZEIhmQnEnhJCFpLamCdIR0idRP+kimks3J3uREsoy8iVxLbiffI7+hUCgmFE9KAiWbsolSRzlHeUz5oEBTsFZgK/AU1ihUKTQr3FB4qUhQNFZkKS5WzFUsVzymeE1xRImgZKLkrcRRWq1UpXRCqVdpTJmmbKscqpypXKJcr3xZeYiKo5pQfak8agF1P/UcdYCGohnSvGlc2nraAdoF2qAKVoWhwlZJUylWOazSrTKqSlWdpxqjuly1SvWUap8aSs1Eja2WoVaqdlTtjtqnOTpzWHP4czbOaZxzY857dS11T3W+epF6k/pt9U8adA1fjXSNLRotGo800ZrmmuGayzT3aF7QHNFS0XLV4moVaR3Vuq8Na5trR2iv1N6v3aU9pqOr468j1tmpc05nRFdN11M3TXeb7mndYT2anrueUG+b3hm953RVOoueQa+gn6eP6mvrB+jL9Pfpd+uPGzAMog3yDZoMHhkSDZmGKYbbDDsMR430jEKM8owajO4bE4yZxgLjHcadxu9NGCaxJhtMWkyGGOoMNiOX0cB4aEox9TDNMq02vWWGNWOapZvtNrtuDps7mAvMq8yvWcAWjhZCi90WPZYYS2dLkWW1Za8V2YpllWPVYNVvrWYdbJ1v3WL9cq7R3IS5W+Z2zv1q42CTYXPA5oEt1TbQNt+2zfa1nbkd167K7pY9xd7Pfo19q/2reRbz+PP2zLvrQHMIcdjg0OHwxdHJUeLY6DjsZOSU5LTLqZepwgxjljAvOWOcvZzXOJ90/uji6JLtctTlD1cr13TXeteh+Yz5/PkH5g+4Gbhx3Pa59bnT3ZPcv3fv89D34HhUezzxNPTkedZ4PmOZsdJYh1gvvWy8JF7Hvd57u3iv8m73Qfn4+xT5dPtSfaN9K30f+xn4pfo1+I36O/iv9G8PwAQEBWwJ6GXrsLnsOvZooFPgqsDzQeSgyKDKoCfB5sGS4LYQOCQwZGvIwwXGC0QLWkJBKDt0a+ijMEZYVtjP4djwsPCq8KcRthF5EZ2RtMglkfWR76K8okqjHkSbRsuiO2IUYxJj6mLex/rElsX2xc2NWxV3NV4zXhjfmoBLiEmoSRhb6Ltw+8LBRIfEwsQ7ixiLli+6vFhzccbiU0sUl3CWHEvCJMUm1Sd95oRyqjljyezkXcmjXG/uDu4LnidvG2+Y78Yv4z9LcUspSxlKdUvdmjos8BCUC0aE3sJK4au0gLS9ae/TQ9Nr0ycyYjOaMvGZSZknRFRRuuj8Ut2ly5f2iC3EheK+LJes7VmjkiBJjRSSLpK2ZqsgIqlLZir7Rtaf455TlfNhWcyyY8uVl4uWd60wX7FxxbNcv9wfVqJXcld25OnnrcvrX8VatW81tDp5dccawzUFawbX+q89uI64Ln3dL/k2+WX5b9fHrm8r0ClYWzDwjf83DYUKhZLC3g2uG/Z+i/5W+G33RvuNOzd+LeIVXSm2KS4v/lzCLbnyne13Fd9NbErZ1F3qWLpnM3azaPOdLR5bDpYpl+WWDWwN2dq8jb6taNvb7Uu2Xy6fV753B3GHbEdfRXBF606jnZt3fq4UVN6u8qpq2qW9a+Ou97t5u2/s8dzTuFdnb/HeT98Lv7+7z39fc7VJdfl+7P6c/U8PxBzo/IH5Q12NZk1xzZdaUW3fwYiD5+uc6urqtetLG+AGWcPwocRD1w/7HG5ttGrc16TWVHwEHJEdef5j0o93jgYd7TjGPNb4k/FPu47Tjhc1Q80rmkdbBC19rfGtPScCT3S0ubYd/9n659qT+ierTqmeKj1NPF1weuJM7pmxdnH7yNnUswMdSzoenIs7d+t8+PnuC0EXLl30u3iuk9V55pLbpZOXXS6fuMK80nLV8Wpzl0PX8V8cfjne7djdfM3pWut15+ttPfN7Tt/wuHH2ps/Ni7fYt67eXnC75070nbu9ib19d3l3h+5l3Ht1P+f++IO1DzEPix4pPSp/rP24+lezX5v6HPtO9fv0dz2JfPJggDvw4jfpb58HC55SnpY/03tWN2Q3dHLYb/j684XPB1+IX4yPFP6u/Puul6Yvf/rD84+u0bjRwVeSVxOvS95ovKl9O+9tx1jY2ON3me/G3xd90Phw8CPzY+en2E/Pxpd9xn2u+GL2pe1r0NeHE5kTE2KOhDMlBVDIgFNSAHiNaAdKPAA0RFMQF05r6ymDpv8PTBH4Tzytv6fMEYD6dgDCPAEIREYtwoxJOQumfVGeALa3l49/mTTF3m46F6kFkSblExNvEO2IMwPgS+/ExHjLxMSXGqTY+wC0v5vW9FNbCRHpvx8BvYc6wV3gHzat9//S4z9nIK/gb/Ofd7AWBQrmoeQAAABWZVhJZk1NACoAAAAIAAGHaQAEAAAAAQAAABoAAAAAAAOShgAHAAAAEgAAAESgAgAEAAAAAQAAAoqgAwAEAAAAAQAAAjQAAAAAQVNDSUkAAABTY3JlZW5zaG90zqh6igAAAdZpVFh0WE1MOmNvbS5hZG9iZS54bXAAAAAAADx4OnhtcG1ldGEgeG1sbnM6eD0iYWRvYmU6bnM6bWV0YS8iIHg6eG1wdGs9IlhNUCBDb3JlIDYuMC4wIj4KICAgPHJkZjpSREYgeG1sbnM6cmRmPSJodHRwOi8vd3d3LnczLm9yZy8xOTk5LzAyLzIyLXJkZi1zeW50YXgtbnMjIj4KICAgICAgPHJkZjpEZXNjcmlwdGlvbiByZGY6YWJvdXQ9IiIKICAgICAgICAgICAgeG1sbnM6ZXhpZj0iaHR0cDovL25zLmFkb2JlLmNvbS9leGlmLzEuMC8iPgogICAgICAgICA8ZXhpZjpQaXhlbFlEaW1lbnNpb24+NTY0PC9leGlmOlBpeGVsWURpbWVuc2lvbj4KICAgICAgICAgPGV4aWY6UGl4ZWxYRGltZW5zaW9uPjY1MDwvZXhpZjpQaXhlbFhEaW1lbnNpb24+CiAgICAgICAgIDxleGlmOlVzZXJDb21tZW50PlNjcmVlbnNob3Q8L2V4aWY6VXNlckNvbW1lbnQ+CiAgICAgIDwvcmRmOkRlc2NyaXB0aW9uPgogICA8L3JkZjpSREY+CjwveDp4bXBtZXRhPgrjdpOdAABAAElEQVR4AezdCXgV1dnA8TcrSVgSkhD2AGFTQRRkdUWkWMENFBWtioAKuKDWpdZ+6tevtdRKK64tKG5FEBAVV0RAQEUEF/ZNIKxZIAsBEghZvnlPnGsSstx7SYZM8j9Pb+7cmTNzzvyGp317tgkotJKQEEAAAQQQQAABBBAoJRBY6jc/EUAAAQQQQAABBBAwAgSK/ENAAAEEEEAAAQQQKFOAQLFMFnYigAACCCCAAAIIECjybwABBBBAAAEEEECgTAECxTJZ2IkAAggggAACCCBAoOjFv4E//vGP0rRpUy9ykgUBBBBAAAEEEKg9AgSKXjzLgoICSU1N9SInWRBAAAEEEEAAgdojQKDoxbNs1aqVnHfeeV7kJAsCCCCAAAIIIFB7BAKqcsFtbXnTT3BwsEcoNzdXgoKCzMez02Ubx44dk/z8fImIiHBZzakuAggggAACCCDgv0CVtSiuWbNG2rRpI9HR0bJw4UJTI91Xr149+dvf/uZ/DSs4Mycnx3QJa3BalengwYPy4YcfyvTp0yUpKUluuukmqV+/flUWwbUQQAABBBBAAIEaL1BlgeLs2bPliiuukP/5n/+RN954Q9LS0kQngWgaMWJEtUC8/fbbZpJJSkpKlV3/n//8p0RFRcnixYtl7dq1cvbZZ8u7775bZdfnQggggAACCCCAgFsEfu0jPskaX3LJJXLxxRebqzRs2FDeeustSUhIkOXLl0v79u1P8urOnL5161b5/e9/Lzom8ejRo+Zz7bXXyksvveRVBXbu3CmNGjWSxo0be5WfTAgggAACCCCAQE0WqLJAsX///pKYmCjLli2TrKws6dSpk5kAEh4eXm3336JFCxkwYICEhoZWSRn79++XRx99VJo3by5xcXHmugcOHJC//OUvsmfPnnLL+PLLL8153377rckzatQoefnll6usXuUWzAEEEEAAAQQQQKAaBU56Msvhw4elQYMGpooaIGqLWllJA66YmBgJCAgo67DZt2/fPtHAsqIWuczMTNM1XO5FrAOaR8cUhoSElJvtyJEjZvxk8Yk3OuZRfxc/Tyfj6O/y6p2XlycXXHCBjBw5UjRw/cc//mGC5YkTJ8ojjzxSbvkcQAABBBBAAAEEarqA32MUNSi84447RLuZR48eLePGjZPIyEi5/PLLRYMwTTpT+IknnpDOnTtLkyZNpFmzZjJhwgTZsWOHx+Xnn3+W6667zow1bNmypZkM069fP8+EGDvjlClTpEuXLiaIPOeccyQ7O1v+/Oc/mwDObu175ZVX5MILLzR5NCi97bbbZOXKlfYlPN9vvvmmCW7btWsnixYtMvu/+OILM6tZu511vKWmFStWmGCya9eunnzmQLE/q1atkqefflruvPNOM0Zz7ty55uiSJUuK5WITAQQQQAABBBBwn4DfgeLdd98tU6dONV2uGzZsMMHf/fffLx9//LH83//9n5HQ1rVp06bJQw89JDr+7/HHH5fXXntNdNyfJh3T16NHD9NipzOMdVLK6tWrRVvxBg4cKNu3bzf5fvzxRxOIaTn//ve/RVsxP//8c9FlazRZS/zI+++/L7fffrsJ1jZt2iQaWC5dulR07KQGtcWT1kHr1aFDB3nmmWfMoZkzZ8pTTz1lyn3yySfNMj/jx4+XXr16iZb7hz/8ofglPNt9+/Y1LYr2jtjYWOnWrZv52Pv4RgABBBBAAAEEXCmg6yj6mqwWw0LrZgutRagLraVkCq2ZwoXWOL5Cq8u30BrbV2hNYjGXnDFjRuHXX39d4vI33HCDOVfP0/TRRx8VWmP8Cl999dVCK1A0+6yJMCaPfmvS62h5Vneuub7VillojYcstGZVm/27du0qtILCQivYM/ntP9ayPOZ46TpYs7LNfr2mFdSZ7PPnzy/U6+o+/dZr6ba1PE6h1WJqtq3A1L50ud96X3reDz/8UG4eDiCAAAIIIIAAAm4Q8Gsyi44l1NS7d2958MEH5aeffhJtxdOFtfv06SM6uUOTFRSa7+J/tBVPk7YK6nhGXYrm/PPPNy2B9913n+hYxtNOO83k0fUMNQ0ePNh0cc+aNUsefvhh0xKoXdnFk44TLJ20a1mTtihmZGTInDlzRCea3HLLLTJ06FDp2bOn55RBgwZJcnKyqYd2V2vrp44x1O7y4mMWPSeUs/Hiiy+a87p3715ODnYjgAACCCCAAALuEPArUNRJG5p0bKAGUrrItna36mSQylLpSSFWy5s5RQM1XeRaxzeWzqMB5XfffSenn366aH6dkazdypWlwMBfe9Z1TKN2W2sZ//3vf02QGhYWVuIS+uYVHXN56NAh89Fxl74kHW+pwajO/CYhgAACCCCAAAJuF/g1kvLhTjSg0rGFOmHjT3/6k6xfv16s7l0zjrCiy+gMYZ2RXDzphBdN8+bNMwtblzfjWccVatKxiDqWUSfI+JJ0ooy2dKanp5txiNrCWFHS+9M3zXibNMC98cYbRSfU8Ko/b9XIhwACCCCAAAI1WcCvQFFv6KKLLjKvz7PG9pmWRQ307JbGsm5448aNosHa888/X9ZhefbZZ2XYsGHmmC52XTrp7GJN+vYXf5O2Fn7wwQfmrTE6oaascuxr+1KOTr65+eabzQxvu8tZW1er8o0xdr34RgABBBBAAAEEnBLwq+tZK2e/bUXH++lYvsoCq/fee08uvfRS0VnB//rXv8xSOsVvUruStStb39tstx7aLXP6vmUdu6hJl7HRpC2RCxYsMNsaAHqbdNkc7R7WFkNN2mVeVvrNb35T1u4T9h0/ftyMxdQxl9q9rUvraOuivl5Q33HdtGnTE85hBwIIIIAAAggg4AYBvwNFDbg06RtY/vd//9dzr8XHBXp2Whs6eUTHIWowqMvQ6ILYxVPp8YD6phddk1GTdmuvWbPGbGuwaScNEHUpHp0QU1EqXSdt9dPJKroOY+lk59W1Gu1UesykvV+/9ZV/GgRrsgNX3VaX4tfQfSQEEEAAAQQQQMBNAif9ZhZfblZb37TVTRfmJiGAAAIIIIAAAgjUbAFHA8WaTUHtEEAAAQQQQAABBIoL+D2ZpfhF2EYAAQQQQAABBBCofQIEirXvmXJHCCCAAAIIIIBAlQgQKFYJIxdBAAEEEEAAAQRqnwCBYu17ptwRAggggAACCCBQJQIEilXCyEUQQAABBBBAAIHaJ+DXOoo9e/asfRLcEQIIIIAAAgggUIsF7Lfc+XKLtCj6okVeBBBAAAEEEECgDgkQKNahh82tIoAAAggggAACvggQKPqiRV4EEEAAAQQQQKAOCRAo1qGHza0igAACCCCAAAK+CBAo+qJFXgQQQAABBBBAoA4JECjWoYfNrSKAAAIIIIAAAr4IECj6okVeBBBAAAEEEECgDgkQKNahh82tIoAAAggggAACvggQKPqiRV4EEEAAAQQQQKAOCVRroNisWTO54YYbJDQ0tA6RVs2tqtl1110nLVu2rJoLnsKrBAQGSJffnC4JfduZWnQZeLp0PL/DKawRRdcGgWadm5p/Vw2bNJS49k3MdmSzyNpwa9wDAgggUGME/HqFn7e1nzp1qjRv3lx69eolv//97709rcrz1a9fX0aNGiVr166VL7/8ssqvX/yCGhiHhYXJ66+/Xny3z9t/+tOfZPDgwZKeni6DBg3y+fyadEJYw3py1ZNXyPGc4/LMoGflqv+9QvJz8+XvF0+qSdUsUZeYNtHS76Y+smTqV3Jo/6ESx/hRMwQGThgg8We1lsUvL5E2PeIloU87+fqN5bJkyrKaUUFqgQACCNQCgWptUdy9e7ch2rx58yml6ty5s9x6663Sp0+faq/HAw88IFdcccVJl7NlyxZzjT179pz0tU71BXIOHjVVOH4sTwoLCkWs/+Qfzz/V1aqw/N7X95JuQ86URk0bVpiPg6dO4NihY6bw7IxsyTmYU7SdWfR96mpFyQgggEDtEqiWFsXg4GDT3fzggw9KQECA5OSc+F/eERERcvRoUQDRtWtX+fnnnyU7O9ujGxgYaFrm7H0a7GnQdOTIkXLz6IHi59nb4eHh5pyQkBDRcjUVFBR4yjc7vPwTGRkp7du3N/XYtm2b5OXlmTPt6+oPLbf4b/se9Jjuz83NNec1btxYtE6pqal6yCS7znPnzpX33ntPjh8/bh/yfNtd+XqdhIQEOXz4cIlreDJaG3pcy9yxY4cUFhb6fd/Fr+nPtgaIeUeL7qUgv0CO/7Jd+lrhkWHSJKGJHDtyTPZvPyAFeQWiXdfB9YIlzw40i50UGBwoQSFBprWy2G7Rbsms1EOiQUR5qaw89vWCrOtqCg0PlZDwELOtdfEnwNXu0KgWkVbL5GFJ351urmWXo62spVNQaJDZpa2uxVNZ9S1+XB00T8rPqZZ10b9L+7jeg+0X1SJK9BlkpWTZhyv99rW+FdXFLqyiPN7U1w4OD6cfsQLFov8uyba2SQgggAACVSdQLYHiP/7xD7ngggs8tZw9e7b8/e9/9/yOj48XDYS++eYb6dmzpwkqNYhZvny53HvvvSbf2LFjTXfxlClTZPTo0RIUVPQ/nh999JE8+eSTJfI8/PDDsmjRIrPvkUcekWuuuUbGjBkj559/vowcOdLs1z9XX321+ei2Boq9e/fWTa+SBqovv/yyNGrUyJNfg9aLLrrIBGOzZs3y7G/durUsXbrU83vcuHGycuVKc5+6//PPPxe9Xps2bUyerVu3mnvUgHLIkCHyxBNPeM7duXOnuR/PDmtDu8+TkpJEu9RjY2PNob1798rNN98sWVlF/+Pfv39/eeqpp8ocH6rmTqfda/fIge1ppthdP+0+IUhp2ilObpx8g4Q3CvNULfdIrumq7ja4qwx59DJZ8OxCWTn7e89x3bjmr1eb8Y7PXv6CCQovHnuh9LW6jDW41HTEChRnTHhHUrftN7/1T0V5bnvlFmnaMc6Td8Sz13m2M/dmykvXTfH8rmyjx9Du8hure1QDIjvt/GGXTL9npgyfOEza90uQfwz81wlB7t1zx0loWIg5pudVVF89rkHcjc9eL/HdW+tPk5I3p8hbd71trh3dOlrGzhwj6z/fYKxCI4rGDKftTJdXbn3Nq+DX2/pWVhetXGV5vK1v4vc7pWWXFqL3EWJ5tevVRlK3//qciyT4iwACCCBwMgLVEii++uqr8t1335mWNw3OykvnnnuupKSkyPTp001Ap7/j4uJKtI7dcccdsmnTJvnkk09Eg8fLL79cZsyYId50Z+s5Bw8elLZt28pVV10l69evly+++MJU59ixom6r8upWer8Gvw0bNhQNXNetWydNmzYVbRHUtG/fPpk8ebLZ1kBXg7XiYxTtbmSTwfqjYw61NVADzwEDBpigceDAgTJv3jxZsWKFTJo0yWTVbuzykgaZeo3nn3/eXKNLly4ydOhQeeONN8wpf/vb30xrrgbRGoA+88wzpoX2ueeeK++SJ+zX7np9HmWll156qUTrbll5iu/77/gZnp9vW4Fb6XTtU0MlvGGYLJv2texdv08axTWS+o2LWn+TNiab7DFtY8x3/ej6kpebJ8cOHzP5tLVSWw41oOx3c19JS0yXL15YZMat9R3RW0ZYQdTkK14w51aWR8e7NUmIlS6DzpBmnZrKD+//JBl7Msy56b98mx+V/NFA9dIHBpqxmJ/8c74Z5xhr1f/wgcPmzAM70kygqGXsXr3H6uJuJEes1jBtsQyrX88zLrKy+urF1E6DxA1fbJQ1n6yT3tf3NOP1rnriCpnzh7memuo9aSvcF88tku5XniXqedEdF8iiF7/05Clvw9v6elMXb/JoPSqr77r5G0Q/mjL3Zcqmxad2iIupCH8QQACBWiZQLYGiBlL66du3r6cFryy3tLQ0M55PW/e0C1eDGg0sNRizkwZOd911l/l56NAh09o2fPhw+ctf/mJnKfd7+/btop8ePXqYQHHDhg3y1ltvlZu/ogMNGjQwXbfaMvjjjz+WyKpd6PZ177nnHsnMzPT8LpHxlx/anXzttdeaAPOzzz6TDz74wAR7GihqN7QGwpruv//+X8448Ss/P1+uv/560XGg77//vixcuNBcQwNFbbHVLm21s1taNUDWIFtbL71NGihqcFxWeuedd3wKFMu6RvF9oVZwpK3Kiat2msCp+LH9Ow6Yn9GtGpuWwnveHydZyVmmda9+dITVTZ1rjl845nwzBvLV0a+brtdty7dLi9ObmyBKAzHtaq0sz/YVO0Q/2qqlQdzaT9fJ3nX7ilfHq23tKtdg8bgV0Go9dEKMftspaVOS2YzrEGe6gW/9z+9k9Ydr5OOJn4l2PWdYgY+myuqr1+1wbnvj8f4TH5pztP4PLrhPEnq1Nb/tP9nW+L3nh75kgtefPlojD35+n3S+sKNXgaI39dX7rawu3uSpivra1+AbAQQQQODkBKolUPS2St9//73pAtb8dqtbTExRq5F9jXfffdfeFM2vSVvznE7//e9/Zfz48aIzubWVcsGCBaY1r/iYSW/rtGbNGhMkan7tMtau9QMHioIhb6+hQbY9WUjro4GjHdTpTGlNp59+uhmfqEG43c2+ceNGb4swgafXmU8y43czV5rWrZtfutG0em1YuEkW/3uJaPdz0fjGPKv1sKGcfnFnCQwKlKiWURJhtTiGNQiTzKSDpnRtadQxsXfNutNTmzCrlVKTdm1roOhNHs/JJ7GhYw93/rhL2nSPFw1stdv6+/d+lBUzVpqr7vkl+GzSLtbTZdy5f2dZ9to35rjdTV9ZfU1XvdXL3iC2gUyYV/R/qPQC2hWrFsVT4qpEEyTqPnXVMZBhjYrG7xbPV9a2N/XVJWqkkrp4k8cu/2Tqa1+DbwQQQACBkxM4pYGir1U/88wzzSk6ecPpNG3aNFm1apXoeMOzzz7btAhqC50uYWOPC/S3TqtXr/b31DLPUx9tfdXxlPZyQDpJRsd3amunt+nf//63Wd6orPy33357iSECZeXxZZ8ua6JjzrQrtHW3VnLOsO5y1uAz5bmrX5Sj1uzW7MxsKzCsL92Hnm26Z3Xc37m/62smudhdwnZgVNY4tYzdRd3H3uTxpd4V5Z1+90w587Iu0sfq/o6zJuhccvfF0u2yM2XqLdOKxmhas78bt4oy4+xM0GYtI9T10jPMJe0WvMrqqwGhJu2yLn3fpSfDmIy//NFWSzXMzzpxolnxfPa2mfhSSX01gNdUUV28yWOXWfzb1/oWP5dtBBBAAAH/BVwVKOpED026HqImuxWuQ4cOpotVgyEd51g62S1sOgP4ZJK2BGqgqOVoEKVd2jq2UCfm2Elb75o0sVpWTmE677zzTOuiTppRI21tXLx4sWj9fUkapNiBii/n+ZtXu3jfvvcd02V703M3mJa20y4+TX6at9p0xbY+q5W06tpStizdah2LN8vXaAtWytYUU2TOoaNmXOPC5xeXmLxSvD7e5NH8Gphq0skS/nQ9m5OtP2s/XW8+upbkOKuls0n72KIAzQrscrNzrVnKzUQnl3z010/k8j8Olr439jGn7l6713xXVl+dGKJJv2fc9+uEKrOzgj9drfGKape2q6j1uYKsnkOV1ddeb7KiuuiMbE0V5fEUWGzDn/oWO51NBBBAAAE/BaolUNSWNu0ebtu2ramWtgRq96rO1NUJJr4kHY+ok0auvPJKOeOMM8zEjJkzZ5pLfPzxx2Zc40033WTGOOpkDl3gu3RKTEw0rX7du3eXP//5z2b8ZIsWLeTZZ58tnbXc3zrBRMf37dq1y7wtpWPHjiavXrt40vGLul6jTvbQ1jydAa3jF4svgVM8f+ltDT61npo0SNN7VzsN9opPkCl9XvHfdhe0znzWLn0dQ6n3e9ppp8mcOXM83f3Fzylr+847f+3CLet4Ve671poFnLotVdKtwEWXb9Gxe5rs5WR0MoUuqizWBOLl01eY2cw9r+1h8tiTXX6wunYvGHWe6Hi/zUu3yJZlP0tkM2tSjNUlbU/Y8CaPXlRnV593az+56PYLTLeuTjTR5XFKz7o2FSjjj45xvOTu/qIzvPXcZp2aWd3k9cx4RHuJnUPWxBZd2Fuvq5NQ+t3U15pgEm3WmTz4S3d6ZfXVc5M2JklzayymdnGvX7BRkjclS6w1IScr5ZAJsu3qaaCtM7Hb9mwjnS7oYMqZP2mBfbjSb2/qW1ldnKxvpTdEBgQQQACBSgWqJVC87777JCoqylO4Bij60XF1GijqpIXSyd5nf9vH9a0u+tGkQZpeWye/aNLxgZ9++qmZRazjB3UWsE7quOSSS04o44UXXpC7777bdBVrd7G2/PkSKPbrZwUN1lI4dtLATSd0/PDDD/Yu862zinXGsdbZHheodSoeKJa+x+IXuOWWW8yyPvY+7T7WVkxN3gaKuuyQ1k8ntGhrqy4tpNvqorO/NbCuaam99VYNE7z8UjFd52/V7B9k14+7zZ7kzUUzn3VsnS79ciQ9W+xAce/6ota3Za9+LZHWpJUzL+tqdeF2MR89WVu67EDRmzx6js6iXm1N+NDr9L2xt+6yZlOneR0oRjQON0vRFH9VoY5b/Phvn5pr6Z+MvRkmUNy9Zo/Z99NHq033dG5O0eQc3elNfWf+fraM+Nf1Zg1Fu6567kZrFrC2xtpJX3X32wd/Y35qd762Yh6w7snb5E19vamLN3m0TidbX2/vi3wIIIAAAuULBFhBy4lRW/n5zREn1uHTwE9fu6evstMu0+TkZE+AWLp6usB3u3btRBfAtoPI0nns3/r+ae06ruh6dt7S37pUjE620aV1dDZ1RUkXxdaytBwNYJ1MEydONF3ijz/+uKcFVxcK1xnWamUH3k7WyZuyNDDQWcy6MLQvAUxZ145sHin1rC7dg9YEFl1Gp6zkTR49T1v9crOPe5asKetaZe3TGb7RrRtLPWtG9+G0I0XjEsvK6OW+yuqr5enkmPy8fDPBxx6jaK9LuHHRZln00pdWXQ57JrV4WbTP2cqrS/ELlZfnVNS3eL3YRgABBGqrgM618DVVS4uir5WoKL8GWbpOYUVJWwe9XfZFAzc7acCoAWZFSZey0ZZMTdoqWLxlsKLztN72eRXlq45j0dFW96WVdPykrkGpLbk6vlODxJOdeFMd9bWvqS1/9jg3e5+/33bXbUXne5NHz9cFnf1JOlvb33PLKq+y+mp5xRcWL32NQqslvrJrlD7H39+V1UWvW1keJ+vr731yHgIIIFDbBWp8oFidD6BVq1am+7iiMrQL14l3RFdUB1+P6eLar7zyilx44YXmY5+vXfX2m2/sfXwjgAACCCCAAALlCdTYrmft5tV3QOsbXqprORxtYdNgqqKkE0F0zJ8bky7jo2MU9c0s+iYb7Zon1T0BnWHc8bwOkvrzfjMusqYLuK2+Nd2T+iGAAAK2gD9dzzU2ULRvim8EEEAAAQQQQACBkxfwJ1AsWoTt5MvmCggggAACCCCAAAK1TIBAsZY9UG4HAQQQQAABBBCoKgECxaqS5DoIIIAAAggggEAtEyBQrGUPlNtBAAEEEEAAAQSqSoBAsaokuQ4CCCCAAAIIIFDLBAgUa9kD5XYQQAABBBBAAIGqEqhTC2537NhRrr32WvMe5KeffrqqDLkOAggggAACCCBQKwXqVKD44osviv16OwLFWvnvmZtCAAEEEEAAgSoUqJau59DQUNGPpoSEBNG3rJzq9OCDD5ogscB63y0JAQQQQAABBBBAoHKBamlR/PLLLyUpKUnq168vsbGxphZ79+6Vm2++WbKysiqvVRXniI+Pl+uvv97UScvv3LlzFZfA5RBAAAEEEEAAgdonUC2BojK1adNGcnNz5fnnn5cBAwZIly5dZOjQofLGG294pajnnHPOOWXm/eSTT2T9+vVlHitr5wsvvGB233PPPfLXv/61rCzsQwABBBBAAAEEECglUG2BYn5+vmnF2717t7z//vuycOFCEzB6GygOHz5cevbsWaq6RT8PHjzodaA4atQoadGihcyYMUMSExPLvB47EUAAAQQQQAABBE4UqLZAMS0tTTRI1KSBnQaODRs2PLEG5ewZN25cOUe8363d3nfeeadoXSZNmuT9ieREAAEEEEAAAQQQkGoLFE/WdsKECaYFsqzr/Oc//xHtfq4sPfzwwxIUFCQhISHy7rvvmuzauqhJf2/dulX+8Ic/mN/8QQABBBBAAAEEECgpUGMDRQ3wAgICStbWx18pKSmSmZlpzoqMjDTfel1N+jsqKsps8wcBBBBAAAEEEEDgRIGAQiuduLviPeWNHbTP+uabb0yANnjwYHuXrFixQnTm87Bhwzz7TsXG9OnTzaznyu7hVNSNMhFAAAEEEEAAgeoSWLVqlc+XrpZ1FH2uhYMn+BEXO1g7ikIAAQQQQAABBGqOQLW0KNac26MmCCCAAAIIIIAAAipAiyL/DhBAAAEEEEAAAQSqTKDOdT1XmRwXQgABBBBAAAEEarkAgWItf8DcHgIIIIAAAggg4K8AgaK/cpyHAAIIIIAAAgjUcgECxVr+gLk9BBBAAAEEEEDAXwECRX/lOA8BBBBAAAEEEKjlAgSKtfwBc3sIIIAAAggggIC/AgSK/spxHgIIIIAAAgggUMsFCBRr+QPm9hBAAAEEEEAAAX8Fgv09kfOqXyAsLExGjhwpHTp0kDlz5si3335b/YVSAgIIIIAAAggg8ItAjW9RvOGGG0ywVN1PrG3btvL4449LXFxcdRfl1fVDQ0Pl888/lzFjxsiFF14o8fHxXp1HJgQQQAABBBBAoKoEanyg+MADD8gVV1xRVfdb7nVuvPFGufLKK6VZs2bl5nHywNVXXy0RERHy1VdfSd++fWXWrFlOFk9ZCCCAAAIIIICAVGugqF2n3bp1E/0unTQICgwsWXzxfbqtH02az/5t7yu+32Sy/nTu3Fnq169v/zTfwcHBJ5SvrXV2nfS4XjMkJMTk1/12WZrvVKU2bdqYoqdMmSIFBQWnqhqUiwACCCCAAAJ1WKBaxijGxsaKBjjFu0u3b98ud955p2RkZJj9c+fONV2rf/zjHw3/2WefLa+88oq8++678s4775RoQWvdurUsXbrU85jGjRsnK1eulLFjx8qoUaNMWaNHj5agoCCT56OPPpInn3zSbL/xxhvSqVMn6dWrl+f8mTNnSsuWLaVPnz7y5ptvmuP2wZdeesnelL1798pVV13l+e3khh1EZ2ZmOlksZSGAAAIIIIAAAh6BagkUp02bJi1atJBFixbJ119/bYItbVmcPHmy3HLLLZ7Cy9vYt2+fyavH7733XsnKypLXX3/dk33Lli2ebd244447ZNOmTfLJJ5+Y4PHyyy+XGTNmyObNm0vkK+vH888/byaLXHrppXLaaaeJBrC7d+82WXft2lXWKWXuGzBggJxzzjllHtN6rV+/vsxj5e0MDw83hw4fPlxeFvYjgAACCCCAAALVKlDlgaIGhBok/vDDD/Lwww+byn/wwQem9fCMM844obu5rLs7evSovPXWW+bQPffcI9qqZv8uK/+KFSvkrrvuMocOHTokTzzxhAwfPlz+8pe/lJW9xL7ly5eLfrTVUgNFbY1cs2ZNiTze/NDyevbsWWbWgwcPeh0oqlG/fv1k0KBBJkDWIJmEAAIIIIAAAgicCoEqDxR79Ohh7uOLL74ocT/r1q0zs3d1qRcNBKsyaXe1nb7//nuz2bRpU3uXI9/aHV4V6ZFHHpEuXbqYS9nd51VxXa6BAAIIIIAAAgj4KlDlgaI9TtD+titUWFhoNnNzc+1d1fJ95plnmus63WU7YcIE0e7nstJ//vMf0y1e1rHS+zTg1EBx0qRJZpylLpFDQgABBBBAAAEEToVAyWnHVVCDDRs2mKv079+/xNV0sooGi4mJiaYrWQ+2atXKk+eaa67xbBffyMvLkyZNmhTfVeH2kCFDzPG1a9eab+32DQgIMJNXdIcuf9O8eXNzrPgfe9JI165di+/2elsDYy2nrI/XF7EyZmdnm4k62iKrs65ryrqOvtwDeRFAAAEEEECgdghUeYuijvfTcXU6sePpp5+WVatWydChQyUyMlIWLFhg1PS4BmY6JvC+++6Tjh07mhnIZZH++OOP5pjORv7yyy/NWEIdr5iamurJruMDGzdubNZB1DF+GmzpzGZNn332mfTu3dtMjtFJJTpLWpfCyc/P95yvGzr5RY/pTGqdtZ2enm7y6H5v0j//+U/RT1WlY8eOmUvZy/hU1XW5DgIIIIAAAggg4K1AlbcoasG33367HDhwwHTF6oQWHZeoQd5jjz3mqZcuhaPB0O9+9zsTyNkBmd1FbWd87rnnRGcf6/I2eq0RI0aYyTL2cf3WY48++qjpstUZy3pNe+1BDRR//vln0XUJx48fL9olXdZsaF22Z968eSaI1JnZGsAOGzaseDFsI4AAAggggAACdUogwArMigYP+nDb5c3uLX0JXbhau3p1DcXyUvv27c16hZVNcNFuWL1WcnKy2OMcNfDTVsA//elPZqayHrMDxNLlaYtmgwYNTFmlj5X+ra/z01bJ4q2WpfNU929dF1LHK+o6k4xTrG5tro8AAggggEDtF9BeXl9TtbQo2pXQYKuiIFHzbdu2zatZ0BocasuiHSTaZei37tO1F8sLEjWPjlXUBbS9STqO8lQGiVrH2bNnm6rqKwwHDhxoxit6U3fyIIAAAggggAACVSVQrYFiVVWyLl5Hx3Fqt7mOvZw4caJZVLwuOnDPCCCAAAIIIHDqBKq167m6b0tnBOss5e+++86MPazu8k7F9fVVfroA99atW095K+epuH/KRAABBBBAAIGqEfCn69nVgWLVsHEVBBBAAAEEEECg9gv4EyjS9Vz7/11whwgggAACCCCAgF8CBIp+sXESAggggAACCCBQ+wUIFGv/M+YOEUAAAQQQQAABvwQIFP1i4yQEEEAAAQQQQKD2CxAo1v5nzB0igAACCCCAAAJ+CRAo+sXGSQgggAACCCCAQO0XIFCs/c+YO0QAAQQQQAABBPwSIFD0i42TEEAAAQQQQACB2i9AoFj7nzF3iAACCCCAAAII+CXg15tZ/CqJkxBAAAEEEEAAAQRcJUCLoqseF5VFAAEEEEAAAQScEyBQdM6akhBAAAEEEEAAAVcJECi66nFRWQQQQAABBBBAwDkBAkXnrCkJAQQQQAABBBBwlQCBoqseF5VFAAEEEEAAAQScEyBQdM6akhBAAAEEEEAAAVcJECi66nFRWQQQQAABBBBAwDkBAkXnrCkJAQQQQAABBBBwlQCBoqseF5VFAAEEEEAAAQScEyBQdM6akhBAAAEEEEAAAVcJECi66nFRWQQQQAABBBBAwDkBAkXnrCkJAQQQQAABBBBwlQCBoqseF5VFAAEEEEAAAQScEyBQdM6akhBAAAEEEEAAAVcJECi66nFRWQQQQAABBBBAwDkBAkXnrCkJAQQQQAABBBBwlQCBoqseF5VFAAEEEEAAAQScEyBQdM6akhBAAAEEEEAAAVcJECi66nFRWQQQQAABBBBAwDkBAkXnrCkJAQQQQAABBBBwlQCBoqseF5VFAAEEEEAAAQScEyBQdM6akhBAAAEEEEAAAVcJECi66nFRWQQQQAABBBBAwDkBAkXnrCkJAQQQQAABBBBwlQCBoqseF5VFAAEEEEAAAQScEyBQdM6akhBAAAEEEEAAAVcJECi66nFRWQQQQAABBBBAwDkBAkXnrCkJAQQQQAABBBBwlQCBoqseF5VFAAEEEEAAAQScEyBQdM6akhBAAAEEEEAAAVcJECi66nFRWQQQQAABBBBAwDkBAkXnrCkJAQQQQAABBBBwlQCBoqseF5VFAAEEEEAAAQScEyBQdM6akhBAAAEEEEAAAVcJECi66nFRWQQQQAABBBBAwDkBAkXnrCkJAQQQQAABBBBwlQCBoqseF5VFAAEEEEAAAQScEyBQdM6akhBAAAEEEEAAAVcJECi66nFRWQQQQAABBBBAwDkBAkXnrCkJAQQQQAABBBBwlQCBoqseF5VFAAEEEEAAAQScEyBQdM6akhBAAAEEEEAAAVcJECi66nFRWQQQQAABBBBAwDkBAkXnrCkJAQQQQAABBBBwlQCBoqseF5VFAAEEEEAAAQScEyBQdM6akhBAAAEEEEAAAVcJECi66nFRWQQQQAABBBBAwDkBAkXnrCkJAQQQQAABBBBwlQCBoqseF5VFAAEEEEAAAQScEyBQdM6akhBAAAEEEEAAAVcJECi66nFRWQQQQAABBBBAwDkBAkXnrCkJAQQQQAABBBBwlQCBoqseF5VFAAEEEEAAAQScEyBQdM6akhBAAAEEEEAAAVcJECi66nFRWQQQQAABBBBAwDkBAkXnrCkJAQQQQAABBBBwlQCBoqseF5VFAAEEEEAAAQScEyBQdM6akhBAAAEEEEAAAVcJECi66nFRWQQQQAABBBBAwDkBAkXnrCkJAQQQQAABBBBwlQCBoqseF5VFAAEEEEAAAQScEyBQdM6akhBAAAEEEEAAAVcJECi66nFRWQQQQAABBBBAwDkBAkXnrCkJAQQQQAABBBBwlQCBoqseF5VFAAEEEEAAAQScEyBQdM6akhBAAAEEEEAAAVcJECi66nFRWQQQQAABBBBAwDkBAkXnrCkJAQQQQAABBBBwlQCBoqseF5VFAAEEEEAAAQScEyBQdM6akhBAAAEEEEAAAVcJECi66nFRWQQQQAABBBBAwDkBAkXnrCkJAQQQQAABBBBwlQCBoqseF5VFAAEEEEAAAQScEyBQdM6akhBAAAEEEEAAAVcJECi66nFRWQQQQAABBBBAwDkBAkXnrCkJAQQQQAABBBBwlQCBoqseF5VFAAEEEEAAAQScEyBQdM6akhBAAAEEEEAAAVcJECi66nFRWQQQQAABBBBAwDkBAkXnrCkJAQQQQAABBBBwlQCBoqseF5VFAAEEEEAAAQScEyBQdM6akhBAAAEEEEAAAVcJECi66nFRWQQQQAABBBBAwDkBAkXnrCkJAQQQQAABBBBwlQCBoqseF5VFAAEEEEAAAQScEyBQdM6akhBAAAEEEEAAAVcJECi66nFRWQQQQAABBBBAwDkBAkXnrCkJAQQQQAABBBBwlQCBoqseF5VFAAEEEEAAAQScEyBQdM6akhBAAAEEEEAAAVcJECi66nFRWQQQQAABBBBAwDkBAkXnrCkJAQQQQAABBBBwlQCBoqseF5VFAAEEEEAAAQScEyBQdM6akhBAAAEEEEAAAVcJECi66nFRWQQQQAABBBBAwDkBAkXnrCkJAQQQQAABBBBwlQCBoqseF5VFAAEEEEAAAQScEyBQdM6akhBAAAEEEEAAAVcJECi66nFRWQQQQAABBBBAwDkBAkXnrCkJAQQQQAABBBBwlQCBoqseF5VFAAEEEEAAAQScEwjetXuPc6VREgIIIIAAAggggIBrBIJDQ0NcU1kqigACCCCAAAIIIOCcQHC9emHOlUZJCCCAAAIIIIAAAq4RCA4JDXVNZakoAggggAACCCCAgHMCwUGBzGdxjpuSEEAAAQQQQAAB9wgEBxIouudpUVMEEEAAAQQQQMBBAZoTHcSmKAQQQAABBBBAwE0CwQUFBW6qL3VFAAEEEEAAAQQQcEggOJ9A0SFqikEAAQQQQAABBNwlEHw8N9ddNaa2CCCAAAIIIIAAAo4IBBRayZGSKAQBBBBAAAEEEEDAVQJMZnHV46KyCCCAAAIIIICAcwIEis5ZUxICCCCAAAIIIOAqAQJFVz0uKosAAggggAACCDgnQKDonDUlIYAAAggggAACrhIgUHTV46KyCCCAAAIIIICAcwIEis5ZUxICCCCAAAIIIOAqAQJFVz0uKosAAggggAACCDgnQKDonDUlIYAAAggggAACrhIgUHTV46KyCCCAAAIIIICAcwIEis5ZUxICCCCAAAIIIOAqAQJFVz0uKosAAggggAACCDgnQKDonDUlIYAAAggggAACrhIgUHTV46KyCCCAAAIIIICAcwIEis5ZUxICCCCAAAIIIOAqAQJFVz0uKosAAggggAACCDgnQKDonDUlIYAAAggggAACrhIgUHTV46KyCCCAAAIIIICAcwIEis5ZUxICCCCAAAIIIOAqAQJFVz0uKosAAggggAACCDgnQKDonDUlIYAAAggggAACrhIgUHTV46KyCCCAAAIIIICAcwIEis5ZUxICCCCAAAIIIOAqAQJFVz0uKosAAggggAACCDgnQKDonDUlIYAAAggggAACrhIgUHTV46KyCCCAAAIIIICAcwIEis5ZUxICCCCAAAIIIOAqAQJFVz0uKosAAggggAACCDgnQKDonDUlIYAAAggggAACrhIgUHTV46KyCCCAAAIIIICAcwIEis5ZUxICCCCAAAIIIOAqAQJFVz0uKosAAggggAACCDgnQKDonDUlIYAAAggggAACrhIgUHTV46KyCCCAAAIIIICAcwIEis5ZUxICCCCAAAIIIOAqAQJFVz0uKosAAggggAACCDgnQKDonDUlIYAAAggggAACrhIgUHTV46KyCCCAAAIIIICAcwIEis5ZUxICCCCAAAIIIOAqAQJFVz0uKosAAggggAACCDgnQKDonDUlIYAAAggggAACrhIgUHTV46KyCCCAAAIIIICAcwIEis5ZUxICCCCAAAIIIOAqAQJFVz0uKosAAggggAACCDgnQKDonDUlIYAAAggggAACrhIgUHTV46KyCCCAAAIIIICAcwIEis5ZUxICCCCAAAIIIOAqAQJFVz0uKosAAggggAACCDgnQKDonDUlIYAAAggggAACrhIgUHTV46KyCCCAAAIIIICAcwIEis5ZUxICCCCAAAIIIOAqAQJFVz0uKosAAggggAACCDgnQKDonDUlIYAAAggggAACrhIgUHTV46KyCCCAAAIIIICAcwLB/hTVs2dPf07jHAQQQAABBBBAAIFTJLBq1SqfS6ZF0WcyTkAAAQQQQAABBOqGAIFi3XjO3CUCCCCAAAIIIOCzAIGiz2ScgAACCCCAAAII1A0BAsW68Zy5SwQQQAABBBBAwGcBAkWfyTgBAQQQQAABBBCoGwIEinXjOXOXCCCAAAIIIICAzwIEij6TcQICCCCAAAIIIFA3BAgU68Zz5i4RQAABBBBAAAGfBQgUfSbjBAQQQAABBBBAoG4I+PVmFqdomnVuKjHx0bLrpz0S3ihMmiTEyp61++Rg8kGnquBTOW6rr083R2YEEEAAAQQQqHMCNTpQHDhhgMSf1VoWv7xE2vSIl4Q+7eTrN5bLkinLauSDcrK+3bt3l9/+9rfSvHlzWb16tbz22mtSUFBQI12oFAIIIIAAAgi4U6BGB4rHDh0zqtkZ2ZJzMKdoO7PouyZyO1XfZ555Rvr3728ICgsL5dxzz5VrrrlGBg8eXBNZqBMCCCCAAAIIuFSgRo9RtIPDw+lHrEDxqCHOtrbLSpHNIk2rY3TraM/hwOBACQkP8fwuvhEUGiT6KZ6CQoKkZdcWEhxWfvwcHhkmzU9rJgGBAcVPNdu+1Ldly5YSHf1rXU+4WAU7NDjUF3sPGDBA+vXrJ7t375a4uDi58sorKziLQwgggAACCCCAgG8C5UdEvl2nWnInfr9TWnZpIWk70yUkLETa9Wojqdv3lyirx9Du8huri1qDPDvt/GGXTL9npgyfOEza90uQfwz8lxzPOW4fNt93zx0nodY19ZgGlDc+e73Ed2/tyZO8OUXeuuttz3kaiN7y7xulYZOGRXkKRX6ct1o+fXq+5xxv6quZBw4cKBMnThQN+IYMGSKpqamea3iz8dBDD5XINnv2bHnggQfkjDPOkHnz5pU4xg8EEEAAAQQQQMBfgRodKK6bv0H0oylzX6ZsWry5xH1qq96lDwyU/Nx8+eSf8+XQ/kMS2zZGDh84bPId2JFmAsVmnZrK7tV7pFHTRnLEapHMP54vYfXrmfya8dqnhpogccMXG2XNJ+uk9/U9zXjIq564Qub8Ya651m2v3iIRkeGyZOoySd22Xy69f6B0v+os67q7PXWsrL7mQtafVq1amc2AgACJioryOVC0r2N/d+jQwWzu2rXL3sU3AggggAACCCBw0gI1OlCs7O6C6wWbLuDjuXmybfl2E/jpt52SNiWZzbgOcVKQXyC3/ud3svrDNfLxxM9Mt3OGFXxqsNnh3PaSlZwl7z/xocm/fcUOeXDBfZLQq6353fGCDhIRFS7rPlsvX7++3OxL2pAs984bLz2v7eEJFM0BL/68+eabEhISIsnJybJlyxYvzig/i3Zha6vk8ePHZc6cOeVn5AgCCCCAAAIIIOCjgKsDRe1O3vnjLmnTPV7ueX+cZO7NlO/f+1FWzFhpGPas22e+m7SL9XQrd+7fWZa99o3Zf2B7msS1byJiDTdsENtAJsy7y8OnXd3a4qdJZ15r6nxRJ5nwS/Bodlh/GsQ0sDe9/tbZyVOnTvU6f3kZdYzjjBkzJCgoSB599FHJzc0tLyv7EUAAAQQQQAABnwVcHSjq3U6/e6aceVkX6TOit8QlNJFL7r5Yul12pky9ZZpkpWSJWGMJG7eKMmMdtYs6rGE96XrpGQZKWxwDg4rm82h3dOnxj5pfk50nJytH0nalm33mjzVeMnVryTGTvx6s3i0NEt977z2JiIgQnQW9aNGi6i2QqyOAAAIIIIBAnRNwfaCoT2ztp+vNR4PAcbPulCbtY83kFg3+crNzpVnnZhIaESof/fUTufyPg6XvjX3Mg969dq9nnKJOaJlx36wy/wEkb0k2+3Oyjpabp8wTy9kZGBgoY8eONWMT/ekujo2NlXfffVfq169vgsSZM2eWWZKWM23aNHNs/Pjxkp2dXWY+diKAAAIIIIAAAmUJuDpQ1KVwLrm7v/Xmlt1mkkqzTs0krEE9Mx5Rg0RNh6yJLTFtoqUgr8BMVOl3U1+JaWstS2O1NB5MKnrDS9LGJGl+enPTfb1+wUZJ3pQssdZbYLJSDslP1sxmnaRy2YOXStOOcTLmjdtk9cdrreV6sqXF6S1kw8KN1tti9pZlW+6+kSNHyqhRo8zxtWvXyubNJSfplHviLwdmzZplgsTMzEzp3bu3+eghHaf4yCOPeE7v2LGjdO3a1fy+/fbbZfLkyZ5jbCCAAAIIIIAAApUJuDpQjGgcLh3P72A+9o3quMWP//ap/VMy9maYQHH3mj1m308frTbd07k5v47nm/n72TLiX9dbLY9NrdbG3p5zN1qzrDVQLCwolLfueVuu+/u1EtehiVmOx2Sygs2UrSk+B4qJiYnmdB2rmJGR4SnP242GDYuW6NEZ0xdeeGG5p2kAmpaWJjExMeZTbkYOIIAAAggggAACZQgEWGv5WeGOb6lnz56+nVCNuXXWcnTrxlLPWu7mcNqRonGJfpan19KJL/l5+ZJptTbaYxSLX04X6dY82g2tYyA1iPQnNWvWTHJycuTgwep9b/X06dOlc+fO8thjj8n8+b+u+ehPnTkHAQQQQAABBNwroC/r8DW5ukVRb1YDNV2QuyqSXkvXSKwoafCoi3GfbNKlcaozjRgxQsaMGSORkZGyceNGgsTqxObaCCCAAAII1FIB1weKtfS5nPRthYeHy7Zt28xs6PImu5x0IVwAAQQQQAABBGq1gOu7nmv10+HmEEAAAQQQQACBKhLwp+u5aBHBKqoAl0EAAQQQQAABBBCoPQIEirXnWXInCCCAAAIIIIBAlQoQKFYpJxdDAAEEEEAAAQRqjwCBYu15ltwJAggggAACCCBQpQIEilXKycUQQAABBBBAAIHaI0CgWHueJXeCAAIIIIAAAghUqUCNXkdRX6kXEx9tvct5j4Q3CpMm1vuX96zdJweTq/dtJv4Ku62+/t4n5yGAAAIIIIBA3RCo0YHiwAkDJP6s1rL45SXSpke8JPRpJ1+/sVyWTFl2Sp5OQt920vnCTvLp02W/Cs/p+iYkJMjIkSNlzZo1MmfOnFNiQqEIIIAAAgggUHsFanTX87FDx4x8dka25BzMKdrOLPo+FY/k0vsHylmXn1lu0U7VV98TPWXKFJk1a5YMHjxYhg0bVm6dOIAAAggggAACCPgrUKMDRTs4PJx+xAoUj5p7zLa2NQUEBkhIeIj5NjuK/QkMDjTHiu0ym9o1HNE4ovRuz++gkCBp2bWFBIeVbGgNCg0y1wsMLOLScu2P1sNOFdXXzmN/t2zZUqKjo+2fXn9rHT744APp0aOHJCUleX0eGRFAAAEEEEAAAV8FSkZEvp5dzfkTv98pLbu0kLSd6RISFiLterWR1O37TandBneVIY9eJgueXSgrZ39foibX/PVq6Xh+B3n28hdEWyMvHnuh9L2pjyeoPGLtmzHhHUndVnQtDSxvfPZ6ie/e2nOd5M0p8tZdb8vxnOPy4Pz7RINFOz30xf32pqz+cI18PPEz87ui+npOsDYGDhwoEydOlMLCQhkyZIikpqYWP1zhdkFBgWlJXLp0qaSkpMjcuXMrzM9BBBBAAAEEEEDAX4EaHSium79B9KMpc1+mbFq82XOfSRuTzXZM2xjzXT+6vuTl5smxw8ekUVwjKSwoNEGiBpT9bu4raYnp8sULi8xYx74jessIKzCcfMUL5txrnxpqgsQNX2yUNZ+sk97X9zTjIa964gqZ84e58tmkzyWsYZicd+u5Etagnix8cbGnHhoc2qmi+tp59LtVq1bmZ0BAgERFRfkUKOqJkyZNMufHx8ebb/4ggAACCCCAAALVIVCjA8WKbnj/jgPmcHSrxqal8J73x0lWcpa8dN0UqR8dIceO5JrjF4453wSNr45+XfKO5sm25dulxenNTWDYqGkjObT/kHQ4t7059/0nPjTnbF+xQx5ccJ8k9Gprfq/+aK357nH12RIaESIrZqw0v/398+abb0pISIgkJyfLli1b/L0M5yGAAAIIIIAAAtUq4NpAUVsMNfBrFNdQTr+4swQGBUpUyygzBjGsQZhkJhUtoaMtjdpyd9esOz2Q2jqoqWmnOLPsjljDDBvENpAJ8+7y5NGubj2vOpJ2H0+dOrU6Ls01EUAAAQQQQACBKhNwbaCoAtmZ2VZgWF+6Dz1b8o/ni05GOfd3fSW4XrCk78kwSHawZ49tLC6XsTvDjH3UfXp+6Tz5ufnFs7ONAAIIIIAAAgjUKQFXB4oZ1rjF1me1klZdW8qWpVut7uR46TbEWr7GaghM2ZpiHmTOoaNS35rpvPD5xZ7JK8WfsE5k0aTfM+6bVfzQCdu52cdNy2XDJg1Nl/UJGbzcoTOXx44da8YmVuf6h1rOtGnTTK3Gjx8v2dnZXtaQbAgggAACCCCAgEjQk1byFULX8KsJScca6qxo7Xb+8C8fS1BwkGfm8oq3V0q61WIYai1l08YKIM/8bVeJtSa+BFjBU/t+CdL5ok6yY2WiGb/Y4dwE0fGKZ1/ZTRrENDDd0acPPE0aW+MfdfaznXQpHB3PeJp1bnBosDULu61pvczYk2ln8er7tttukzvuuEPOP/98WbJkiaSlpXl1np1p9OjRMnz4cLn44ouldevWEh4eLh07dpRevXrJV199ZWeTTp06ybhx4yQuLk6Cg4NlxYoVnmNsIIAAAggggEDdEtDYw9fk6hbF5M1FM59zrYkrGtAdSc+Wntf2MAZ71+8138te/VoirSDwzMu6StdLu5iPHtBJLIte/NLkmfn72TLiX9eLrrPY98beZp/+2WjNsv5p3mrP7x8/+EnOvqKbNO0YJxePu8jsXzXnB9n+7Q5PHm82EhMTTTYdq5iRUdRF7s15dh4NEmNjY+2fEhERIYMGDZK8vDyz7I59YPPmzSYIjYmJEf2QEEAAAQQQQAABXwQCrLX8Cn05QfP27NnT11NqRP7I5pFSLyJUDqZkmWV0SldKWwybtIuV/Lx8MxmmvDGKOhaysTVx5nDaSIRZAwAAQABJREFUYTn6y9tjSl+rst/6dpWcnBw5eLB631s9ffp06dy5szz22GMyf37Zrx6srK4cRwABBBBAAAH3C6xatcrnm3B1i6Kvd3vwl5nQ5Z2nM6ntRbjLy6P7deLLgUTfuotLX0+XxqnONGLECBkzZoxERkbKxo0bCRKrE5trI4AAAgggUEsF6lSgWEufYZm3peMWt23bJosWLZKZM2eWmYedCCCAAAIIIIBARQJ1quu5IgiOIYAAAggggAACtVnAn67norVharMK94YAAggggAACCCDglwCBol9snIQAAggggAACCNR+AQLF2v+MuUMEEEAAAQQQQMAvAQJFv9g4CQEEEEAAAQQQqP0CBIq1/xlzhwgggAACCCCAgF8CBIp+sXESAggggAACCCBQ+wVq9DqK+kq9mPho2fXTHvP+5SYJsbJn7T45mFy9bzPx97G7rb7+3ifnIYAAAggggEDdEKjRgeLACQMk/qzWsvjlJdKmR7wk9GknX7+xXJZMWVblTyemTbT0u6mPLJn6lXkPtD8FOFlfrV9CQoKMHDlS1qxZI3PmzPGnypyDAAIIIIAAAgiUK1Cju56P/fIe5eyMbMk5mGNuIjuz6LvcO/LzQO/re0m3IWdKo6YN/byCiFP11fdET5kyRWbNmiWDBw+WYcOG+V1nTkQAAQQQQAABBMoTqNEtinZweDj9iBUoHjX3kG1tl5Uat2wsAYEBkr47vazDZp92DWelHhINPO0UGBwoQSFBEmR9awoND5WQ8BCzXZBXYN7rbH788ic8MkyaJDSRY0eOyf7tB0Tz2MmX+rZs2VJycnIkPb38+trXLf4dGBgoH3zwgQQFBUlSUpI0b968+GG2EUAAAQQQQACBKhOo0YFi4vc7pWWXFpK2M11CwkKkXa82krp9f4mb73h+Bxn2f1dJUGiQ2Z9/PF8++ftnsvbT9Z58F4+9UPpa3coaSGo6YgWKMya8I6nb9sttr9wiTTvGefKOePY6z3bm3kx56bop5nfTTnFy4+QbzFhJO0PukVx5ZtCz9k/xpr6aeeDAgTJx4kQpLCyUIUOGSGpqqucalW0UFBSYlsSlS5dKSkqKzJ07t7JTOI4AAggggAACCPglUKMDxXXzN4h+NGXuy5RNizeXuMkGMQ1k+MRhcvzocfnoyU+slsBQufT+gXL5HwfLju92yuG0w9JtcFfpd3NfSUtMly9eWGTGOvYd0VtGPHu9TL7iBTP+USfJdBl0hjTr1FR+eP8nydiTYcpJ/+Vbf1z71FAJbxgmy6Z9LXvX75NGcY2kfuOIEvWprL525latWpnNgIAAiYqK8ilQ1BMnTZpkzo+Pjzff/EEAAQQQQAABBKpDoEYHipXd8CV39xexGgnn/s8Hsm35dpO9Xv1QueTui+XsK7vJV699IxeOOV8KCwrl1dGvS97RPJOvxenNJb57a2s8YiPZvmKH+US3jjaB4tpP18nedftOKDq0fj3TApi4aqfsXr3nhOO+7HjzzTclJCREkpOTZcuWLb6cSl4EEEAAAQQQQMAxAVcHik3aNzFQlz96mQcsKLTolnRZHU31o+uLttzdNetOT54wq2VQk3YnZ6VkefZXtPHdzJVy0R0XyM0v3Wgm1mxYuEkW/3uJaPezr0m7j6dOnerraeRHAAEEEEAAAQQcFXB1oBgUVDQBJcPqltbu5+Jp27dFLYwaJGoqPbZR92XsLupi1u3Kki7Lo2MQNVhs3a2VnDOsu5w1+Ex57uoX5egvs7MruwbHEUAAAQQQQAABNwm4OlDUMYQxbWNMV7CutVhWyjl01IwlXPj8YjN5paw8ui87s2gmtE6eKavrWfPo/rfvfcdMirnpuRtM9/VpF58mP81brYe9TjpzeezYsWZsYnWuf6jlTJs2zdRr/Pjxkp1ddI9eV5SMCCCAAAIIIFCnBVwdKOrC2zrruc+IXtL8tGay9rN1ElwvRFqe0Vw+feZzyc/Nlx/e+1EuGHWe3Pqf38nmpVtky7KfJbKZNRHF6pJe9OKXnoe/cvb3ct6t/eSi2y+QBrEN5Ii1DI8ufaP7NV1rTZpJ3ZYq6bvSJapFlMR1iDP7K1qOx2Qo448ukj1q1ChzZO3atbJ5c8lJOmWcUmLX6NGjpX379tKwYdGajzo55qmnnpKsrCwzm9rO3LFjR+natav5efvtt8vkyZPtQ3wjgAACCCCAAAKVCrg6UNTlbT75+3wz07ltzzaiH006eWXBc4tMoLjs1a8l0pq0cuZlXaXrpV3MR/Mc2n+oRKCoayuu/miNOd73xt6axZopneYJFNtbb4XpdEEHs1//FOQXyKrZP8iuH3d79nm7kZiYaLLqWMWMDO+7v+3rDx8+XGJjY+2fEhERIYMGDZK8vLwSgaIGoGlpaRITE2M+nhPYQAABBBBAAAEEvBAIsNbyK/QiX4ksPXv2LPG7JvwIa1jPtPQdPnDELItTVp0im0dKvYhQOWhNYDl2+FhZWcw+fZ1fbvbxE17l17BJQ6slMkLyjuXJASuIPJmkb1fRBbcPHqze91ZPnz5dOnfuLI899pjMnz//ZKrMuQgggAACCCDgYoFVq1b5XPtaEyj6fOe1/IQRI0bImDFjJDIyUjZu3Cg333xzLb9jbg8BBBBAAAEEKhLwJ1B0dddzRRh1/Vh4eLhs27ZNFi1aJDNnzqzrHNw/AggggAACCPghQIuiH2icggACCCCAAAIIuE3AnxbFooUI3Xan1BcBBBBAAAEEEECg2gUIFKudmAIQQAABBBBAAAF3ChAouvO5UWsEEEAAAQQQQKDaBQgUq52YAhBAAAEEEEAAAXcKECi687lRawQQQAABBBBAoNoFCBSrnZgCEEAAAQQQQAABdwrU6HUUm3VuKjHx0bLrpz0S3ihMmiTEyp61++RgcvW+zcTfR+m2+vp7n5yHAAIIIIAAAnVDoEYHigMnDJD4s1rL4peXSJse8ZJgvW/56zeWy5Ipy3x6OqH1Q+W8W/rJ3nX7ZMuyrT6d60vmqqqvt2UmJCTIyJEjZc2aNTJnzhxvTyMfAggggAACCCDglUCN7no+dqjofczZGdmSczDH3FB2ZtG3V3f3S6ZmnZpKv9/1kXa92vpyms95q6q+lRWs74meMmWKzJo1SwYPHizDhg2r7BSOI4AAAggggAACPgvU6BZFOzg8nH7EChSPmpvLtrbLSo1bNpaAwABJ353uOay/g+sFS0hYiNkXFBIoIeFF24WFhZJ3NM+TVzeCQoNEg8rCgkI5sDNNco/kmuN6Tv7xfCnIKyiR375+3rE8c44v9W3ZsqXk5ORIevqv9S1x8XJ+BAYGygcffCBBQUGSlJQkzZs3LycnuxFAAAEEEEAAgZMTqNGBYuL3O6VllxaStjPdBHvterWR1O37S9xxx/M7yLD/u8oEeXpAA7pP/v6ZrP10vfS/4wLpd3NfT/6zrzxL9KNJg8G/XfAPs60B4uhpIyW2XYz5bf+ZdOlkOX70uDz0xf2idXn73nfsQ+a7y29Olysfv1wWvfilfPv2dyZPZfXVEwcOHCgTJ04UDVaHDBkiqampJa5b0Y+CggLTkrh06VJJSUmRuXPnVpSdYwgggAACCCCAgN8CNTpQXDd/g+hHU+a+TNm0eHOJG20Q00CGTxxmgrmPnvzEai0MlUvvHyiX/3Gw7Phup6z9bL1kW13WsW1i5KwruknShiTZsGiTuUbesXzPtS57cJAJErcs3So/fbhG6kWESgsrQNUgUVsRNfiMjGtk8tdrUE+CQ4PliNWyGdsu1uxL3pxiviurr11gq1atzGZAQIBERUX5FCjqiZMmTTLnx8fHm2/+IIAAAggggAAC1SFQowPFym74krv7iwSIzP2fD2Tb8u0mez1r4sold19stRx2k69e+0YOJKZJfPfWJlDctzFZVsxYecJlG8Q2MPuSt6TIz99sM9vrv9joyXc066iER0WY3yOn3CzRrRvLxIueEe3u1rR3wz7z7e2fN998U0JCQiQ5OVm2bNni7WnkQwABBBBAAAEEHBVwdaDYpH0Tg3X5o5d50IKs1j5NuqyOt2npK1+ZiS4XjjnfzI7e/t0OWfTSl6bLW69xMOWgNOvcTILDgouuawWnPa7uLpHNGpoWx+M5x70tyuTT7uOpU6f6dA6ZEUAAAQQQQAABpwVq9KznyjCCgoqqn2F1S+vYRf0kbUqSHSsTZdu3RS2MlV1Dj++zuqSfv/plq5t7velm1nGPd04fIwl925nT0xLTJdAqq/d1PU0LpnZF97j6bGkQ3UByrNZGEgIIIIAAAgggUBsFXN2imL4nQ2Laxsju1XvMWovlPSAdT6gpNqHkZJXi+Q+nHZZ5f/7Y7OozopfpvtbAcPu3OyR5a6qcaR3pc0MvOXzgsGgXdicrmNTZzvt3lJxcU/ya5W3rzOWxY8easYnVuf6hljNt2jRTjfHjx0t2dnZ5VWI/AggggAACCCBwgoCrA0VdeFtb/zSwa35aM2vyyjprOZwQaXlGc/n0mc8lP7doworOmj5qrcmoi3df+fgQa+HtJIlqESkLX1hsQHRMY1BwkKT8nCKh1oSYbpdpWKgTaIreALPvlzGI4ZHh8t3MVbJh4UbpdEEH0xWdtsu35W30urpI9qhRo3RT1q5dK5s3l5ykYw5U8Gf06NHSvn17adiwocmlk2OeeuopycrKMrOp7VM7duwoXbt2NT9vv/12mTx5sn2IbwQQQAABBBBAoFIBVweKqdv2W0vhzDczndv2bCP60aRL3yx4bpEnUNR9OuZwwPj+0vXSLuajs5ntQFHPa9oxTrN50p61e2XB5IXmd9KmZM9+XQZHWx9zs3Ml1JodnWK1NvqaEhMTzSk6VjEjI8PX02X48OESG1s041pPjoiIkEGDBkleXl6JQFED0LS0NImJiTEfnwviBAQQQAABBBCo0wIB1lp+hb4K9OxpjdWrYSmsYT2rlTDK6ho+YgK58qrXqGkjszB3VkqWCSjtfOGRYdIwtqEEBgfK/u0HzFhF+1h1fOvbVXTB7YMHq/e91dOnT5fOnTvLY489JvPnz6+OW+GaCCCAAAIIIOACgVWrVvlcS1e3KBa/W+1attczLL6/9LYGiGUlffOL/faXso5X9T5dGqc604gRI2TMmDESGRkpGzduJEisTmyujQACCCCAQC0VqDWBYi19Pn7fVnh4uGzbtk0WLVokM2fO9Ps6nIgAAggggAACdVeg1nQ9191HyJ0jgAACCCCAAAKVC/jT9ezqdRQrJyEHAggggAACCCCAgL8CBIr+ynEeAggggAACCCBQywUIFGv5A+b2EEAAAQQQQAABfwUIFP2V4zwEEEAAAQQQQKCWCxAo1vIHzO0hgAACCCCAAAL+ChAo+ivHeQgggAACCCCAQC0XqNHrKDbr3FRi4qNl1097JLxRmDRJiJU9a/fJweTqfZuJv8/cbfX19z45DwEEEEAAAQTqhkCNDhQHThgg8We1lsUvL5E2PeIloU87+fqN5bJkyrIST6fX8HMkOCxYlr+1osR+p394W9+qqldCQoKMHDlS1qxZI3PmzKmqy3IdBBBAAAEEEEDACNToQPGY9Vo+TdkZ2dbr9XKKtjOLvs2PX/4MvHeApO/OOOWBorf1LV53f7b1PdF//vOfpUePHub0Dh06ECj6A8k5CCCAAAIIIFChQI0OFO3g8HD6Ec97mLOtbTuFhIfYmxIYFCDFfx/POe45phsBgQHSpF2s1GtQTzL2ZMrhtMPmeFBokPnOz80338X/aCtlQV6B+dj7wyPDJKp5lCRvSZHCgkJ7t/murL7FM7ds2VJycnIkPT29+O5KtwMDA+WDDz6QoKAgSUpKkubNm1d6DhkQQAABBBBAAAF/BGp0oJj4/U5p2aWFpO1Ml5CwEGnXq42kbt9v7jO2bYzcMX20554bt2osD31xv+f32/e+I3q+pisfHyJdB3WxokXPYVnw7EJZOft7uff98VYQGSj//O3kXw9aWxpYPrzwAdm9Zo+8Ne5tiWwWKbf8+0Zp2KRhUT4rRvxx3mr59On5nvMqqq8nk7UxcOBAmThxohQWFsqQIUMkNTW1+OEKtwsKCmTWrFmydOlSSUlJkblz51aYn4MIIIAAAggggIC/AjU6UFw3f4PoR1PmvkzZtHiz5z4zrQktC19YbH5fctfFkpOVI9+89a3neMrPKWY7oW876XppF6sVMUMW/3up5OflS/PTmpkAUDMcOnDYtDTqdlBIkDSIaWAmy0S3bqy7JN0KUjXd9uotEhEZLkumLpPUbfvl0vsHSverzpLdq3d76lhRfc1FfvnTqlUrsxUQECBRUVE+BYp64qRJk8z58fHx5ps/CCCAAAIIIIBAdQjU6ECxohvOO5onK2asNFkGjO8v2dbYRft38fMaxTUyP49kHJGtX/0s+cfzZeuynz1ZdGxjXPsmptt6wLj+cs413UVbI8OsWdaakrekSscLOkhEVLis+2y9fP36crM/aUOy3DtvvPS8tocnUDQHvPjz5ptvSkhIiCQnJ8uWLVu8OIMsCCCAAAIIIICA8wKuDRS9pVr3+Xq5eNxF0urMVvLwogckaVOSfPXacvn5m23mEqk/p8pp/TtJ045x0vmijmZfv5v7WC2Fe8z23vV7pctvzjDbnS/qJBN6tTXb9h9tgfQ1affx1KlTfT2N/AgggAACCCCAgKMCtX7BbW15nHzFC2ZZHZ3A0uKMFnLdP66R30y4xEDv25hkvttZAWCD2Aaik1riz24tdtdzytZUa6JMEZN2b+sYSfuzY2WibFz4a3e4o0+OwhBAAAEEEEAAgWoWqBUtijozuWGT8lv29LiuvagfbTkc/dpI6frbLrJg8kLZu26fIe55jbXUjDVBZf6/vpDBj1wqHc7tYIJGndmcvCXZ5MnJOioz7pt10o9EZy6PHTvWjE2szvUPtZxp06aZ+o4fP16ys7NPuu5cAAEEEEAAAQTqjkCtCBR3WRNKtEXwxsnXy+alWyW6ZWP5dsZ3cmj/ITnzsi7Srmdb2bs+SfJyj0tC3wQz+zknsyhoOnb4mBTkF0i4NVFl/7YDsvqjNfLb3/9GwhrWk6zkLPMvQSepXPbgpSbIHPPGbbL647XWcj3Z0uL0FrJh4UbrbTF7ffoXo4tkjxo1ypyzdu1a2bzZt1bJ0aNHS/v27aVhw6IZ2Do55qmnnpKsrCwzm9quTMeOHaVr167m5+233y6TJ5ec2W3n4xsBBBBAAAEEEChLoFYEiote+lKG/u+V0vacNtK2Zxtznxu/3GQCxaYdmprWQ21BtJMGkLMe/nVZmaPWwt46WeUnK0jUFkQN/OK7t5bMpIPmFN331j1vy3V/v1biOjSxuq0HFF3KaoFM2Zric6CYmJhoztexihkZGUXX8uHv8OHDJTY21nNGRESEDBo0SPLy8koEihqApqWlSUxMjPl4TmADAQQQQAABBBDwQiDAWsvPCnd8Sz179vTtBIdy6/I2ut7hwZSDptvYLlYX1Y5pHS1B9YIkc2+mZ/Fu+7gv33otXbhbu6GzUrJOWHTb22vp21V0we2DB4uCUW/P8zXf9OnTpXPnzvLYY4/J/Pm/rvno63XIjwACCCCAAALuFli1apXPN1ArWhTtu9alb9J3F617aO/Tb52gomsfVkXSayVvLlqj8WSup0vjVGcaMWKEjBkzRiIjI2Xjxo0EidWJzbURQAABBBCopQK1KlCspc/Ir9sKDw+Xbdu2yaJFi2TmzJl+XYOTEEAAAQQQQKBuC9Sqrue6/Si5ewQQQAABBBBAoHwBf7qeixYILP+aHEEAAQQQQAABBBCoowIEinX0wXPbCCCAAAIIIIBAZQIEipUJcRwBBBBAAAEEEKijAgSKdfTBc9sIIIAAAggggEBlAgSKlQlxHAEEEEAAAQQQqKMCBIp19MFz2wgggAACCCCAQGUCNXodxWadm0pMfLTs+mmPhDcKkyYJsdbr8vbJweTqfZtJZWjlHXdbfcu7D/YjgAACCCCAAAIqUKMDxYHWO5Xjz2oti19eIm16xEtCn3by9RvLZcmUZTXy6TlZ3+7du8tvf/tbad68uaxevVpee+010XdHkxBAAAEEEEAAgaoSqNGB4rFDx8x9ZmdkW+9nzinaziz6riqAqryOU/V95plnpH///qbq+qruc889V6655hoZPHhwVd4O10IAAQQQQACBOi5Qo8co2sHh4fQjVqB41DyqbGtbU0BggISEh5hvs6PYn8DgQHOs2C6zqV3DEY0jSu/2/A4KCZKWXVtIcNiJ8XPxsqJaREmjpo0859kbFdXXzmN/t2zZUqKjo+2fPn1rcKirqw8YMED69esnu3fvlri4OLnyyit9ug6ZEUAAAQQQQACBigROjIgqyu3wscTvd0rLLi0kbWe6hISFSLtebSR1+35Ti26Du8qQRy+TBc8ulJWzvy9Rs2v+erV0PL+DPHv5C6KtkRePvVD63tTHE1QesfbNmPCOpG4rupYGljc+e73Ed2/tuU7y5hR566635XjOcYluHS1jZ46R9Z9vMNcNjQg1+bRer9z6muQfzze/K6qv58LWxsCBA2XixImiAd+QIUMkNTW1+OFKtx966KESeWbPni0PPPCAnHHGGTJv3rwSx/iBAAIIIIAAAgj4K1CjWxTXzd8g/7npVcnclymbFm822/u3HzD3mrQx2XzHtI0x3/Wj60u9BvXMdqO4RlJYUGiCRA0o+93cV9J3Zcg7D86Rb9/+TupHRcgIKzC007VPDTVB4oYvNsrMB2bL9hU7RFsfr3riCjuL+e4y6AwTFH7x3CJJS0yTmDbRctEdF3jyVFRfTyZro1WrVuZnQECAREVFFT/k13aHDh3Mebt27fLrfE5CAAEEEEAAAQTKEqjRLYplVdjet39HUcAY3aqxaSm85/1xkpWcJS9dN0XqR0fIsSO5JuuFY843QeOro1+XvKN5sm35dmlxenMTGGr38aH9h6TDue3Nue8/8aE5RwPFBxfcJwm92trFme9sa3zk80NfkvzcfPnpozXy4Of3SecLO8qiF78ska+yH2+++aaEhIRIcnKybNmypbLsFR7XLmxtlTx+/LjMmTOnwrwcRAABBBBAAAEEfBFwbaCoLYYa+DWKayinX9xZAoMCJapllBmDGNYgTDKTipbQ0ZZGbbm7a9adHpewhmFmu2mnOLPsjgSINIhtIBPm3eXJo13del7xlLgq0QSJui/XCkQ1YAxrFF48i1fbOjt56tSpXuWtKJOOcZwxY4YEBQXJo48+Krm5RcFxRedwDAEEEEAAAQQQ8FbAtYGi3mB2ZrYVGNaX7kPPNl3COhnl3N/1leB6wZK+J8MY2MGePbaxOEzG7gwz9lH36TjD0nk0ECwvBYUGiZaXn3VqZmFrkPjee+9JRESE6CzoRYsWlVdV9iOAAAIIIIAAAn4JuDpQzLDGLrY+q5W06tpStizdanUnx0u3IWdaU6JFUramGJCcQ0elvjXTeeHziz2TV4pL6UQWTfo9475ZxQ9VuN3VGq+o5aTtSq8wX1kHAwMDZezYsWYSiz/dxbGxsfLuu+9K/fr1TZA4c+bMsooRLWfatGnm2Pjx4yU7O7vMfOxEAAEEEEAAAQTKEnB1oHhgR5pZiFuCRJZPXyE6m7nntT3MfdqTXX5470e5YNR5cut/fiebl26RLct+lshmjaxxjPXN2MKCvAJJ2pgkza1xizrOcf2CjZK8KVlirbfAZKUckp/mrfa4aVDaY2h3aduzjXS6oINIocj8SQs8x73dGDlypIwaNcpkX7t2rWzevNnbU02+WbNmmSAxM/P/2zsPeKmKq4EfQJCHIEgRBAGliAWjIrZYE1FjiUYjMaQoCkQllhhNkxRjvvBhYgmpJkZswaAhKFFRTITYYmIXVASDYqUoVeQhAvud/3me9e6yu2/3tW/fe+f8eNy7987MnfufuTNnzrRVsv/++9sfNxin+J3vfCcd1sCBA2Xw4MH2e8yYMTJx4sT0vTgJAkEgCASBIBAEgkB1BBq1orhkftXMZ8YLspzN+ys+VhTfeuEte/eHr39UOuqklT2PHSyDj9nD/rjBJBafhDLl4r/IiGtOs5nOB35p/zSzeTrTOqkodujWQT5zyVF2f70uBn73T2fIuzr7uVRZtGiReWGs4sqVVV3kpYTRoUMHc86M6cMOOyyvVxTQ5ct1dnaXLvaX12HcCAJBIAgEgSAQBIJADgItdC0/tYuVJkOHDi3NQ5m47rhDR9la10BcvXSNfLC2ateXZNRYxLvbzl1l08ZNNhnGxyj6OorzZs2XWb/9p6xdvjY9qSXpv5TzHj16SGVlpaxeXb/7Vk+ePFkGDRok48aNk5kzZ5YSxXAbBIJAEAgCQSAINCECbNZRqjRqi2KpL7v6o5nQ+fwxk9oX4c7lJqUWwOrCyOUv1zWWxqlPGTFihIwePVo6duwo8+bNCyWxPmFH2EEgCASBIBAEmiiBZqUoNtE0zPlaFRUVsnDhQpsNnW+yS06PcTEIBIEgEASCQBAIAh8RaFZdzzVNdWZEDzx4gCz77zuy8q3SxxTW9LnhLwgEgSAQBIJAEAgCdUUgup7rimRWOMyMnv9g7XZQyQoyfgaBIBAEgkAQCAJBoOwJlPVez2VPLyIYBIJAEAgCQSAIBIEmTCAUxSacuPFqQSAIBIEgEASCQBCoDYFQFGtDL/wGgSAQBIJAEAgCQaAJEwhFsQknbrxaEAgCQSAIBIEgEARqQyAUxdrQC79BIAgEgSAQBIJAEGjCBMp6HcUeg7pLlz6d5fVn35SKbdtKN91/+c25b8vqJfW7m0lN07uxxbem7xn+gkAQCAJBIAgEgeZBoKwVxWEXflr67NVbZv/uQek7pI/0O2BnefSmx+TBPzxclqnT0PHt16+fjBw5UubMmSNTp04tSyYRqSAQBIJAEAgCQaDxEihrRfGD96r2Y163cp1Urq40yutWVR3LEXlDxZd9oi+//HIZMmSIYRgwYEAoiuWYISJOQSAIBIEgEAQaOYGyHqPoyuHaFe+rorjeUK/T81yyXa/tpHPvzrlupa/RNdxuu3bp337Sqk0radW6lf1s22Fr6T5we79lx9YVrYXdWbKlRcsWwj2OSCnx7dWrl3TuXDi+2c/jd8uWLWX69OmmJC5evDiXk7gWBIJAEAgCQSAIBIE6IVDWFsVFT70mvfboKctfWyGt27aWnffrK8teeSfjxQceMkBO+clJgrKHbPpwk8y44j6Ze+8LaXefOucwOfDLB6QVuvfVQvnnC2+TZQurwrpk5jdk+RsrpFWrltJlpy7m78PKD2XSqJt0y75V8q1/XCTE5dYLbkuHyckeR+0mJ/7wBJn1m3/Kv2993NxUF1/8DRs2TCZMmCCpVEqOP/54WbZsGZeLks2bN8vtt98uDz30kCxdulSmTZtWlL9wFASCQBAIAkEgCASBUgmUtaL4/MwXhT9k1dur5KXZ8zPer32X9jJ8winy4foP5e7LZqh1r40cc9EwOeHS4+TVx1+TtcvXyieOGywHffVAWb5ohfzj17NsrOOBI/aXEb84TSZ+9tfp8Lbv303Yqo8xkJ133E52O3JXOfnyk+SPZ9xgymfH7bc1t1u331q2arOVvK+Wza47d7VrS+YvtWN18fWH7bjjjnbaokUL6dSpU0mKIh6vuuoq89+nTx87xn9BIAgEgSAQBIJAEKgPAmWtKFb3wkeed4SI9vpO+8F0WfjYK+Z8623ayJHnfUr2PvET8sgN/5LDRh8iqc0puX7UjbJx/UZz13O3HaTPPr1l2+7bypqla8wfbiaddVPayth33742y5qb69esl4pOVV3WI//wVe3i3k4mHH6l0N2NvPXi23Ys9r+bb75ZWrduLUuWLJEFC2IP6WK5hbsgEASCQBAIAkGgYQk0akWxm1oBkRO+d2yaWiu19iEsq4Ns03kbwXL39dvPtt/817ZDWzvvvsv2aUUR66N3RXMTBbJdpwobm7h66WrpMaiHbNV2q6pwVTkd8rl9pGOPDmaFpJu6FKH7+LrrrivFS7gNAkEgCASBIBAEgkCDE2jUiiJjCpGV2i1N93NSFv67ysKIkohkj23k2so3VnLIKR26thdJ6T+1NNJt3XP3nrL/F4aaBZNxkEM+t7dgvaxUa2NIEAgCQSAIBIEgEASaIoFGrSiueHOlTT5547k3ba3FXAlU+d562UZnOj/wq9kZFsNcbv1aG1UAt+myjWx4f4MpikteXiZ76s0DvrifrH13rbw9b4nsopNoNn6wUd55NXNyjYdR6MjM5XPOOcfGJtbn+oc8Z9KkSRaVsWPHyrp16wpFK+4FgSAQBIJAEAgCQSCDQKNWFFl4m1nPB4zYT3bYtYfMve952Wrr1tJr9x3k3ivvl00bNsnTdzwjh551sJzx+6/I/IcWyIKH/6tdxttalzSzlV3adWynk14OEI77nLSXXX74hkft+PZHYxArOlbI41OelBcfmCe7HDrAuqKXv77Cgyj6yCLZZ511lrmfO3euzJ+fOUmnuoBGjRol/fv3lw4dOphTJseMHz9e1qxZY7Op3f/AgQNl8ODB9nPMmDEyceJEvxXHIBAEgkAQCAJBIAhUS6BRK4qMKZxxxUyb6bzT0L7CH0J38d9/OcsUxYevf1Q66qSVPY8dLIOP2cP+cPPeO+/ZsjacIyyv86lzDrdzupaZ/fyfPz9hvxe/tMSO/McyOIxn3LBug7Rp10aWqrWxVFm0aJF5YaziypX5u7/zhTt8+HDp2rVqxjVu2rVrJ0cffbRs3LgxQ1FEAV2+fLl06dLF/vKFF9eDQBAIAkEgCASBIJCLQAtdy09H4pUmQ4fqWL0yExbK7tSzk3YNv2+KXK7oddyho2ytyt1qnajywdqqXV9w953ZF8u61evkhlG3yCZVtnxx71xh1NU1dleprKyU1avrd9/qyZMny6BBg2TcuHEyc+bMuop+hBMEgkAQCAJBIAg0MgJPPvlkyTFu1BbF5Nuu1+3+fD3D5PXk+erFhZUyLIUNJSyNU58yYsQIGT16tHTs2FHmzZsXSmJ9wo6wg0AQCAJBIAg0UQJNRlFsoulT49eqqKiQhQsXyqxZs2TKlCk1Dic8BoEgEASCQBAIAs2XQJPpeq5NEu68306yoXKDvPV8aQtn1+aZ4TcIBIEgEASCQBAIAg1JoFl3PdcG9KtPLKqN9/AbBIJAEAgCQSAIBIEmSaBqxeom+WrxUkEgCASBIBAEgkAQCAK1IRCKYm3ohd8gEASCQBAIAkEgCDRhAqEoNuHEjVcLAkEgCASBIBAEgkBtCISiWBt64TcIBIEgEASCQBAIAk2YQCiKTThx49WCQBAIAkEgCASBIFAbAmW9jmKPQd2lS5/O8vqzb0rFtm2lW7+u8ubct2X1ksILZ9cGSG38Nrb41uZdw28QCAJBIAgEgSDQ9AmUtaI47MJPS5+9esvs3z0ofYf0kX4H7Gx7MD/4h4fLMmUaOr79+vWTkSNHypw5c2Tq1KllySQiFQSCQBAIAkEgCDReAmWtKH6g2/Ih61au0/2XK6vOV1Ud7UeZ/ddQ8WWf6Msvv1yGDBliBAYMGBCKYpnlhYhOEAgCQSAIBIGmQKCsxyi6crh2xfuqKK433uv0PJds12s76dy78xa3Wm7VUrZqW6UPc77D7j2kRcsWaXet2rQS/nIJ/vCTlIqObWWHXTPD8PulxLdXr17SufOW8fWw8h1btmwp06dPNyVx8eLF+ZzF9SAQBIJAEAgCQSAI1JpAWVsUFz31mvTao6csf22FtG7bWnber68se+WdjJceeMgAOeUnJ6WVvU0fbpIZV9wnc+99wdyded3p0nWnLjJv9ksy+Jg97Fpqc0ru+p975PmZL8oFd45VxbGlXP2ZiRnhokx++4Fvyhtz3pRbzr1VOvboKKdf+yXp0K1DlbuUyDN/e07u/dnMtL9i4ovjYcOGyYQJEySVSsnxxx8vy5YtS4dR3cnmzZvl9ttvl4ceekiWLl0q06ZNq85L3A8CQSAIBIEgEASCQI0IlLWiiCLHH7Lq7VXy0uz5GS/Zvkt7GT7hFPlw/Ydy92UzpHVFGznmomFywqXHyauPvyZrl68191gMURJfuP9FWfHmSjn0zIPl+O8dKy/8fZ689+5a6bZz1yp3rVsJYTJZpnPv7ezaClVSkTOvP13adayQB697WJYtfMees89Je8kbz72RjmN18bWA9L8dd9zRTlu0aCGdOnUqSVHE41VXXWX++/TpY8f4LwgEgSAQBIJAEAgC9UGgrBXF6l74yPOOENFe5Gk/mC4LH3vFnG+9TRs58rxPyd4nfkIeueFf6SBmXv0PeeqvT9vvHQb1kAEH95c+e/eWFW+slO37d1Mls7V8+twjZN/P7yO3XnCbtNVZ1siSBctk4KEDpF2nCnn+vhfk0Rsfs+uLX1wiF/xtrAw9dUhaUbQbRfx38803S+vWrWXJkiWyYMGCInyEkyAQBIJAEAgCQSAINDyBRq0odlMFDzlBrYMurdpUvRLL6qRFu4ldSeTakpeXmqK43Y7bybL/LpNdj9hFug/cXgYdPtC8HPTVA9RS+Kadv/XCW7LHUbvb+aDDd5EL99vJzv0/LJClCt3H1113Xanewn0QCAJBIAgEgSAQBBqUQKNWFFu1qpposlK7pel+TsrCf1dZGJPX/LzbzlUKJpNP1ixbY5d3VgWwfdf2smnDJrM0vv/RpJmlLy+TPT8z2NxUrqmU5a9XdUXbBR0vuezlzDGT/ow4BoEgEASCQBAIAkGgsRNo1Ioi4w276EQVrH+stVis9Nm7aowg4ws3bdxs3oZ+foiIWh5nXvMPOe47x8iATw4wpZGJL0sWLDE3lWvWy5+/cXuxj8nrjpnL55xzjo1NrM/1D3nOpEmTLB5jx46VdevW5Y1T3AgCQSAIBIEgEASCQDaBRq0osvA2s54PGLGfLVkz977nZautW0uv3XeQe6+83xQ9e2Edx8i4RSa37HfqvlKhk1JeVyVx3UdrMm7etNmuvbPwXXnu7jnymYuPkrYdtpY1S6qsjUxSOfaSY6x7evRNZ8pz98zV5XrWSc/desqLD8zT3WLeyuZa8DeLZJ911lnmZu7cuTJ/fuYknYKe9eaoUaOkf//+0qFD1QxsJseMHz9e1qxZY7Op3f/AgQNl8OAqa+iYMWNk4sTMmd3uLo5BIAgEgSAQBIJAEMhFoFErisw+nnHFTJuBvNPQvsIfghXw77+c9bGiqNdQJv3eK/9+VaaOu8N+8996XdibySrPqpKIXxS/Pvv0llWLq7YK5Not598qX7jiVNl+QDc5SneMMVEL5FId71iqorho0SLzzljFlStXVoVVwv/Dhw+Xrl2rZmrjrV27dnL00UfLxo0bMxRFFNDly5dLly5d7K+ER4TTIBAEgkAQCAJBIAhIC13LT9Wd0mTo0KGleWgA11gAO/XsJGvffT+9LA6PHXXDSLMEXn3sRF2LsY289857tYoNS+2wnA7d0GuWrjHFsiYBsrtKZWWlrF5dpYzWJIxi/EyePFkGDRok48aNk5kzP17zsRi/4SYIBIEgEASCQBBoOgSefPLJkl+mUVsUk2+LVXDJ/KXJSxnn3OevtsJkl0LPKTZ8lsapTxkxYoSMHj1aOnbsKPPmzQslsT5hR9hBIAgEgSAQBJoogSajKDbR9Knxa1VUVMjChQtl1qxZMmXKlBqHEx6DQBAIAkEgCASB5kugyXQ950tC1kfctvu28vIj/83nJK4HgSAQBIJAEAgCQaDJE2jWXc/5Upd1EPkLCQJBIAgEgSAQBIJAECiNQNWK1aX5CddBIAgEgSAQBIJAEAgCzYBAKIrNIJHjFYNAEAgCQSAIBIEgUBMCoSjWhFr4CQJBIAgEgSAQBIJAMyAQimIzSOR4xSAQBIJAEAgCQSAI1IRAKIo1oRZ+gkAQCAJBIAgEgSDQDAiU9TqKPQZ1ly59Osvrz74pFdu2lW79uup2eW/L6iX1u5tJTdO9scW3pu8Z/oJAEAgCQSAIBIHmQaCsFcVhuqdyn716y+zfPSh9h/SRfgfsLI/e9Jg8+IeHyzJ1Gjq+/fr1k5EjR8qcOXNk6tSpZckkIhUEgkAQCAJBIAg0XgJlrSh+8NGWe+tWrpPK1ZVGed2qqmM5Im+o+LJP9OWXXy5DhgwxDAMGDAhFsRwzRMQpCASBIBAEgkAjJ1DWYxRdOVy74n1VFNcb6nV67tKiZQtpXdHaf0r3XbaXNtu0Sf9uuVXLjPvpG3rSqk0r+8u41rqV9BrcU7Zqm19/rujYVnbYtYfw7GypLr5J97169ZLOnTsnLxV13rJlS5k+fbopiYsXLy7KTzgKAkEgCASBIBAEgkBNCOTXiGoSWh37WfTUa9Jrj56y/LUV0rpta9l5v76y7JV30k85bPQhcvAZB8nDkx61Y8tWVXrv3BnPy10/nSHDJ5wi/Q/qJz8fdo18WPlh2h8n5007V9pomNxDofzSL06TPvv0TrtZMn+p3PL1W9P+OvboKKdf+yXp0K1DlZuUyDN/e07u/dnMtJ/q4usOhw0bJhMmTJBUKiXHH3+8LFtW/M4xmzdvlttvv10eeughWbp0qUybNs2DjWMQCAJBIAgEgSAQBOqUQFkris/PfFH4Q1a9vUpemj0/58sfetbBsmTBUpl77wty+JhDZM/jBsvjf3lS3n11uSmKPXbpLm8896bt+fy+WiQ3fbhJ2m6ztbz3znsW3qnjTzYl8cV/zJM5qmTuf9pQGw950o8+K1O/W6WInXn96dKuY4U8eN3DsmzhO3LMRcNkn5P20nDfSMex2PjuuOOO9twWLVpIp06dSlIU8XjVVVeZ/z59+tgx/gsCQSAIBIEgEASCQH0QKGtFsdgXfvWJRfLnb9xuzj9Yu15OGHec7HvyPrLoydfs2vYDtpfNmzbLGb//ijx31xy5Z8J91u28UpVPupAHfLK/rFmyRu780V3m/pX/vCqX/P0b0m+/nez3wEMHSLtOFfL8fS/Iozc+ZtcWv7hELvjbWBl66pC0omg3ivjv5ptvltatW8uSJUtkwYIFRfgIJ0EgCASBIBAEgkAQaHgCTUJRfPqOZ9PkXnvmDTvftvu28ubzb9t5t527pruVBx0xSB6+4V92/d1Xlsv2/buJ6HDD9l3by4V/+3o6HLq6sfghzLxGBh2+i1z4kfJoF/S/9l3a+2nRR7qPr7vuuqLdh8MgEASCQBAIAkEgCPx/EGgSimIS3I46phH5YO0HsmbpGhEdS7jdjp1srOOmDdrl3GFrGXzM7uZm8UuLxcc10h2dHP+IA9wj7qZyTaUsf32FXbP/dLzkspc/HjP58Y04CwJBIAgEgSAQBIJA4yfQ5BTFwZ/Zw1LFrYkb1m2QHoN6SJt2beRuneBywqXHyYFfOsDcvDH3rfQ4RSa0ePd1drIuWbDELlWuWZ/XTbafQr+ZuXzOOefY2MT6XP+Q50yaNMmiMnbsWFm3bl2haMW9IBAEgkAQCAJBIAhkEGgSiuK+n99H2m3XTvY+fk/ZYbcdBOXwyalP2Yu+9+5a6dK3s2zeuNkmqhz05QOly066LI1aGlcvrtrhZfG8xebv/DvPlRf+Pk+WvLREuuouMGuWvifP6sxmJqkce8kx0n3g9jL6pjPluXvm6nI966Tnbj3lxQfm6W4xb2VAre4Hi2SfddZZ5mzu3Lkyf37uSTr5whk1apT0799fOnSomoHN5Jjx48fLmjVrbDa1+xs4cKAMHjzYfo4ZM0YmTpzot+IYBIJAEAgCQSAIBIFqCTQJRXGnffsKf8jKN1bKbd/6q6Q2qybI77dWmqL4xpw37fezdz8nR573KdlQucF+89+Ui/8iI645TS2P3dXauH/6+jydZY2iSFi3nH+rfOGKU2X7Ad3kKN0xxkQfsfTlpSUriosWLTLvjFVcuXJlVVgl/D98+HDp2rVr2ke7du3k6KOPlo0bN2Yoiiigy5cvly5duthf2kOcBIEgEASCQBAIAkGgCAItdC2/Ko2qCMfuZOjQoX76/3o8/GuH2vqJ0y+7yyauMCbRFcSaRIwZ0Ex82bRxk6xSa6OPUUyGxULduKEbujbPY3eVyspKWb26fvetnjx5sgwaNEjGjRsnM2d+vOZj8p3iPAgEgSAQBIJAEGj6BJ588smSX7JJWBQ36qQT70YumUDCA0omayQWEpRHFuOurbA0Tn3KiBEjZPTo0dKxY0eZN29eKIn1CTvCDgJBIAgEgSDQRAk0CUWxiaZNrV6roqJCFi5cKLNmzZIpU6bUKqzwHASCQBAIAkEgCDRPAo2665nt9HruvoOwdR7L4YQEgSAQBIJAEAgCQSAI5CbQ7Lqe2YJv/oNV2/DlRhJXg0AQCAJBIAgEgSAQBGpKoGVNPYa/IBAEgkAQCAJBIAgEgaZNIBTFpp2+8XZBIAgEgSAQBIJAEKgxgVAUa4wuPAaBIBAEgkAQCAJBoGkTCEWxaadvvF0QCAJBIAgEgSAQBGpMIBTFGqMLj0EgCASBIBAEgkAQaNoE6kVR3HvvveXqq6+2beWaNr54uyAQBIJAEAgCQSAINF0C9aIo9uzZUw4++GAZP368PPDAA02XXrxZEAgCQSAIBIEgEASaMIF6URRnzJghBx10kO0KwhZyWBhDgkAQCAJBIAgEgSAQBBoXgXpRFEGwefNmufbaa43GiSee2LioRGyDQBAIAkEgCASBIBAEpN4URdguX77cEG+1VWwpHXktCASBIBAEgkAQCAKNjUC9KoqVlZXGo3379o2NS8Q3CASBIBAEgkAQCALNnkC9KoobNmwwqyITWy644ALZa6+9mj3wABAEgkAQCAJBIAgEgcZCoF4VRSCMGzdOWrVqJaeffrp8//vfbyxcIp5BIAgEgSAQBIJAEGj2BOp98CDrKb7//vty0UUXyUsvvdTsgQeAIBAEgkAQCAJBIAg0FgL1alFs06aNtGvXTh577DF5+umnZd26dY2FS8QzCASBIBAEgkAQCALNnkC9Koo+25mxiiFBIAgEgSAQBIJAEAgCjYtAvSqKjQtFxDYIBIEgEASCQBAIAkEgSaBeFcVBgwbZs8KimEQe50EgCASBIBAEgkAQaBwE6mUyC2MTDzzwQLnkkkuMwnPPPdc4aEQsg0AQCAJBIAgEgSAQBNIE6kVRHDFihJx//vn2kHnz5sldd92VfmCcBIEgEASCQBAIAkEgCDQOAvWiKKIY/ve//xWUxBUrVjQOEhHLIBAEgkAQCAJBIAgEgQwC9aIoohw++uijGQ+KH0EgCASBIBAEgkAQCAKNi0C9TmZpXCgitkEgCASBIBAEgkAQCAJJAqEoJmnEeRAIAkEgCASBIBAEgkCaQCiKaRRxEgSCQBAIAkEgCASBIJAkEIpikkacB4EgEASCQBAIAkEgCKQJhKKYRhEnQSAIBIEgEASCQBAIAkkCoSgmacR5EChTAhs3bpRVq1bJ5s2bJZVKCb9DgkAQCAJBoPkQWLt2rVRWVtoLb9q0yeqDhnj7UBQbgnI8IwjUksDixYvlrbfektdee01Wrlwp7HZUrsoiyixx9Ph9+OGHptzWEkF4DwJBIAg0WwKUowsXLpT58+fL+vXrbZ3qt99+u0F4hKLYIJjjIUGgdgS23XZboaBYvXq1KYy9e/eWrbaql2VQaxdR9b18+XKhAKNAW7duncyZM8eOtQ44AggCQSAINFMCrVq1kg4dOgiWxNdff90a3zvssEOD0AhFsQ4xv/POO2mzcHXBYnWhEkVQAPy8On9xv3kSaNu2rSmG7dq1E5TE7bffvmxBtG/f3uJGqxcLaLdu3WSbbbYp2/hGxIJAEGg6BBiaQ++L92g0lTdr2bKltGnTRqgLqAd23XVXQXlsCGmhUFMN8aDqnuFjr5IvvmHDBgORvFZdOA11n7ECzzzzjCxZssTGCTzyyCPy61//Wh577DE58MADq43GbbfdJl/84hfl7rvvFvbGfu+992T8+PHyve99L69fdrz5y1/+Ip/+9Kdl4MCBppTSxdelSxfZeuut8/qLG02DwAcffGAvUu5pTcNn6NCh0rFjRxk9erR86UtfKlvrZ9PIGfEWQaD5EkApZLvgd99916xtf/7zn+WJJ56QBQsWWBnU1MisWbNG6GFqSCkLi+JTTz0lffv2lZ49ewoKF0JCUyFec801DcmjqGehnO22225y6qmnyn333SezZs2Sfv36WZyLURJ5yKc+9Sk5+OCD5YQTTpDzzjvP/N9xxx0Fn3/ZZZfJLbfcIrvssou88cYbcvnll0uvXr3kxRdfzPCHdZK9tptaiyrjJZvBDxoj9957r/zxj3+UG2+80Sxzn/jEJ7ZI73JDQct34sSJcuWVV8pXv/pVUxKXLVtmjRzyZUgQCAJBoC4IPPjgg7LjjjvKd77zHeGcrYNPPvlkefzxx5uMkogSTB1w5513yimnnGLvdemll9YFvqLDKAtFkRbA8OHDTWG6+eabhS7ccePGWX/8F77whaJfpqEcPvzww/Lmm2/K9OnT5aKLLpLf//73UlFRYZa+uXPnFhUNug6//vWvm1syOd11bjHKFwBuXn75ZbuNAvGb3/xGRo4cKfvss0+GF5RtLI7PPvtsxvX48TGBP/zhD2n+H18tn7PrrrvO8v+MGTPk1VdflZ/85CfW5Yzyz5i/cpYrrrjC2H72s5+Vv/3tbxbV22+/XfiW6YoOCQJBIAjUBQHqYMbt3XXXXfLtb39bfvvb35rh5rjjjqu2Pv3nP/8pY8eOlVdeeaUuolLnYdCDuNdee8lXvvIVG/NNLyTGJBRhzhtSykJRPProo81y+MMf/tCUL5QoKpTZs2dLnz59GpJHUc8i8ZCDDjpI9txzT0tMKm+6j0sZa3jaaadZZqaLrhjBgki3M3L22WfLIYccYt3dxfgt1Q3vkrRIMomiHARrLl0MLuQThiiUKv/4xz+sUCnVX0O4pxHyta99zQpAhmRQYJx44olmSWQCy+c+97k6iQbs4FnXwoxs8ukBBxwgDz30kDVozj//fDnppJPMkl7q8/im6HUICQLlTGDp0qU2K7Wc41iu5bozK7V833fffa3epWeNXj3KSQxN9LhVJ1jqfve73wm9HeUo3//+980osPPOO9uYS96RHiWUxR//+McNGuWymDaJoohWj6Xu/fffN2vYoYceWrbj7ugmv+GGG0yROuOMM2Ty5MmC5QdLyn777Vd0Avrg1GI9oKwx4wmzM8wOP/zwnF579OhhFtpOnTrlvF/dRZQoLLvXXnutdRv+7//+r7Ro0UK++93vVue1Xu8z9g32FHYvvPCCKdlDhgyxAoIZtuU6C7hUKFQ4sCYdu3fvbl0NrJ3F0Azes3Xr1qUGmeGeljRjYf/973/b9bPOOssKTAZK14VgIaeHINlSxyL6rW99S8jzpch//vMf+cEPfmBW+1L8hdsg0NAEOnfuLP/zP/9jhgPG5pablGu57pxqUr5//vOftwY0vRdM7vjVr34l9Or96U9/Klv9wd+3uiPlPfmJegDjGXXw4MGD7X19wmB1YdTZfSaz1FTU4pTS9d1SqpHXKAi1lqTUOpTSqd4pzSSpm266KaWtgpR2V2WEp8pRSpWDjGvV/VArk4Wr1oi8TlUpTRE2QvjEpzohnvjLFvzzTBfC0kGn/rPao7YUUvzlE8LSQbspmOcTXZA5pd3X+W6nVNkoKk46dtLcEhBpq5V+3jAb+oYqDSlVxlPadZxSS1vq3HPPTelHlHrppZdyRgVuudKVd9KPKMMP7khfl+Q518gr5NdCUky+c/+6jIzlUZ0d7JcyjsSHNMsn+fJiPvdcx4+Oo01pI8C+M22QGYcJEyYU8pa+x/uTDwsJDIg77nSoxBZ5ttjvGb86HjelE8a2eFyyPNAG1Bb3uVBdeuKG76UQY9yUg3zzm9+ss2jAToP4SJIAACvHSURBVK3JJZep+SJQbDmaLB+zvy3CLjZf5ItHOVwnz6nlPDVlypQ6iw55VHsZCpbtxTysnMt1j3+p5bv7o5yHUa76ke87V72o3dRW9ukEVA/Gjsl8Sp4kTZOiVs+Muj55z8+pN3OVW37fjzoO3b7FQrpCLn3D/RO3Qn7dXW2PmTVlkaHxkatVK6VjAww0FS4Knmrz6RDUWpHSiSgptSrYNRJKTb1WUeH/pz/9aYZ/wuCPSl8XlUyHg6JHxcY9nT2ZTjQd82TXtGsr7ZYTKpfjjz8+HS/88eGSiZLys5/9zJ7Px6NmXHPPOyQVDp1kYtc945DwxI8wv/GNb6SDQ8H1uGtrxgo8wuXasccem6FY8lyuwyIp+RRFHb9pbPHjfyg5FPQuOsEl5RU+buCkA3v9dmr27NkpHdeQ9g8f+OUS3pV05Q+FXScVmT/eG4X+/1vID7yLKyuk6zHHHJMzWmoJtbiTrjpeM8NNUlEkb5LWnp/Jb85LLauWh7UrOJ32KKooVsnKrth8RyQomLRrNp0epJl2zabDQ3HUsa/p5xFXXZcwNWrUKPNDGpH+Hl+1Pma8G3mO9MolPDv5zWg3jYWJn3xC4Zv9vaLAaWs3lVTSdKxuOs677757SsckWhxR5l3yfc9+348UgGottm/Tr3HkeWPGjLE4qyU0dc4559g5eZpCF6kuPc2R/se36gwpq8pVKAPypSdx5hsgD+mqCfYKVG78Js8mZebMmdYY5Z7/ke7JMo9yQQfOp2h0IjQMyGvZlaWHW0w5Wpf5wp9bzkft9rR8xTGf8P0kyy3SgXIqKbnKFL4JnTyZdlaonk070pNyL9c9rqWU7/jRsfpWTnh+5numUeWNb1hxj+vUk0nJVhQpGym3cK8TZFJqrbSGKswpW3TceLqeJTydH5DSSTPpIPnurrrqqoz6mu/2+uuvT7vxE+pSL8897kcddVSG0U0twJZHuE9+IRzyBL/51nleqXqGP7/UY40URZ19awWXdr+aUvfqq6+m1PRrL8A1EglAKGBUqggJyguSGFSCgEbBopDCKqkTM+w+BX9SUHhINAo5/PNhILfeeqv91m60tHNdasbC1a4vq9yxOHENfx4PHAOca1Q0KJHcc2WRTOFCQYs7VxQpsHGrZm27znsjKHk61sEUNMJBCcSfK1k6psDc8R+VK/e06zR9jZNciiKscEuBQobX6f4pXYLHrnk8tbveflORE+a0adPSmR3FFkUd1igi2o2XghcZknB1hlhGHPwHzFCUvALRsZEpnb1q6YrCQsWPogMLPhYqEsJEWSX9+Ajwz2/yBfHS7lT78LimM1/tUTqLyzI6eQX/fAQu+e7xsSY/TvJiPos2BS/h8JHxUSYlqShinYQHbHWsaeqvf/1rSseH2B+FPawpyHV4gSkXOgDa3LsVrth8x/MprHgW6aVj+Szunp/IjwjWPtwQ/wceeMDSD/46qNmuowjBAWbuNtl6JW1I82KFvMc3k09QlokPDMnTKN00FLnmcdaZ9/abb+bpp5+27xVFnW+d3y75vme/70fyKeFnN07gwHXtOrcGJN8Gz+Cav0Oh9CQfumh3uOVf8hD+vXLx+37ku6HxRQOCP/IJ5RF5mT+eN1sbY/4N4BYrAN8v11wJpzzie6EyokxDyXJxZZxvirSDNZY/FFjixh/P4tnZwvfHfb5TxBXFM844w37zH/HDDYz47lEAYcy3R1x4d9KJb4U4kr4InImPK+F28aP/iilH6zpfwEnHspsxgHwLy4Yqf2D285//3HjxDZC2sKGRyTeZFCpwOOYTmB9xxBHp24RFWrjQgCNs6ifqTr5vylH8kI7PP/98tfWsh+XHfOU65a7n3WLL73z5lWflu1cMv1LKd75bGPH9UQegR+jwL+PjjWfeRye5WL0E86QkFUXiDH/STSeD2jfCt3bBBRekqL/5gzvfLPWiG3B4Po1Xvncaq3w/pBdWR+peGsv4o+5w4TvjWZSdNNrhQj3ONcp8vkWsoPzG79VXX231N+cej5rqGR6HUo81UhSx5lDgoxRSkbn5kxdBQeCjASAaOR+yzkiyF/aCnMIfWFTIv/zlL1M6UN3iTUJmJyYtDAoEwuZPZzmZ21yKolf+PDOpGPh1lBzEtXAKYipulAI+FgpWnuHWqmxFkcxIQnpcqAgIgwLcr1EIU1D7B811lEiXUhRFt6RSUemai1bh8EwqIo8n7EiHpNCC5z6Zc9GiRWb9St4njtynIi9VKKRR6hGUMAoyhGcRJumCoATxmw/XhQ/WlSsqKdKVypMPhY+CjwopdM/DKubo1lvikWy949fzBOdU5Ljhj/RFGaFiRSgAKJBIZxcaDrilcEU8rOryHW49TVE+yXcuKAiESd4hrljNiAuFGfmLPJtUFKkc+VY83ljHXEpRFCnkCCOpzHk4HL3Rx/dMQ4XCjfdFAaBQ5Drff5I1aUmhSb7kfZKS73tOuuGc75d4JYW04BosiDcFKN8T1i8vZHFfKD2T4ZFHvTAmXPJhLuF5uEVQSimzEMoz/JEWiDd2+UZdSFcqAYQyYdKkSXauSweZX083lFbSnLyFf8Kl3ICtK2uwzGXZK0ZRpEymAnvyySeNG0oDz8L6wrNQfChL4EF+g7+nKW5zSTHlqIfBM+oiX/z9739PD4WhnCb/IQ1R/lBuUt7xLqTrj370o/Q3+Itf/CIDEfz4PvIJ324hRRF/pBf1EgoL5SplJfUfz+dadfVsvmfnul4qv3z5lbDz3SuFX644Zl8j7T0tvAGFwsd1Z4+Bxd3hNinJ79W/OdzgnrxNY967dVHosocTeI8V70X56X4pf2d/VH9geOA6jQkXb2QTR/Qlb6Ci3OKWsDw+KITEBz2Le5Q9HLleEz3D41DqMZNcCb6p1KkYiTStLIRzFBoEqxraPMBpWdFSSHbVuRXAlSwShcoFKAiWMbdo8dtbr4UURdzxLOKhC1Pz04SWNtfcAkiBRdyx5HCOwkKl7613L7yzFUUCI3F4X8Kj0OJjp0L3QjNpFaPrFnc1VRSJG5mJeBFHFAsUjOx4Vr3lx/+79TVf97J3VVEBlSpw4p2pVGHhih8VGBw8/QmXuFOgItzn3FveVOY0JIgjf84PhazQPQushP9o2ZGnCimKFC68C9YmCgRX/Dyv5Xoc7+rvxv1i8p2HQ0FCvkgOD3DFCGUISztxxo3ne50IkqEoEhbfkysrnme5XoqiSBeGN+Dwmy200okH3zuWZL4bGioUcP7OpCkMEXhT0LmV7uKLL7br1X3P5ijxH+UCjJPCt0VcKDtQquAPJwpsLNdedlSXnnyPVLoIypKzz6UoeqOAZ8IbpQxrAkIjjPjQMEPIP/z274ryBk4IPSHco8Inv6Pk8psCn4qCcxQP/x74DQOE756yIJ8Uoyjil/KKcAkLVjQ8qGC55sMRUBj4hvkeeWd+5xPCqa4cret8QVrzXFfcvbu9ocof/x5RuBHyDPxcMXFWXunzPeeSYhRFrIheDvAtwHq2KiA8jwYSUl09m+vZua6Vwq9Qfi10j+cWyy9XHLOv8T3Ckb9kQ5f6iWsu3p0Nt6QkFUXKfxiQXjSIiSfsqXfzCYojYaLQI249p/5yY5OXH5QxSXHLJ+WAi/c28Z0SD/IUcaCe9J4U6gyeSbnhUoqe4X5KPZY2BVFj6KJWH1umQz9aWytNE8Nu+d6DzEDSAtkW0FbLgu3Q4LNS1axqy+Hoy9vyGVqI2rqJWlh58LbjiVYEtj4SF3lOMaJWSluag8Ww8wlrDDJ9nlmezB7SzFD0sjbM2mQnFEQrWFu2QxPP1jrimlYWHEzYuqw2Qjy1oraZTlrpGOf+/ftXG2R1M0uZPVVT0YpPSHum7JO+qghYUIR55plnin48NitZKy9bGZ+F01XhtwVQWc7HZ9ay3AmzstmKiD+tXG2XGv1gjWm+e6XGm3BY47KQsPMPzMhjWjmLjjMx58n8WMg/94rJd7jjO9FWri1Efdhhh3EpQ+B4+umnGzv2S2bmuRYWac5Jx3xPnheT14s9Z/HrqVOnCstS5RMPX3sBbCahVoyilaQtOJ/047snwZt1PVXpsdnoWuiZM630bEUA1jtDqvuemd3tZYl50P+YBYhoQ8e2sWKWKd8u5UlSCqWnFtw225udY3wGOeHkE2aYa8PByiuWxdLKwHZUwn3fvn1FKyXjwm/SFdFKxlZEgC1piWiFbkfSkvyulYDld9Z7oyxCknlerXi2uoHdqKP/yEuIdltauaKV6xY7QWklJ6oIW7mtlZjwO58UU47Wdb7QBp8tZ0JaqDXUlgkjfg1V/ngdpoqbYeH70EaUfa+qFKdRde3a1c61cZO+VuoJ+UcbzrboPt8qy7Gx/EtSCtWzSXfVnZfCr1B+LXSPOBTLr7r4ch8mlAVqkNpiLeGkf8r/XLOEeWcXyn9+822Sr7XnRL785S/b8jTaqHRnGcfselYti3afuszLqgwPiR+q3FkZqHMdElerTj0eOtTA6kLioUqkrf7AKhjZUls9Izu8XL9rvDwOCoFa1qyQRjlSS4KF7xWAdpmJtp7lwgsvtIKW+xSgFLoufEyqOdt6a2qOtS3sKEgRtV4YSD4MtbBIvsJcTcMeXPpY3b6y2lq2FdypZFgHkan0FMz5Pmo+1lzPp6ClUNXWS/rZ+U60q8yW0PHCOtfaidoaM0WCzIp4PCmUWBiU5XfIMF4h5XuWzqbNd6vW10kXPjwdu2ELpKMks/gnmVstEZaZ77nnHluigIIOhR1GMFRLVPr52o1v19SKnL6mLTpT2ArdSzuuxxO1kFno2uoq6SnV5TsC8+8kV8GVfBhLIrBEEYo2x1wFRNI95yjnMCd/qPUh+3bGb7470oMV/z2/ZTj46AeKEsozS1chLGqLkqWWZWv8feRsi4M3HP1Gsd+zu6dsIM8khXiqRd12YFALqrCGGhWFWuGsski6TZ4n05OGCg1XGjg0RMm/1QnlD98g3x+Kk1oi7HvE3xlnnGENJCpItSxaXFAcaEzp0AxhSRKE7x+hgbXHHnvYOf/RMFLrmP3mu8r+HtIOizghTfmGXHRcoa0x6o0zGpu8B/mavMp7wcAFRYfvmgqYXXUoH9mmVLvB7B2zG1xePhVbjvKc2uYLGiFUyGpRNuWdsob4UT7/f5U/Xv67Usx7uhKRVEa4nhTKe/7YuxehwUMaejniSheKAOFo97YZTpLfRaF6loZMKVIsP69zc+VXHcJgj8x1L19ccvHL5zZ53fO680req+0534JaLC2YYusBj0+h8pQASWfSkDqgUP5AqR4wYICtl8x3yyYk2othccr3XzF6Rj6/ha7X2KLIFnTaLWGtKaxeXgFSwZGR2HXkkksuSa+9h9LIgtF8TBSOiHahmtUAyw2Fa7aoydXWRaIw5lm5BEXyyCOPzCggc7lLXqNlhlCh8kelkSygk245p9WoXWnZl63QLWS5dA88o3fv3lYxU7GhDGdbQXCrJm8rJFCsEI8nhSGVlI73scLbbub4jwoRP3zw9SUoFtrlaHGldc/e08QbIVPrGDzRYQamWLDdEFZjlGO2VELBcEGRUZN9BgftVrKKv9A9919fRxo2tCjrQ2hpeqFYTPhYvBDyd3WCFXSnnXaybw63FDJJC0fSP1Y10gWrn+/qQ35MWsOT7pPP17E28pnPfKbgZvTkXwpvHcydDEaK+Z7dA0ogVshsOVzXDqUhocMrLK/QMi/Ues+VnhTOKEK8B3+FCl8Y0hDSIRZmSaXA1m6fdLR88XPtppW9997bttiiscxzYetKAGmDJMsxGnRYc31TAR3qYG74j8oJS4lLrvLC7/mRMgLlAIUQwcqNwv2vf/3LfvMupAmNDvIi32MyP6LcYvnkG6a3AOGbpHHqyqZd/Og/L5+KLUfrIl/QEELRppFOjw5lDwo50pDlT/LbIi40YJKVvn9LlPv5hJ408gpGCsSVBxoiiCsepBOsUUBYL9ClunrW3RV7LJZfofxa6F4yHtXxS7qtr/N8CiCWPBa3xrBV16KTUSwdi91di4YD5R3lFFsaF5Ji9YxCYeS7V2NF0QMkY5DBadUhfBhsWE2XDN2UCNYwKhgKCgom71KiINRxgFagYdlza6R5+ug//GGF9ILL77m5lQV5sbqQuMUKrXqEeFHoUBjmEgpUlDq62uiGyRYd2Jw2pWffS/5GmdIBvlaY+DPZIzopZEwsN7TydRaX3fJ40sqn8KarpZDAwS0suCvGClUovFz3sG5RwNEgQPFHkulG9zMZFtM9BSdKPhndK1QPk/vkGyxTfDxU3Fh0yR+F7rn/Yo9YRKhkaczcf//99kf3J/nVrdceFi1IHSyczku8Y10JhT7KBi1unpsvbC+8SEe3cFPRE3eUbfx6900ybuwFDUeEioaCCKtbtvCONCSwNmHdIW/il7zMM3MJFQhCdyndo9UJeRjlgjKAfJ2UfN9z0g3nKF3kG68s/b4PvaBLF0UhWXG6Gz8WSk8sPlQEKEAwyCc8n++PvIryyvebtAbDA54oZdyjIYz1lC5qtt5yoWFN2mGRJR/gfsSIEda9hTJHQ5WGEws1kz9paHvDCgWB56PkoShli/dOsNgwCgVKNN8k8SZO/n50U3Kd4QCujCT50UAj3pRVukSZfbOUU1hsk9Yyf76XT16m5StH3X1d5Avih+WWSlPH6VnQSQtOQ5U//m2SLijYNBSSwrARWG+33XbJy+lzyjnqR/ICZSrlAfxJe6yECI0ShLKKMpchPJSXLtXVs+6ulGMx/Arl10L3kvGojl/SbW3PaQjqmEELxusAjq6g+/fjz+E65aE3COvSYkm5iCGF7y67bPTnex3Ab+/JIf7Uq751X64ezmL0DH9GyUeNVK2EwbRaANoASwZfMngTYVArgzyZeKGZ3wZ6Jx/E5Bb35wOpFZ5dS7rjXFtnabeEhfAcJijoC9tMUm2h2HXCJJyk+GQWBn0jatI3f/hNTpjxGUUsQ4AwqJV3wp1Pt+c6Mxe5pgUfP018pjFT61304zZ3zJRDGMiOPy1A0kvEuFsGsDoPLTjscjKecHbJjqdfh7nPqoUBA3RzCQNtiYcvgZHLTb5rWvlbPFluh2f4bDN3z+Bu3k9bQnaJdNFC0Zi7G47E1ScREBc4a5eXOSl0LxlGMedMJiD87D/iqI2PLYLwQehaaG+x9mbSsRbiGZNZisl3DED2d1WrTzK4NAtV3uw6a5JmxxmOLAWRFJ9Y5bMumYCAPyZ6+DeRdE+6ZYfrcUq6S56TN3EDy6SoQm/XmcySFC2wLI/ABL/Zkut7znajVhoLm9m4SdHGpl0nv5BPXPjGeF62VJee/m68n09wSYbBu3GP9GbSD/mf9c2SohVLRplDmYJ7VTKTztJLYBAef5RLLnzr/u1yTxXHlOcFbQCae/JsNg/3z2oE+MONKpQ2wcaf42USE0CYDMd1Jkchau233+6G75cJNeQ/Bs6rIuSP2OKYLJ8KlaPusS7yhX9DOmzCZuBzTObz+i5/KPPhR/lAfiAf8s0ly1rSnes+4cTfP3lkxQgv75k0p8qgpR1hU2cizOwnX3PNv2eWxeG3T+LhGyhUzyafWcx5sfwK5ddC94rhV0w8caONBmPhvNwf3yhlpUuushSG/DFhNfs7JVzSj/tqpfdgtjjyneCGyaMIZTO/faIT19BT/Dn8Rn8h3fmj3EiKKpHmNlm+4Df7j3IYxi6l6Bnup9Rj5jSgUn1/5J4PlYi7klhsMBTCXhgW6yfbHbtbJD/S7Pu1/c275apAahquWrfSSlR2GPDQ7oTsyyX/5mOvL2E9NdIMxTVf2qllKuPxyUydcUN/EFcqGbX+ZN8qeG8Lx3V4gTTILjzqKngPm3yL0uN5y5XmfExLeT7LxSQrz1L81pVbKrCkIleTcFm6BcWgtuLMaxoOeV6H1liez1XWkHdRfpOSvf6j38Mt+d3T3a/7Ua0fW6wdyT0aXrm+EffHkfdMMscPcc8WX0w7+3pD/K5tvuB94MCmDKw1mEvqs/xxRYfGNgYF8kW2oHSjCPhybNn3/Xd2ec975coXpGuufOfh1PWxFH758itxynWvGH51/T41CY/yH+71IaQ7egCCsumNrFyKYk2fX0jPqEmYLfCkGmtIEAgC9UxACx8bWqAFg3Wd0cWnhal10dONT1eoKorVztKu52iWTfCMz9l///2ti8i7OcsmchGRZkngBp0IxdAYbeDmXHFAG2g2gY/JNoXGvTdLePrS1fFrDlx0TUQbq8xQA4aaMCSPoWXawLCx40yAS44LLwcmLcshEhGHINAcCDAujUqGSSooiYxBYiYjG70zljIkkwBjg5jIpesIGrPMu/ErCDQsARouTFxBGDOIUpgUtZbabOzTTjstlMQkmI/Oq+OXw0uTu8Q48GHDhtn4cZREhPHzNIQZq1quEhbFck2ZiFeTI8BgZFqKOo7MJoVQQDAYntYkFQ8SFsUtk50KmckVgwYN2vJmXAkCDUSAiQU+CYNHMhM1OeOeWezarZhxrYGi1igeUx2/RvEStYwkq8P0/WjZIsp+lpZi4mFyCbJytCiWraJIhckMMN1lQpjhzKwfZlRVN0W8lukY3oNAvRLQSSym9DA7laVIUIIoLMjrCEvI5JrVXK+RisCDQBAIAkGgQQiw1iErWbB8ls7rsJUwdGKo9Z5gdWUjBl8ZpkEiVMRDylZRZDkcuuWoNHUArC0MyzIBWF9CgkAQCAJBIAgEgSAQBOqfQNmOUWTVf4R1s84++2xbDyyUxPrPEPGEIBAEgkAQCAJBIAg4gbK1KOpSAbbgLIthMuhT18sq2y454spWZy78ZrHp6EJ0InEMAkEgCASBIBAEGiOBsrUosnPCxIkTbccOthtD6WKnBlYfZy/S2gpb77G7Q22E8QXsuMDuDr5LAOGx6j6DU0OCQBAIAkEgCASBINCYCZStosi+pWxjxSBP9nNF2EqKPaF1h5VaM2cfWdbCqo0wUxWllS3+2IeZGW9sY4VCS9xDgkAQCAJBIAgEgSDQmAlsVdvIo7Sx52S+PS1rGr5uN2Uznglft/izfWh1+zHbgxErXm2FGdS13cOR9e8Q35OV2dlMeWcv0uQ+rzWJq+5mYvvc+lT6moQRfoJAXRFglt4nP/nJugouwgkCQSAIBIFGQqDGYxTZCP173/teev03FhJmpjLdsHUhLGw6fPhw0X1L08GxSLHuUVpWS+ToNj+2WTebwLOxO5Nwunfvno5zTU5uvPFG0T1obfPw5Ib3NQkr/ASBuiDARvYs5/PTn/40do6pC6ARRhAIAkGgkRCokaLI2m+MwRs5cqQtLvrzn/9cWExzwoQJohulV/vqxSxMyoQQxiWyKDFrKrJyeatWrdJhsx0a19u3b5++VugEt0mli63T6MrWzb/lc5/7nIXFhJTkpJRC4RE/uq+xTFZUVGQ4ZVdE3ZNUdL/PjOvF/Jg2bZro5uK2bVn2ZBjC5H0LhU/awInJNAi/s8NhrSbWo8y+Xkz8moIbxpbqPrG2PmdNGja676qtf0W6sxsD42lzhVNMWrCmFhO2GoMwZphdZX772982huhGHINAEAgCQaAuCLDXc6mi6xmmtDs47Y3N2TUuqWOPPTZ9LftEK82UWiNss3Tc8qdKWkongaS0skw7127blO5cYfd1L8SUjkk0P+eee27ajSp9KV0qx9zobOgUG3gjbLBNuMm46ULGqSOOOMKuE+6UKVNsg/VzzjnHro0fPz519913p+8ThgtxJrwzzjjDL6V0Zf6U7uFp1/09TjrppJRvpM7m7WpVtPvwUKUs7VfHMdp1tcykryVP2ESeMHUHj+TlFO6POuoou/fDH/4wpYuQ2/kPfvCDtDv8HnPMMXadDek5571552effTbtzjdl1wk3Kd1zMn29sZ+Ql3hnF9jrFnn+04650m7IkCEZvHXcaeqaa65JqSXb/LCBO/y1YWC/ySs8C346HtWeAe/p06enn1VsWowaNcrSi7ysQw3S/sv1hO+BbxIGIUEgCASBINA8CGCdqhPR3SVSak3MG5buY2iVIpXjE088YcrLpZdeate029r86ZqJ9vtrX/taSrueUzNnzrTK+KKLLrLfHviDDz5oFTX3Uayo3JFbb73Vfmu3uP3W7XLSiumkSZNSagG1+66I6h6yqcrKyhTKJgojRypCF5QDwv/iF79ol6ggUQp4TxSJFStWpJXM/fbbz9ygVOCHd+R4xx13eHCmFHPthRdeSF9Lnlx++eWmeLjiyz0UTRQe4vzd7343BWedBZ46+eSTLXyvtIk7cdOJP8YKhfCb3/ymKT2u5BAeyiMsOBZS7GHJM3gef6SHTjBKqSXZFNVHH300pZYl+8014o4QNr9RaBHSFAWOd4AtaeYCP9KE6yheKNK8O+mnO5SkUISvvvpqe3fc8Mx8gn/eyQXFGmYuNGbgg1J/7733ptQabOmAH9Lk+eefT6l10Pz8+Mc/Tnl64pb7NI7mzp1r57wfDQ3idPHFF9sRN7p7kD2umLQg3+FHx+LaUa3yHtWMIw0lnke8ly5dmuL74TeNBc9b5513nl1Ta7T5vfPOO62xwvvDAQXZJdc93ls3prd3RuHle4QV+cPfyf3/6Ec/yuDq1+MYBIJAEAgCTZNAnSiKWASp9FAmcolXwFQ+CxYssIpIxx+aEoF1husoCG5xIywqOSx3N9xwg1kAk+FiUUR5wR1/bs3JVhRnzJhh91FeUCSoJHGvYynt6FZKVwC5R1xcshVF4owbFAQqbBe/jiUJi6IrH/4sd4f1lGv5FEXiqLO83bkdsfrh57LLLrMKHyXmj3/8Y+qll16y62PHjk1h9cKN/xE/lOukguCBukURtzDMJSjY8Of9+cPqRtrybihQxNPF392VUZQ/7qNgcA5P3he/vBu/3S2cSBvkyiuvtPjrDPJ0+hAO4aMYE1/ipN3v/uiMI24LKYo4RumDya9//WtrVBA/8g5hcw2OxA8lFYZYo7nnDSDSgN+kCY0VGjq6L6flUa5jjS4lLdyqjV+U+lyiQy/smTSeEN6fd01aT8m/sNUudVOySVfeTWf1GzOUTQQFPNc93UfZ3pF4EDbKr1vFUVCTcsstt1h8yOshQSAIBIEg0PQJ1MnyOL/5zW9sbCJ7F+YSNsJmyRi1UIh269kEGMYCjhs3zmZSMlNYlQfRyhLFVXB/33332bZ9Z555pnz729+2YNWCYmOkGBvGrOjrr78+1+PS15ilqZYsUUucDBs2LO2e9RO1QhS1IplbVUhtvKFaatJ+c50wplEtYLZbDBvCu+y55552qkqCjVebPXt2ekkfd1PdEb/afS29evXKcPr666/b77322svWbGRJHhYgZ5wnwhI/jI9jPBxj73DPWFFVZkQVPPsNTyYjqLJma0cyAUcVdPOf6z92wyG94M04RrUi2fhOxuKpAmrxxA2i1lY7spE5osq55YWePXsab/asVEVR/vrXv9r+laT1I488Iv/5z39EFRdp27atrY1J2Mg999wjqkCJKoWy7777ym233SZqjRa1/lqcVNkzdzX5j/wJE7XAWXiHHHKIzdgnrFWrVhnHxx9/3MYuMoufOMPN18hkXCtCnA8//HB55plnLF8NGDDArpMm1aWFKtxy//33m3smf6nCb+f5/mOClCqJoo0cS2Nm6p9yyimilln7TvCnyq5oA8LG17Ks1MCBA4X00CEMdk6+ZXxrvnuw5jtDVEm0tUsZc8xOSITNOGGXLl262Klazv1SHINAEAgCQaAJE6i1osg6glOnThXtasyLySsXlJg//elPptyw9uBuu+2W4ccnq3Tq1Mk2zEZBQdFjBjDC5BG1aIlaeuw3FVwhYZIAg+9RTFhSB39XXXWVKT3Zkw+Y6FLMxBiUB+32ExbsLiQslVOKqIXGnGe/U+/eve0694lj//79bZIMk3OSAjuUb9yz9iQz0lHKUKhxe+2114p2JQtKolrNTNlJ+k+eo0wRD9asZKIPisegQYPMCWEjpDniaaOWJvutXZhpNiiIpAHx5u/EE0+0STos+eOKBnHhHoqrWsbkuOOOs3D4j2f6pBxXSNX6lb5f6glxhgnKJvn2oIMOsjglw9l1111t9j55Rq3ZppT7pB9fqogJKAiKLMKElqQUSgvtcjY+KHY0irLTOxmOn3/5y182JRnlTS3vpgRyj7xIeCjt3kh76qmnhO/HmZMP4EojodA9f0fSGoE7jSLk1VdftSP/+bfs6Ze+ESdBIAgEgSDQJAnUah1FZs/qeCzRrlCrmPIRQoHBWkdFh2AhZO1BHT9lFXE+f9nKkHYVW8WKwqFdqNK5c+ecXlGGXKgAqeCp1FGALrjgAr9V8Eilqt2i5garWFJKXX8RxQJLG8oakmuWqyupVPxJIc4I8UHJ3n///U1ZPvLII5POtjh35QVlBCsl1jssulhWsUYVEixmPA/LGxYl/rC0oaQTT53cY/xZVBzFDYUexYfGAryxgiFYMrGYYX31RgDXUXZc2WI2+x577MFlExSaXOJhErd8wjvz525gSR719GJtSgQlHkXoF7/4hTUeUB5dmNGrQxjkwgsvtOWZeAcs19oFbu+PO6y4v/rVr4R1PZnlX90aosm0YPkkWJKO2j1vC7T7s/Md8YNCiWUQyzsKPAr6jbqMErPutas87RVLMO+DldwF3lhsC93Ltfi853vnSXhu+XUF3p8RxyAQBIJAEGiaBGpsUaSbk631UBLcmkHFrAPuc5JKKjYoINnKQ7YnLFNU8Ml1FHFDpUgljbKC8pVLUCR5HhUkQpyoPFFM3XKSyx/XcIcFB0XWlwFB2aqp0P2HlQ+Fmq5lLGjZyiBho7ygDLBsS1JQQnS8nFmNUGDwj8KQr6KmCxslxLsSPSz8ofDRPYo11JUXv5880iWPBZPuTtIBgbkLi4mTLmeffbagvMMLoUs0udA41mB46sQe9yo6ts+6mnfaaSe7lkxD4pa0TKMUufgwgUJd5nTLwxALGsKzUWwZGoF4fiBtsSZidXMLKfdpYKD8XnLJJTZcgWsw14k6pujCFdFJLWZtpGsWBTmf5EsLrJa+TqaOe8znPX0dJRvWkydPFp3cI2PGjBEdIys6uceGb5x22mlpt+QVLKbJPMZuQeS9Qvc8gCRzrNEI6eji33efPn38UhyDQBAIAkGgCROokaJIZUJXIOOesPqx/zLWDR34bhVSLl4+jouKnq6x6gSLId2ZRxxxxBbj9lA0sfAwxisp3t3L+DeUE7o+UQ6oUBEsSihudNmh6GCNySVYwTxsdlnB8uRKRi73ha7BhoXCsQzqxBOznjH+MpdgsfOKOHmfLliUIOKB4uZKVtKNn2MJROHyLuFk1ybdhnS/wkAnFbmXLY5Yl1xhI52xTrlVDsekCeFiIUbRorsSqxd8k5YsV2DIF4wzJI/oTGbrAmcoAMor1mXGVJImI0aMSCudPMfHQXJOnMk7WERzCWNO6VonLJ6FBRLFiOEGrvC7wqMzmI0n6UzjwYUdhng3wkFIL/IazAnf8xfrhuqkGFPYWY8ynxRKiwMOOMAUWJ1Ek897xnXSAcWXNGT8J0o5grWc3y4sfI873osxpjpJyOJK/Avdc/8M1XDB8oxCmvxesUoiKLshQSAIBIEg0AwIqLWsZNEuN5v5qHgyjlqR5w1LFRdzy5IrSWEpDsJR60vyckoVLJuBqspECr/ZogqV3ccvs1MRZn0yG5RrrE3Hum9qOcuIo8eZ2buq6GQEy3Ig3GfmLcvSqNJgv1WZSbsjPqocpX9zwtIw+NPtBtPXWbKHaz5r1Gdkq4KV0vFxaXfJE2beEr4q4snLthQLYcEqKVxTBSJ5yd7X11nk2argZtznhyqBFrd8s551Mo7dZxkWZsDCwdeJ9MCYCczSNS7MXvZZ5H6No1rzLCziyp9aENO34Q8Pv+dL7ODArzPrWcfK2fI6+WbV454Z7bAjLLWc2nI2HgbrIiLMzocJbkh/8gfL4vCb5ZEQ8guzo/FDviKfJUWVTXPPck8uxIswWAM0KYRVKC2YCQ5j/OqOQ0mvOc+1sWHLLvlNZoOzLmhSeCYz8gmTP75Jz2+F7uEG9zDk+ybeqmzazOlk+Myy515IEAgCQSAINA8CNdqZRSuUBhG67pBCVptcEdGlQcwK4uOpcrkp9hph5RsLWWwY7k4rarNM0uWZS5i5jKWJCTdYtmojjAHMNRaymDCxGGv2N8skaZDLgsnYPdLF34WuTqzLPtkh+RyuM2OY8YjZu9jwzoxzVKUuY6wf2yAymYKxgowzxBqYHOeYDN/PGQ5BfFXZsUuEjXUtewwh17CQ1kX+8GcXOtYmLZLhMqYxOSueYQpYQXN9H1iVsQwz+Sl7uEWue6QBVn+GGzBmlHRKPot40IMAW4YLMN41JAgEgSAQBJo+gbJWFJs+/i3fcM6cOTbBh1m32TOzt3TddK+gKDIGlq7TkPonQFc6Xfu6YHvGuM3kk+lyR8mkez8kCASBIBAEmgeBls3jNRvPW2p3sOjC4zZ5ActXcxMsmYyTYywcSjOKSUj9EsDyyrhehLG92asNcB2FnbTwNSW5FhIEgkAQCAJNn0BYFMs0jenapTs3OVGhTKNap9Gie5NZ3S50SZ9wwgn+M471QIA1JXV/9HTILO7ua0T6RZR2GjEhQSAIBIEg0LwIhKLYvNI73jYIBIEgEASCQBAIAkUTiK7nolGFwyAQBIJAEAgCQSAINC8CoSg2r/SOtw0CQSAIBIEgEASCQNEEQlEsGlU4DAJBIAgEgSAQBIJA8yIQimLzSu942yAQBIJAEAgCQSAIFE0gFMWiUYXDIBAEgkAQCAJBIAg0LwKhKDav9I63DQJBIAgEgSAQBIJA0QRCUSwaVTgMAkEgCASBIBAEgkDzIhCKYvNK73jbIBAEgkAQCAJBIAgUTSAUxaJRhcMgEASCQBAIAkEgCDQvAqEoNq/0jrcNAkEgCASBIBAEgkDRBEJRLBpVOAwCQSAIBIEgEASCQPMi8H+ci/7NROLtMAAAAABJRU5ErkJggg==)"
      ]
    },
    {
      "cell_type": "code",
      "execution_count": null,
      "metadata": {
        "id": "DOxtrKuvDsWx"
      },
      "outputs": [],
      "source": [
        "#1st Solution\n",
        "#Remove spaces\n",
        "#Keep n string with starting and ending indexs moving together\n",
        "#Store in Dictionary \n",
        "#Repeat 2-3 till end\n",
        "\n",
        "def compute_ngrams(input_string, n):\n",
        "  answer = {}\n",
        "  #1: Delete spaces between words\n",
        "  edited_string = input_string.replace(\" \",\"\")\n",
        "  for i in range(len(edited_string)):\n",
        "    #2: If it's going to end a string, return answer\n",
        "    if i == (len(edited_string)-n+1):\n",
        "      return answer\n",
        "    #3.1: If index = 0, starting index with 0\n",
        "    if i == 0:\n",
        "      text = str(edited_string[i :i+n])\n",
        "    #3.2: Add new item or plus 1 to a dictionary\n",
        "      if text in answer:\n",
        "        answer[text] += 1\n",
        "      else:     \n",
        "        answer[text] = 1    \n",
        "    else: \n",
        "    #4.1: If index != 0, starting index with n+1 \n",
        "      text = str(edited_string[i :i+n])\n",
        "    #4.2: Add new item or plus 1 to a dictionary  \n",
        "      if text in answer:\n",
        "        answer[text] += 1\n",
        "      else:     \n",
        "        answer[text] = 1\n",
        "  return answer"
      ]
    },
    {
      "cell_type": "code",
      "execution_count": null,
      "metadata": {
        "colab": {
          "base_uri": "https://localhost:8080/"
        },
        "id": "-Z4RSO9GI1cT",
        "outputId": "6ac32d1d-013a-4906-fc68-7c2d0020f432"
      },
      "outputs": [
        {
          "data": {
            "text/plain": [
              "{'ell': 1,\n",
              " 'hel': 1,\n",
              " 'llo': 1,\n",
              " 'low': 1,\n",
              " 'orl': 1,\n",
              " 'owo': 1,\n",
              " 'rld': 1,\n",
              " 'wor': 1}"
            ]
          },
          "execution_count": 99,
          "metadata": {},
          "output_type": "execute_result"
        }
      ],
      "source": [
        "# string_1 = \"sweet sweep weep\"\n",
        "# compute_ngrams(string_1, 4)\n",
        " \n",
        "string_1 = \"hello world\"\n",
        "compute_ngrams(string_1, 3)"
      ]
    },
    {
      "cell_type": "code",
      "execution_count": null,
      "metadata": {
        "colab": {
          "base_uri": "https://localhost:8080/"
        },
        "id": "VBKnXS5KQr6c",
        "outputId": "23b04451-4a29-4683-a7d2-53030faf808f"
      },
      "outputs": [
        {
          "data": {
            "text/plain": [
              "{'ell': 1,\n",
              " 'hel': 1,\n",
              " 'llo': 1,\n",
              " 'low': 1,\n",
              " 'orl': 1,\n",
              " 'owo': 1,\n",
              " 'rld': 1,\n",
              " 'wor': 1}"
            ]
          },
          "execution_count": 17,
          "metadata": {},
          "output_type": "execute_result"
        }
      ],
      "source": [
        "#2nd Solution (Shorter)\n",
        "def nGrams(input, n):\n",
        "  output = []\n",
        "  #remove spaces\n",
        "  input = input.replace(\" \", \"\")\n",
        "  for i in range(len(input)):\n",
        "    if i + n <= len(input):\n",
        "      output.append(input[i: i+n])\n",
        "    obj = {x:output.count(x) for x in output} #count not same data.\n",
        "  return obj\n",
        "\n",
        "string_1 = \"hello world\"\n",
        "nGrams(string_1, 3)"
      ]
    },
    {
      "cell_type": "markdown",
      "metadata": {
        "id": "FRIB2_u2tjf_"
      },
      "source": [
        "#Nested Loop"
      ]
    },
    {
      "cell_type": "markdown",
      "metadata": {
        "id": "_KjytMC8BKcA"
      },
      "source": [
        "## One Index is waiting and another is moving\n",
        "https://docs.google.com/document/d/1jbhoobbAn_k1MaH3FRXqfzVfjUzUYl8MXGT4cBIe9eY/edit"
      ]
    },
    {
      "cell_type": "markdown",
      "metadata": {
        "id": "l-d-X6t4BEoQ"
      },
      "source": [
        "1. จงเขียนฟังก์ชันที่รับ argument สองตัว\n",
        "(i) array หรือ list ที่ประกอบไปด้วยเลขจำนวนเต็มบวก (>=0) [arr]\n",
        "(ii) เลขจำนวนเต็มบวก 1 ตัว (>=0) [target]\n",
        "แล้วให้คำตอบว่ามี sub-array ไหนที่สมาชิกบวกรวมกันแล้วมีค่าเท่ากับตัวเลขที่ให้มาใน input หรือไม่ (ฟังก์ชันควรให้คำตอบเป็น true/false)\n",
        "\n",
        "[หมายเหตุ: sub-array คือ array ที่ได้จากสมาชิกตัวติดกันใน array ตั้งต้น]\n",
        "\n",
        "***ตัวอย่าง***\n",
        "\n",
        "*   arr = [1,2,3,4,5], target = 9   คำตอบ: true   เพราะมี sub-array [2,3,4] ที่สมาชิกรวมกันได้ 9 \n",
        "*   arr = [1,2,3,4,5], target = 8   คำตอบ: false เพราะไม่มี sub-array ไหนที่รวมกันได้ 8\n",
        "*   arr = [11,9,7,5,3,2], target = 9  คำตอบ: true เพราะมี sub-array [9] ที่สมาชิกรวมกันได้ 9\n",
        "*   arr = [11,9,7,5,3,2], target = 22  คำตอบ: false เพราะไม่มี sub-array ไหนที่รวมกันได้ 22\n",
        "*   arr = [5,1,3,8,10], target = 11  คำตอบ: true เพราะมี sub-array [3,8] ที่สมาชิกรวมกันได้ 11\n",
        "*   arr = [5,1,3,8,10], target = 7  คำตอบ: false เพราะไม่มี sub-array ไหนที่รวมกันได้ 7\n",
        "\n"
      ]
    },
    {
      "cell_type": "code",
      "execution_count": null,
      "metadata": {
        "colab": {
          "base_uri": "https://localhost:8080/"
        },
        "id": "qSQBsWci1AKQ",
        "outputId": "a9b25fc1-2f65-4e0e-e786-cfd78688ccee"
      },
      "outputs": [
        {
          "data": {
            "text/plain": [
              "True"
            ]
          },
          "execution_count": 88,
          "metadata": {},
          "output_type": "execute_result"
        }
      ],
      "source": [
        "f#1st solution\n",
        "list_1 = [5,1,3,8,10]\n",
        "target = 18\n",
        "\n",
        "#1: check target in list\n",
        "#2: check index x cotinuously with x+1 till find value = target (7)\n",
        "\n",
        "def checkSum(input, tar):\n",
        "  answer = False\n",
        "  if tar in input:\n",
        "    answer = True\n",
        "    return answer\n",
        "\n",
        "  for j in range(len(input)):\n",
        "    for i in range(len(input)):\n",
        "      if not answer:\n",
        "        array = input[j:i+1]\n",
        "        total = sum(array) \n",
        "        if total == tar:\n",
        "          answer = True\n",
        "          return answer\n",
        "  return answer\n",
        "\n",
        "# list = [1,2,3,4,5]\n",
        "# j = ตัวเริ่มต้น, i = ไว้ไล่ที่เหลือ        \n",
        "#first j with 1st i: [1] > [1,2] > [1,2,3] > [1,2,3,4] > [1,2,3,4,5]\n",
        "#first j with 2nd i: [2] > [2, 3] > [2,3,4] > [2,3,4,5]  \n",
        "\n",
        "checkSum(list_1,target)"
      ]
    },
    {
      "cell_type": "code",
      "execution_count": null,
      "metadata": {
        "id": "x65E8UnTJkLO"
      },
      "outputs": [],
      "source": [
        "#2nd solution\n",
        "list_2 = [5,1,3,8,10]\n",
        "target = 1\n",
        "\n",
        "def sum_possible_v2(arr, target):\n",
        "  for start in range(len(arr)):\n",
        "    for stop in range(len(arr), start, -1):\n",
        "      print(arr[start:stop])\n",
        "      if target == sum(arr[start:stop]):\n",
        "        return True\n",
        "  return False\n",
        "\n",
        "sum_possible_v2(list_2,target)"
      ]
    },
    {
      "cell_type": "markdown",
      "metadata": {
        "id": "DlSRkwDSqrUN"
      },
      "source": [
        "##Write number with 3 questions the number iteratively.\n",
        "https://ashaicy99.medium.com/python-nested-for-loops-practice-exercises-dee4e76a00bb"
      ]
    },
    {
      "cell_type": "code",
      "execution_count": null,
      "metadata": {
        "id": "BwjjP82VFUj5"
      },
      "outputs": [],
      "source": [
        "serial_number = [1,2,3]\n",
        "weekday = [\"what\", 'when', 'why']\n",
        "\n",
        "for i in serial_number:\n",
        "  print(i)\n",
        "  for j in weekday:\n",
        "    print(j)"
      ]
    },
    {
      "cell_type": "markdown",
      "metadata": {
        "id": "a5DNySGnbGFY"
      },
      "source": [
        "#Program"
      ]
    },
    {
      "cell_type": "markdown",
      "metadata": {
        "id": "gweyfVkTbHwQ"
      },
      "source": [
        "##Tic Tac Toe Game Program"
      ]
    },
    {
      "cell_type": "code",
      "execution_count": null,
      "metadata": {
        "id": "gTH2vztGbONR"
      },
      "outputs": [],
      "source": [
        "def display(row1, row2, row3):\n",
        "  print(row1)\n",
        "  print(row2)\n",
        "  print(row3)"
      ]
    },
    {
      "cell_type": "code",
      "execution_count": null,
      "metadata": {
        "id": "izKGAFonbcPK"
      },
      "outputs": [],
      "source": [
        "row1 = [' ',' ',' ']\n",
        "row2 = [' ',' ',' ']\n",
        "row3 = [' ',' ',' ']"
      ]
    },
    {
      "cell_type": "code",
      "execution_count": null,
      "metadata": {
        "colab": {
          "base_uri": "https://localhost:8080/"
        },
        "id": "o7oKSyDCbhQM",
        "outputId": "c91ce6ae-6a54-45a6-d9d6-d6d71495aa63"
      },
      "outputs": [
        {
          "name": "stdout",
          "output_type": "stream",
          "text": [
            "[' ', ' ', ' ']\n",
            "[' ', ' ', ' ']\n",
            "[' ', ' ', ' ']\n"
          ]
        }
      ],
      "source": [
        "display(row1, row2, row3)"
      ]
    },
    {
      "cell_type": "code",
      "execution_count": null,
      "metadata": {
        "id": "pA2RpSy5b1vc"
      },
      "outputs": [],
      "source": [
        "row2[1] = 'X'"
      ]
    },
    {
      "cell_type": "code",
      "execution_count": null,
      "metadata": {
        "colab": {
          "base_uri": "https://localhost:8080/"
        },
        "id": "3KiMqW34b97W",
        "outputId": "e444df14-3de3-47dd-8034-b10aa8a0445b"
      },
      "outputs": [
        {
          "name": "stdout",
          "output_type": "stream",
          "text": [
            "[' ', ' ', ' ']\n",
            "[' ', 'X', ' ']\n",
            "[' ', ' ', ' ']\n"
          ]
        }
      ],
      "source": [
        "display(row1, row2, row3)"
      ]
    },
    {
      "cell_type": "code",
      "execution_count": null,
      "metadata": {
        "colab": {
          "base_uri": "https://localhost:8080/"
        },
        "id": "0WJ6qrkIb_Nr",
        "outputId": "c22cc057-c19c-4729-a28a-b14b83006c34"
      },
      "outputs": [
        {
          "name": "stdout",
          "output_type": "stream",
          "text": [
            "Please enter the value: 2\n"
          ]
        }
      ],
      "source": [
        "result = int(input(\"Please enter the value: \"))"
      ]
    },
    {
      "cell_type": "code",
      "execution_count": null,
      "metadata": {
        "colab": {
          "base_uri": "https://localhost:8080/"
        },
        "id": "tfqqxYIic2KB",
        "outputId": "8bc11480-ecc6-4046-9246-6851cc50b33b"
      },
      "outputs": [
        {
          "data": {
            "text/plain": [
              "int"
            ]
          },
          "execution_count": 15,
          "metadata": {},
          "output_type": "execute_result"
        }
      ],
      "source": [
        "type(result)"
      ]
    },
    {
      "cell_type": "code",
      "execution_count": null,
      "metadata": {
        "id": "PHU7TU2wc-fU"
      },
      "outputs": [],
      "source": []
    }
  ],
  "metadata": {
    "accelerator": "GPU",
    "colab": {
      "collapsed_sections": [],
      "name": "Python Practices.ipynb",
      "provenance": [],
      "toc_visible": true
    },
    "kernelspec": {
      "display_name": "Python 3",
      "name": "python3"
    },
    "language_info": {
      "name": "python"
    }
  },
  "nbformat": 4,
  "nbformat_minor": 0
}
