{
  "nbformat": 4,
  "nbformat_minor": 0,
  "metadata": {
    "colab": {
      "name": "[OOP] Object_Oriented_Programming.ipynb",
      "provenance": [],
      "toc_visible": true,
      "machine_shape": "hm",
      "authorship_tag": "ABX9TyOzwYpMEYts11nvqFTQslRc",
      "include_colab_link": true
    },
    "kernelspec": {
      "name": "python3",
      "display_name": "Python 3"
    },
    "language_info": {
      "name": "python"
    },
    "accelerator": "GPU",
    "gpuClass": "standard"
  },
  "cells": [
    {
      "cell_type": "markdown",
      "metadata": {
        "id": "view-in-github",
        "colab_type": "text"
      },
      "source": [
        "<a href=\"https://colab.research.google.com/github/setthawut8/python/blob/main/oop/%5BOOP%5D_Object_Oriented_Programming.ipynb\" target=\"_parent\"><img src=\"https://colab.research.google.com/assets/colab-badge.svg\" alt=\"Open In Colab\"/></a>"
      ]
    },
    {
      "cell_type": "markdown",
      "source": [
        "inspiration: \n",
        "\n",
        "https://youtu.be/JeznW_7DlB0"
      ],
      "metadata": {
        "id": "RKu_WpOePTVs"
      }
    },
    {
      "cell_type": "markdown",
      "source": [
        "#Intro to OOP"
      ],
      "metadata": {
        "id": "qQDYZ3tBri-N"
      }
    },
    {
      "cell_type": "code",
      "source": [
        "class Dog:\n",
        "  #Auto-run when coded in the class Dog.\n",
        "  def __init__(self, name):\n",
        "    self.name = name\n",
        "\n",
        "  def add_one(self, x):\n",
        "    return x+1\n",
        "\n",
        "  def bark(self):\n",
        "    print(\"bark bark\")"
      ],
      "metadata": {
        "id": "2SpxTW35PUZn"
      },
      "execution_count": 1,
      "outputs": []
    },
    {
      "cell_type": "code",
      "source": [
        "d = Dog(\"Bob\")\n",
        "print(type(d))\n",
        "\n",
        "print(\"==== [bark method] print the class: \")\n",
        "Dog(\"Robert\").bark()\n",
        "print(\"==== [bark method]  print from a variables: \")\n",
        "d.bark()\n",
        "\n",
        "print(\"==== [add_one method]\")\n",
        "print(d.add_one(5))"
      ],
      "metadata": {
        "colab": {
          "base_uri": "https://localhost:8080/"
        },
        "id": "-2wvRFkthq3d",
        "outputId": "0a79cae1-11ab-431c-9879-0aafce2d151b"
      },
      "execution_count": 2,
      "outputs": [
        {
          "output_type": "stream",
          "name": "stdout",
          "text": [
            "<class '__main__.Dog'>\n",
            "==== [bark method] print the class: \n",
            "bark bark\n",
            "==== [bark method]  print from a variables: \n",
            "bark bark\n",
            "==== [add_one method]\n",
            "6\n"
          ]
        }
      ]
    },
    {
      "cell_type": "code",
      "source": [
        "d2 = Dog('Bill')\n",
        "print(d.name)\n",
        "print(d2.name)"
      ],
      "metadata": {
        "colab": {
          "base_uri": "https://localhost:8080/"
        },
        "id": "4Xkr53j5o8Xc",
        "outputId": "459dfdb6-9c1a-4953-8cee-a81b6db2109c"
      },
      "execution_count": 3,
      "outputs": [
        {
          "output_type": "stream",
          "name": "stdout",
          "text": [
            "Bob\n",
            "Bill\n"
          ]
        }
      ]
    },
    {
      "cell_type": "markdown",
      "source": [
        "#[OOP] with init"
      ],
      "metadata": {
        "id": "uIU7SSZOrkg0"
      }
    },
    {
      "cell_type": "code",
      "source": [
        "class Dog:\n",
        "  def __init__(self, name, age):\n",
        "    self.name = name\n",
        "    self.age = age\n",
        "\n",
        "  def get_name(self):\n",
        "    return self.name\n",
        "\n",
        "  def get_age(self):\n",
        "    return self.age\n",
        "\n",
        "  def set_age(self, age):\n",
        "    self.age=age"
      ],
      "metadata": {
        "id": "4eeW8FBxqHKd"
      },
      "execution_count": 4,
      "outputs": []
    },
    {
      "cell_type": "code",
      "source": [
        "d = Dog(\"Tim\", 34)\n",
        "print(d.get_name())\n",
        "d2= Dog(\"Bill\", 29)\n",
        "print(d2.get_name())\n",
        "\n",
        "d = Dog(\"Tim\", 34)\n",
        "print(d.get_age())\n",
        "d2= Dog(\"Bill\", 29)\n",
        "print(d2.get_age())"
      ],
      "metadata": {
        "colab": {
          "base_uri": "https://localhost:8080/"
        },
        "id": "K2r4ntjGrt7m",
        "outputId": "38c6274a-ddf2-498a-e61e-05362b69fdf5"
      },
      "execution_count": 5,
      "outputs": [
        {
          "output_type": "stream",
          "name": "stdout",
          "text": [
            "Tim\n",
            "Bill\n",
            "34\n",
            "29\n"
          ]
        }
      ]
    },
    {
      "cell_type": "code",
      "source": [
        "d = Dog(\"Tim\", 34)\n",
        "d.set_age(29)\n",
        "print(d.get_age())"
      ],
      "metadata": {
        "colab": {
          "base_uri": "https://localhost:8080/"
        },
        "id": "0F72W5pkr1oP",
        "outputId": "9a3511bb-068d-4360-9b2f-5ef0c58b319a"
      },
      "execution_count": 6,
      "outputs": [
        {
          "output_type": "stream",
          "name": "stdout",
          "text": [
            "29\n"
          ]
        }
      ]
    },
    {
      "cell_type": "markdown",
      "source": [
        "#[OOP] a class in another class"
      ],
      "metadata": {
        "id": "KdtVSi9qIGrv"
      }
    },
    {
      "cell_type": "code",
      "source": [
        "class Student:\n",
        "  #this is the initial setting.\n",
        "  def __init__(self, name, age, grade):\n",
        "    self.name = name\n",
        "    self.age = age\n",
        "    self.grade = grade #0-100\n",
        "\n",
        "  #this is the method.\n",
        "  def get_grade(self):\n",
        "    return self.grade\n",
        "\n",
        "class Course:\n",
        "  def __init__(self, name, max_students):\n",
        "    self.name = name\n",
        "    self.max_students = max_students\n",
        "    self.students = []\n",
        "\n",
        "  def add_students(self, student):\n",
        "    if len(self.students) < self.max_students:\n",
        "      self.students.append(student)\n",
        "      return True\n",
        "    return False\n",
        "\n",
        "  def get_average_grade(self):\n",
        "    value = 0\n",
        "    for student in self.students:\n",
        "      value += student.get_grade()\n",
        "    return value/len(self.students)"
      ],
      "metadata": {
        "id": "K10-P-7HIH2v"
      },
      "execution_count": 7,
      "outputs": []
    },
    {
      "cell_type": "code",
      "source": [
        "#Use a class in the another class\n",
        "\n",
        "s1 = Student(\"Tim\", 19, 95)\n",
        "s2 = Student(\"Bill\", 19, 75)\n",
        "s3 = Student(\"Jill\", 19, 65)\n",
        "\n",
        "course = Course(\"Science\", 2)\n",
        "course.add_students(s1)\n",
        "course.add_students(s2)"
      ],
      "metadata": {
        "colab": {
          "base_uri": "https://localhost:8080/"
        },
        "id": "zCY14Va5I9U7",
        "outputId": "c8140f97-2b3c-46c7-faad-53a535a52f28"
      },
      "execution_count": 8,
      "outputs": [
        {
          "output_type": "execute_result",
          "data": {
            "text/plain": [
              "True"
            ]
          },
          "metadata": {},
          "execution_count": 8
        }
      ]
    },
    {
      "cell_type": "code",
      "source": [
        "print(course.students[0].name)"
      ],
      "metadata": {
        "colab": {
          "base_uri": "https://localhost:8080/"
        },
        "id": "qhWWLeoWJxuv",
        "outputId": "a6f503bf-aa94-431f-b5b2-97f04ec8c069"
      },
      "execution_count": 9,
      "outputs": [
        {
          "output_type": "stream",
          "name": "stdout",
          "text": [
            "Tim\n"
          ]
        }
      ]
    },
    {
      "cell_type": "code",
      "source": [
        "print(course.get_average_grade())"
      ],
      "metadata": {
        "colab": {
          "base_uri": "https://localhost:8080/"
        },
        "id": "L3ubELbyJ4WP",
        "outputId": "db710f7f-c9ba-4f8a-89ce-0f70cfe87d4e"
      },
      "execution_count": 10,
      "outputs": [
        {
          "output_type": "stream",
          "name": "stdout",
          "text": [
            "85.0\n"
          ]
        }
      ]
    },
    {
      "cell_type": "code",
      "source": [
        "print(course.add_students(s3))"
      ],
      "metadata": {
        "colab": {
          "base_uri": "https://localhost:8080/"
        },
        "id": "QQEpplWzLM0d",
        "outputId": "7c2154fe-d4e2-473a-d62c-22a494134b6d"
      },
      "execution_count": 11,
      "outputs": [
        {
          "output_type": "stream",
          "name": "stdout",
          "text": [
            "False\n"
          ]
        }
      ]
    },
    {
      "cell_type": "markdown",
      "source": [
        "#[OOP] inheritance"
      ],
      "metadata": {
        "id": "_saUvLvqLbQ9"
      }
    },
    {
      "cell_type": "code",
      "source": [
        "#If it contain similar functions and data as follows:\n",
        "class Cat:\n",
        "  def __init__(self, name, age):\n",
        "    self.name = name\n",
        "    self.age = age\n",
        "\n",
        "  def speak(self):\n",
        "    print(\"Meow\")\n",
        "\n",
        "class Dog:\n",
        "  def __init__(self, name, age):\n",
        "    self.name = name\n",
        "    self.age = age\n",
        "\n",
        "  def speak(self):\n",
        "    print(\"Bark\")"
      ],
      "metadata": {
        "id": "OmWGlml0LcG4"
      },
      "execution_count": 12,
      "outputs": []
    },
    {
      "cell_type": "code",
      "source": [
        "#we can change into 'the inheritance' like this\n",
        "class Pet:\n",
        "  def __init__(self, name, age):\n",
        "    self.name = name\n",
        "    self.age = age\n",
        "  def show(self):\n",
        "    print(f\"I am {self.name}, and I am {self.age} years old.\")\n",
        "  def speak(self):\n",
        "    print(\"just do it!.\")\n",
        "\n",
        "#meaning Cat is inheritting the upper class (can use method from the Pet), Pet\n",
        "class Cat(Pet):\n",
        "  def __init__(self, name, age, color):\n",
        "    #refer in the parent class, this example is 'Pet'.\n",
        "    super().__init__(name, age)\n",
        "    self.color = color\n",
        "    \n",
        "  def show(self):\n",
        "    print(f\"I am {self.name}, and I am {self.age} years old. I am {self.color}\")\n",
        "\n",
        "  def speak(self):\n",
        "    print(\"Meow\")\n",
        "\n",
        "class Dog(Pet):\n",
        "  def speak(self):\n",
        "    print(\"Bark\")\n",
        "\n",
        "class Fish(Pet):\n",
        "  pass"
      ],
      "metadata": {
        "id": "FNuv2BzFM458"
      },
      "execution_count": 13,
      "outputs": []
    },
    {
      "cell_type": "code",
      "source": [
        "p = Pet(\"Tim\", 19)\n",
        "p.show()\n",
        "\n",
        "c = Cat(\"Bill\", 34, \"brown\")\n",
        "c.show()\n",
        "\n",
        "d = Dog(\"Jill\", 25)\n",
        "d.show()\n",
        "\n",
        "f = Fish(\"Bubbles\", 10)\n",
        "f.show()"
      ],
      "metadata": {
        "colab": {
          "base_uri": "https://localhost:8080/"
        },
        "id": "RRPwLuEsOIA4",
        "outputId": "c7cc9e67-28e3-4e39-a962-f3cec36b7592"
      },
      "execution_count": 14,
      "outputs": [
        {
          "output_type": "stream",
          "name": "stdout",
          "text": [
            "I am Tim, and I am 19 years old.\n",
            "I am Bill, and I am 34 years old. I am brown\n",
            "I am Jill, and I am 25 years old.\n",
            "I am Bubbles, and I am 10 years old.\n"
          ]
        }
      ]
    },
    {
      "cell_type": "code",
      "source": [
        "p.speak()\n",
        "c.speak()\n",
        "d.speak()\n",
        "f.speak()"
      ],
      "metadata": {
        "colab": {
          "base_uri": "https://localhost:8080/"
        },
        "id": "aMWOLrLEOkbC",
        "outputId": "6337766d-cb10-4f26-9a2b-a89ac89f2a45"
      },
      "execution_count": 15,
      "outputs": [
        {
          "output_type": "stream",
          "name": "stdout",
          "text": [
            "just do it!.\n",
            "Meow\n",
            "Bark\n",
            "just do it!.\n"
          ]
        }
      ]
    },
    {
      "cell_type": "markdown",
      "source": [
        "#[OOP] class attributes, class methods"
      ],
      "metadata": {
        "id": "4weKmos9UBBA"
      }
    },
    {
      "cell_type": "code",
      "source": [
        "class Person:\n",
        "  #class attributes: define a variable for this entire class\n",
        "  number_of_people = 0\n",
        "  GRAVITY = -9.8\n",
        "  \n",
        "  def __init__(self, name):\n",
        "    self.name = name\n",
        "    Person.add_person()\n",
        "\n",
        "  #decorator\n",
        "  @classmethod #class method: it references the class (cls).\n",
        "  def number_of_people_(cls):\n",
        "    return cls.number_of_people\n",
        "\n",
        "  #class method: it references the class (cls).\n",
        "  @classmethod \n",
        "  def add_person(cls):\n",
        "    cls.number_of_people += 1"
      ],
      "metadata": {
        "id": "mpZUQLMsUNQE"
      },
      "execution_count": 24,
      "outputs": []
    },
    {
      "cell_type": "code",
      "source": [
        "p1 = Person(\"tim\")\n",
        "p2 = Person(\"jill\")\n",
        "print(Person.number_of_people_())"
      ],
      "metadata": {
        "colab": {
          "base_uri": "https://localhost:8080/"
        },
        "id": "91j1aHHOYjXs",
        "outputId": "07ba688a-b369-4233-bf5a-5bc023899338"
      },
      "execution_count": 25,
      "outputs": [
        {
          "output_type": "stream",
          "name": "stdout",
          "text": [
            "2\n"
          ]
        }
      ]
    },
    {
      "cell_type": "code",
      "source": [
        "Person.number_of_people = 8\n",
        "print(p1.number_of_people)\n",
        "Person.number_of_people = 9\n",
        "print(p2.number_of_people)\n",
        "print(Person.number_of_people)"
      ],
      "metadata": {
        "colab": {
          "base_uri": "https://localhost:8080/"
        },
        "id": "VXGyBKsNVOrL",
        "outputId": "1fa79ed4-e149-4cf6-b7cd-79bf681abbd3"
      },
      "execution_count": 115,
      "outputs": [
        {
          "output_type": "stream",
          "name": "stdout",
          "text": [
            "8\n",
            "9\n",
            "9\n"
          ]
        }
      ]
    },
    {
      "cell_type": "markdown",
      "source": [
        "#[OOP] static method"
      ],
      "metadata": {
        "id": "Q2uJc4hfcGVb"
      }
    },
    {
      "cell_type": "code",
      "source": [
        "class Math:\n",
        "  \n",
        "  @staticmethod #meaning they do something, but they don't access or change anything.\n",
        "  def add5(x):\n",
        "    return x+5\n",
        "\n",
        "  @staticmethod\n",
        "  def add10(x):\n",
        "    return x+10\n",
        "\n",
        "  @staticmethod\n",
        "  def pr():\n",
        "    print(\"run\")"
      ],
      "metadata": {
        "id": "sfKCniOLcIob"
      },
      "execution_count": 30,
      "outputs": []
    },
    {
      "cell_type": "code",
      "source": [
        "print(Math.add10(5))"
      ],
      "metadata": {
        "colab": {
          "base_uri": "https://localhost:8080/"
        },
        "id": "H_y48_7Fcndg",
        "outputId": "8ecb5b67-5e94-42e7-90f7-dd777331d78e"
      },
      "execution_count": 31,
      "outputs": [
        {
          "output_type": "stream",
          "name": "stdout",
          "text": [
            "15\n"
          ]
        }
      ]
    },
    {
      "cell_type": "code",
      "source": [
        "Math.pr()"
      ],
      "metadata": {
        "colab": {
          "base_uri": "https://localhost:8080/"
        },
        "id": "rdnQlNPvcp7s",
        "outputId": "4c6a03a5-61e9-4474-c897-88afb68cebad"
      },
      "execution_count": 33,
      "outputs": [
        {
          "output_type": "stream",
          "name": "stdout",
          "text": [
            "run\n"
          ]
        }
      ]
    },
    {
      "cell_type": "markdown",
      "source": [
        "inspiration: \n",
        "\n",
        "https://youtu.be/Ej_02ICOIgs"
      ],
      "metadata": {
        "id": "1nnM9TSDduEO"
      }
    },
    {
      "cell_type": "code",
      "source": [
        ""
      ],
      "metadata": {
        "id": "RGcbo8B3dvzd"
      },
      "execution_count": null,
      "outputs": []
    }
  ]
}